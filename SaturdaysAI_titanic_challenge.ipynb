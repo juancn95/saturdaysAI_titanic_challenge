{
  "nbformat": 4,
  "nbformat_minor": 0,
  "metadata": {
    "colab": {
      "name": "SaturdaysAI_titanic_challenge.ipynb",
      "provenance": [],
      "collapsed_sections": [],
      "toc_visible": true,
      "mount_file_id": "1U8pj8FEmu16gEdWgWzbEgFbLVTe9Pqhw",
      "authorship_tag": "ABX9TyPkBs3lsOC0c99Z4kz3NL9Z",
      "include_colab_link": true
    },
    "kernelspec": {
      "name": "python3",
      "display_name": "Python 3"
    }
  },
  "cells": [
    {
      "cell_type": "markdown",
      "metadata": {
        "id": "view-in-github",
        "colab_type": "text"
      },
      "source": [
        "<a href=\"https://colab.research.google.com/github/juancn95/saturdaysAI_titanic_challenge/blob/master/SaturdaysAI_titanic_challenge.ipynb\" target=\"_parent\"><img src=\"https://colab.research.google.com/assets/colab-badge.svg\" alt=\"Open In Colab\"/></a>"
      ]
    },
    {
      "cell_type": "markdown",
      "metadata": {
        "id": "EMOKCuWyATeo",
        "colab_type": "text"
      },
      "source": [
        "# **El desafío del Titanic**\n",
        "---"
      ]
    },
    {
      "cell_type": "markdown",
      "metadata": {
        "id": "fZ-x1mkRKXsm",
        "colab_type": "text"
      },
      "source": [
        "## **Visión general**\n",
        "El hundimiento del Titanic es uno de los naufragios más infames de la historia. El 15 de abril de 1992, durante su viaje de inauguración, el considerado \"no hundible\" RMS Titanic, se hundió luego de colisionar con un iceberg. Desafortunadamente, no hubieron suficientes salvavidas para cada uno de los pasajeros a bordo, resultando en la muerte de más de 1502 personas, entre pasajeros y tripulación, para un total de 2224. \n",
        "\n",
        "Aunque habían elementos de buena suerte involucrados en la supervivencia, parece que ciertos grupos de personas tuvieron mayor probabilidad de sobrevivir que otras. \n",
        "\n",
        "En esta competencia, usando los datos de los pasajeros, tales como nombre, género, clase socio-económica, entre otros; se deberá construir un modelo predictivo que responda a la siguiente pregunta: ¿Cuáles fueron los grupos de personas con mayor probabilidad de sobrevivir? \n",
        "\n",
        "## **Objetivo**\n",
        "- Predecir si cada uno de los pasajeros sobrevivió (1) o  no (0), tras el hundimiento del barco Titanic\n",
        "\n",
        "## **Métrica**\n",
        "\n",
        "La puntuación del modelo será el **porcentaje de pasajeros correctamente predecidos**, conocido también como **precisión**.\n",
        "\n",
        "## **Formato del archivo de entrega**\n",
        "El formato será un archivo de extensión `.csv` con 418 entradas con su correspondiente fila de encabezado, y solo deberá contener las columnas `PassengerID` y `Survived`. Si el archivo tiene una columna o fila extra, se remitirá un error. \n",
        "\n",
        "`PassengerID`: Ordenado en cualquier orden, sea ascendente o descendente. \n",
        "\n",
        "`Survived`: Contiene la **predicción binaria**: 1 para sobrevivió, 0 para fallecido.\n",
        "\n"
      ]
    },
    {
      "cell_type": "markdown",
      "metadata": {
        "id": "lPTkvFhGXiSD",
        "colab_type": "text"
      },
      "source": [
        "# **Inicio**"
      ]
    },
    {
      "cell_type": "markdown",
      "metadata": {
        "id": "bvpaLsNrAtzP",
        "colab_type": "text"
      },
      "source": [
        "## **Depencias**\n",
        "**Manipulación de datos**: `pandas` `numpy` `scikit-learn`\n",
        "\n",
        "**Visualización de datos**: `matplotlib` `seaborn` \n",
        "\n",
        "**Estadísticos**: `phik`<font size=\"2\"><sup>1</sup></font> "
      ]
    },
    {
      "cell_type": "markdown",
      "metadata": {
        "id": "vGKnALxyMUrc",
        "colab_type": "text"
      },
      "source": [
        "<font size=\"2\"><b>[Phik](https://arxiv.org/abs/1811.11440) </b>\n",
        "<sup>1</sup> es un coeficiente de correlación basado en varios refinamientos a la prueba de hipótesis de Pearson de independencia de dos variables: categóricas, ordinales y de intervalo.</font>"
      ]
    },
    {
      "cell_type": "code",
      "metadata": {
        "id": "P7AW8fhE_bd4",
        "colab_type": "code",
        "colab": {}
      },
      "source": [
        "!pip install phik"
      ],
      "execution_count": 0,
      "outputs": []
    },
    {
      "cell_type": "code",
      "metadata": {
        "id": "jK7iMeNf_W6H",
        "colab_type": "code",
        "colab": {}
      },
      "source": [
        "import pandas as pd\n",
        "import numpy as np\n",
        "import matplotlib.pyplot as plt\n",
        "import phik\n",
        "from phik import resources, report"
      ],
      "execution_count": 0,
      "outputs": []
    },
    {
      "cell_type": "markdown",
      "metadata": {
        "id": "HSzMcmk-Mo4E",
        "colab_type": "text"
      },
      "source": [
        "## **Carga de datos desde AWS**\n"
      ]
    },
    {
      "cell_type": "code",
      "metadata": {
        "id": "1MDhhgVWLLos",
        "colab_type": "code",
        "colab": {}
      },
      "source": [
        "df = pd.read_csv('https://saturday-ai.s3-sa-east-1.amazonaws.com/titanic/train.csv')\n",
        "df_test = pd.read_csv('https://saturday-ai.s3-sa-east-1.amazonaws.com/titanic/test.csv')\n",
        "df_sub = pd.read_csv('https://saturday-ai.s3-sa-east-1.amazonaws.com/titanic/gender_submission.csv')"
      ],
      "execution_count": 0,
      "outputs": []
    },
    {
      "cell_type": "markdown",
      "metadata": {
        "id": "_VQbNX5zkZyu",
        "colab_type": "text"
      },
      "source": [
        "### **Descripción de variables**\n",
        "\n",
        ">Variable | Definición | Clave | Tipo de variable\n",
        ">--- | --- | --- | ---\n",
        ">`PassengerId` | ID || Cadena\n",
        "`Survived` | Supervivencia | 0: No, 1 : Sí | Categórica de tipo dicotómico\n",
        "`Pclass` | Clase de boleto | 1: 1st, 2: 2nd, 3: 3rd | Categórica de tipo ordinal\n",
        "`Name` | Nombre del pasajero | | Cadena\n",
        "`Sex` | Edad | | Cuantitativa de tipo continuo\n",
        "`SibSp` | No. hermanos / cónyuges abordo || Cuantitativa de tipo discreto\n",
        "`Parch` | No. de padres / niños abordo ||Cuantitativa de tipo discreto\n",
        "`Ticket` | Número del ticket|| Cadena\n",
        "`Fare` | Tarifa del pasajero continuos || Cuantitiva de tipo continuo\n",
        "`Cabin` | Número de cabrina string || Cadena\n",
        "`Embarked` | Puerto de embarque | C: Cherbourg, Q: Queenstown, S: Southampton | Categórica de tipo nominal"
      ]
    },
    {
      "cell_type": "code",
      "metadata": {
        "id": "dS40x3YVgADQ",
        "colab_type": "code",
        "outputId": "e3a4a65f-c76a-497c-e9df-ac14f2215d51",
        "colab": {
          "base_uri": "https://localhost:8080/",
          "height": 34
        }
      },
      "source": [
        "print('Hay {} observaciones y {} variables'.format(df.shape[0], df.shape[1]))"
      ],
      "execution_count": 0,
      "outputs": [
        {
          "output_type": "stream",
          "text": [
            "Hay 891 observaciones y 12 variables\n"
          ],
          "name": "stdout"
        }
      ]
    },
    {
      "cell_type": "code",
      "metadata": {
        "id": "toAxh_2wcEfC",
        "colab_type": "code",
        "outputId": "41388cd7-e839-4b7f-b61b-99bbd53a5cca",
        "colab": {
          "base_uri": "https://localhost:8080/",
          "height": 484
        }
      },
      "source": [
        "df.head(5)"
      ],
      "execution_count": 0,
      "outputs": [
        {
          "output_type": "execute_result",
          "data": {
            "text/html": [
              "<div>\n",
              "<style scoped>\n",
              "    .dataframe tbody tr th:only-of-type {\n",
              "        vertical-align: middle;\n",
              "    }\n",
              "\n",
              "    .dataframe tbody tr th {\n",
              "        vertical-align: top;\n",
              "    }\n",
              "\n",
              "    .dataframe thead th {\n",
              "        text-align: right;\n",
              "    }\n",
              "</style>\n",
              "<table border=\"1\" class=\"dataframe\">\n",
              "  <thead>\n",
              "    <tr style=\"text-align: right;\">\n",
              "      <th></th>\n",
              "      <th>PassengerId</th>\n",
              "      <th>Survived</th>\n",
              "      <th>Pclass</th>\n",
              "      <th>Name</th>\n",
              "      <th>Sex</th>\n",
              "      <th>Age</th>\n",
              "      <th>SibSp</th>\n",
              "      <th>Parch</th>\n",
              "      <th>Ticket</th>\n",
              "      <th>Fare</th>\n",
              "      <th>Cabin</th>\n",
              "      <th>Embarked</th>\n",
              "    </tr>\n",
              "  </thead>\n",
              "  <tbody>\n",
              "    <tr>\n",
              "      <th>0</th>\n",
              "      <td>1</td>\n",
              "      <td>0</td>\n",
              "      <td>3</td>\n",
              "      <td>Braund, Mr. Owen Harris</td>\n",
              "      <td>male</td>\n",
              "      <td>22.0</td>\n",
              "      <td>1</td>\n",
              "      <td>0</td>\n",
              "      <td>A/5 21171</td>\n",
              "      <td>7.2500</td>\n",
              "      <td>NaN</td>\n",
              "      <td>S</td>\n",
              "    </tr>\n",
              "    <tr>\n",
              "      <th>1</th>\n",
              "      <td>2</td>\n",
              "      <td>1</td>\n",
              "      <td>1</td>\n",
              "      <td>Cumings, Mrs. John Bradley (Florence Briggs Th...</td>\n",
              "      <td>female</td>\n",
              "      <td>38.0</td>\n",
              "      <td>1</td>\n",
              "      <td>0</td>\n",
              "      <td>PC 17599</td>\n",
              "      <td>71.2833</td>\n",
              "      <td>C85</td>\n",
              "      <td>C</td>\n",
              "    </tr>\n",
              "    <tr>\n",
              "      <th>2</th>\n",
              "      <td>3</td>\n",
              "      <td>1</td>\n",
              "      <td>3</td>\n",
              "      <td>Heikkinen, Miss. Laina</td>\n",
              "      <td>female</td>\n",
              "      <td>26.0</td>\n",
              "      <td>0</td>\n",
              "      <td>0</td>\n",
              "      <td>STON/O2. 3101282</td>\n",
              "      <td>7.9250</td>\n",
              "      <td>NaN</td>\n",
              "      <td>S</td>\n",
              "    </tr>\n",
              "    <tr>\n",
              "      <th>3</th>\n",
              "      <td>4</td>\n",
              "      <td>1</td>\n",
              "      <td>1</td>\n",
              "      <td>Futrelle, Mrs. Jacques Heath (Lily May Peel)</td>\n",
              "      <td>female</td>\n",
              "      <td>35.0</td>\n",
              "      <td>1</td>\n",
              "      <td>0</td>\n",
              "      <td>113803</td>\n",
              "      <td>53.1000</td>\n",
              "      <td>C123</td>\n",
              "      <td>S</td>\n",
              "    </tr>\n",
              "    <tr>\n",
              "      <th>4</th>\n",
              "      <td>5</td>\n",
              "      <td>0</td>\n",
              "      <td>3</td>\n",
              "      <td>Allen, Mr. William Henry</td>\n",
              "      <td>male</td>\n",
              "      <td>35.0</td>\n",
              "      <td>0</td>\n",
              "      <td>0</td>\n",
              "      <td>373450</td>\n",
              "      <td>8.0500</td>\n",
              "      <td>NaN</td>\n",
              "      <td>S</td>\n",
              "    </tr>\n",
              "  </tbody>\n",
              "</table>\n",
              "</div>"
            ],
            "text/plain": [
              "   PassengerId  Survived  Pclass  ...     Fare Cabin  Embarked\n",
              "0            1         0       3  ...   7.2500   NaN         S\n",
              "1            2         1       1  ...  71.2833   C85         C\n",
              "2            3         1       3  ...   7.9250   NaN         S\n",
              "3            4         1       1  ...  53.1000  C123         S\n",
              "4            5         0       3  ...   8.0500   NaN         S\n",
              "\n",
              "[5 rows x 12 columns]"
            ]
          },
          "metadata": {
            "tags": []
          },
          "execution_count": 106
        }
      ]
    },
    {
      "cell_type": "markdown",
      "metadata": {
        "id": "LGXc_90DNoWj",
        "colab_type": "text"
      },
      "source": [
        "# **Paquete de trabajo No. 1**\n",
        "\n",
        "**Entregable**\n",
        "* Objeto `DataFrame` con los pares de variables asignados **mejorados**\n",
        "---\n",
        "<p>\n",
        "<font size=\"2.2\">\n",
        "<b>Nota:</b> Este entrable debe tener como fin, incrementar la relevancia, como sea posible, de todos los pares de variables con respecto a la variable predictiva.<font>\n",
        "</p>\n",
        "<p>\n",
        "<font size=\"2.2\">\n",
        "<b>Claves:</b>La métrica usada para cuantificar la correlación o relación entre dos pares de variables dependerá su tipo, sea continuo-continuo, categórico-categórico o categórico-continuo.<font>\n",
        "</p>\n",
        "\n"
      ]
    },
    {
      "cell_type": "markdown",
      "metadata": {
        "id": "sSAfvwQTYtlk",
        "colab_type": "text"
      },
      "source": [
        "## **nameSex**"
      ]
    },
    {
      "cell_type": "code",
      "metadata": {
        "id": "qIhxongujNVq",
        "colab_type": "code",
        "colab": {}
      },
      "source": [
        "# Escriba el código del par de variables 'nameSex' aquí"
      ],
      "execution_count": 0,
      "outputs": []
    },
    {
      "cell_type": "markdown",
      "metadata": {
        "id": "spAPRm75jcQZ",
        "colab_type": "text"
      },
      "source": [
        "## **sexAge**"
      ]
    },
    {
      "cell_type": "code",
      "metadata": {
        "id": "3kk7NUyOjfCi",
        "colab_type": "code",
        "colab": {}
      },
      "source": [
        "# Escriba el código del par de variables 'sexAge' aquí"
      ],
      "execution_count": 0,
      "outputs": []
    },
    {
      "cell_type": "markdown",
      "metadata": {
        "id": "ofa9dzIhi-o1",
        "colab_type": "text"
      },
      "source": [
        "## **sibspParch**"
      ]
    },
    {
      "cell_type": "code",
      "metadata": {
        "id": "Ughd62E4ihhF",
        "colab_type": "code",
        "colab": {}
      },
      "source": [
        "# Escriba el código del par de variables 'sibspParch' aquí"
      ],
      "execution_count": 0,
      "outputs": []
    },
    {
      "cell_type": "markdown",
      "metadata": {
        "id": "3s8ymuT7i1gt",
        "colab_type": "text"
      },
      "source": [
        "## **pclassFareEmbarked**"
      ]
    },
    {
      "cell_type": "code",
      "metadata": {
        "id": "VYaGF0AMjVhu",
        "colab_type": "code",
        "colab": {}
      },
      "source": [
        "# Escriba el código del par de variables 'pclassFareEmbarked' aquí"
      ],
      "execution_count": 0,
      "outputs": []
    },
    {
      "cell_type": "markdown",
      "metadata": {
        "id": "SSWzsXaAjC2E",
        "colab_type": "text"
      },
      "source": [
        "## **pclassTicketCabin**"
      ]
    },
    {
      "cell_type": "code",
      "metadata": {
        "id": "ZHyzi72ZjWbN",
        "colab_type": "code",
        "colab": {}
      },
      "source": [
        "# Escriba el código del par de variables 'pclassTicketCabin' aquí"
      ],
      "execution_count": 0,
      "outputs": []
    }
  ]
}