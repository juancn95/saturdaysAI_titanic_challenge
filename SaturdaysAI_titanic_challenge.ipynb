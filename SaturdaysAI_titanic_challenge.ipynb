{
  "nbformat": 4,
  "nbformat_minor": 0,
  "metadata": {
    "colab": {
      "name": "SaturdaysAI_titanic_challenge.ipynb",
      "provenance": [],
      "collapsed_sections": [],
      "mount_file_id": "1U8pj8FEmu16gEdWgWzbEgFbLVTe9Pqhw",
      "authorship_tag": "ABX9TyNICpWOib/xUvH5K2MPqa1X",
      "include_colab_link": true
    },
    "kernelspec": {
      "name": "python3",
      "display_name": "Python 3"
    }
  },
  "cells": [
    {
      "cell_type": "markdown",
      "metadata": {
        "id": "view-in-github",
        "colab_type": "text"
      },
      "source": [
        "<a href=\"https://colab.research.google.com/github/juancn95/saturdaysAI_titanic_challenge/blob/pdt_1/SaturdaysAI_titanic_challenge.ipynb\" target=\"_parent\"><img src=\"https://colab.research.google.com/assets/colab-badge.svg\" alt=\"Open In Colab\"/></a>"
      ]
    },
    {
      "cell_type": "markdown",
      "metadata": {
        "id": "EMOKCuWyATeo",
        "colab_type": "text"
      },
      "source": [
        "# **El desafío del Titanic**\n",
        "---"
      ]
    },
    {
      "cell_type": "markdown",
      "metadata": {
        "id": "fZ-x1mkRKXsm",
        "colab_type": "text"
      },
      "source": [
        "## **Visión general**\n",
        "El hundimiento del Titanic es uno de los naufragios más infames de la historia. El 15 de abril de 1992, durante su viaje de inauguración, el considerado \"no hundible\" RMS Titanic, se hundió luego de colisionar con un iceberg. Desafortunadamente, no hubieron suficientes salvavidas para cada uno de los pasajeros a bordo, resultando en la muerte de más de 1502 personas, entre pasajeros y tripulación, para un total de 2224. \n",
        "\n",
        "Aunque habían elementos de buena suerte involucrados en la supervivencia, parece que ciertos grupos de personas tuvieron mayor probabilidad de sobrevivir que otras. \n",
        "\n",
        "En esta competencia, usando los datos de los pasajeros, tales como nombre, género, clase socio-económica, entre otros; se deberá construir un modelo predictivo que responda a la siguiente pregunta: ¿Cuáles fueron los grupos de personas con mayor probabilidad de sobrevivir? \n",
        "\n",
        "## **Objetivo**\n",
        "- Predecir si cada uno de los pasajeros sobrevivió (1) o  no (0), tras el hundimiento del barco Titanic\n",
        "\n",
        "## **Métrica**\n",
        "\n",
        "La puntuación del modelo será el **porcentaje de pasajeros correctamente predecidos**, conocido también como **precisión**.\n",
        "\n",
        "## **Formato del archivo de entrega**\n",
        "El formato será un archivo de extensión `.csv` con 418 entradas con su correspondiente fila de encabezado, y solo deberá contener las columnas `PassengerID` y `Survived`. Si el archivo tiene una columna o fila extra, se remitirá un error. \n",
        "\n",
        "`PassengerID`: Ordenado en cualquier orden, sea ascendente o descendente. \n",
        "\n",
        "`Survived`: Contiene la **predicción binaria**: 1 para sobrevivió, 0 para fallecido.\n",
        "\n"
      ]
    },
    {
      "cell_type": "markdown",
      "metadata": {
        "id": "lPTkvFhGXiSD",
        "colab_type": "text"
      },
      "source": [
        "# **Inicio**"
      ]
    },
    {
      "cell_type": "markdown",
      "metadata": {
        "id": "bvpaLsNrAtzP",
        "colab_type": "text"
      },
      "source": [
        "## **Depencias**\n",
        "**Manipulación de datos**: `pandas` `numpy` `scikit-learn`\n",
        "\n",
        "**Visualización de datos**: `matplotlib` `seaborn` \n",
        "\n",
        "**Estadísticos**: `phik`<font size=\"2\"><sup>1</sup></font> "
      ]
    },
    {
      "cell_type": "markdown",
      "metadata": {
        "id": "vGKnALxyMUrc",
        "colab_type": "text"
      },
      "source": [
        "<font size=\"2\"><b>[Phik](https://arxiv.org/abs/1811.11440) </b>\n",
        "<sup>1</sup> es un coeficiente de correlación basado en varios refinamientos a la prueba de hipótesis de Pearson de independencia de dos variables: categóricas, ordinales y de intervalo.</font>"
      ]
    },
    {
      "cell_type": "code",
      "metadata": {
        "id": "P7AW8fhE_bd4",
        "colab_type": "code",
        "outputId": "231aecac-a19d-4166-be1b-89ac1989845e",
        "colab": {
          "base_uri": "https://localhost:8080/",
          "height": 1000
        }
      },
      "source": [
        "!pip install phik"
      ],
      "execution_count": 1,
      "outputs": [
        {
          "output_type": "stream",
          "text": [
            "Collecting phik\n",
            "\u001b[?25l  Downloading https://files.pythonhosted.org/packages/5f/f3/b764d2ae5dfc8c623125346cbc26db3523c50351b2e1817d603c84df0518/phik-0.9.10-py3-none-any.whl (607kB)\n",
            "\r\u001b[K     |▌                               | 10kB 17.7MB/s eta 0:00:01\r\u001b[K     |█                               | 20kB 1.5MB/s eta 0:00:01\r\u001b[K     |█▋                              | 30kB 2.0MB/s eta 0:00:01\r\u001b[K     |██▏                             | 40kB 1.6MB/s eta 0:00:01\r\u001b[K     |██▊                             | 51kB 1.8MB/s eta 0:00:01\r\u001b[K     |███▎                            | 61kB 2.2MB/s eta 0:00:01\r\u001b[K     |███▊                            | 71kB 2.4MB/s eta 0:00:01\r\u001b[K     |████▎                           | 81kB 2.5MB/s eta 0:00:01\r\u001b[K     |████▉                           | 92kB 2.8MB/s eta 0:00:01\r\u001b[K     |█████▍                          | 102kB 2.6MB/s eta 0:00:01\r\u001b[K     |██████                          | 112kB 2.6MB/s eta 0:00:01\r\u001b[K     |██████▌                         | 122kB 2.6MB/s eta 0:00:01\r\u001b[K     |███████                         | 133kB 2.6MB/s eta 0:00:01\r\u001b[K     |███████▌                        | 143kB 2.6MB/s eta 0:00:01\r\u001b[K     |████████                        | 153kB 2.6MB/s eta 0:00:01\r\u001b[K     |████████▋                       | 163kB 2.6MB/s eta 0:00:01\r\u001b[K     |█████████▏                      | 174kB 2.6MB/s eta 0:00:01\r\u001b[K     |█████████▊                      | 184kB 2.6MB/s eta 0:00:01\r\u001b[K     |██████████▎                     | 194kB 2.6MB/s eta 0:00:01\r\u001b[K     |██████████▉                     | 204kB 2.6MB/s eta 0:00:01\r\u001b[K     |███████████▎                    | 215kB 2.6MB/s eta 0:00:01\r\u001b[K     |███████████▉                    | 225kB 2.6MB/s eta 0:00:01\r\u001b[K     |████████████▍                   | 235kB 2.6MB/s eta 0:00:01\r\u001b[K     |█████████████                   | 245kB 2.6MB/s eta 0:00:01\r\u001b[K     |█████████████▌                  | 256kB 2.6MB/s eta 0:00:01\r\u001b[K     |██████████████                  | 266kB 2.6MB/s eta 0:00:01\r\u001b[K     |██████████████▋                 | 276kB 2.6MB/s eta 0:00:01\r\u001b[K     |███████████████                 | 286kB 2.6MB/s eta 0:00:01\r\u001b[K     |███████████████▋                | 296kB 2.6MB/s eta 0:00:01\r\u001b[K     |████████████████▏               | 307kB 2.6MB/s eta 0:00:01\r\u001b[K     |████████████████▊               | 317kB 2.6MB/s eta 0:00:01\r\u001b[K     |█████████████████▎              | 327kB 2.6MB/s eta 0:00:01\r\u001b[K     |█████████████████▉              | 337kB 2.6MB/s eta 0:00:01\r\u001b[K     |██████████████████▍             | 348kB 2.6MB/s eta 0:00:01\r\u001b[K     |██████████████████▉             | 358kB 2.6MB/s eta 0:00:01\r\u001b[K     |███████████████████▍            | 368kB 2.6MB/s eta 0:00:01\r\u001b[K     |████████████████████            | 378kB 2.6MB/s eta 0:00:01\r\u001b[K     |████████████████████▌           | 389kB 2.6MB/s eta 0:00:01\r\u001b[K     |█████████████████████           | 399kB 2.6MB/s eta 0:00:01\r\u001b[K     |█████████████████████▋          | 409kB 2.6MB/s eta 0:00:01\r\u001b[K     |██████████████████████▏         | 419kB 2.6MB/s eta 0:00:01\r\u001b[K     |██████████████████████▋         | 430kB 2.6MB/s eta 0:00:01\r\u001b[K     |███████████████████████▏        | 440kB 2.6MB/s eta 0:00:01\r\u001b[K     |███████████████████████▊        | 450kB 2.6MB/s eta 0:00:01\r\u001b[K     |████████████████████████▎       | 460kB 2.6MB/s eta 0:00:01\r\u001b[K     |████████████████████████▉       | 471kB 2.6MB/s eta 0:00:01\r\u001b[K     |█████████████████████████▍      | 481kB 2.6MB/s eta 0:00:01\r\u001b[K     |██████████████████████████      | 491kB 2.6MB/s eta 0:00:01\r\u001b[K     |██████████████████████████▍     | 501kB 2.6MB/s eta 0:00:01\r\u001b[K     |███████████████████████████     | 512kB 2.6MB/s eta 0:00:01\r\u001b[K     |███████████████████████████▌    | 522kB 2.6MB/s eta 0:00:01\r\u001b[K     |████████████████████████████    | 532kB 2.6MB/s eta 0:00:01\r\u001b[K     |████████████████████████████▋   | 542kB 2.6MB/s eta 0:00:01\r\u001b[K     |█████████████████████████████▏  | 552kB 2.6MB/s eta 0:00:01\r\u001b[K     |█████████████████████████████▊  | 563kB 2.6MB/s eta 0:00:01\r\u001b[K     |██████████████████████████████▏ | 573kB 2.6MB/s eta 0:00:01\r\u001b[K     |██████████████████████████████▊ | 583kB 2.6MB/s eta 0:00:01\r\u001b[K     |███████████████████████████████▎| 593kB 2.6MB/s eta 0:00:01\r\u001b[K     |███████████████████████████████▉| 604kB 2.6MB/s eta 0:00:01\r\u001b[K     |████████████████████████████████| 614kB 2.6MB/s \n",
            "\u001b[?25hRequirement already satisfied: matplotlib>=2.2.3 in /usr/local/lib/python3.6/dist-packages (from phik) (3.2.1)\n",
            "Requirement already satisfied: pandas>=0.23.4 in /usr/local/lib/python3.6/dist-packages (from phik) (1.0.3)\n",
            "Collecting pytest-pylint>=0.13.0\n",
            "  Downloading https://files.pythonhosted.org/packages/31/ef/e848f832a596a8a40b32d8aa169788b4df167c2d6a5960c01e83a30ebaa7/pytest_pylint-0.15.1-py3-none-any.whl\n",
            "Requirement already satisfied: joblib>=0.14.1 in /usr/local/lib/python3.6/dist-packages (from phik) (0.14.1)\n",
            "Collecting pytest>=4.0.2\n",
            "\u001b[?25l  Downloading https://files.pythonhosted.org/packages/c7/e2/c19c667f42f72716a7d03e8dd4d6f63f47d39feadd44cc1ee7ca3089862c/pytest-5.4.1-py3-none-any.whl (246kB)\n",
            "\r\u001b[K     |█▎                              | 10kB 19.2MB/s eta 0:00:01\r\u001b[K     |██▋                             | 20kB 19.4MB/s eta 0:00:01\r\u001b[K     |████                            | 30kB 23.8MB/s eta 0:00:01\r\u001b[K     |█████▎                          | 40kB 21.1MB/s eta 0:00:01\r\u001b[K     |██████▋                         | 51kB 13.7MB/s eta 0:00:01\r\u001b[K     |████████                        | 61kB 15.5MB/s eta 0:00:01\r\u001b[K     |█████████▎                      | 71kB 13.2MB/s eta 0:00:01\r\u001b[K     |██████████▋                     | 81kB 12.7MB/s eta 0:00:01\r\u001b[K     |████████████                    | 92kB 13.8MB/s eta 0:00:01\r\u001b[K     |█████████████▎                  | 102kB 13.2MB/s eta 0:00:01\r\u001b[K     |██████████████▋                 | 112kB 13.2MB/s eta 0:00:01\r\u001b[K     |████████████████                | 122kB 13.2MB/s eta 0:00:01\r\u001b[K     |█████████████████▎              | 133kB 13.2MB/s eta 0:00:01\r\u001b[K     |██████████████████▋             | 143kB 13.2MB/s eta 0:00:01\r\u001b[K     |████████████████████            | 153kB 13.2MB/s eta 0:00:01\r\u001b[K     |█████████████████████▎          | 163kB 13.2MB/s eta 0:00:01\r\u001b[K     |██████████████████████▋         | 174kB 13.2MB/s eta 0:00:01\r\u001b[K     |████████████████████████        | 184kB 13.2MB/s eta 0:00:01\r\u001b[K     |█████████████████████████▎      | 194kB 13.2MB/s eta 0:00:01\r\u001b[K     |██████████████████████████▋     | 204kB 13.2MB/s eta 0:00:01\r\u001b[K     |███████████████████████████▉    | 215kB 13.2MB/s eta 0:00:01\r\u001b[K     |█████████████████████████████▏  | 225kB 13.2MB/s eta 0:00:01\r\u001b[K     |██████████████████████████████▌ | 235kB 13.2MB/s eta 0:00:01\r\u001b[K     |███████████████████████████████▉| 245kB 13.2MB/s eta 0:00:01\r\u001b[K     |████████████████████████████████| 256kB 13.2MB/s \n",
            "\u001b[?25hRequirement already satisfied: jupyter-client>=5.2.3 in /usr/local/lib/python3.6/dist-packages (from phik) (5.3.4)\n",
            "Requirement already satisfied: numba>=0.38.1 in /usr/local/lib/python3.6/dist-packages (from phik) (0.47.0)\n",
            "Requirement already satisfied: nbconvert>=5.3.1 in /usr/local/lib/python3.6/dist-packages (from phik) (5.6.1)\n",
            "Requirement already satisfied: numpy>=1.15.4 in /usr/local/lib/python3.6/dist-packages (from phik) (1.18.2)\n",
            "Requirement already satisfied: scipy>=1.1.0 in /usr/local/lib/python3.6/dist-packages (from phik) (1.4.1)\n",
            "Requirement already satisfied: pyparsing!=2.0.4,!=2.1.2,!=2.1.6,>=2.0.1 in /usr/local/lib/python3.6/dist-packages (from matplotlib>=2.2.3->phik) (2.4.6)\n",
            "Requirement already satisfied: kiwisolver>=1.0.1 in /usr/local/lib/python3.6/dist-packages (from matplotlib>=2.2.3->phik) (1.2.0)\n",
            "Requirement already satisfied: python-dateutil>=2.1 in /usr/local/lib/python3.6/dist-packages (from matplotlib>=2.2.3->phik) (2.8.1)\n",
            "Requirement already satisfied: cycler>=0.10 in /usr/local/lib/python3.6/dist-packages (from matplotlib>=2.2.3->phik) (0.10.0)\n",
            "Requirement already satisfied: pytz>=2017.2 in /usr/local/lib/python3.6/dist-packages (from pandas>=0.23.4->phik) (2018.9)\n",
            "Collecting pylint>=2.0.0\n",
            "\u001b[?25l  Downloading https://files.pythonhosted.org/packages/e9/59/43fc36c5ee316bb9aeb7cf5329cdbdca89e5749c34d5602753827c0aa2dc/pylint-2.4.4-py3-none-any.whl (302kB)\n",
            "\r\u001b[K     |█                               | 10kB 21.7MB/s eta 0:00:01\r\u001b[K     |██▏                             | 20kB 27.7MB/s eta 0:00:01\r\u001b[K     |███▎                            | 30kB 33.8MB/s eta 0:00:01\r\u001b[K     |████▎                           | 40kB 23.3MB/s eta 0:00:01\r\u001b[K     |█████▍                          | 51kB 18.1MB/s eta 0:00:01\r\u001b[K     |██████▌                         | 61kB 20.5MB/s eta 0:00:01\r\u001b[K     |███████▋                        | 71kB 15.2MB/s eta 0:00:01\r\u001b[K     |████████▋                       | 81kB 14.2MB/s eta 0:00:01\r\u001b[K     |█████████▊                      | 92kB 15.5MB/s eta 0:00:01\r\u001b[K     |██████████▉                     | 102kB 14.0MB/s eta 0:00:01\r\u001b[K     |████████████                    | 112kB 14.0MB/s eta 0:00:01\r\u001b[K     |█████████████                   | 122kB 14.0MB/s eta 0:00:01\r\u001b[K     |██████████████                  | 133kB 14.0MB/s eta 0:00:01\r\u001b[K     |███████████████▏                | 143kB 14.0MB/s eta 0:00:01\r\u001b[K     |████████████████▎               | 153kB 14.0MB/s eta 0:00:01\r\u001b[K     |█████████████████▎              | 163kB 14.0MB/s eta 0:00:01\r\u001b[K     |██████████████████▍             | 174kB 14.0MB/s eta 0:00:01\r\u001b[K     |███████████████████▌            | 184kB 14.0MB/s eta 0:00:01\r\u001b[K     |████████████████████▌           | 194kB 14.0MB/s eta 0:00:01\r\u001b[K     |█████████████████████▋          | 204kB 14.0MB/s eta 0:00:01\r\u001b[K     |██████████████████████▊         | 215kB 14.0MB/s eta 0:00:01\r\u001b[K     |███████████████████████▉        | 225kB 14.0MB/s eta 0:00:01\r\u001b[K     |████████████████████████▉       | 235kB 14.0MB/s eta 0:00:01\r\u001b[K     |██████████████████████████      | 245kB 14.0MB/s eta 0:00:01\r\u001b[K     |███████████████████████████     | 256kB 14.0MB/s eta 0:00:01\r\u001b[K     |████████████████████████████▏   | 266kB 14.0MB/s eta 0:00:01\r\u001b[K     |█████████████████████████████▏  | 276kB 14.0MB/s eta 0:00:01\r\u001b[K     |██████████████████████████████▎ | 286kB 14.0MB/s eta 0:00:01\r\u001b[K     |███████████████████████████████▍| 296kB 14.0MB/s eta 0:00:01\r\u001b[K     |████████████████████████████████| 307kB 14.0MB/s \n",
            "\u001b[?25hCollecting pluggy<1.0,>=0.12\n",
            "  Downloading https://files.pythonhosted.org/packages/a0/28/85c7aa31b80d150b772fbe4a229487bc6644da9ccb7e427dd8cc60cb8a62/pluggy-0.13.1-py2.py3-none-any.whl\n",
            "Requirement already satisfied: importlib-metadata>=0.12; python_version < \"3.8\" in /usr/local/lib/python3.6/dist-packages (from pytest>=4.0.2->phik) (1.6.0)\n",
            "Requirement already satisfied: attrs>=17.4.0 in /usr/local/lib/python3.6/dist-packages (from pytest>=4.0.2->phik) (19.3.0)\n",
            "Requirement already satisfied: packaging in /usr/local/lib/python3.6/dist-packages (from pytest>=4.0.2->phik) (20.3)\n",
            "Requirement already satisfied: more-itertools>=4.0.0 in /usr/local/lib/python3.6/dist-packages (from pytest>=4.0.2->phik) (8.2.0)\n",
            "Requirement already satisfied: py>=1.5.0 in /usr/local/lib/python3.6/dist-packages (from pytest>=4.0.2->phik) (1.8.1)\n",
            "Requirement already satisfied: wcwidth in /usr/local/lib/python3.6/dist-packages (from pytest>=4.0.2->phik) (0.1.9)\n",
            "Requirement already satisfied: jupyter-core>=4.6.0 in /usr/local/lib/python3.6/dist-packages (from jupyter-client>=5.2.3->phik) (4.6.3)\n",
            "Requirement already satisfied: pyzmq>=13 in /usr/local/lib/python3.6/dist-packages (from jupyter-client>=5.2.3->phik) (17.0.0)\n",
            "Requirement already satisfied: tornado>=4.1 in /usr/local/lib/python3.6/dist-packages (from jupyter-client>=5.2.3->phik) (4.5.3)\n",
            "Requirement already satisfied: traitlets in /usr/local/lib/python3.6/dist-packages (from jupyter-client>=5.2.3->phik) (4.3.3)\n",
            "Requirement already satisfied: setuptools in /usr/local/lib/python3.6/dist-packages (from numba>=0.38.1->phik) (46.1.3)\n",
            "Requirement already satisfied: llvmlite>=0.31.0dev0 in /usr/local/lib/python3.6/dist-packages (from numba>=0.38.1->phik) (0.31.0)\n",
            "Requirement already satisfied: jinja2>=2.4 in /usr/local/lib/python3.6/dist-packages (from nbconvert>=5.3.1->phik) (2.11.1)\n",
            "Requirement already satisfied: pandocfilters>=1.4.1 in /usr/local/lib/python3.6/dist-packages (from nbconvert>=5.3.1->phik) (1.4.2)\n",
            "Requirement already satisfied: bleach in /usr/local/lib/python3.6/dist-packages (from nbconvert>=5.3.1->phik) (3.1.4)\n",
            "Requirement already satisfied: defusedxml in /usr/local/lib/python3.6/dist-packages (from nbconvert>=5.3.1->phik) (0.6.0)\n",
            "Requirement already satisfied: entrypoints>=0.2.2 in /usr/local/lib/python3.6/dist-packages (from nbconvert>=5.3.1->phik) (0.3)\n",
            "Requirement already satisfied: mistune<2,>=0.8.1 in /usr/local/lib/python3.6/dist-packages (from nbconvert>=5.3.1->phik) (0.8.4)\n",
            "Requirement already satisfied: testpath in /usr/local/lib/python3.6/dist-packages (from nbconvert>=5.3.1->phik) (0.4.4)\n",
            "Requirement already satisfied: nbformat>=4.4 in /usr/local/lib/python3.6/dist-packages (from nbconvert>=5.3.1->phik) (5.0.5)\n",
            "Requirement already satisfied: pygments in /usr/local/lib/python3.6/dist-packages (from nbconvert>=5.3.1->phik) (2.1.3)\n",
            "Requirement already satisfied: six>=1.5 in /usr/local/lib/python3.6/dist-packages (from python-dateutil>=2.1->matplotlib>=2.2.3->phik) (1.12.0)\n",
            "Collecting astroid<2.4,>=2.3.0\n",
            "\u001b[?25l  Downloading https://files.pythonhosted.org/packages/ad/ae/86734823047962e7b8c8529186a1ac4a7ca19aaf1aa0c7713c022ef593fd/astroid-2.3.3-py3-none-any.whl (205kB)\n",
            "\u001b[K     |████████████████████████████████| 215kB 15.9MB/s \n",
            "\u001b[?25hCollecting isort<5,>=4.2.5\n",
            "\u001b[?25l  Downloading https://files.pythonhosted.org/packages/e5/b0/c121fd1fa3419ea9bfd55c7f9c4fedfec5143208d8c7ad3ce3db6c623c21/isort-4.3.21-py2.py3-none-any.whl (42kB)\n",
            "\u001b[K     |████████████████████████████████| 51kB 5.3MB/s \n",
            "\u001b[?25hCollecting mccabe<0.7,>=0.6\n",
            "  Downloading https://files.pythonhosted.org/packages/87/89/479dc97e18549e21354893e4ee4ef36db1d237534982482c3681ee6e7b57/mccabe-0.6.1-py2.py3-none-any.whl\n",
            "Requirement already satisfied: zipp>=0.5 in /usr/local/lib/python3.6/dist-packages (from importlib-metadata>=0.12; python_version < \"3.8\"->pytest>=4.0.2->phik) (3.1.0)\n",
            "Requirement already satisfied: decorator in /usr/local/lib/python3.6/dist-packages (from traitlets->jupyter-client>=5.2.3->phik) (4.4.2)\n",
            "Requirement already satisfied: ipython-genutils in /usr/local/lib/python3.6/dist-packages (from traitlets->jupyter-client>=5.2.3->phik) (0.2.0)\n",
            "Requirement already satisfied: MarkupSafe>=0.23 in /usr/local/lib/python3.6/dist-packages (from jinja2>=2.4->nbconvert>=5.3.1->phik) (1.1.1)\n",
            "Requirement already satisfied: webencodings in /usr/local/lib/python3.6/dist-packages (from bleach->nbconvert>=5.3.1->phik) (0.5.1)\n",
            "Requirement already satisfied: jsonschema!=2.5.0,>=2.4 in /usr/local/lib/python3.6/dist-packages (from nbformat>=4.4->nbconvert>=5.3.1->phik) (2.6.0)\n",
            "Collecting typed-ast<1.5,>=1.4.0; implementation_name == \"cpython\" and python_version < \"3.8\"\n",
            "\u001b[?25l  Downloading https://files.pythonhosted.org/packages/90/ed/5459080d95eb87a02fe860d447197be63b6e2b5e9ff73c2b0a85622994f4/typed_ast-1.4.1-cp36-cp36m-manylinux1_x86_64.whl (737kB)\n",
            "\u001b[K     |████████████████████████████████| 747kB 14.7MB/s \n",
            "\u001b[?25hCollecting wrapt==1.11.*\n",
            "  Downloading https://files.pythonhosted.org/packages/23/84/323c2415280bc4fc880ac5050dddfb3c8062c2552b34c2e512eb4aa68f79/wrapt-1.11.2.tar.gz\n",
            "Collecting lazy-object-proxy==1.4.*\n",
            "\u001b[?25l  Downloading https://files.pythonhosted.org/packages/0b/dd/b1e3407e9e6913cf178e506cd0dee818e58694d9a5cd1984e3f6a8b9a10f/lazy_object_proxy-1.4.3-cp36-cp36m-manylinux1_x86_64.whl (55kB)\n",
            "\u001b[K     |████████████████████████████████| 61kB 5.6MB/s \n",
            "\u001b[?25hBuilding wheels for collected packages: wrapt\n",
            "  Building wheel for wrapt (setup.py) ... \u001b[?25l\u001b[?25hdone\n",
            "  Created wheel for wrapt: filename=wrapt-1.11.2-cp36-cp36m-linux_x86_64.whl size=67523 sha256=09ef876069a5ed03b7911bc01d598f372ec54db22bcb6e23b7f8b6ef91d626e1\n",
            "  Stored in directory: /root/.cache/pip/wheels/d7/de/2e/efa132238792efb6459a96e85916ef8597fcb3d2ae51590dfd\n",
            "Successfully built wrapt\n",
            "\u001b[31mERROR: datascience 0.10.6 has requirement folium==0.2.1, but you'll have folium 0.8.3 which is incompatible.\u001b[0m\n",
            "Installing collected packages: pluggy, pytest, typed-ast, wrapt, lazy-object-proxy, astroid, isort, mccabe, pylint, pytest-pylint, phik\n",
            "  Found existing installation: pluggy 0.7.1\n",
            "    Uninstalling pluggy-0.7.1:\n",
            "      Successfully uninstalled pluggy-0.7.1\n",
            "  Found existing installation: pytest 3.6.4\n",
            "    Uninstalling pytest-3.6.4:\n",
            "      Successfully uninstalled pytest-3.6.4\n",
            "  Found existing installation: wrapt 1.12.1\n",
            "    Uninstalling wrapt-1.12.1:\n",
            "      Successfully uninstalled wrapt-1.12.1\n",
            "Successfully installed astroid-2.3.3 isort-4.3.21 lazy-object-proxy-1.4.3 mccabe-0.6.1 phik-0.9.10 pluggy-0.13.1 pylint-2.4.4 pytest-5.4.1 pytest-pylint-0.15.1 typed-ast-1.4.1 wrapt-1.11.2\n"
          ],
          "name": "stdout"
        }
      ]
    },
    {
      "cell_type": "code",
      "metadata": {
        "id": "jK7iMeNf_W6H",
        "colab_type": "code",
        "colab": {}
      },
      "source": [
        "import pandas as pd\n",
        "import numpy as np\n",
        "import matplotlib.pyplot as plt\n",
        "import phik\n",
        "from phik import resources, report"
      ],
      "execution_count": 0,
      "outputs": []
    },
    {
      "cell_type": "markdown",
      "metadata": {
        "id": "HSzMcmk-Mo4E",
        "colab_type": "text"
      },
      "source": [
        "## **Carga de datos desde AWS**\n"
      ]
    },
    {
      "cell_type": "code",
      "metadata": {
        "id": "1MDhhgVWLLos",
        "colab_type": "code",
        "colab": {}
      },
      "source": [
        "df = pd.read_csv('https://saturday-ai.s3-sa-east-1.amazonaws.com/titanic/train.csv')\n",
        "df_test = pd.read_csv('https://saturday-ai.s3-sa-east-1.amazonaws.com/titanic/test.csv')\n",
        "df_sub = pd.read_csv('https://saturday-ai.s3-sa-east-1.amazonaws.com/titanic/gender_submission.csv')"
      ],
      "execution_count": 0,
      "outputs": []
    },
    {
      "cell_type": "markdown",
      "metadata": {
        "id": "_VQbNX5zkZyu",
        "colab_type": "text"
      },
      "source": [
        "### **Descripción de variables**\n",
        "\n",
        ">Variable | Definición | Clave | Tipo de variable\n",
        ">--- | --- | --- | ---\n",
        ">`PassengerId` | ID || Cadena\n",
        "`Survived` | Supervivencia | 0: No, 1 : Sí | Categórica de tipo dicotómico\n",
        "`Pclass` | Clase de boleto | 1: 1st, 2: 2nd, 3: 3rd | Categórica de tipo ordinal\n",
        "`Name` | Nombre del pasajero | | Cadena\n",
        "`Sex` | Edad | | Cuantitativa de tipo continuo\n",
        "`SibSp` | No. hermanos / cónyuges abordo || Cuantitativa de tipo discreto\n",
        "`Parch` | No. de padres / niños abordo ||Cuantitativa de tipo discreto\n",
        "`Ticket` | Número del ticket|| Cadena\n",
        "`Fare` | Tarifa del pasajero continuos || Cuantitiva de tipo continuo\n",
        "`Cabin` | Número de cabrina string || Cadena\n",
        "`Embarked` | Puerto de embarque | C: Cherbourg, Q: Queenstown, S: Southampton | Categórica de tipo nominal"
      ]
    },
    {
      "cell_type": "code",
      "metadata": {
        "id": "dS40x3YVgADQ",
        "colab_type": "code",
        "outputId": "b150cd96-7895-4d79-8aeb-5e0f034d5729",
        "colab": {
          "base_uri": "https://localhost:8080/",
          "height": 34
        }
      },
      "source": [
        "print('Hay {} observaciones y {} variables'.format(df.shape[0], df.shape[1]))"
      ],
      "execution_count": 4,
      "outputs": [
        {
          "output_type": "stream",
          "text": [
            "Hay 891 observaciones y 12 variables\n"
          ],
          "name": "stdout"
        }
      ]
    },
    {
      "cell_type": "code",
      "metadata": {
        "id": "toAxh_2wcEfC",
        "colab_type": "code",
        "outputId": "7bf62830-834e-4a49-f7cf-006e365be7af",
        "colab": {
          "base_uri": "https://localhost:8080/",
          "height": 195
        }
      },
      "source": [
        "df.head(5)"
      ],
      "execution_count": 5,
      "outputs": [
        {
          "output_type": "execute_result",
          "data": {
            "text/html": [
              "<div>\n",
              "<style scoped>\n",
              "    .dataframe tbody tr th:only-of-type {\n",
              "        vertical-align: middle;\n",
              "    }\n",
              "\n",
              "    .dataframe tbody tr th {\n",
              "        vertical-align: top;\n",
              "    }\n",
              "\n",
              "    .dataframe thead th {\n",
              "        text-align: right;\n",
              "    }\n",
              "</style>\n",
              "<table border=\"1\" class=\"dataframe\">\n",
              "  <thead>\n",
              "    <tr style=\"text-align: right;\">\n",
              "      <th></th>\n",
              "      <th>PassengerId</th>\n",
              "      <th>Survived</th>\n",
              "      <th>Pclass</th>\n",
              "      <th>Name</th>\n",
              "      <th>Sex</th>\n",
              "      <th>Age</th>\n",
              "      <th>SibSp</th>\n",
              "      <th>Parch</th>\n",
              "      <th>Ticket</th>\n",
              "      <th>Fare</th>\n",
              "      <th>Cabin</th>\n",
              "      <th>Embarked</th>\n",
              "    </tr>\n",
              "  </thead>\n",
              "  <tbody>\n",
              "    <tr>\n",
              "      <th>0</th>\n",
              "      <td>1</td>\n",
              "      <td>0</td>\n",
              "      <td>3</td>\n",
              "      <td>Braund, Mr. Owen Harris</td>\n",
              "      <td>male</td>\n",
              "      <td>22.0</td>\n",
              "      <td>1</td>\n",
              "      <td>0</td>\n",
              "      <td>A/5 21171</td>\n",
              "      <td>7.2500</td>\n",
              "      <td>NaN</td>\n",
              "      <td>S</td>\n",
              "    </tr>\n",
              "    <tr>\n",
              "      <th>1</th>\n",
              "      <td>2</td>\n",
              "      <td>1</td>\n",
              "      <td>1</td>\n",
              "      <td>Cumings, Mrs. John Bradley (Florence Briggs Th...</td>\n",
              "      <td>female</td>\n",
              "      <td>38.0</td>\n",
              "      <td>1</td>\n",
              "      <td>0</td>\n",
              "      <td>PC 17599</td>\n",
              "      <td>71.2833</td>\n",
              "      <td>C85</td>\n",
              "      <td>C</td>\n",
              "    </tr>\n",
              "    <tr>\n",
              "      <th>2</th>\n",
              "      <td>3</td>\n",
              "      <td>1</td>\n",
              "      <td>3</td>\n",
              "      <td>Heikkinen, Miss. Laina</td>\n",
              "      <td>female</td>\n",
              "      <td>26.0</td>\n",
              "      <td>0</td>\n",
              "      <td>0</td>\n",
              "      <td>STON/O2. 3101282</td>\n",
              "      <td>7.9250</td>\n",
              "      <td>NaN</td>\n",
              "      <td>S</td>\n",
              "    </tr>\n",
              "    <tr>\n",
              "      <th>3</th>\n",
              "      <td>4</td>\n",
              "      <td>1</td>\n",
              "      <td>1</td>\n",
              "      <td>Futrelle, Mrs. Jacques Heath (Lily May Peel)</td>\n",
              "      <td>female</td>\n",
              "      <td>35.0</td>\n",
              "      <td>1</td>\n",
              "      <td>0</td>\n",
              "      <td>113803</td>\n",
              "      <td>53.1000</td>\n",
              "      <td>C123</td>\n",
              "      <td>S</td>\n",
              "    </tr>\n",
              "    <tr>\n",
              "      <th>4</th>\n",
              "      <td>5</td>\n",
              "      <td>0</td>\n",
              "      <td>3</td>\n",
              "      <td>Allen, Mr. William Henry</td>\n",
              "      <td>male</td>\n",
              "      <td>35.0</td>\n",
              "      <td>0</td>\n",
              "      <td>0</td>\n",
              "      <td>373450</td>\n",
              "      <td>8.0500</td>\n",
              "      <td>NaN</td>\n",
              "      <td>S</td>\n",
              "    </tr>\n",
              "  </tbody>\n",
              "</table>\n",
              "</div>"
            ],
            "text/plain": [
              "   PassengerId  Survived  Pclass  ...     Fare Cabin  Embarked\n",
              "0            1         0       3  ...   7.2500   NaN         S\n",
              "1            2         1       1  ...  71.2833   C85         C\n",
              "2            3         1       3  ...   7.9250   NaN         S\n",
              "3            4         1       1  ...  53.1000  C123         S\n",
              "4            5         0       3  ...   8.0500   NaN         S\n",
              "\n",
              "[5 rows x 12 columns]"
            ]
          },
          "metadata": {
            "tags": []
          },
          "execution_count": 5
        }
      ]
    },
    {
      "cell_type": "code",
      "metadata": {
        "id": "lZUpbiTG5iAh",
        "colab_type": "code",
        "colab": {}
      },
      "source": [
        "title = {'fontsize': 11, 'weight': 'bold'}\n",
        "labels = {'fontsize': 10, 'weight': 'normal'}\n",
        "ticks = {'fontsize': 8, 'weight': 'normal'}"
      ],
      "execution_count": 0,
      "outputs": []
    },
    {
      "cell_type": "markdown",
      "metadata": {
        "id": "LGXc_90DNoWj",
        "colab_type": "text"
      },
      "source": [
        "# **Paquete de trabajo No. 1**\n",
        "\n",
        "**Entregable**\n",
        "* Objeto `DataFrame` con los pares de variables asignados **mejorados**\n",
        "---\n",
        "<p>\n",
        "<font size=\"2.2\">\n",
        "<b>Nota:</b> Este entrable debe tener como fin, incrementar la relevancia, como sea posible, de todos los pares de variables con respecto a la variable predictiva.<font>\n",
        "</p>\n",
        "<p>\n",
        "<font size=\"2.2\">\n",
        "<b>Claves:</b>La métrica usada para cuantificar la correlación o relación entre dos pares de variables dependerá su tipo, sea continuo-continuo, categórico-categórico o categórico-continuo.<font>\n",
        "</p>\n",
        "\n"
      ]
    },
    {
      "cell_type": "markdown",
      "metadata": {
        "id": "sSAfvwQTYtlk",
        "colab_type": "text"
      },
      "source": [
        "## **nameSex**"
      ]
    },
    {
      "cell_type": "code",
      "metadata": {
        "id": "qIhxongujNVq",
        "colab_type": "code",
        "colab": {}
      },
      "source": [
        "# Escriba el código del par de variables 'nameSex' aquí"
      ],
      "execution_count": 0,
      "outputs": []
    },
    {
      "cell_type": "markdown",
      "metadata": {
        "id": "spAPRm75jcQZ",
        "colab_type": "text"
      },
      "source": [
        "## **sexAge**"
      ]
    },
    {
      "cell_type": "code",
      "metadata": {
        "id": "3kk7NUyOjfCi",
        "colab_type": "code",
        "colab": {}
      },
      "source": [
        "# Escriba el código del par de variables 'sexAge' aquí"
      ],
      "execution_count": 0,
      "outputs": []
    },
    {
      "cell_type": "markdown",
      "metadata": {
        "id": "ofa9dzIhi-o1",
        "colab_type": "text"
      },
      "source": [
        "## **sibspParch**"
      ]
    },
    {
      "cell_type": "code",
      "metadata": {
        "id": "hok4g9QAqdOX",
        "colab_type": "code",
        "outputId": "1958c852-a1a2-40ee-9224-092dc6a83ea4",
        "colab": {
          "base_uri": "https://localhost:8080/",
          "height": 616
        }
      },
      "source": [
        "# Creamos un objeto de subplots y establecemos la estructura\n",
        "\n",
        "plt.subplots(2,2, figsize=(20,10))\n",
        "\n",
        "###################################\n",
        "# Variable SibSP: No supervivientes, fila:1 columna:1\n",
        "plt.subplot(221)       \n",
        "\n",
        "x0 = df.loc[df['Survived'] == 0, ['SibSp']]\n",
        "(100 * x0['SibSp'].value_counts() / len(x0['SibSp']))\\\n",
        "                .plot(kind = 'bar', color='#ADAB2A')\n",
        "         \n",
        "ax1 = plt.gca()\n",
        "ax1.spines['top'].set_visible(False)\n",
        "ax1.spines['right'].set_visible(False)\n",
        "ax1.spines['left'].set_visible(False)\n",
        "\n",
        "ax1.set_title('No supervivientes', **title)\n",
        "ax1.set_ylabel('Frecuencia relativa, %', **labels)\n",
        "ax1.set_xlabel('No. hermanos / cónyuges abordo', **labels)\n",
        "ax1.set_ylim(0, 100)\n",
        "\n",
        "###################################\n",
        "# Variable SibSP: Supervivientes, fila:2 columna:1 \n",
        "plt.subplot(222)\n",
        "\n",
        "x1 = df.loc[df['Survived'] == 1, ['SibSp']]\n",
        "\n",
        "(100 * x1['SibSp'].value_counts() / len(x1['SibSp']))\\\n",
        "                .plot(kind = 'bar', color='#E0DE36')\n",
        "                \n",
        "ax2 = plt.gca()\n",
        "ax2.spines['top'].set_visible(False)\n",
        "ax2.spines['right'].set_visible(False)\n",
        "ax2.spines['left'].set_visible(False)\n",
        "ax2.set_title('Supervivientes', **title)\n",
        "ax2.set_ylabel('Frecuencia relativa, %', **labels)\n",
        "ax2.set_xlabel('No. hermanos / cónyuges abordo', **labels)\n",
        "ax2.set_ylim(0, 100)\n",
        "\n",
        "###################################\n",
        "# Variable SibSP: Supervivientes, fila:1 columna:2\n",
        "plt.subplot(223) \n",
        "\n",
        "y0 = df.loc[df['Survived'] == 0, ['Parch']]\n",
        "      \n",
        "(100 * y0['Parch'].value_counts() / len(y0['Parch']))\\\n",
        "                .plot(kind = 'bar', color='#ADAB2A')\n",
        "         \n",
        "ax3 = plt.gca()\n",
        "ax3.spines['top'].set_visible(False)\n",
        "ax3.spines['right'].set_visible(False)\n",
        "ax3.spines['left'].set_visible(False)\n",
        "ax3.set_ylabel('Frecuencia relativa, %', **labels)\n",
        "ax3.set_xlabel('No. de padres / niños abordo', **labels)\n",
        "ax3.set_ylim(0, 100)\n",
        "\n",
        "\n",
        "###################################\n",
        "# Variable SibSP: Supervivientes, fila:2 columna:2\n",
        "plt.subplot(224)\n",
        "\n",
        "y1 = df.loc[df['Survived'] == 1, ['Parch']]\n",
        "(100 * y1['Parch'].value_counts() / len(y1['Parch']))\\\n",
        "                .plot(kind = 'bar', color='#E0DE36')\n",
        "                \n",
        "ax4 = plt.gca()\n",
        "ax4.spines['top'].set_visible(False)\n",
        "ax4.spines['right'].set_visible(False)\n",
        "ax4.spines['left'].set_visible(False)\n",
        "ax4.set_ylabel('Frecuencia relativa, %', **labels)\n",
        "ax4.set_xlabel('No. de padres / niños abordo', **labels)\n",
        "ax4.set_ylim(0, 100)\n",
        "\n",
        "\n",
        "plt.show()"
      ],
      "execution_count": 288,
      "outputs": [
        {
          "output_type": "display_data",
          "data": {
            "image/png": "[encoded data removed]",
            "text/plain": [
              "<Figure size 1440x720 with 4 Axes>"
            ]
          },
          "metadata": {
            "tags": []
          }
        }
      ]
    },
    {
      "cell_type": "code",
      "metadata": {
        "id": "q250nvfjdCZ1",
        "colab_type": "code",
        "outputId": "f8f4011a-9f02-44cc-f468-7dbb4edd505f",
        "colab": {
          "base_uri": "https://localhost:8080/",
          "height": 50
        }
      },
      "source": [
        "import scipy\n",
        "from math import sqrt\n",
        "\n",
        "def cohens_d(c0,c1):\n",
        "  cohens_d = (c0.mean() - c1.mean()) / (np.sqrt((c0.std() ** 2 + c1.std() ** 2) / 2))\n",
        "  return cohens_d\n",
        "\n",
        "cohens_d(x0, x1)"
      ],
      "execution_count": 285,
      "outputs": [
        {
          "output_type": "execute_result",
          "data": {
            "text/plain": [
              "SibSp    0.076989\n",
              "dtype: float64"
            ]
          },
          "metadata": {
            "tags": []
          },
          "execution_count": 285
        }
      ]
    },
    {
      "cell_type": "code",
      "metadata": {
        "id": "wA9aJmiNhbNN",
        "colab_type": "code",
        "outputId": "59676643-1848-45c1-de3e-126ddc793866",
        "colab": {
          "base_uri": "https://localhost:8080/",
          "height": 34
        }
      },
      "source": [
        "x0 = df.loc[df['Survived'] == 0, ['Parch']]"
      ],
      "execution_count": 13,
      "outputs": [
        {
          "output_type": "execute_result",
          "data": {
            "text/plain": [
              "(array([3.31404616]), array([7.33192511e-64]))"
            ]
          },
          "metadata": {
            "tags": []
          },
          "execution_count": 13
        }
      ]
    },
    {
      "cell_type": "code",
      "metadata": {
        "id": "jw4corS7hoz3",
        "colab_type": "code",
        "outputId": "d0b1ac0a-97e4-4743-bda9-3c780883107d",
        "colab": {
          "base_uri": "https://localhost:8080/",
          "height": 34
        }
      },
      "source": [
        "x1 = df.loc[df['Survived'] == 1, ['Parch']]\n",
        "# Skew\n",
        "scipy.stats.skew(x1), scipy.stats.skewtest(x1)[1]"
      ],
      "execution_count": 14,
      "outputs": [
        {
          "output_type": "execute_result",
          "data": {
            "text/plain": [
              "(array([1.74703141]), array([8.99394892e-22]))"
            ]
          },
          "metadata": {
            "tags": []
          },
          "execution_count": 14
        }
      ]
    },
    {
      "cell_type": "code",
      "metadata": {
        "id": "dlL6CRWoiMLY",
        "colab_type": "code",
        "outputId": "4d014bc7-3ec9-4479-c238-2d3c95d79b31",
        "colab": {
          "base_uri": "https://localhost:8080/",
          "height": 50
        }
      },
      "source": [
        "cohens_d(x0, x1)"
      ],
      "execution_count": 15,
      "outputs": [
        {
          "output_type": "execute_result",
          "data": {
            "text/plain": [
              "Parch   -0.169482\n",
              "dtype: float64"
            ]
          },
          "metadata": {
            "tags": []
          },
          "execution_count": 15
        }
      ]
    },
    {
      "cell_type": "markdown",
      "metadata": {
        "id": "84k9dUj8fUNn",
        "colab_type": "text"
      },
      "source": [
        "**Interpretación**\n",
        ">Valor absoluto|Indicador\n",
        ">--- | ---\n",
        ">0 | Independencia\n",
        "> 0.2-0.5 | Bajo\n",
        "> 0.5-0.8 | Medio\n",
        "> >0.8 | Alta"
      ]
    },
    {
      "cell_type": "markdown",
      "metadata": {
        "id": "3s8ymuT7i1gt",
        "colab_type": "text"
      },
      "source": [
        "## **pclassFareEmbarked**"
      ]
    },
    {
      "cell_type": "code",
      "metadata": {
        "id": "VYaGF0AMjVhu",
        "colab_type": "code",
        "colab": {}
      },
      "source": [
        "# Escriba el código del par de variables 'pclassFareEmbarked' aquí"
      ],
      "execution_count": 0,
      "outputs": []
    },
    {
      "cell_type": "markdown",
      "metadata": {
        "id": "SSWzsXaAjC2E",
        "colab_type": "text"
      },
      "source": [
        "## **pclassTicketCabin**"
      ]
    },
    {
      "cell_type": "code",
      "metadata": {
        "id": "ZHyzi72ZjWbN",
        "colab_type": "code",
        "colab": {}
      },
      "source": [
        "# Escriba el código del par de variables 'pclassTicketCabin' aquí"
      ],
      "execution_count": 0,
      "outputs": []
    }
  ]
}