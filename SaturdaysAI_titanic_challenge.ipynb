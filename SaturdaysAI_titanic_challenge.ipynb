{
  "nbformat": 4,
  "nbformat_minor": 0,
  "metadata": {
    "colab": {
      "name": "SaturdaysAI_titanic_challenge.ipynb",
      "provenance": [],
      "collapsed_sections": [],
      "mount_file_id": "1U8pj8FEmu16gEdWgWzbEgFbLVTe9Pqhw",
      "authorship_tag": "ABX9TyP0/gZhxwXs0G7yCA+dHrfy",
      "include_colab_link": true
    },
    "kernelspec": {
      "name": "python3",
      "display_name": "Python 3"
    }
  },
  "cells": [
    {
      "cell_type": "markdown",
      "metadata": {
        "id": "view-in-github",
        "colab_type": "text"
      },
      "source": [
        "<a href=\"https://colab.research.google.com/github/juancn95/saturdaysAI_titanic_challenge/blob/pdt_1/SaturdaysAI_titanic_challenge.ipynb\" target=\"_parent\"><img src=\"https://colab.research.google.com/assets/colab-badge.svg\" alt=\"Open In Colab\"/></a>"
      ]
    },
    {
      "cell_type": "markdown",
      "metadata": {
        "id": "EMOKCuWyATeo",
        "colab_type": "text"
      },
      "source": [
        "# **El desafío del Titanic**\n",
        "---"
      ]
    },
    {
      "cell_type": "markdown",
      "metadata": {
        "id": "fZ-x1mkRKXsm",
        "colab_type": "text"
      },
      "source": [
        "## **Visión general**\n",
        "El hundimiento del Titanic es uno de los naufragios más infames de la historia. El 15 de abril de 1992, durante su viaje de inauguración, el considerado \"no hundible\" RMS Titanic, se hundió luego de colisionar con un iceberg. Desafortunadamente, no hubieron suficientes salvavidas para cada uno de los pasajeros a bordo, resultando en la muerte de más de 1502 personas, entre pasajeros y tripulación, para un total de 2224. \n",
        "\n",
        "Aunque habían elementos de buena suerte involucrados en la supervivencia, parece que ciertos grupos de personas tuvieron mayor probabilidad de sobrevivir que otras. \n",
        "\n",
        "En esta competencia, usando los datos de los pasajeros, tales como nombre, género, clase socio-económica, entre otros; se deberá construir un modelo predictivo que responda a la siguiente pregunta: ¿Cuáles fueron los grupos de personas con mayor probabilidad de sobrevivir? \n",
        "\n",
        "## **Objetivo**\n",
        "- Predecir si cada uno de los pasajeros sobrevivió (1) o  no (0), tras el hundimiento del barco Titanic\n",
        "\n",
        "## **Métrica**\n",
        "\n",
        "La puntuación del modelo será el **porcentaje de pasajeros correctamente predecidos**, conocido también como **precisión**.\n",
        "\n",
        "## **Formato del archivo de entrega**\n",
        "El formato será un archivo de extensión `.csv` con 418 entradas con su correspondiente fila de encabezado, y solo deberá contener las columnas `PassengerID` y `Survived`. Si el archivo tiene una columna o fila extra, se remitirá un error. \n",
        "\n",
        "`PassengerID`: Ordenado en cualquier orden, sea ascendente o descendente. \n",
        "\n",
        "`Survived`: Contiene la **predicción binaria**: 1 para sobrevivió, 0 para fallecido.\n",
        "\n"
      ]
    },
    {
      "cell_type": "markdown",
      "metadata": {
        "id": "6zymoaoYB_SN",
        "colab_type": "text"
      },
      "source": [
        "# **Inicio**"
      ]
    },
    {
      "cell_type": "markdown",
      "metadata": {
        "id": "bvpaLsNrAtzP",
        "colab_type": "text"
      },
      "source": [
        "## **Depencias**\n",
        "**Manipulación de datos**: `pandas` `numpy` `scikit-learn`\n",
        "\n",
        "**Visualización de datos**: `matplotlib` `seaborn` `cmocean`\n",
        "\n",
        "**Estadística**: `phik`<font size=\"2\"><sup>1</sup></font> `scipy`\n",
        "\n",
        "**Optimización:** `itertools` `re`\n",
        "\n",
        "**Redes neuronales:** `tensorflow` `keras`"
      ]
    },
    {
      "cell_type": "markdown",
      "metadata": {
        "id": "vGKnALxyMUrc",
        "colab_type": "text"
      },
      "source": [
        "<font size=\"2\"><b>[Phik](https://arxiv.org/abs/1811.11440) </b>\n",
        "<sup>1</sup> es un coeficiente de correlación basado en varios refinamientos a la prueba de hipótesis de Pearson de independencia de dos variables: categóricas, ordinales y de intervalo.</font>"
      ]
    },
    {
      "cell_type": "code",
      "metadata": {
        "id": "P7AW8fhE_bd4",
        "colab_type": "code",
        "outputId": "f49e9a4b-f03e-4238-930b-16b82755fa6a",
        "colab": {
          "base_uri": "https://localhost:8080/",
          "height": 953
        }
      },
      "source": [
        "!pip install phik\n",
        "! pip3 install -U cmocean"
      ],
      "execution_count": 655,
      "outputs": [
        {
          "output_type": "stream",
          "text": [
            "Requirement already satisfied: phik in /usr/local/lib/python3.6/dist-packages (0.9.10)\n",
            "Requirement already satisfied: numpy>=1.15.4 in /usr/local/lib/python3.6/dist-packages (from phik) (1.18.2)\n",
            "Requirement already satisfied: numba>=0.38.1 in /usr/local/lib/python3.6/dist-packages (from phik) (0.48.0)\n",
            "Requirement already satisfied: pandas>=0.23.4 in /usr/local/lib/python3.6/dist-packages (from phik) (1.0.3)\n",
            "Requirement already satisfied: jupyter-client>=5.2.3 in /usr/local/lib/python3.6/dist-packages (from phik) (5.3.4)\n",
            "Requirement already satisfied: matplotlib>=2.2.3 in /usr/local/lib/python3.6/dist-packages (from phik) (3.2.1)\n",
            "Requirement already satisfied: scipy>=1.1.0 in /usr/local/lib/python3.6/dist-packages (from phik) (1.4.1)\n",
            "Requirement already satisfied: pytest>=4.0.2 in /usr/local/lib/python3.6/dist-packages (from phik) (5.4.1)\n",
            "Requirement already satisfied: joblib>=0.14.1 in /usr/local/lib/python3.6/dist-packages (from phik) (0.14.1)\n",
            "Requirement already satisfied: nbconvert>=5.3.1 in /usr/local/lib/python3.6/dist-packages (from phik) (5.6.1)\n",
            "Requirement already satisfied: pytest-pylint>=0.13.0 in /usr/local/lib/python3.6/dist-packages (from phik) (0.15.1)\n",
            "Requirement already satisfied: setuptools in /usr/local/lib/python3.6/dist-packages (from numba>=0.38.1->phik) (46.1.3)\n",
            "Requirement already satisfied: llvmlite<0.32.0,>=0.31.0dev0 in /usr/local/lib/python3.6/dist-packages (from numba>=0.38.1->phik) (0.31.0)\n",
            "Requirement already satisfied: pytz>=2017.2 in /usr/local/lib/python3.6/dist-packages (from pandas>=0.23.4->phik) (2018.9)\n",
            "Requirement already satisfied: python-dateutil>=2.6.1 in /usr/local/lib/python3.6/dist-packages (from pandas>=0.23.4->phik) (2.8.1)\n",
            "Requirement already satisfied: traitlets in /usr/local/lib/python3.6/dist-packages (from jupyter-client>=5.2.3->phik) (4.3.3)\n",
            "Requirement already satisfied: jupyter-core>=4.6.0 in /usr/local/lib/python3.6/dist-packages (from jupyter-client>=5.2.3->phik) (4.6.3)\n",
            "Requirement already satisfied: pyzmq>=13 in /usr/local/lib/python3.6/dist-packages (from jupyter-client>=5.2.3->phik) (19.0.0)\n",
            "Requirement already satisfied: tornado>=4.1 in /usr/local/lib/python3.6/dist-packages (from jupyter-client>=5.2.3->phik) (4.5.3)\n",
            "Requirement already satisfied: pyparsing!=2.0.4,!=2.1.2,!=2.1.6,>=2.0.1 in /usr/local/lib/python3.6/dist-packages (from matplotlib>=2.2.3->phik) (2.4.7)\n",
            "Requirement already satisfied: kiwisolver>=1.0.1 in /usr/local/lib/python3.6/dist-packages (from matplotlib>=2.2.3->phik) (1.2.0)\n",
            "Requirement already satisfied: cycler>=0.10 in /usr/local/lib/python3.6/dist-packages (from matplotlib>=2.2.3->phik) (0.10.0)\n",
            "Requirement already satisfied: more-itertools>=4.0.0 in /usr/local/lib/python3.6/dist-packages (from pytest>=4.0.2->phik) (8.2.0)\n",
            "Requirement already satisfied: pluggy<1.0,>=0.12 in /usr/local/lib/python3.6/dist-packages (from pytest>=4.0.2->phik) (0.13.1)\n",
            "Requirement already satisfied: attrs>=17.4.0 in /usr/local/lib/python3.6/dist-packages (from pytest>=4.0.2->phik) (19.3.0)\n",
            "Requirement already satisfied: py>=1.5.0 in /usr/local/lib/python3.6/dist-packages (from pytest>=4.0.2->phik) (1.8.1)\n",
            "Requirement already satisfied: wcwidth in /usr/local/lib/python3.6/dist-packages (from pytest>=4.0.2->phik) (0.1.9)\n",
            "Requirement already satisfied: packaging in /usr/local/lib/python3.6/dist-packages (from pytest>=4.0.2->phik) (20.3)\n",
            "Requirement already satisfied: importlib-metadata>=0.12; python_version < \"3.8\" in /usr/local/lib/python3.6/dist-packages (from pytest>=4.0.2->phik) (1.6.0)\n",
            "Requirement already satisfied: nbformat>=4.4 in /usr/local/lib/python3.6/dist-packages (from nbconvert>=5.3.1->phik) (5.0.5)\n",
            "Requirement already satisfied: jinja2>=2.4 in /usr/local/lib/python3.6/dist-packages (from nbconvert>=5.3.1->phik) (2.11.1)\n",
            "Requirement already satisfied: entrypoints>=0.2.2 in /usr/local/lib/python3.6/dist-packages (from nbconvert>=5.3.1->phik) (0.3)\n",
            "Requirement already satisfied: bleach in /usr/local/lib/python3.6/dist-packages (from nbconvert>=5.3.1->phik) (3.1.4)\n",
            "Requirement already satisfied: pandocfilters>=1.4.1 in /usr/local/lib/python3.6/dist-packages (from nbconvert>=5.3.1->phik) (1.4.2)\n",
            "Requirement already satisfied: defusedxml in /usr/local/lib/python3.6/dist-packages (from nbconvert>=5.3.1->phik) (0.6.0)\n",
            "Requirement already satisfied: pygments in /usr/local/lib/python3.6/dist-packages (from nbconvert>=5.3.1->phik) (2.1.3)\n",
            "Requirement already satisfied: testpath in /usr/local/lib/python3.6/dist-packages (from nbconvert>=5.3.1->phik) (0.4.4)\n",
            "Requirement already satisfied: mistune<2,>=0.8.1 in /usr/local/lib/python3.6/dist-packages (from nbconvert>=5.3.1->phik) (0.8.4)\n",
            "Requirement already satisfied: pylint>=2.0.0 in /usr/local/lib/python3.6/dist-packages (from pytest-pylint>=0.13.0->phik) (2.4.4)\n",
            "Requirement already satisfied: six>=1.5 in /usr/local/lib/python3.6/dist-packages (from python-dateutil>=2.6.1->pandas>=0.23.4->phik) (1.12.0)\n",
            "Requirement already satisfied: decorator in /usr/local/lib/python3.6/dist-packages (from traitlets->jupyter-client>=5.2.3->phik) (4.4.2)\n",
            "Requirement already satisfied: ipython-genutils in /usr/local/lib/python3.6/dist-packages (from traitlets->jupyter-client>=5.2.3->phik) (0.2.0)\n",
            "Requirement already satisfied: zipp>=0.5 in /usr/local/lib/python3.6/dist-packages (from importlib-metadata>=0.12; python_version < \"3.8\"->pytest>=4.0.2->phik) (3.1.0)\n",
            "Requirement already satisfied: jsonschema!=2.5.0,>=2.4 in /usr/local/lib/python3.6/dist-packages (from nbformat>=4.4->nbconvert>=5.3.1->phik) (2.6.0)\n",
            "Requirement already satisfied: MarkupSafe>=0.23 in /usr/local/lib/python3.6/dist-packages (from jinja2>=2.4->nbconvert>=5.3.1->phik) (1.1.1)\n",
            "Requirement already satisfied: webencodings in /usr/local/lib/python3.6/dist-packages (from bleach->nbconvert>=5.3.1->phik) (0.5.1)\n",
            "Requirement already satisfied: mccabe<0.7,>=0.6 in /usr/local/lib/python3.6/dist-packages (from pylint>=2.0.0->pytest-pylint>=0.13.0->phik) (0.6.1)\n",
            "Requirement already satisfied: astroid<2.4,>=2.3.0 in /usr/local/lib/python3.6/dist-packages (from pylint>=2.0.0->pytest-pylint>=0.13.0->phik) (2.3.3)\n",
            "Requirement already satisfied: isort<5,>=4.2.5 in /usr/local/lib/python3.6/dist-packages (from pylint>=2.0.0->pytest-pylint>=0.13.0->phik) (4.3.21)\n",
            "Requirement already satisfied: wrapt==1.11.* in /usr/local/lib/python3.6/dist-packages (from astroid<2.4,>=2.3.0->pylint>=2.0.0->pytest-pylint>=0.13.0->phik) (1.11.2)\n",
            "Requirement already satisfied: lazy-object-proxy==1.4.* in /usr/local/lib/python3.6/dist-packages (from astroid<2.4,>=2.3.0->pylint>=2.0.0->pytest-pylint>=0.13.0->phik) (1.4.3)\n",
            "Requirement already satisfied: typed-ast<1.5,>=1.4.0; implementation_name == \"cpython\" and python_version < \"3.8\" in /usr/local/lib/python3.6/dist-packages (from astroid<2.4,>=2.3.0->pylint>=2.0.0->pytest-pylint>=0.13.0->phik) (1.4.1)\n",
            "Requirement already up-to-date: cmocean in /usr/local/lib/python3.6/dist-packages (2.0)\n"
          ],
          "name": "stdout"
        }
      ]
    },
    {
      "cell_type": "code",
      "metadata": {
        "id": "jK7iMeNf_W6H",
        "colab_type": "code",
        "colab": {}
      },
      "source": [
        "# Análisis\n",
        "import pandas as pd\n",
        "import numpy as np\n",
        "\n",
        "# Visualización\n",
        "%matplotlib inline\n",
        "import matplotlib as mpl\n",
        "import matplotlib.pyplot as plt\n",
        "import seaborn as sb\n",
        "import cmocean.cm as cmo\n",
        "\n",
        "#Preparación\n",
        "from sklearn.pipeline import Pipeline\n",
        "#from sklearn.preprocessing import StandardScaler\n",
        "from sklearn.preprocessing import FunctionTransformer\n",
        "from sklearn.preprocessing import OneHotEncoder\n",
        "from sklearn.impute import SimpleImputer\n",
        "from sklearn.compose import ColumnTransformer\n",
        "\n",
        "#Optimización\n",
        "from sklearn.model_selection import cross_val_predict, cross_val_score, cross_validate\n",
        "from sklearn.model_selection import StratifiedKFold, StratifiedShuffleSplit\n",
        "from sklearn.model_selection import RandomizedSearchCV, GridSearchCV, learning_curve\n",
        "from sklearn.feature_selection import SelectFromModel\n",
        "from scipy.stats import randint\n",
        "import itertools\n",
        "from sklearn.metrics import confusion_matrix, roc_curve\n",
        "from sklearn.metrics import precision_score, recall_score, f1_score\n",
        "import re\n",
        "\n",
        "#Redes neuronales\n",
        "import tensorflow as tf\n",
        "from tensorflow import keras\n",
        "from tensorflow.keras.wrappers.scikit_learn import KerasClassifier\n",
        "from tensorflow.keras.models import Sequential\n",
        "from tensorflow.keras.layers import Input, Dense, Dropout, AlphaDropout\n",
        "from tensorflow.keras.optimizers import SGD, RMSprop, Adamax, Adagrad, Adam, Nadam, SGD\n",
        "\n",
        "# Estadística\n",
        "import phik\n",
        "from phik import resources, report\n",
        "from phik.binning import bin_data\n",
        "from phik.report import plot_correlation_matrix\n",
        "from scipy import stats\n",
        "from scipy.stats import chi2, chi2_contingency\n",
        "from math import sqrt\n"
      ],
      "execution_count": 0,
      "outputs": []
    },
    {
      "cell_type": "markdown",
      "metadata": {
        "id": "HSzMcmk-Mo4E",
        "colab_type": "text"
      },
      "source": [
        "**Carga de datos desde AWS**\n"
      ]
    },
    {
      "cell_type": "code",
      "metadata": {
        "id": "1MDhhgVWLLos",
        "colab_type": "code",
        "colab": {}
      },
      "source": [
        "#Carga de datos a dataframes\n",
        "df_train = pd.read_csv('https://saturday-ai.s3-sa-east-1.amazonaws.com/titanic/train.csv')\n",
        "df_test = pd.read_csv('https://saturday-ai.s3-sa-east-1.amazonaws.com/titanic/test.csv')\n",
        "df_sub = pd.read_csv('https://saturday-ai.s3-sa-east-1.amazonaws.com/titanic/gender_submission.csv')"
      ],
      "execution_count": 0,
      "outputs": []
    },
    {
      "cell_type": "markdown",
      "metadata": {
        "id": "UDJKcD9fiJvX",
        "colab_type": "text"
      },
      "source": [
        "**Pre-configuración de gráficos**"
      ]
    },
    {
      "cell_type": "code",
      "metadata": {
        "id": "yof6CPO1iI5p",
        "colab_type": "code",
        "colab": {}
      },
      "source": [
        "title = {'fontsize': 11, 'weight': 'bold'}\n",
        "labels = {'fontsize': 10, 'weight': 'normal'}\n",
        "ticks = {'fontsize': 8, 'weight': 'normal'}"
      ],
      "execution_count": 0,
      "outputs": []
    },
    {
      "cell_type": "markdown",
      "metadata": {
        "id": "_VQbNX5zkZyu",
        "colab_type": "text"
      },
      "source": [
        "# **Análisis exploratorio de los datos**"
      ]
    },
    {
      "cell_type": "markdown",
      "metadata": {
        "colab_type": "text",
        "id": "R4tB0Sq4TW7A"
      },
      "source": [
        "La siguienta Tabla, brinda una breve descripción de los datos en función de la información proporcionada por Kaggle, y será un punto de partida para nuestro **Análisis Exploratorio de Datos**.  \n",
        "\n",
        "Variable | Definición | Valor \n",
        "--- | --- | --- \n",
        "`PassengerId` | Identificador\n",
        "`Survived` | Supervivencia | 0: No, 1 : Sí \n",
        "`Pclass` | Clase de boleto | 1: 1st, 2: 2nd, 3: 3rd\n",
        "`Name` | Nombre del pasajero \n",
        "`Sex` | Género | Male, Female \n",
        "`Age` | Edad | |\n",
        "`SibSp` | No. hermanos o parejas a abordo\n",
        "`Parch` | No. de padres o hijos a abordo |\n",
        "`Ticket` | Número del ticket|| Cadena |\n",
        "`Fare` | Tarifa del pasajero continuos |\n",
        "`Cabin` | Número de cabina o compartimento string |\n",
        "`Embarked` | Puerto de embarque | C: Cherbourg, Q: Queenstown, S: Southampton "
      ]
    },
    {
      "cell_type": "markdown",
      "metadata": {
        "id": "KVB9XHjoS7VO",
        "colab_type": "text"
      },
      "source": [
        "## **Identificación de variables**\n",
        "Para poder visualizar una pequeña porción del conjunto de datos $N$, usaremos los métodos `.head` y `.tail` para imprimir las primeras y últimas 10 observaciones."
      ]
    },
    {
      "cell_type": "code",
      "metadata": {
        "id": "82RPJy8gSt0a",
        "colab_type": "code",
        "colab": {
          "base_uri": "https://localhost:8080/",
          "height": 233
        },
        "outputId": "a88c7628-efdb-4a78-dc7b-b641357e1393"
      },
      "source": [
        "df_train.head()"
      ],
      "execution_count": 659,
      "outputs": [
        {
          "output_type": "execute_result",
          "data": {
            "text/html": [
              "<div>\n",
              "<style scoped>\n",
              "    .dataframe tbody tr th:only-of-type {\n",
              "        vertical-align: middle;\n",
              "    }\n",
              "\n",
              "    .dataframe tbody tr th {\n",
              "        vertical-align: top;\n",
              "    }\n",
              "\n",
              "    .dataframe thead th {\n",
              "        text-align: right;\n",
              "    }\n",
              "</style>\n",
              "<table border=\"1\" class=\"dataframe\">\n",
              "  <thead>\n",
              "    <tr style=\"text-align: right;\">\n",
              "      <th></th>\n",
              "      <th>PassengerId</th>\n",
              "      <th>Survived</th>\n",
              "      <th>Pclass</th>\n",
              "      <th>Name</th>\n",
              "      <th>Sex</th>\n",
              "      <th>Age</th>\n",
              "      <th>SibSp</th>\n",
              "      <th>Parch</th>\n",
              "      <th>Ticket</th>\n",
              "      <th>Fare</th>\n",
              "      <th>Cabin</th>\n",
              "      <th>Embarked</th>\n",
              "    </tr>\n",
              "  </thead>\n",
              "  <tbody>\n",
              "    <tr>\n",
              "      <th>0</th>\n",
              "      <td>1</td>\n",
              "      <td>0</td>\n",
              "      <td>3</td>\n",
              "      <td>Braund, Mr. Owen Harris</td>\n",
              "      <td>male</td>\n",
              "      <td>22.0</td>\n",
              "      <td>1</td>\n",
              "      <td>0</td>\n",
              "      <td>A/5 21171</td>\n",
              "      <td>7.2500</td>\n",
              "      <td>NaN</td>\n",
              "      <td>S</td>\n",
              "    </tr>\n",
              "    <tr>\n",
              "      <th>1</th>\n",
              "      <td>2</td>\n",
              "      <td>1</td>\n",
              "      <td>1</td>\n",
              "      <td>Cumings, Mrs. John Bradley (Florence Briggs Th...</td>\n",
              "      <td>female</td>\n",
              "      <td>38.0</td>\n",
              "      <td>1</td>\n",
              "      <td>0</td>\n",
              "      <td>PC 17599</td>\n",
              "      <td>71.2833</td>\n",
              "      <td>C85</td>\n",
              "      <td>C</td>\n",
              "    </tr>\n",
              "    <tr>\n",
              "      <th>2</th>\n",
              "      <td>3</td>\n",
              "      <td>1</td>\n",
              "      <td>3</td>\n",
              "      <td>Heikkinen, Miss. Laina</td>\n",
              "      <td>female</td>\n",
              "      <td>26.0</td>\n",
              "      <td>0</td>\n",
              "      <td>0</td>\n",
              "      <td>STON/O2. 3101282</td>\n",
              "      <td>7.9250</td>\n",
              "      <td>NaN</td>\n",
              "      <td>S</td>\n",
              "    </tr>\n",
              "    <tr>\n",
              "      <th>3</th>\n",
              "      <td>4</td>\n",
              "      <td>1</td>\n",
              "      <td>1</td>\n",
              "      <td>Futrelle, Mrs. Jacques Heath (Lily May Peel)</td>\n",
              "      <td>female</td>\n",
              "      <td>35.0</td>\n",
              "      <td>1</td>\n",
              "      <td>0</td>\n",
              "      <td>113803</td>\n",
              "      <td>53.1000</td>\n",
              "      <td>C123</td>\n",
              "      <td>S</td>\n",
              "    </tr>\n",
              "    <tr>\n",
              "      <th>4</th>\n",
              "      <td>5</td>\n",
              "      <td>0</td>\n",
              "      <td>3</td>\n",
              "      <td>Allen, Mr. William Henry</td>\n",
              "      <td>male</td>\n",
              "      <td>35.0</td>\n",
              "      <td>0</td>\n",
              "      <td>0</td>\n",
              "      <td>373450</td>\n",
              "      <td>8.0500</td>\n",
              "      <td>NaN</td>\n",
              "      <td>S</td>\n",
              "    </tr>\n",
              "  </tbody>\n",
              "</table>\n",
              "</div>"
            ],
            "text/plain": [
              "   PassengerId  Survived  Pclass  ...     Fare Cabin  Embarked\n",
              "0            1         0       3  ...   7.2500   NaN         S\n",
              "1            2         1       1  ...  71.2833   C85         C\n",
              "2            3         1       3  ...   7.9250   NaN         S\n",
              "3            4         1       1  ...  53.1000  C123         S\n",
              "4            5         0       3  ...   8.0500   NaN         S\n",
              "\n",
              "[5 rows x 12 columns]"
            ]
          },
          "metadata": {
            "tags": []
          },
          "execution_count": 659
        }
      ]
    },
    {
      "cell_type": "code",
      "metadata": {
        "id": "OH4J8ENMYMjx",
        "colab_type": "code",
        "colab": {
          "base_uri": "https://localhost:8080/",
          "height": 198
        },
        "outputId": "8d7018fa-69a0-4ae8-8389-cc296d6d8ca8"
      },
      "source": [
        "df_train.tail()"
      ],
      "execution_count": 660,
      "outputs": [
        {
          "output_type": "execute_result",
          "data": {
            "text/html": [
              "<div>\n",
              "<style scoped>\n",
              "    .dataframe tbody tr th:only-of-type {\n",
              "        vertical-align: middle;\n",
              "    }\n",
              "\n",
              "    .dataframe tbody tr th {\n",
              "        vertical-align: top;\n",
              "    }\n",
              "\n",
              "    .dataframe thead th {\n",
              "        text-align: right;\n",
              "    }\n",
              "</style>\n",
              "<table border=\"1\" class=\"dataframe\">\n",
              "  <thead>\n",
              "    <tr style=\"text-align: right;\">\n",
              "      <th></th>\n",
              "      <th>PassengerId</th>\n",
              "      <th>Survived</th>\n",
              "      <th>Pclass</th>\n",
              "      <th>Name</th>\n",
              "      <th>Sex</th>\n",
              "      <th>Age</th>\n",
              "      <th>SibSp</th>\n",
              "      <th>Parch</th>\n",
              "      <th>Ticket</th>\n",
              "      <th>Fare</th>\n",
              "      <th>Cabin</th>\n",
              "      <th>Embarked</th>\n",
              "    </tr>\n",
              "  </thead>\n",
              "  <tbody>\n",
              "    <tr>\n",
              "      <th>886</th>\n",
              "      <td>887</td>\n",
              "      <td>0</td>\n",
              "      <td>2</td>\n",
              "      <td>Montvila, Rev. Juozas</td>\n",
              "      <td>male</td>\n",
              "      <td>27.0</td>\n",
              "      <td>0</td>\n",
              "      <td>0</td>\n",
              "      <td>211536</td>\n",
              "      <td>13.00</td>\n",
              "      <td>NaN</td>\n",
              "      <td>S</td>\n",
              "    </tr>\n",
              "    <tr>\n",
              "      <th>887</th>\n",
              "      <td>888</td>\n",
              "      <td>1</td>\n",
              "      <td>1</td>\n",
              "      <td>Graham, Miss. Margaret Edith</td>\n",
              "      <td>female</td>\n",
              "      <td>19.0</td>\n",
              "      <td>0</td>\n",
              "      <td>0</td>\n",
              "      <td>112053</td>\n",
              "      <td>30.00</td>\n",
              "      <td>B42</td>\n",
              "      <td>S</td>\n",
              "    </tr>\n",
              "    <tr>\n",
              "      <th>888</th>\n",
              "      <td>889</td>\n",
              "      <td>0</td>\n",
              "      <td>3</td>\n",
              "      <td>Johnston, Miss. Catherine Helen \"Carrie\"</td>\n",
              "      <td>female</td>\n",
              "      <td>NaN</td>\n",
              "      <td>1</td>\n",
              "      <td>2</td>\n",
              "      <td>W./C. 6607</td>\n",
              "      <td>23.45</td>\n",
              "      <td>NaN</td>\n",
              "      <td>S</td>\n",
              "    </tr>\n",
              "    <tr>\n",
              "      <th>889</th>\n",
              "      <td>890</td>\n",
              "      <td>1</td>\n",
              "      <td>1</td>\n",
              "      <td>Behr, Mr. Karl Howell</td>\n",
              "      <td>male</td>\n",
              "      <td>26.0</td>\n",
              "      <td>0</td>\n",
              "      <td>0</td>\n",
              "      <td>111369</td>\n",
              "      <td>30.00</td>\n",
              "      <td>C148</td>\n",
              "      <td>C</td>\n",
              "    </tr>\n",
              "    <tr>\n",
              "      <th>890</th>\n",
              "      <td>891</td>\n",
              "      <td>0</td>\n",
              "      <td>3</td>\n",
              "      <td>Dooley, Mr. Patrick</td>\n",
              "      <td>male</td>\n",
              "      <td>32.0</td>\n",
              "      <td>0</td>\n",
              "      <td>0</td>\n",
              "      <td>370376</td>\n",
              "      <td>7.75</td>\n",
              "      <td>NaN</td>\n",
              "      <td>Q</td>\n",
              "    </tr>\n",
              "  </tbody>\n",
              "</table>\n",
              "</div>"
            ],
            "text/plain": [
              "     PassengerId  Survived  Pclass  ...   Fare Cabin  Embarked\n",
              "886          887         0       2  ...  13.00   NaN         S\n",
              "887          888         1       1  ...  30.00   B42         S\n",
              "888          889         0       3  ...  23.45   NaN         S\n",
              "889          890         1       1  ...  30.00  C148         C\n",
              "890          891         0       3  ...   7.75   NaN         Q\n",
              "\n",
              "[5 rows x 12 columns]"
            ]
          },
          "metadata": {
            "tags": []
          },
          "execution_count": 660
        }
      ]
    },
    {
      "cell_type": "code",
      "metadata": {
        "id": "uBcjWLbr6LGB",
        "colab_type": "code",
        "colab": {
          "base_uri": "https://localhost:8080/",
          "height": 198
        },
        "outputId": "5155e6c7-8c66-4f2a-c725-6cbcd7526e11"
      },
      "source": [
        "df_test.head()"
      ],
      "execution_count": 661,
      "outputs": [
        {
          "output_type": "execute_result",
          "data": {
            "text/html": [
              "<div>\n",
              "<style scoped>\n",
              "    .dataframe tbody tr th:only-of-type {\n",
              "        vertical-align: middle;\n",
              "    }\n",
              "\n",
              "    .dataframe tbody tr th {\n",
              "        vertical-align: top;\n",
              "    }\n",
              "\n",
              "    .dataframe thead th {\n",
              "        text-align: right;\n",
              "    }\n",
              "</style>\n",
              "<table border=\"1\" class=\"dataframe\">\n",
              "  <thead>\n",
              "    <tr style=\"text-align: right;\">\n",
              "      <th></th>\n",
              "      <th>PassengerId</th>\n",
              "      <th>Pclass</th>\n",
              "      <th>Name</th>\n",
              "      <th>Sex</th>\n",
              "      <th>Age</th>\n",
              "      <th>SibSp</th>\n",
              "      <th>Parch</th>\n",
              "      <th>Ticket</th>\n",
              "      <th>Fare</th>\n",
              "      <th>Cabin</th>\n",
              "      <th>Embarked</th>\n",
              "    </tr>\n",
              "  </thead>\n",
              "  <tbody>\n",
              "    <tr>\n",
              "      <th>0</th>\n",
              "      <td>892</td>\n",
              "      <td>3</td>\n",
              "      <td>Kelly, Mr. James</td>\n",
              "      <td>male</td>\n",
              "      <td>34.5</td>\n",
              "      <td>0</td>\n",
              "      <td>0</td>\n",
              "      <td>330911</td>\n",
              "      <td>7.8292</td>\n",
              "      <td>NaN</td>\n",
              "      <td>Q</td>\n",
              "    </tr>\n",
              "    <tr>\n",
              "      <th>1</th>\n",
              "      <td>893</td>\n",
              "      <td>3</td>\n",
              "      <td>Wilkes, Mrs. James (Ellen Needs)</td>\n",
              "      <td>female</td>\n",
              "      <td>47.0</td>\n",
              "      <td>1</td>\n",
              "      <td>0</td>\n",
              "      <td>363272</td>\n",
              "      <td>7.0000</td>\n",
              "      <td>NaN</td>\n",
              "      <td>S</td>\n",
              "    </tr>\n",
              "    <tr>\n",
              "      <th>2</th>\n",
              "      <td>894</td>\n",
              "      <td>2</td>\n",
              "      <td>Myles, Mr. Thomas Francis</td>\n",
              "      <td>male</td>\n",
              "      <td>62.0</td>\n",
              "      <td>0</td>\n",
              "      <td>0</td>\n",
              "      <td>240276</td>\n",
              "      <td>9.6875</td>\n",
              "      <td>NaN</td>\n",
              "      <td>Q</td>\n",
              "    </tr>\n",
              "    <tr>\n",
              "      <th>3</th>\n",
              "      <td>895</td>\n",
              "      <td>3</td>\n",
              "      <td>Wirz, Mr. Albert</td>\n",
              "      <td>male</td>\n",
              "      <td>27.0</td>\n",
              "      <td>0</td>\n",
              "      <td>0</td>\n",
              "      <td>315154</td>\n",
              "      <td>8.6625</td>\n",
              "      <td>NaN</td>\n",
              "      <td>S</td>\n",
              "    </tr>\n",
              "    <tr>\n",
              "      <th>4</th>\n",
              "      <td>896</td>\n",
              "      <td>3</td>\n",
              "      <td>Hirvonen, Mrs. Alexander (Helga E Lindqvist)</td>\n",
              "      <td>female</td>\n",
              "      <td>22.0</td>\n",
              "      <td>1</td>\n",
              "      <td>1</td>\n",
              "      <td>3101298</td>\n",
              "      <td>12.2875</td>\n",
              "      <td>NaN</td>\n",
              "      <td>S</td>\n",
              "    </tr>\n",
              "  </tbody>\n",
              "</table>\n",
              "</div>"
            ],
            "text/plain": [
              "   PassengerId  Pclass  ... Cabin Embarked\n",
              "0          892       3  ...   NaN        Q\n",
              "1          893       3  ...   NaN        S\n",
              "2          894       2  ...   NaN        Q\n",
              "3          895       3  ...   NaN        S\n",
              "4          896       3  ...   NaN        S\n",
              "\n",
              "[5 rows x 11 columns]"
            ]
          },
          "metadata": {
            "tags": []
          },
          "execution_count": 661
        }
      ]
    },
    {
      "cell_type": "code",
      "metadata": {
        "id": "Rqr6pOn7kM9J",
        "colab_type": "code",
        "colab": {
          "base_uri": "https://localhost:8080/",
          "height": 198
        },
        "outputId": "8a83f571-c3b0-4f83-cfc5-23038db3b861"
      },
      "source": [
        "df_test.tail()"
      ],
      "execution_count": 662,
      "outputs": [
        {
          "output_type": "execute_result",
          "data": {
            "text/html": [
              "<div>\n",
              "<style scoped>\n",
              "    .dataframe tbody tr th:only-of-type {\n",
              "        vertical-align: middle;\n",
              "    }\n",
              "\n",
              "    .dataframe tbody tr th {\n",
              "        vertical-align: top;\n",
              "    }\n",
              "\n",
              "    .dataframe thead th {\n",
              "        text-align: right;\n",
              "    }\n",
              "</style>\n",
              "<table border=\"1\" class=\"dataframe\">\n",
              "  <thead>\n",
              "    <tr style=\"text-align: right;\">\n",
              "      <th></th>\n",
              "      <th>PassengerId</th>\n",
              "      <th>Pclass</th>\n",
              "      <th>Name</th>\n",
              "      <th>Sex</th>\n",
              "      <th>Age</th>\n",
              "      <th>SibSp</th>\n",
              "      <th>Parch</th>\n",
              "      <th>Ticket</th>\n",
              "      <th>Fare</th>\n",
              "      <th>Cabin</th>\n",
              "      <th>Embarked</th>\n",
              "    </tr>\n",
              "  </thead>\n",
              "  <tbody>\n",
              "    <tr>\n",
              "      <th>413</th>\n",
              "      <td>1305</td>\n",
              "      <td>3</td>\n",
              "      <td>Spector, Mr. Woolf</td>\n",
              "      <td>male</td>\n",
              "      <td>NaN</td>\n",
              "      <td>0</td>\n",
              "      <td>0</td>\n",
              "      <td>A.5. 3236</td>\n",
              "      <td>8.0500</td>\n",
              "      <td>NaN</td>\n",
              "      <td>S</td>\n",
              "    </tr>\n",
              "    <tr>\n",
              "      <th>414</th>\n",
              "      <td>1306</td>\n",
              "      <td>1</td>\n",
              "      <td>Oliva y Ocana, Dona. Fermina</td>\n",
              "      <td>female</td>\n",
              "      <td>39.0</td>\n",
              "      <td>0</td>\n",
              "      <td>0</td>\n",
              "      <td>PC 17758</td>\n",
              "      <td>108.9000</td>\n",
              "      <td>C105</td>\n",
              "      <td>C</td>\n",
              "    </tr>\n",
              "    <tr>\n",
              "      <th>415</th>\n",
              "      <td>1307</td>\n",
              "      <td>3</td>\n",
              "      <td>Saether, Mr. Simon Sivertsen</td>\n",
              "      <td>male</td>\n",
              "      <td>38.5</td>\n",
              "      <td>0</td>\n",
              "      <td>0</td>\n",
              "      <td>SOTON/O.Q. 3101262</td>\n",
              "      <td>7.2500</td>\n",
              "      <td>NaN</td>\n",
              "      <td>S</td>\n",
              "    </tr>\n",
              "    <tr>\n",
              "      <th>416</th>\n",
              "      <td>1308</td>\n",
              "      <td>3</td>\n",
              "      <td>Ware, Mr. Frederick</td>\n",
              "      <td>male</td>\n",
              "      <td>NaN</td>\n",
              "      <td>0</td>\n",
              "      <td>0</td>\n",
              "      <td>359309</td>\n",
              "      <td>8.0500</td>\n",
              "      <td>NaN</td>\n",
              "      <td>S</td>\n",
              "    </tr>\n",
              "    <tr>\n",
              "      <th>417</th>\n",
              "      <td>1309</td>\n",
              "      <td>3</td>\n",
              "      <td>Peter, Master. Michael J</td>\n",
              "      <td>male</td>\n",
              "      <td>NaN</td>\n",
              "      <td>1</td>\n",
              "      <td>1</td>\n",
              "      <td>2668</td>\n",
              "      <td>22.3583</td>\n",
              "      <td>NaN</td>\n",
              "      <td>C</td>\n",
              "    </tr>\n",
              "  </tbody>\n",
              "</table>\n",
              "</div>"
            ],
            "text/plain": [
              "     PassengerId  Pclass                          Name  ...      Fare  Cabin  Embarked\n",
              "413         1305       3            Spector, Mr. Woolf  ...    8.0500    NaN         S\n",
              "414         1306       1  Oliva y Ocana, Dona. Fermina  ...  108.9000   C105         C\n",
              "415         1307       3  Saether, Mr. Simon Sivertsen  ...    7.2500    NaN         S\n",
              "416         1308       3           Ware, Mr. Frederick  ...    8.0500    NaN         S\n",
              "417         1309       3      Peter, Master. Michael J  ...   22.3583    NaN         C\n",
              "\n",
              "[5 rows x 11 columns]"
            ]
          },
          "metadata": {
            "tags": []
          },
          "execution_count": 662
        }
      ]
    },
    {
      "cell_type": "code",
      "metadata": {
        "id": "8E_3klMt67lo",
        "colab_type": "code",
        "colab": {
          "base_uri": "https://localhost:8080/",
          "height": 198
        },
        "outputId": "37d0ae12-41e6-4809-9f74-9cac912389c6"
      },
      "source": [
        "df_sub.head()"
      ],
      "execution_count": 663,
      "outputs": [
        {
          "output_type": "execute_result",
          "data": {
            "text/html": [
              "<div>\n",
              "<style scoped>\n",
              "    .dataframe tbody tr th:only-of-type {\n",
              "        vertical-align: middle;\n",
              "    }\n",
              "\n",
              "    .dataframe tbody tr th {\n",
              "        vertical-align: top;\n",
              "    }\n",
              "\n",
              "    .dataframe thead th {\n",
              "        text-align: right;\n",
              "    }\n",
              "</style>\n",
              "<table border=\"1\" class=\"dataframe\">\n",
              "  <thead>\n",
              "    <tr style=\"text-align: right;\">\n",
              "      <th></th>\n",
              "      <th>PassengerId</th>\n",
              "      <th>Survived</th>\n",
              "    </tr>\n",
              "  </thead>\n",
              "  <tbody>\n",
              "    <tr>\n",
              "      <th>0</th>\n",
              "      <td>892</td>\n",
              "      <td>0</td>\n",
              "    </tr>\n",
              "    <tr>\n",
              "      <th>1</th>\n",
              "      <td>893</td>\n",
              "      <td>1</td>\n",
              "    </tr>\n",
              "    <tr>\n",
              "      <th>2</th>\n",
              "      <td>894</td>\n",
              "      <td>0</td>\n",
              "    </tr>\n",
              "    <tr>\n",
              "      <th>3</th>\n",
              "      <td>895</td>\n",
              "      <td>0</td>\n",
              "    </tr>\n",
              "    <tr>\n",
              "      <th>4</th>\n",
              "      <td>896</td>\n",
              "      <td>1</td>\n",
              "    </tr>\n",
              "  </tbody>\n",
              "</table>\n",
              "</div>"
            ],
            "text/plain": [
              "   PassengerId  Survived\n",
              "0          892         0\n",
              "1          893         1\n",
              "2          894         0\n",
              "3          895         0\n",
              "4          896         1"
            ]
          },
          "metadata": {
            "tags": []
          },
          "execution_count": 663
        }
      ]
    },
    {
      "cell_type": "code",
      "metadata": {
        "id": "uNhjKQdTkQCS",
        "colab_type": "code",
        "colab": {
          "base_uri": "https://localhost:8080/",
          "height": 198
        },
        "outputId": "ff23c40c-6c61-48f2-de6c-4fbf62582f44"
      },
      "source": [
        "df_sub.tail()"
      ],
      "execution_count": 664,
      "outputs": [
        {
          "output_type": "execute_result",
          "data": {
            "text/html": [
              "<div>\n",
              "<style scoped>\n",
              "    .dataframe tbody tr th:only-of-type {\n",
              "        vertical-align: middle;\n",
              "    }\n",
              "\n",
              "    .dataframe tbody tr th {\n",
              "        vertical-align: top;\n",
              "    }\n",
              "\n",
              "    .dataframe thead th {\n",
              "        text-align: right;\n",
              "    }\n",
              "</style>\n",
              "<table border=\"1\" class=\"dataframe\">\n",
              "  <thead>\n",
              "    <tr style=\"text-align: right;\">\n",
              "      <th></th>\n",
              "      <th>PassengerId</th>\n",
              "      <th>Survived</th>\n",
              "    </tr>\n",
              "  </thead>\n",
              "  <tbody>\n",
              "    <tr>\n",
              "      <th>413</th>\n",
              "      <td>1305</td>\n",
              "      <td>0</td>\n",
              "    </tr>\n",
              "    <tr>\n",
              "      <th>414</th>\n",
              "      <td>1306</td>\n",
              "      <td>1</td>\n",
              "    </tr>\n",
              "    <tr>\n",
              "      <th>415</th>\n",
              "      <td>1307</td>\n",
              "      <td>0</td>\n",
              "    </tr>\n",
              "    <tr>\n",
              "      <th>416</th>\n",
              "      <td>1308</td>\n",
              "      <td>0</td>\n",
              "    </tr>\n",
              "    <tr>\n",
              "      <th>417</th>\n",
              "      <td>1309</td>\n",
              "      <td>0</td>\n",
              "    </tr>\n",
              "  </tbody>\n",
              "</table>\n",
              "</div>"
            ],
            "text/plain": [
              "     PassengerId  Survived\n",
              "413         1305         0\n",
              "414         1306         1\n",
              "415         1307         0\n",
              "416         1308         0\n",
              "417         1309         0"
            ]
          },
          "metadata": {
            "tags": []
          },
          "execution_count": 664
        }
      ]
    },
    {
      "cell_type": "code",
      "metadata": {
        "id": "toAxh_2wcEfC",
        "colab_type": "code",
        "outputId": "9ffd0b28-78d1-469d-e357-ee7c95efd5de",
        "colab": {
          "base_uri": "https://localhost:8080/",
          "height": 69
        }
      },
      "source": [
        "print('Conjunto de entrenamiento: {} observaciones y {} características'.format(df_train.shape[0], df_train.shape[1]))\n",
        "print('Conjunto de testeo: {} observaciones y {} características'.format(df_test.shape[0], df_test.shape[1]))\n",
        "print('Conjunto total: {} observaciones y {} características'.format(df_train.shape[0] + df_test.shape[0], df_train.shape[1]))"
      ],
      "execution_count": 665,
      "outputs": [
        {
          "output_type": "stream",
          "text": [
            "Conjunto de entrenamiento: 891 observaciones y 12 características\n",
            "Conjunto de testeo: 418 observaciones y 11 características\n",
            "Conjunto total: 1309 observaciones y 12 características\n"
          ],
          "name": "stdout"
        }
      ]
    },
    {
      "cell_type": "markdown",
      "metadata": {
        "id": "27XtpAKXDwgH",
        "colab_type": "text"
      },
      "source": [
        "Eventualmente, se necesitará aplicar operaciones sobre cada característica del conjunto de entrenamiento, esto involucraría tener las mismas características sobre el conjunto de tes, por tanto será necesario agruparlos para aplicar las reglas en común."
      ]
    },
    {
      "cell_type": "code",
      "metadata": {
        "id": "RFuajLqrDTaD",
        "colab_type": "code",
        "colab": {}
      },
      "source": [
        "df2 = pd.merge(df_test, df_sub)\n",
        "df = df_train.append(df2, ignore_index=True)"
      ],
      "execution_count": 0,
      "outputs": []
    },
    {
      "cell_type": "markdown",
      "metadata": {
        "id": "Z8mPiNA1Vig3",
        "colab_type": "text"
      },
      "source": [
        "Variable | Tipo de variable | Tipo de dato | Categoría\n",
        "--- |  --- | --- |--- | \n",
        "`PassengerId`| | ? | ?  \n",
        "`Survived` | Predictiva | Cualitativo | Nominal (Dicotómico)\n",
        "`Pclass` | Explicativa | Cualitativo | Ordinal \n",
        "`Name` | ? | ? | Nominal \n",
        "`Sex` | Explicativa | Cualitativo | Nominal (Dicotómica) \n",
        "`Age` | Explicativa | Cuantitativo | Continuo \n",
        "`SibSp` | ? | Cuantitativo | Discreto \n",
        "`Parch` | ? | Cuantitativa | Discreto \n",
        "`Ticket` | ? | Cualitativo | Categórica \n",
        "`Fare` | ? | Cuantitiva | Continuo \n",
        "`Cabin` | ? | Cualitativo | Nominal\n",
        "`Embarked` | ? | Cualitativo | Nominal \n",
        "\n",
        "El **?** representa falta de certeza para determinar el tipo o categoría de la variable. "
      ]
    },
    {
      "cell_type": "markdown",
      "metadata": {
        "id": "LGXc_90DNoWj",
        "colab_type": "text"
      },
      "source": [
        "# **Paquete de trabajo No. 1**\n",
        "\n",
        "**Entregable**\n",
        "* Objeto `DataFrame` con los pares de variables asignados **mejorados**\n",
        "---\n",
        "<p>\n",
        "<font size=\"2.2\">\n",
        "<b>Nota:</b> Este entrable debe tener como fin, incrementar la relevancia, como sea posible, de todos los pares de variables con respecto a la variable predictiva.<font>\n",
        "</p>\n",
        "<p>\n",
        "<font size=\"2.2\">\n",
        "<b>Claves:</b>La métrica usada para cuantificar la correlación o relación entre dos pares de variables dependerá su tipo, sea continuo-continuo, categórico-categórico o categórico-continuo.<font>\n",
        "</p>\n",
        "\n"
      ]
    },
    {
      "cell_type": "markdown",
      "metadata": {
        "id": "sSAfvwQTYtlk",
        "colab_type": "text"
      },
      "source": [
        "## **nameSex**"
      ]
    },
    {
      "cell_type": "code",
      "metadata": {
        "id": "qIhxongujNVq",
        "colab_type": "code",
        "colab": {}
      },
      "source": [
        "# Escriba el código del par de variables 'nameSex' aquí"
      ],
      "execution_count": 0,
      "outputs": []
    },
    {
      "cell_type": "markdown",
      "metadata": {
        "id": "spAPRm75jcQZ",
        "colab_type": "text"
      },
      "source": [
        "## **sexAge**"
      ]
    },
    {
      "cell_type": "code",
      "metadata": {
        "id": "3kk7NUyOjfCi",
        "colab_type": "code",
        "colab": {}
      },
      "source": [
        "# Escriba el código del par de variables 'sexAge' aquí"
      ],
      "execution_count": 0,
      "outputs": []
    },
    {
      "cell_type": "markdown",
      "metadata": {
        "id": "3s8ymuT7i1gt",
        "colab_type": "text"
      },
      "source": [
        "## **pclassFareEmbarked**"
      ]
    },
    {
      "cell_type": "code",
      "metadata": {
        "id": "VYaGF0AMjVhu",
        "colab_type": "code",
        "colab": {}
      },
      "source": [
        "# Escriba el código del par de variables 'pclassFareEmbarked' aquí"
      ],
      "execution_count": 0,
      "outputs": []
    },
    {
      "cell_type": "markdown",
      "metadata": {
        "id": "SSWzsXaAjC2E",
        "colab_type": "text"
      },
      "source": [
        "## **pclassTicketCabin**"
      ]
    },
    {
      "cell_type": "code",
      "metadata": {
        "id": "ZHyzi72ZjWbN",
        "colab_type": "code",
        "colab": {}
      },
      "source": [
        "# Escriba el código del par de variables 'pclassTicketCabin' aquí"
      ],
      "execution_count": 0,
      "outputs": []
    },
    {
      "cell_type": "markdown",
      "metadata": {
        "id": "ofa9dzIhi-o1",
        "colab_type": "text"
      },
      "source": [
        "\n",
        "## **sibspParch**"
      ]
    },
    {
      "cell_type": "code",
      "metadata": {
        "id": "1gdWvBQlVRHA",
        "colab_type": "code",
        "colab": {}
      },
      "source": [
        "# 0 = No sobrevive, 1 = Sobrevive\n",
        "x0 = df.loc[df.Survived == 0, 'SibSp']\n",
        "x1 = df.loc[df.Survived == 1, 'SibSp']\n",
        "\n",
        "y0 = df.loc[df.Survived == 0, 'Parch']\n",
        "y1 = df.loc[df.Survived == 1, 'Parch']"
      ],
      "execution_count": 0,
      "outputs": []
    },
    {
      "cell_type": "markdown",
      "metadata": {
        "id": "Hn2k6q_KV47a",
        "colab_type": "text"
      },
      "source": [
        "**¿Hay ausencia de valores o nulos en los pares de variables para ambas categorías?**"
      ]
    },
    {
      "cell_type": "code",
      "metadata": {
        "id": "mQhp8dkcVoYl",
        "colab_type": "code",
        "colab": {
          "base_uri": "https://localhost:8080/",
          "height": 86
        },
        "outputId": "462dc8b6-7b6e-4438-fff2-598497441cea"
      },
      "source": [
        "null_sum = [x0.isnull().sum(), x1.isnull().sum(), y0.isnull().sum(), y1.isnull().sum()]\n",
        "count = [x0.count(), x1.count(), y0.count(), y1.count()]\n",
        "\n",
        "for i, j in zip(null_sum, count):\n",
        "  print('{} valores nulos en {} observaciones del subconjunto'.format(i, j))"
      ],
      "execution_count": 672,
      "outputs": [
        {
          "output_type": "stream",
          "text": [
            "0 valores nulos en 815 observaciones del subconjunto\n",
            "0 valores nulos en 494 observaciones del subconjunto\n",
            "0 valores nulos en 815 observaciones del subconjunto\n",
            "0 valores nulos en 494 observaciones del subconjunto\n"
          ],
          "name": "stdout"
        }
      ]
    },
    {
      "cell_type": "markdown",
      "metadata": {
        "id": "TWwW3uTYX8om",
        "colab_type": "text"
      },
      "source": [
        "Al momento, se puede observar una proporción igual en la partición fel par de variables para ambas categorías. \n",
        "\n",
        "**Planteamiento: ¿Cuáles son los patrones que hay dentro de cada categoría?**\n",
        "\n",
        "Considerando la naturaleza discreta de los datos, procederemos a realizar un análisis gráfico para observar la proporción relativa (en %) de cada valor único por cada categoría. "
      ]
    },
    {
      "cell_type": "code",
      "metadata": {
        "id": "hok4g9QAqdOX",
        "colab_type": "code",
        "outputId": "57866828-ee80-419f-8ff1-007c1708c528",
        "colab": {
          "base_uri": "https://localhost:8080/",
          "height": 584
        }
      },
      "source": [
        "# Creamos un objeto de subplots y establecemos la estructura\n",
        "\n",
        "fig = plt.figure(figsize=(20,10))\n",
        "\n",
        "fig.add_subplot(221)\n",
        "sibsp_m = (100 * x0.value_counts() / len(x0))\n",
        "ax = sibsp_m.plot.bar(color = '#ADAB2A')\n",
        "spines_off = ['left', 'top', 'right']\n",
        "for s in spines_off:\n",
        "  ax.spines[s].set_visible(False)\n",
        "ax.set_title('No supervivientes', **title)\n",
        "ax.set_ylabel('Frecuencia relativa, %', **labels)\n",
        "ax.set_xlabel('No. parientes del pasajero', **labels)\n",
        "ax.set_ylim(0, 100)\n",
        "\n",
        "fig.add_subplot(222)\n",
        "sibsp_v = (100 * x1.value_counts() / len(x1))\n",
        "ax = sibsp_v.plot(kind = 'bar', color ='#E0DE36')\n",
        "spines_off = ['left', 'top', 'right']\n",
        "for s in spines_off:\n",
        "  ax.spines[s].set_visible(False)\n",
        "ax.set_title('Supervivientes', **title)\n",
        "ax.set_ylabel('Frecuencia relativa, %', **labels)\n",
        "ax.set_xlabel('No. de parientes del pasajero', **labels)\n",
        "ax.set_ylim(0, 100)\n",
        "\n",
        "fig.add_subplot(223)\n",
        "parch_m = (100 * y0.value_counts() / len(y0))\n",
        "ax = parch_m.plot.bar(color = '#ADAB2A') \n",
        "spines_off = ['left', 'top', 'right']\n",
        "for s in spines_off:\n",
        "  ax.spines[s].set_visible(False)\n",
        "ax.set_ylabel('Frecuencia relativa, %', **labels)\n",
        "ax.set_xlabel('No. de padres e hijos del pasajero', **labels)\n",
        "ax.set_ylim(0, 100)\n",
        "\n",
        "fig.add_subplot(224)\n",
        "parch_v = (100 * y1.value_counts() / len(y1))\n",
        "ax = parch_v.plot(kind = 'bar', color ='#E0DE36')\n",
        "spines_off = ['left', 'top', 'right']\n",
        "for s in spines_off:\n",
        "  ax.spines[s].set_visible(False)\n",
        "ax.set_ylabel('Frecuencia relativa, %', **labels)\n",
        "ax.set_xlabel('No. de padres e hijos del pasajero', **labels)\n",
        "ax.set_ylim(0, 100)\n",
        "\n",
        "plt.show()"
      ],
      "execution_count": 673,
      "outputs": [
        {
          "output_type": "display_data",
          "data": {
            "image/png": "[encoded data removed]",
            "text/plain": [
              "<Figure size 1440x720 with 4 Axes>"
            ]
          },
          "metadata": {
            "tags": [],
            "needs_background": "light"
          }
        }
      ]
    },
    {
      "cell_type": "markdown",
      "metadata": {
        "id": "0hotszIHUd4r",
        "colab_type": "text"
      },
      "source": [
        "Se observa una proporción muy alta de valores 0 sobre el par de variables, y para ambas categorías. \n",
        "\n",
        "**Planteamiento: ¿Habían más solteros que pasajeros con familia en Titanic?**\n",
        "\n",
        "Crearemos una nueva característica sobre el conjunto de datos que represente el número de familiares o familia del pasajero y observaremos el comportamiento de la variable"
      ]
    },
    {
      "cell_type": "code",
      "metadata": {
        "id": "5mS09Tr6kl6x",
        "colab_type": "code",
        "colab": {}
      },
      "source": [
        "df.loc[pd.notnull(df['SibSp']), 'Family'] = df['SibSp'] + df['Parch']"
      ],
      "execution_count": 0,
      "outputs": []
    },
    {
      "cell_type": "code",
      "metadata": {
        "id": "I4ftPUuUlMgw",
        "colab_type": "code",
        "colab": {
          "base_uri": "https://localhost:8080/",
          "height": 405
        },
        "outputId": "5d183cb2-9ae1-429e-9178-0aa832943e4b"
      },
      "source": [
        "fam = df.Family.value_counts()\n",
        "fam = 100 * fam / len(df)\n",
        "ax = fam.plot.bar(figsize=(12, 6), color ='#E0DE36')\n",
        "spines_off = ['left', 'top', 'right']\n",
        "for s in spines_off:\n",
        "  ax.spines[s].set_visible(False)\n",
        "ax.set_title('Familia', **title)\n",
        "ax.set_ylabel('%', **labels)\n",
        "ax.set_xlabel('No. de familiares del pasajero', **labels)\n",
        "plt.show()"
      ],
      "execution_count": 675,
      "outputs": [
        {
          "output_type": "display_data",
          "data": {
            "image/png": "[encoded data removed]",
            "text/plain": [
              "<Figure size 864x432 with 1 Axes>"
            ]
          },
          "metadata": {
            "tags": [],
            "needs_background": "light"
          }
        }
      ]
    },
    {
      "cell_type": "markdown",
      "metadata": {
        "id": "f4MC8IOkrqnp",
        "colab_type": "text"
      },
      "source": [
        "Efectivamente, la proporción de pasajeros \"*solteros*\" o sin parientes era mucho mayor que aquella que tenía algún familiar a bordo, decrementando dicha proporción mientras mayor era el número de familiares."
      ]
    },
    {
      "cell_type": "markdown",
      "metadata": {
        "id": "k-cGVceHk_6N",
        "colab_type": "text"
      },
      "source": [
        "# **Tratamiento de valores nulos**"
      ]
    },
    {
      "cell_type": "markdown",
      "metadata": {
        "id": "1J_IUapMOMtf",
        "colab_type": "text"
      },
      "source": [
        "Se parte con un conjunto de datos $N$ con $n: 1727$ observaciones y $p: 12$ características. \n",
        "Con el método `isnull` observaremos cuáles son las características con valores faltantes o nulos."
      ]
    },
    {
      "cell_type": "code",
      "metadata": {
        "id": "GN--mGC0GEH9",
        "colab_type": "code",
        "colab": {
          "base_uri": "https://localhost:8080/",
          "height": 259
        },
        "outputId": "0c26a894-35c0-4b50-ff19-ce57dd358f84"
      },
      "source": [
        "df.isnull().sum()"
      ],
      "execution_count": 676,
      "outputs": [
        {
          "output_type": "execute_result",
          "data": {
            "text/plain": [
              "PassengerId       0\n",
              "Survived          0\n",
              "Pclass            0\n",
              "Name              0\n",
              "Sex               0\n",
              "Age             263\n",
              "SibSp             0\n",
              "Parch             0\n",
              "Ticket            0\n",
              "Fare              1\n",
              "Cabin          1014\n",
              "Embarked          2\n",
              "Family            0\n",
              "dtype: int64"
            ]
          },
          "metadata": {
            "tags": []
          },
          "execution_count": 676
        }
      ]
    },
    {
      "cell_type": "markdown",
      "metadata": {
        "id": "IkmZ5hKvGJ55",
        "colab_type": "text"
      },
      "source": [
        "Se observa que la proporción de nulos en los conjuntos de entrenamiento y testeo, así como sus subconjuntos $H$ y $M$, respectivamente, satisfacen la siguiente inecuación: \n",
        "\n",
        "$Cabin > Age > Embarked > Fare $ \n"
      ]
    },
    {
      "cell_type": "markdown",
      "metadata": {
        "id": "Rjj8piumgC7E",
        "colab_type": "text"
      },
      "source": [
        "**Visualización**\n",
        "\n",
        "Para ver la distribución de los valores nulos sobre la población de estudio, utilizaremos una gráfica de barras verticales, y observaremos como se comporta la proporción en función del género. "
      ]
    },
    {
      "cell_type": "code",
      "metadata": {
        "id": "0hYFwrxDAy3R",
        "colab_type": "code",
        "colab": {}
      },
      "source": [
        "def barh(data, query, size):\n",
        "  \"\"\"\"\n",
        "  Función que permite graficar barras verticales y comparar entre la población en función del género.\n",
        "  Esta gráfica está pensada solo para comparar en función del género (variable de segregación) y requiere que esta variable\n",
        "  se haya codificado como 0: hombre, 1: mujer.  \n",
        "  \"\"\"\n",
        "\n",
        "  segregation = 'Sex'\n",
        "\n",
        "  fig = plt.figure(figsize=size)\n",
        "\n",
        "  fig.add_subplot('311')\n",
        "\n",
        "  g = 100 * data[query].isnull().sum() / len(data)\n",
        "  # Se calcula los valores nulos como proporción relativa\n",
        "  # y se crea el gráfico utilizando la funcionalidad de pandas\n",
        "  ax = g.plot.barh(**{'cmap': cmo.thermal})\n",
        "  # Se almacena el índice del gráfico actual y se configuran algunos de sus parámetros \n",
        "  ax.set_title('% valores nulos en población total', loc='left', **title)\n",
        "  ax.tick_params(axis='x', which='both', bottom=False, labelbottom=False)\n",
        "  ax.set_yticklabels([query[0], query[1]])\n",
        "  ax.set_xlim(0, 100)\n",
        "  # Bucle para deshabilitar los spines del gráfico\n",
        "  spines_off = ['top', 'bottom', 'right']\n",
        "  for s in spines_off:\n",
        "    ax.spines[s].set_visible(False)\n",
        "  # Bucle para añadir la etiqueta alado de la barra\n",
        "  for k, p in enumerate(g):\n",
        "    ax.text(p + 1, k, '{}%'.format(int(p)), color= '#8C8C8C', **labels)\n",
        "  # Bucle para graficar los subplots, se sigue el mismo procedimiento\n",
        "  for ix, value in enumerate(data[segregation].unique()):\n",
        "\n",
        "    fig.add_subplot('31' + str(ix+2))\n",
        "\n",
        "    g = 100 * data.loc[data[segregation] == value, query].isnull().sum() / len(data)\n",
        "    ax = g.plot.barh(**{'cmap': cmo.thermal})\n",
        "    gender = {'male': 'hombres', 'female': 'mujeres'}\n",
        "    #gender = {0: 'hombres', 1: 'mujeres'}\n",
        "    ax.set_title('% valores nulos en población de {}'.format(gender[value]), loc='left', **title)\n",
        "    ax.set_xlim(0, 100)\n",
        "    ax.tick_params(axis='x', which='both', bottom=False, labelbottom=False)\n",
        "    ax.set_yticklabels([query[0], query[1]])\n",
        "\n",
        "    spines_off = ['top', 'bottom', 'right']\n",
        "    for s in spines_off:\n",
        "      ax.spines[s].set_visible(False)\n",
        "  \n",
        "    for k, p in enumerate(g):\n",
        "      ax.text(p + 1, k, '{}%'.format(int(p)), color= '#8C8C8C', **labels)\n",
        "  \n",
        "  plt.show()"
      ],
      "execution_count": 0,
      "outputs": []
    },
    {
      "cell_type": "code",
      "metadata": {
        "id": "AOIti65sAH_D",
        "colab_type": "code",
        "colab": {
          "base_uri": "https://localhost:8080/",
          "height": 977
        },
        "outputId": "bcbfa98d-54cc-40e4-a969-13e2397b5a90"
      },
      "source": [
        "print('Conjunto de entrenamiento')\n",
        "barh(df, query=['Age', 'Cabin'], size=(12, 8))\n",
        "print('Conjunto de testeo')\n",
        "barh(df2, query=['Age', 'Cabin'], size=(12, 8))"
      ],
      "execution_count": 678,
      "outputs": [
        {
          "output_type": "stream",
          "text": [
            "Conjunto de entrenamiento\n"
          ],
          "name": "stdout"
        },
        {
          "output_type": "display_data",
          "data": {
            "image/png": "[encoded data removed]",
            "text/plain": [
              "<Figure size 864x576 with 3 Axes>"
            ]
          },
          "metadata": {
            "tags": [],
            "needs_background": "light"
          }
        },
        {
          "output_type": "stream",
          "text": [
            "Conjunto de testeo\n"
          ],
          "name": "stdout"
        },
        {
          "output_type": "display_data",
          "data": {
            "image/png": "[encoded data removed]",
            "text/plain": [
              "<Figure size 864x576 with 3 Axes>"
            ]
          },
          "metadata": {
            "tags": [],
            "needs_background": "light"
          }
        }
      ]
    },
    {
      "cell_type": "markdown",
      "metadata": {
        "id": "gvUWezV3F1bS",
        "colab_type": "text"
      },
      "source": [
        "Se observa que la proporción de nulos en los conjuntos de entrenamiento y testeo, así como sus subconjuntos $H$ y $M$, respectivamente, satisfacen la siguiente inecuación: \n",
        "\n",
        "$Cabin > Age $\n",
        "\n",
        "Es decir, hay un número mayor de observaciones nulas en la variable `Cabin` que en `Age`."
      ]
    },
    {
      "cell_type": "markdown",
      "metadata": {
        "id": "Ok68sZuB9N69",
        "colab_type": "text"
      },
      "source": [
        "## **Una retrospectiva sobre Cabin**"
      ]
    },
    {
      "cell_type": "markdown",
      "metadata": {
        "id": "RyY8g67X-XLT",
        "colab_type": "text"
      },
      "source": [
        "**¿Como se distribuían las cabinas en el Titanic?**\n",
        "\n",
        "![Plano Transversal del Titanic](https://upload.wikimedia.org/wikipedia/commons/8/84/Titanic_cutaway_diagram.png)\n",
        "\n",
        "En esta gráfica de vista transversal, se puede observar de forma clara la distribución de los compartimentos del Titanic. La leyenda, muestra 7  categorías que distribuidas desde arriba hacia abajo.\n",
        "\n"
      ]
    },
    {
      "cell_type": "markdown",
      "metadata": {
        "id": "oeGoYE9rrVVM",
        "colab_type": "text"
      },
      "source": [
        "**¿Cuáles son las categorías presentes en nuestro conjunto de datos?**\n",
        "\n",
        "Antes de solventar esta pregunta, vamos a extraer una muestra aleatoria de la variable `Cabin` para conocer más sobre la misma. "
      ]
    },
    {
      "cell_type": "code",
      "metadata": {
        "id": "Qt_u1KKyrywK",
        "colab_type": "code",
        "colab": {
          "base_uri": "https://localhost:8080/",
          "height": 380
        },
        "outputId": "176fd959-7f3f-4d24-ed6f-39b9bd4d7bc2"
      },
      "source": [
        "df.Cabin.sample(20)"
      ],
      "execution_count": 679,
      "outputs": [
        {
          "output_type": "execute_result",
          "data": {
            "text/plain": [
              "35                  NaN\n",
              "291                 B49\n",
              "1205                C32\n",
              "860                 NaN\n",
              "1023                NaN\n",
              "1269                C39\n",
              "1051                NaN\n",
              "915     B57 B59 B63 B66\n",
              "965                C130\n",
              "818                 NaN\n",
              "873                 NaN\n",
              "995                 NaN\n",
              "1010                NaN\n",
              "1143                C89\n",
              "711                C124\n",
              "804                 NaN\n",
              "897                 NaN\n",
              "218                 D15\n",
              "692                 NaN\n",
              "761                 NaN\n",
              "Name: Cabin, dtype: object"
            ]
          },
          "metadata": {
            "tags": []
          },
          "execution_count": 679
        }
      ]
    },
    {
      "cell_type": "markdown",
      "metadata": {
        "id": "m_Z6z5R9p0Kq",
        "colab_type": "text"
      },
      "source": [
        "`Cabin`, muestra naturaleza categórica nominal, y se compone de una letra y un número asociado, posiblemente indicando la sección en la que se encuentra el compartimento ocupado por el pasajero. \n",
        "Vale entonces preguntar: ¿Cuántos compartimentos puede tener un pasajero?"
      ]
    },
    {
      "cell_type": "code",
      "metadata": {
        "id": "wKXrrVUr4E-h",
        "colab_type": "code",
        "colab": {
          "base_uri": "https://localhost:8080/",
          "height": 34
        },
        "outputId": "97be6f57-4454-4fd3-ea08-2c22596dd016"
      },
      "source": [
        "col = []\n",
        "for ix, value in df.Cabin.items():\n",
        "  try:\n",
        "    m = re.findall('[A-Z]', value)\n",
        "    col.append(len(m))\n",
        "  except:\n",
        "    pass\n",
        "\n",
        "max(col)"
      ],
      "execution_count": 680,
      "outputs": [
        {
          "output_type": "execute_result",
          "data": {
            "text/plain": [
              "4"
            ]
          },
          "metadata": {
            "tags": []
          },
          "execution_count": 680
        }
      ]
    },
    {
      "cell_type": "markdown",
      "metadata": {
        "id": "U35t-nTQCki4",
        "colab_type": "text"
      },
      "source": [
        "Según el resultado obtenido, el número máximo de compartimentos asociados a un solo pasajero es 4, no obstante esto solo permite conocer el $n$ compartimentos ocupados sin distinguir si estos se encuentran en la misma sección o no. También, debemos saber cómo se distribuyen los compartimentos en función del estrato socieconómico. Para esto, se requiere separar la letra de cada valor y llamaremos a la nueva variable: `Deck`."
      ]
    },
    {
      "cell_type": "code",
      "metadata": {
        "id": "svWP5IQ0Qpli",
        "colab_type": "code",
        "colab": {
          "base_uri": "https://localhost:8080/",
          "height": 285
        },
        "outputId": "ac9a5952-9927-4770-a6de-433721ed58ff"
      },
      "source": [
        "df.loc[pd.notnull(df['Cabin']), 'Deck'] = df['Cabin'].str[0]\n",
        "df.sample(5)"
      ],
      "execution_count": 681,
      "outputs": [
        {
          "output_type": "execute_result",
          "data": {
            "text/html": [
              "<div>\n",
              "<style scoped>\n",
              "    .dataframe tbody tr th:only-of-type {\n",
              "        vertical-align: middle;\n",
              "    }\n",
              "\n",
              "    .dataframe tbody tr th {\n",
              "        vertical-align: top;\n",
              "    }\n",
              "\n",
              "    .dataframe thead th {\n",
              "        text-align: right;\n",
              "    }\n",
              "</style>\n",
              "<table border=\"1\" class=\"dataframe\">\n",
              "  <thead>\n",
              "    <tr style=\"text-align: right;\">\n",
              "      <th></th>\n",
              "      <th>PassengerId</th>\n",
              "      <th>Survived</th>\n",
              "      <th>Pclass</th>\n",
              "      <th>Name</th>\n",
              "      <th>Sex</th>\n",
              "      <th>Age</th>\n",
              "      <th>SibSp</th>\n",
              "      <th>Parch</th>\n",
              "      <th>Ticket</th>\n",
              "      <th>Fare</th>\n",
              "      <th>Cabin</th>\n",
              "      <th>Embarked</th>\n",
              "      <th>Family</th>\n",
              "      <th>Deck</th>\n",
              "    </tr>\n",
              "  </thead>\n",
              "  <tbody>\n",
              "    <tr>\n",
              "      <th>742</th>\n",
              "      <td>743</td>\n",
              "      <td>1</td>\n",
              "      <td>1</td>\n",
              "      <td>Ryerson, Miss. Susan Parker \"Suzette\"</td>\n",
              "      <td>female</td>\n",
              "      <td>21.0</td>\n",
              "      <td>2</td>\n",
              "      <td>2</td>\n",
              "      <td>PC 17608</td>\n",
              "      <td>262.3750</td>\n",
              "      <td>B57 B59 B63 B66</td>\n",
              "      <td>C</td>\n",
              "      <td>4</td>\n",
              "      <td>B</td>\n",
              "    </tr>\n",
              "    <tr>\n",
              "      <th>752</th>\n",
              "      <td>753</td>\n",
              "      <td>0</td>\n",
              "      <td>3</td>\n",
              "      <td>Vande Velde, Mr. Johannes Joseph</td>\n",
              "      <td>male</td>\n",
              "      <td>33.0</td>\n",
              "      <td>0</td>\n",
              "      <td>0</td>\n",
              "      <td>345780</td>\n",
              "      <td>9.5000</td>\n",
              "      <td>NaN</td>\n",
              "      <td>S</td>\n",
              "      <td>0</td>\n",
              "      <td>NaN</td>\n",
              "    </tr>\n",
              "    <tr>\n",
              "      <th>1274</th>\n",
              "      <td>1275</td>\n",
              "      <td>1</td>\n",
              "      <td>3</td>\n",
              "      <td>McNamee, Mrs. Neal (Eileen O'Leary)</td>\n",
              "      <td>female</td>\n",
              "      <td>19.0</td>\n",
              "      <td>1</td>\n",
              "      <td>0</td>\n",
              "      <td>376566</td>\n",
              "      <td>16.1000</td>\n",
              "      <td>NaN</td>\n",
              "      <td>S</td>\n",
              "      <td>1</td>\n",
              "      <td>NaN</td>\n",
              "    </tr>\n",
              "    <tr>\n",
              "      <th>375</th>\n",
              "      <td>376</td>\n",
              "      <td>1</td>\n",
              "      <td>1</td>\n",
              "      <td>Meyer, Mrs. Edgar Joseph (Leila Saks)</td>\n",
              "      <td>female</td>\n",
              "      <td>NaN</td>\n",
              "      <td>1</td>\n",
              "      <td>0</td>\n",
              "      <td>PC 17604</td>\n",
              "      <td>82.1708</td>\n",
              "      <td>NaN</td>\n",
              "      <td>C</td>\n",
              "      <td>1</td>\n",
              "      <td>NaN</td>\n",
              "    </tr>\n",
              "    <tr>\n",
              "      <th>323</th>\n",
              "      <td>324</td>\n",
              "      <td>1</td>\n",
              "      <td>2</td>\n",
              "      <td>Caldwell, Mrs. Albert Francis (Sylvia Mae Harb...</td>\n",
              "      <td>female</td>\n",
              "      <td>22.0</td>\n",
              "      <td>1</td>\n",
              "      <td>1</td>\n",
              "      <td>248738</td>\n",
              "      <td>29.0000</td>\n",
              "      <td>NaN</td>\n",
              "      <td>S</td>\n",
              "      <td>2</td>\n",
              "      <td>NaN</td>\n",
              "    </tr>\n",
              "  </tbody>\n",
              "</table>\n",
              "</div>"
            ],
            "text/plain": [
              "      PassengerId  Survived  Pclass  ... Embarked Family  Deck\n",
              "742           743         1       1  ...        C      4     B\n",
              "752           753         0       3  ...        S      0   NaN\n",
              "1274         1275         1       3  ...        S      1   NaN\n",
              "375           376         1       1  ...        C      1   NaN\n",
              "323           324         1       2  ...        S      2   NaN\n",
              "\n",
              "[5 rows x 14 columns]"
            ]
          },
          "metadata": {
            "tags": []
          },
          "execution_count": 681
        }
      ]
    },
    {
      "cell_type": "markdown",
      "metadata": {
        "id": "FkQhDVeDP0SB",
        "colab_type": "text"
      },
      "source": [
        "Luego de haber realizado la operación, visualizaremos a través de una gráfica de barras verticales dicha distribución antes cuestionada. "
      ]
    },
    {
      "cell_type": "code",
      "metadata": {
        "id": "aNrJXl9maC4s",
        "colab_type": "code",
        "colab": {
          "base_uri": "https://localhost:8080/",
          "height": 386
        },
        "outputId": "a6514ac2-2b8f-42f8-d73f-95a773a81ab8"
      },
      "source": [
        "pclass = df.groupby(['Deck', 'Pclass']).count().unstack().PassengerId \n",
        "pclass = pclass / pclass.sum().sum() * 100\n",
        "ax  = pclass.plot.bar(stacked=True, figsize=(12, 6), width=0.75, **{'cmap': cmo.thermal})\n",
        "spines_off = ['left', 'top', 'right']\n",
        "for s in spines_off:\n",
        "  ax.spines[s].set_visible(False)"
      ],
      "execution_count": 682,
      "outputs": [
        {
          "output_type": "display_data",
          "data": {
            "image/png": "[encoded data removed]",
            "text/plain": [
              "<Figure size 864x432 with 1 Axes>"
            ]
          },
          "metadata": {
            "tags": [],
            "needs_background": "light"
          }
        }
      ]
    },
    {
      "cell_type": "code",
      "metadata": {
        "id": "KmOaAqGZQXc8",
        "colab_type": "code",
        "colab": {
          "base_uri": "https://localhost:8080/",
          "height": 168
        },
        "outputId": "1e2cd2ba-4080-44af-a4e7-a2befd66ad33"
      },
      "source": [
        "pclass.T"
      ],
      "execution_count": 683,
      "outputs": [
        {
          "output_type": "execute_result",
          "data": {
            "text/html": [
              "<div>\n",
              "<style scoped>\n",
              "    .dataframe tbody tr th:only-of-type {\n",
              "        vertical-align: middle;\n",
              "    }\n",
              "\n",
              "    .dataframe tbody tr th {\n",
              "        vertical-align: top;\n",
              "    }\n",
              "\n",
              "    .dataframe thead th {\n",
              "        text-align: right;\n",
              "    }\n",
              "</style>\n",
              "<table border=\"1\" class=\"dataframe\">\n",
              "  <thead>\n",
              "    <tr style=\"text-align: right;\">\n",
              "      <th>Deck</th>\n",
              "      <th>A</th>\n",
              "      <th>B</th>\n",
              "      <th>C</th>\n",
              "      <th>D</th>\n",
              "      <th>E</th>\n",
              "      <th>F</th>\n",
              "      <th>G</th>\n",
              "      <th>T</th>\n",
              "    </tr>\n",
              "    <tr>\n",
              "      <th>Pclass</th>\n",
              "      <th></th>\n",
              "      <th></th>\n",
              "      <th></th>\n",
              "      <th></th>\n",
              "      <th></th>\n",
              "      <th></th>\n",
              "      <th></th>\n",
              "      <th></th>\n",
              "    </tr>\n",
              "  </thead>\n",
              "  <tbody>\n",
              "    <tr>\n",
              "      <th>1</th>\n",
              "      <td>7.457627</td>\n",
              "      <td>22.033898</td>\n",
              "      <td>31.864407</td>\n",
              "      <td>13.559322</td>\n",
              "      <td>11.525424</td>\n",
              "      <td>NaN</td>\n",
              "      <td>NaN</td>\n",
              "      <td>0.338983</td>\n",
              "    </tr>\n",
              "    <tr>\n",
              "      <th>2</th>\n",
              "      <td>NaN</td>\n",
              "      <td>NaN</td>\n",
              "      <td>NaN</td>\n",
              "      <td>2.033898</td>\n",
              "      <td>1.355932</td>\n",
              "      <td>4.406780</td>\n",
              "      <td>NaN</td>\n",
              "      <td>NaN</td>\n",
              "    </tr>\n",
              "    <tr>\n",
              "      <th>3</th>\n",
              "      <td>NaN</td>\n",
              "      <td>NaN</td>\n",
              "      <td>NaN</td>\n",
              "      <td>NaN</td>\n",
              "      <td>1.016949</td>\n",
              "      <td>2.711864</td>\n",
              "      <td>1.694915</td>\n",
              "      <td>NaN</td>\n",
              "    </tr>\n",
              "  </tbody>\n",
              "</table>\n",
              "</div>"
            ],
            "text/plain": [
              "Deck           A          B          C  ...         F         G         T\n",
              "Pclass                                  ...                              \n",
              "1       7.457627  22.033898  31.864407  ...       NaN       NaN  0.338983\n",
              "2            NaN        NaN        NaN  ...  4.406780       NaN       NaN\n",
              "3            NaN        NaN        NaN  ...  2.711864  1.694915       NaN\n",
              "\n",
              "[3 rows x 8 columns]"
            ]
          },
          "metadata": {
            "tags": []
          },
          "execution_count": 683
        }
      ]
    },
    {
      "cell_type": "markdown",
      "metadata": {
        "id": "6cjKIiZCgX1B",
        "colab_type": "text"
      },
      "source": [
        "La gráfica muestra una clara distribución de los pasajeros de primera clase, y según lo obtenido, estos ocuparon alrededor del 87% de cuartos disponibles, y se distribuyeron en las cabinas **A**, **B** y **C**. Solo en la **E**, se encontramos los tres estratos. Por otro lado, los pasajeros de segunda y tercera clase, que ocuparon el 13% restante de habitaciones, se distribuyeron en las cabinas como sigue: **D**, **E**, **F** y **G**. Por último, hay una última categoría **T**, y representa apenas el 0.3%. ¿Quiénes han ocupado esta cabina? \n"
      ]
    },
    {
      "cell_type": "code",
      "metadata": {
        "id": "7PAu2AGdRYcq",
        "colab_type": "code",
        "colab": {
          "base_uri": "https://localhost:8080/",
          "height": 78
        },
        "outputId": "bf781263-bc09-4a3b-b8b4-1b8e5bc0edce"
      },
      "source": [
        "df.loc[df.Deck == 'T']"
      ],
      "execution_count": 684,
      "outputs": [
        {
          "output_type": "execute_result",
          "data": {
            "text/html": [
              "<div>\n",
              "<style scoped>\n",
              "    .dataframe tbody tr th:only-of-type {\n",
              "        vertical-align: middle;\n",
              "    }\n",
              "\n",
              "    .dataframe tbody tr th {\n",
              "        vertical-align: top;\n",
              "    }\n",
              "\n",
              "    .dataframe thead th {\n",
              "        text-align: right;\n",
              "    }\n",
              "</style>\n",
              "<table border=\"1\" class=\"dataframe\">\n",
              "  <thead>\n",
              "    <tr style=\"text-align: right;\">\n",
              "      <th></th>\n",
              "      <th>PassengerId</th>\n",
              "      <th>Survived</th>\n",
              "      <th>Pclass</th>\n",
              "      <th>Name</th>\n",
              "      <th>Sex</th>\n",
              "      <th>Age</th>\n",
              "      <th>SibSp</th>\n",
              "      <th>Parch</th>\n",
              "      <th>Ticket</th>\n",
              "      <th>Fare</th>\n",
              "      <th>Cabin</th>\n",
              "      <th>Embarked</th>\n",
              "      <th>Family</th>\n",
              "      <th>Deck</th>\n",
              "    </tr>\n",
              "  </thead>\n",
              "  <tbody>\n",
              "    <tr>\n",
              "      <th>339</th>\n",
              "      <td>340</td>\n",
              "      <td>0</td>\n",
              "      <td>1</td>\n",
              "      <td>Blackwell, Mr. Stephen Weart</td>\n",
              "      <td>male</td>\n",
              "      <td>45.0</td>\n",
              "      <td>0</td>\n",
              "      <td>0</td>\n",
              "      <td>113784</td>\n",
              "      <td>35.5</td>\n",
              "      <td>T</td>\n",
              "      <td>S</td>\n",
              "      <td>0</td>\n",
              "      <td>T</td>\n",
              "    </tr>\n",
              "  </tbody>\n",
              "</table>\n",
              "</div>"
            ],
            "text/plain": [
              "     PassengerId  Survived  Pclass  ... Embarked Family  Deck\n",
              "339          340         0       1  ...        S      0     T\n",
              "\n",
              "[1 rows x 14 columns]"
            ]
          },
          "metadata": {
            "tags": []
          },
          "execution_count": 684
        }
      ]
    },
    {
      "cell_type": "markdown",
      "metadata": {
        "id": "ha-cRxcqRgKB",
        "colab_type": "text"
      },
      "source": [
        "Al parecer, es una única persona y su nombre es *Stephen Weart Blackwell*, de 45 años, partió desde Southampton y abordó la primera clase con una tarifa de $35.5. A continuación, observemos cuál es la tarifa promedio de la primera clase. "
      ]
    },
    {
      "cell_type": "code",
      "metadata": {
        "id": "-5hbC6M9SBZ9",
        "colab_type": "code",
        "colab": {
          "base_uri": "https://localhost:8080/",
          "height": 69
        },
        "outputId": "5a04226d-acff-46cf-f0e0-91cf00f8bbb9"
      },
      "source": [
        "print('Tarifa mediana: {}'.format(df.loc[df.Pclass == 1, 'Fare'].median()))\n",
        "print('Tarifa promedio: {}'.format(df.loc[df.Pclass == 1, 'Fare'].mean()))\n",
        "print('Moda de la tarifa: {}'.format(df.loc[df.Pclass == 1, 'Fare'].mode()[0]))"
      ],
      "execution_count": 685,
      "outputs": [
        {
          "output_type": "stream",
          "text": [
            "Tarifa mediana: 60.0\n",
            "Tarifa promedio: 87.5089916408668\n",
            "Moda de la tarifa: 26.55\n"
          ],
          "name": "stdout"
        }
      ]
    },
    {
      "cell_type": "markdown",
      "metadata": {
        "id": "UkwJXsQsTMDH",
        "colab_type": "text"
      },
      "source": [
        "Cabe notar que su tarifa estaba por debajo de la media, ¿Quién era él? Por último, observaremos la distribución de las cabinas en función del género y supervivencia: ¿Existirá alguna relación? "
      ]
    },
    {
      "cell_type": "code",
      "metadata": {
        "id": "FuRm_UqkcMdU",
        "colab_type": "code",
        "colab": {
          "base_uri": "https://localhost:8080/",
          "height": 386
        },
        "outputId": "188234f1-64d0-4a59-eca7-d58472f85123"
      },
      "source": [
        "ax = df.groupby(['Deck', 'Sex']).count().unstack().PassengerId.plot.bar(stacked=True, figsize=(12, 6), width=0.75, **{'cmap': cmo.thermal})\n",
        "spines_off = ['left', 'top', 'right']\n",
        "for s in spines_off:\n",
        "  ax.spines[s].set_visible(False)"
      ],
      "execution_count": 686,
      "outputs": [
        {
          "output_type": "display_data",
          "data": {
            "image/png": "[encoded data removed]",
            "text/plain": [
              "<Figure size 864x432 with 1 Axes>"
            ]
          },
          "metadata": {
            "tags": [],
            "needs_background": "light"
          }
        }
      ]
    },
    {
      "cell_type": "code",
      "metadata": {
        "id": "jezpvOAwcu7i",
        "colab_type": "code",
        "colab": {
          "base_uri": "https://localhost:8080/",
          "height": 386
        },
        "outputId": "8e490d20-747f-4a78-dfac-9a15912f3af1"
      },
      "source": [
        "ax = df.groupby(['Deck', 'Survived']).count().unstack().PassengerId.plot.bar(stacked=True, figsize=(12, 6), width=0.75, **{'cmap': cmo.thermal})\n",
        "spines_off = ['left', 'top', 'right']\n",
        "for s in spines_off:\n",
        "  ax.spines[s].set_visible(False)"
      ],
      "execution_count": 687,
      "outputs": [
        {
          "output_type": "display_data",
          "data": {
            "image/png": "[encoded data removed]",
            "text/plain": [
              "<Figure size 864x432 with 1 Axes>"
            ]
          },
          "metadata": {
            "tags": [],
            "needs_background": "light"
          }
        }
      ]
    },
    {
      "cell_type": "markdown",
      "metadata": {
        "id": "6Ik2yUq_Tz16",
        "colab_type": "text"
      },
      "source": [
        "Sin más, se puede observar un patrón entre la forma en cómo las mujeres se distribuyeron a lo largo de los distintos compartimentos y su garantía de sobrevivir, al parecer podría jugar un rol en la supervivencia pero no podemos asumir sin antes comprobarlo estadísticamente. "
      ]
    },
    {
      "cell_type": "markdown",
      "metadata": {
        "id": "dALLTBx50soP",
        "colab_type": "text"
      },
      "source": [
        "# **Creación de variables derivadas**\n",
        "\n",
        "En este apartado, dedicaremos esfuerzos a derivar variables que aporten explicabilidad al contexto del problema."
      ]
    },
    {
      "cell_type": "markdown",
      "metadata": {
        "id": "csbPKFIg1I27",
        "colab_type": "text"
      },
      "source": [
        "**Variable derivada del abreviado del género o título**\n",
        "\n",
        "Aunque el nombre tenga naturaleza nominal y no sea operable, en ciertas ocasiones puede aportar información a través de los abreviados de género o título, básicamente estos son los términos en segunda persona que reemplazan al sustantivo y aportan información del tipo de género, edad, status o nivel de educación."
      ]
    },
    {
      "cell_type": "code",
      "metadata": {
        "id": "Axsel36e1Hdp",
        "colab_type": "code",
        "colab": {
          "base_uri": "https://localhost:8080/",
          "height": 294
        },
        "outputId": "ba470653-c651-4460-f85b-4787aaab640e"
      },
      "source": [
        "df[\"Title\"] = df.Name.str.replace('(.*, )|(\\\\..*)', '')\n",
        "df['Title'] = df['Title'].replace({'Ms':'Miss','Mlle':'Miss','Mme':'Mrs'})\n",
        "df['Title'].value_counts()"
      ],
      "execution_count": 688,
      "outputs": [
        {
          "output_type": "execute_result",
          "data": {
            "text/plain": [
              "Mr              757\n",
              "Miss            264\n",
              "Mrs             198\n",
              "Master           61\n",
              "Dr                8\n",
              "Rev               8\n",
              "Col               4\n",
              "Major             2\n",
              "Sir               1\n",
              "Lady              1\n",
              "the Countess      1\n",
              "Capt              1\n",
              "Don               1\n",
              "Dona              1\n",
              "Jonkheer          1\n",
              "Name: Title, dtype: int64"
            ]
          },
          "metadata": {
            "tags": []
          },
          "execution_count": 688
        }
      ]
    },
    {
      "cell_type": "markdown",
      "metadata": {
        "id": "flg70ScpXSe1",
        "colab_type": "text"
      },
      "source": [
        "Observamos que existen pocos valores en clases distintas, por tanto procedemos a agruparlos, pero antes daremos una visualización de correlación a nuestro conjunto de datos. "
      ]
    },
    {
      "cell_type": "markdown",
      "metadata": {
        "id": "cCDjkhmQ0Foh",
        "colab_type": "text"
      },
      "source": [
        "## **Usando Phik para obtener una matriz de correlación de variables mixtas**"
      ]
    },
    {
      "cell_type": "markdown",
      "metadata": {
        "id": "C5UA_2ffPSHn",
        "colab_type": "text"
      },
      "source": [
        "A menudo los análisis de correlación requerieren de un entendimiento exhaustivo de cada par de variable, con el fin de poder seleccionar la métrica de tamaño de efecto adecuada. Por ejemplo:\n",
        "\n",
        "* Cuando el par de variables es de naturaleza continuo-continuo: Pearson's R.\n",
        "* Cuando el par de variables es de naturaleza continuo-categórico: Correlation Ratio.\n",
        "* Cuando el par de variables es de naturaleza categórico-categóric: Cramer's V or Theil's U.\n",
        "\n",
        "Para abordar esta problemática, considerando la mixtura de tipos de variables presentes en el conjunto de datos del Titanic, se opta por usar Phik. "
      ]
    },
    {
      "cell_type": "markdown",
      "metadata": {
        "id": "GWFZpGjoQixD",
        "colab_type": "text"
      },
      "source": [
        "**Definición de la categoría de cada variable**"
      ]
    },
    {
      "cell_type": "code",
      "metadata": {
        "id": "whniP5fJ-n3E",
        "colab_type": "code",
        "colab": {
          "base_uri": "https://localhost:8080/",
          "height": 34
        },
        "outputId": "b0807547-3c95-4ad9-8edd-ddc6718e2307"
      },
      "source": [
        "query = ['Survived', 'Pclass', 'Sex', 'Fare', 'Age', 'Family', 'Embarked', 'Deck', 'Title']\n",
        "data = df[query]\n",
        "data_types = {'Survived': 'categorical',\n",
        "             'Pclass':'ordinal',\n",
        "             'Sex':'categorical',\n",
        "             'SibSp':'interval',\n",
        "             'Parch':'interval',\n",
        "             'Fare':'interval',\n",
        "              'Age': 'interval',\n",
        "             'Embarked':'categorical',\n",
        "             'Family':'interval',\n",
        "              'Deck': 'categorical',\n",
        "              'Abv': 'categorical'}\n",
        "\n",
        "interval_cols = [col for col, v in data_types.items() if v=='interval' and col in data.columns]\n",
        "interval_cols"
      ],
      "execution_count": 689,
      "outputs": [
        {
          "output_type": "execute_result",
          "data": {
            "text/plain": [
              "['Fare', 'Age', 'Family']"
            ]
          },
          "metadata": {
            "tags": []
          },
          "execution_count": 689
        }
      ]
    },
    {
      "cell_type": "markdown",
      "metadata": {
        "id": "3qffih11Qj4b",
        "colab_type": "text"
      },
      "source": [
        "**Creación de bines para las variables de intervalo**"
      ]
    },
    {
      "cell_type": "code",
      "metadata": {
        "id": "MMgf6xwq3vba",
        "colab_type": "code",
        "colab": {
          "base_uri": "https://localhost:8080/",
          "height": 121
        },
        "outputId": "8ab74ef4-a354-4f11-c429-8158f09ef221"
      },
      "source": [
        "data_binned, binning_dict = bin_data(data, cols=interval_cols, retbins=True, bins=8)"
      ],
      "execution_count": 690,
      "outputs": [
        {
          "output_type": "stream",
          "text": [
            "/usr/local/lib/python3.6/dist-packages/phik/binning.py:68: UserWarning: Empty bin with bin-edges 320.20575 - 384.2469\n",
            "  warnings.warn('Empty bin with bin-edges {0:s} - {1:s}'.format(str(bin_edges[i-1]), str(bin_edges[i])))\n",
            "/usr/local/lib/python3.6/dist-packages/phik/binning.py:68: UserWarning: Empty bin with bin-edges 384.2469 - 448.28805\n",
            "  warnings.warn('Empty bin with bin-edges {0:s} - {1:s}'.format(str(bin_edges[i-1]), str(bin_edges[i])))\n",
            "/usr/local/lib/python3.6/dist-packages/phik/binning.py:68: UserWarning: Empty bin with bin-edges 7.499999999999998 - 8.749999999999998\n",
            "  warnings.warn('Empty bin with bin-edges {0:s} - {1:s}'.format(str(bin_edges[i-1]), str(bin_edges[i])))\n"
          ],
          "name": "stderr"
        }
      ]
    },
    {
      "cell_type": "markdown",
      "metadata": {
        "id": "AV4YAwmzQ0NT",
        "colab_type": "text"
      },
      "source": [
        "**Visualización de matriz de correlacción**"
      ]
    },
    {
      "cell_type": "code",
      "metadata": {
        "id": "dR-0455c3yBB",
        "colab_type": "code",
        "colab": {
          "base_uri": "https://localhost:8080/",
          "height": 1000
        },
        "outputId": "d9ba707f-1347-4a16-eec2-5cd73f873e5a"
      },
      "source": [
        "plt.rc('text', usetex=False)\n",
        "\n",
        "n=0\n",
        "for i in range(len(data.columns)):\n",
        "    n+=i\n",
        "    \n",
        "ncols=4\n",
        "nrows=int(np.ceil(n/ncols))\n",
        "\n",
        "fig, axes = plt.subplots(nrows, ncols, figsize=(25,5*nrows))\n",
        "ndecimals = 0\n",
        "\n",
        "for i, comb in enumerate(itertools.combinations(data_binned.columns.values, 2)):\n",
        "    \n",
        "    c = int(i%ncols)\n",
        "    r = int((i-c)/ncols )\n",
        "\n",
        "    # datos\n",
        "    c0, c1 = comb\n",
        "    datahist = data_binned.groupby([c0,c1])[c0].count().to_frame().unstack().fillna(0)\n",
        "    datahist.columns = datahist.columns.droplevel()\n",
        "    \n",
        "    # gráfico\n",
        "    img = axes[r][c].pcolormesh(datahist.values, linewidth=0.005, edgecolors='#030526',  **{'cmap': cmo.matter_r})\n",
        "    \n",
        "    # etiquetas de sticks\n",
        "    if c0 in binning_dict.keys():\n",
        "        ylabels = ['{1:.{0}f}_{2:.{0}f}'.format(ndecimals, binning_dict[c0][i][0], binning_dict[c0][i][1])\n",
        "                   for i in range(len(binning_dict[c0]))]\n",
        "    else:\n",
        "        ylabels = datahist.index\n",
        "\n",
        "    if c1 in binning_dict.keys():        \n",
        "        xlabels = ['{1:.{0}f}_{2:.{0}f}'.format(ndecimals, binning_dict[c1][i][0], binning_dict[c1][i][1])\n",
        "                    for i in range(len(binning_dict[c1]))]\n",
        "    else:\n",
        "        xlabels = datahist.columns\n",
        "    \n",
        "    # etiquetas del eje\n",
        "    axes[r][c].set_yticks(np.arange(len(ylabels)) + 0.5)\n",
        "    axes[r][c].set_xticks(np.arange(len(xlabels)) + 0.5)\n",
        "    axes[r][c].set_xticklabels(xlabels, rotation='vertical', **ticks)\n",
        "    axes[r][c].set_yticklabels(ylabels, rotation='horizontal', **ticks)    \n",
        "    axes[r][c].set_xlabel(datahist.columns.name, **labels)\n",
        "    axes[r][c].set_ylabel(datahist.index.name, **labels)    \n",
        "    axes[r][c].set_title('Correlación', **title)\n",
        "    \n",
        "fig.colorbar(img)\n",
        "\n",
        "plt.tight_layout()\n"
      ],
      "execution_count": 691,
      "outputs": [
        {
          "output_type": "display_data",
          "data": {
            "image/png": "[encoded data removed]",
            "text/plain": [
              "<Figure size 1800x3240 with 37 Axes>"
            ]
          },
          "metadata": {
            "tags": [],
            "needs_background": "light"
          }
        }
      ]
    },
    {
      "cell_type": "markdown",
      "metadata": {
        "id": "zSxlpHLkbnYR",
        "colab_type": "text"
      },
      "source": [
        "**Claves para Deck en función de los valores obtenidos por correlación**:\n",
        "- Family\n",
        "\n",
        "Es más probable que siendo soltero (Family: 0),  ocupes el compartimento C, seguido del B o D. \n",
        "- Age \n",
        "\n",
        "Si ocupas el compartimento B, es más probable que tengas entre 30-40 años, seguido de 20-30 y 40-50, respectivamente.\n",
        "Si ocupas el compartimento B, es más seguro que tengas entre 20-30, seguido de 30-40 y 10-20, respectivamente. \n",
        "- Survived\n",
        "\n",
        "Es más probable que de si el pasajero sobrevivió y era de género femenino, ocupara el compartimento C, seguido del B y D. \n",
        "\n",
        "**Claves para Title en función de los valores obtenidos por correlación**:\n",
        "\n",
        "- Se observa zonas de mayor correlación para los pronombres Miss, Mister y Mrs, tanto si de supervivencia se trata así como de clase económica. \n"
      ]
    },
    {
      "cell_type": "code",
      "metadata": {
        "id": "XkEvi5jZblkZ",
        "colab_type": "code",
        "colab": {
          "base_uri": "https://localhost:8080/",
          "height": 104
        },
        "outputId": "37f54b5d-d9c9-4699-ad0f-d46a6406c84b"
      },
      "source": [
        "# Agrupamos en menos categorias\n",
        "df['Title'] = df['Title'].replace({'Lady':'Miss','Dona':'Miss'})\n",
        "df['Title'] = df['Title'].replace(['Sir', 'Master', 'Don', 'Jonkheer', 'the Countess', 'Dr', 'Rev','Col','Major','Capt'], 'Others')\n",
        "df['Title'].value_counts()"
      ],
      "execution_count": 692,
      "outputs": [
        {
          "output_type": "execute_result",
          "data": {
            "text/plain": [
              "Mr        757\n",
              "Miss      266\n",
              "Mrs       198\n",
              "Others     88\n",
              "Name: Title, dtype: int64"
            ]
          },
          "metadata": {
            "tags": []
          },
          "execution_count": 692
        }
      ]
    },
    {
      "cell_type": "markdown",
      "metadata": {
        "id": "DpEDcabXhJvi",
        "colab_type": "text"
      },
      "source": [
        "**¿Cuáles serían las mejores variables para el llenado de valores nulos sobre Deck?**"
      ]
    },
    {
      "cell_type": "code",
      "metadata": {
        "id": "xbrl59062tQF",
        "colab_type": "code",
        "colab": {
          "base_uri": "https://localhost:8080/",
          "height": 723
        },
        "outputId": "b62c2b4f-3870-41b8-8ac6-f626b216d7ce"
      },
      "source": [
        "phik_overview = data.phik_matrix(interval_cols=interval_cols)\n",
        "\n",
        "plot_correlation_matrix(phik_overview.values, x_labels=phik_overview.columns, y_labels=phik_overview.index, \n",
        "                        vmin=0, vmax=1, color_map=cmo.matter_r, title=r'correlation $\\phi_K$', fontsize_factor=1,\n",
        "                        figsize=(8,8))\n",
        "plt.tight_layout()"
      ],
      "execution_count": 693,
      "outputs": [
        {
          "output_type": "stream",
          "text": [
            "/usr/local/lib/python3.6/dist-packages/phik/binning.py:68: UserWarning: Empty bin with bin-edges 307.39752 - 358.63044\n",
            "  warnings.warn('Empty bin with bin-edges {0:s} - {1:s}'.format(str(bin_edges[i-1]), str(bin_edges[i])))\n",
            "/usr/local/lib/python3.6/dist-packages/phik/binning.py:68: UserWarning: Empty bin with bin-edges 358.63044 - 409.86336\n",
            "  warnings.warn('Empty bin with bin-edges {0:s} - {1:s}'.format(str(bin_edges[i-1]), str(bin_edges[i])))\n",
            "/usr/local/lib/python3.6/dist-packages/phik/binning.py:68: UserWarning: Empty bin with bin-edges 409.86336 - 461.09628\n",
            "  warnings.warn('Empty bin with bin-edges {0:s} - {1:s}'.format(str(bin_edges[i-1]), str(bin_edges[i])))\n",
            "/usr/local/lib/python3.6/dist-packages/phik/binning.py:68: UserWarning: Empty bin with bin-edges 7.999999999999999 - 9.0\n",
            "  warnings.warn('Empty bin with bin-edges {0:s} - {1:s}'.format(str(bin_edges[i-1]), str(bin_edges[i])))\n"
          ],
          "name": "stderr"
        },
        {
          "output_type": "display_data",
          "data": {
            "image/png": "[encoded data removed]",
            "text/plain": [
              "<Figure size 576x576 with 2 Axes>"
            ]
          },
          "metadata": {
            "tags": [],
            "needs_background": "light"
          }
        }
      ]
    },
    {
      "cell_type": "markdown",
      "metadata": {
        "id": "8sOzwKo6uld_",
        "colab_type": "text"
      },
      "source": [
        "De acuerdo con la matriz de correlación global, el nivel socioeconómico es la variable idónea, en este caso utilizaremos la moda para llenar los valores vacíos. "
      ]
    },
    {
      "cell_type": "code",
      "metadata": {
        "id": "xk4ya3ackYYn",
        "colab_type": "code",
        "colab": {
          "base_uri": "https://localhost:8080/",
          "height": 121
        },
        "outputId": "4b47e3a7-09e3-4996-870f-720af24806af"
      },
      "source": [
        "for i in df.Pclass.unique():\n",
        "  print('Clase {}: ; Moda: {}'.format(i, df.loc[df.Pclass == i, 'Deck'].mode()))"
      ],
      "execution_count": 694,
      "outputs": [
        {
          "output_type": "stream",
          "text": [
            "Clase 3: ; Moda: 0    F\n",
            "dtype: object\n",
            "Clase 1: ; Moda: 0    C\n",
            "dtype: object\n",
            "Clase 2: ; Moda: 0    F\n",
            "dtype: object\n"
          ],
          "name": "stdout"
        }
      ]
    },
    {
      "cell_type": "code",
      "metadata": {
        "id": "n0jo4fHxg9k0",
        "colab_type": "code",
        "colab": {
          "base_uri": "https://localhost:8080/",
          "height": 477
        },
        "outputId": "fd586f22-9559-4969-fdac-70923df428f5"
      },
      "source": [
        "df = df[df['Pclass'] == 1].fillna({'Deck': 'C'})\n",
        "df.fillna({'Deck': 'F'})"
      ],
      "execution_count": 722,
      "outputs": [
        {
          "output_type": "execute_result",
          "data": {
            "text/html": [
              "<div>\n",
              "<style scoped>\n",
              "    .dataframe tbody tr th:only-of-type {\n",
              "        vertical-align: middle;\n",
              "    }\n",
              "\n",
              "    .dataframe tbody tr th {\n",
              "        vertical-align: top;\n",
              "    }\n",
              "\n",
              "    .dataframe thead th {\n",
              "        text-align: right;\n",
              "    }\n",
              "</style>\n",
              "<table border=\"1\" class=\"dataframe\">\n",
              "  <thead>\n",
              "    <tr style=\"text-align: right;\">\n",
              "      <th></th>\n",
              "      <th>PassengerId</th>\n",
              "      <th>Survived</th>\n",
              "      <th>Pclass</th>\n",
              "      <th>Name</th>\n",
              "      <th>Sex</th>\n",
              "      <th>Age</th>\n",
              "      <th>SibSp</th>\n",
              "      <th>Parch</th>\n",
              "      <th>Ticket</th>\n",
              "      <th>Fare</th>\n",
              "      <th>Cabin</th>\n",
              "      <th>Embarked</th>\n",
              "      <th>Family</th>\n",
              "      <th>Deck</th>\n",
              "      <th>Title</th>\n",
              "    </tr>\n",
              "  </thead>\n",
              "  <tbody>\n",
              "    <tr>\n",
              "      <th>1</th>\n",
              "      <td>2</td>\n",
              "      <td>1</td>\n",
              "      <td>1</td>\n",
              "      <td>Cumings, Mrs. John Bradley (Florence Briggs Th...</td>\n",
              "      <td>female</td>\n",
              "      <td>38.0</td>\n",
              "      <td>1</td>\n",
              "      <td>0</td>\n",
              "      <td>PC 17599</td>\n",
              "      <td>71.2833</td>\n",
              "      <td>C85</td>\n",
              "      <td>C</td>\n",
              "      <td>1</td>\n",
              "      <td>C</td>\n",
              "      <td>Mrs</td>\n",
              "    </tr>\n",
              "    <tr>\n",
              "      <th>3</th>\n",
              "      <td>4</td>\n",
              "      <td>1</td>\n",
              "      <td>1</td>\n",
              "      <td>Futrelle, Mrs. Jacques Heath (Lily May Peel)</td>\n",
              "      <td>female</td>\n",
              "      <td>35.0</td>\n",
              "      <td>1</td>\n",
              "      <td>0</td>\n",
              "      <td>113803</td>\n",
              "      <td>53.1000</td>\n",
              "      <td>C123</td>\n",
              "      <td>S</td>\n",
              "      <td>1</td>\n",
              "      <td>C</td>\n",
              "      <td>Mrs</td>\n",
              "    </tr>\n",
              "    <tr>\n",
              "      <th>6</th>\n",
              "      <td>7</td>\n",
              "      <td>0</td>\n",
              "      <td>1</td>\n",
              "      <td>McCarthy, Mr. Timothy J</td>\n",
              "      <td>male</td>\n",
              "      <td>54.0</td>\n",
              "      <td>0</td>\n",
              "      <td>0</td>\n",
              "      <td>17463</td>\n",
              "      <td>51.8625</td>\n",
              "      <td>E46</td>\n",
              "      <td>S</td>\n",
              "      <td>0</td>\n",
              "      <td>E</td>\n",
              "      <td>Mr</td>\n",
              "    </tr>\n",
              "    <tr>\n",
              "      <th>11</th>\n",
              "      <td>12</td>\n",
              "      <td>1</td>\n",
              "      <td>1</td>\n",
              "      <td>Bonnell, Miss. Elizabeth</td>\n",
              "      <td>female</td>\n",
              "      <td>58.0</td>\n",
              "      <td>0</td>\n",
              "      <td>0</td>\n",
              "      <td>113783</td>\n",
              "      <td>26.5500</td>\n",
              "      <td>C103</td>\n",
              "      <td>S</td>\n",
              "      <td>0</td>\n",
              "      <td>C</td>\n",
              "      <td>Miss</td>\n",
              "    </tr>\n",
              "    <tr>\n",
              "      <th>23</th>\n",
              "      <td>24</td>\n",
              "      <td>1</td>\n",
              "      <td>1</td>\n",
              "      <td>Sloper, Mr. William Thompson</td>\n",
              "      <td>male</td>\n",
              "      <td>28.0</td>\n",
              "      <td>0</td>\n",
              "      <td>0</td>\n",
              "      <td>113788</td>\n",
              "      <td>35.5000</td>\n",
              "      <td>A6</td>\n",
              "      <td>S</td>\n",
              "      <td>0</td>\n",
              "      <td>A</td>\n",
              "      <td>Mr</td>\n",
              "    </tr>\n",
              "    <tr>\n",
              "      <th>...</th>\n",
              "      <td>...</td>\n",
              "      <td>...</td>\n",
              "      <td>...</td>\n",
              "      <td>...</td>\n",
              "      <td>...</td>\n",
              "      <td>...</td>\n",
              "      <td>...</td>\n",
              "      <td>...</td>\n",
              "      <td>...</td>\n",
              "      <td>...</td>\n",
              "      <td>...</td>\n",
              "      <td>...</td>\n",
              "      <td>...</td>\n",
              "      <td>...</td>\n",
              "      <td>...</td>\n",
              "    </tr>\n",
              "    <tr>\n",
              "      <th>1294</th>\n",
              "      <td>1295</td>\n",
              "      <td>0</td>\n",
              "      <td>1</td>\n",
              "      <td>Carrau, Mr. Jose Pedro</td>\n",
              "      <td>male</td>\n",
              "      <td>17.0</td>\n",
              "      <td>0</td>\n",
              "      <td>0</td>\n",
              "      <td>113059</td>\n",
              "      <td>47.1000</td>\n",
              "      <td>NaN</td>\n",
              "      <td>S</td>\n",
              "      <td>0</td>\n",
              "      <td>C</td>\n",
              "      <td>Mr</td>\n",
              "    </tr>\n",
              "    <tr>\n",
              "      <th>1295</th>\n",
              "      <td>1296</td>\n",
              "      <td>0</td>\n",
              "      <td>1</td>\n",
              "      <td>Frauenthal, Mr. Isaac Gerald</td>\n",
              "      <td>male</td>\n",
              "      <td>43.0</td>\n",
              "      <td>1</td>\n",
              "      <td>0</td>\n",
              "      <td>17765</td>\n",
              "      <td>27.7208</td>\n",
              "      <td>D40</td>\n",
              "      <td>C</td>\n",
              "      <td>1</td>\n",
              "      <td>D</td>\n",
              "      <td>Mr</td>\n",
              "    </tr>\n",
              "    <tr>\n",
              "      <th>1298</th>\n",
              "      <td>1299</td>\n",
              "      <td>0</td>\n",
              "      <td>1</td>\n",
              "      <td>Widener, Mr. George Dunton</td>\n",
              "      <td>male</td>\n",
              "      <td>50.0</td>\n",
              "      <td>1</td>\n",
              "      <td>1</td>\n",
              "      <td>113503</td>\n",
              "      <td>211.5000</td>\n",
              "      <td>C80</td>\n",
              "      <td>C</td>\n",
              "      <td>2</td>\n",
              "      <td>C</td>\n",
              "      <td>Mr</td>\n",
              "    </tr>\n",
              "    <tr>\n",
              "      <th>1302</th>\n",
              "      <td>1303</td>\n",
              "      <td>1</td>\n",
              "      <td>1</td>\n",
              "      <td>Minahan, Mrs. William Edward (Lillian E Thorpe)</td>\n",
              "      <td>female</td>\n",
              "      <td>37.0</td>\n",
              "      <td>1</td>\n",
              "      <td>0</td>\n",
              "      <td>19928</td>\n",
              "      <td>90.0000</td>\n",
              "      <td>C78</td>\n",
              "      <td>Q</td>\n",
              "      <td>1</td>\n",
              "      <td>C</td>\n",
              "      <td>Mrs</td>\n",
              "    </tr>\n",
              "    <tr>\n",
              "      <th>1305</th>\n",
              "      <td>1306</td>\n",
              "      <td>1</td>\n",
              "      <td>1</td>\n",
              "      <td>Oliva y Ocana, Dona. Fermina</td>\n",
              "      <td>female</td>\n",
              "      <td>39.0</td>\n",
              "      <td>0</td>\n",
              "      <td>0</td>\n",
              "      <td>PC 17758</td>\n",
              "      <td>108.9000</td>\n",
              "      <td>C105</td>\n",
              "      <td>C</td>\n",
              "      <td>0</td>\n",
              "      <td>C</td>\n",
              "      <td>Miss</td>\n",
              "    </tr>\n",
              "  </tbody>\n",
              "</table>\n",
              "<p>323 rows × 15 columns</p>\n",
              "</div>"
            ],
            "text/plain": [
              "      PassengerId  Survived  Pclass  ... Family Deck  Title\n",
              "1               2         1       1  ...      1    C    Mrs\n",
              "3               4         1       1  ...      1    C    Mrs\n",
              "6               7         0       1  ...      0    E     Mr\n",
              "11             12         1       1  ...      0    C   Miss\n",
              "23             24         1       1  ...      0    A     Mr\n",
              "...           ...       ...     ...  ...    ...  ...    ...\n",
              "1294         1295         0       1  ...      0    C     Mr\n",
              "1295         1296         0       1  ...      1    D     Mr\n",
              "1298         1299         0       1  ...      2    C     Mr\n",
              "1302         1303         1       1  ...      1    C    Mrs\n",
              "1305         1306         1       1  ...      0    C   Miss\n",
              "\n",
              "[323 rows x 15 columns]"
            ]
          },
          "metadata": {
            "tags": []
          },
          "execution_count": 722
        }
      ]
    },
    {
      "cell_type": "code",
      "metadata": {
        "id": "40SUUGSls6wQ",
        "colab_type": "code",
        "colab": {}
      },
      "source": [
        "prueba = df.copy()"
      ],
      "execution_count": 0,
      "outputs": []
    },
    {
      "cell_type": "code",
      "metadata": {
        "id": "shZN5W_PtTH3",
        "colab_type": "code",
        "colab": {}
      },
      "source": [
        "df = pd.get_dummies(prueba, columns=['Sex', 'Title', 'Embarked', 'Deck'])"
      ],
      "execution_count": 0,
      "outputs": []
    },
    {
      "cell_type": "code",
      "metadata": {
        "id": "NqOvFlwNtQGd",
        "colab_type": "code",
        "colab": {
          "base_uri": "https://localhost:8080/",
          "height": 911
        },
        "outputId": "9737d9c9-7d76-4a5d-b7cb-efa89a337acd"
      },
      "source": [
        "df"
      ],
      "execution_count": 735,
      "outputs": [
        {
          "output_type": "execute_result",
          "data": {
            "text/html": [
              "<div>\n",
              "<style scoped>\n",
              "    .dataframe tbody tr th:only-of-type {\n",
              "        vertical-align: middle;\n",
              "    }\n",
              "\n",
              "    .dataframe tbody tr th {\n",
              "        vertical-align: top;\n",
              "    }\n",
              "\n",
              "    .dataframe thead th {\n",
              "        text-align: right;\n",
              "    }\n",
              "</style>\n",
              "<table border=\"1\" class=\"dataframe\">\n",
              "  <thead>\n",
              "    <tr style=\"text-align: right;\">\n",
              "      <th></th>\n",
              "      <th>PassengerId</th>\n",
              "      <th>Survived</th>\n",
              "      <th>Pclass</th>\n",
              "      <th>Name</th>\n",
              "      <th>Age</th>\n",
              "      <th>SibSp</th>\n",
              "      <th>Parch</th>\n",
              "      <th>Ticket</th>\n",
              "      <th>Fare</th>\n",
              "      <th>Cabin</th>\n",
              "      <th>Family</th>\n",
              "      <th>Sex_female</th>\n",
              "      <th>Sex_male</th>\n",
              "      <th>Title_Miss</th>\n",
              "      <th>Title_Mr</th>\n",
              "      <th>Title_Mrs</th>\n",
              "      <th>Title_Others</th>\n",
              "      <th>Embarked_C</th>\n",
              "      <th>Embarked_Q</th>\n",
              "      <th>Embarked_S</th>\n",
              "      <th>Deck_A</th>\n",
              "      <th>Deck_B</th>\n",
              "      <th>Deck_C</th>\n",
              "      <th>Deck_D</th>\n",
              "      <th>Deck_E</th>\n",
              "      <th>Deck_T</th>\n",
              "    </tr>\n",
              "  </thead>\n",
              "  <tbody>\n",
              "    <tr>\n",
              "      <th>1</th>\n",
              "      <td>2</td>\n",
              "      <td>1</td>\n",
              "      <td>1</td>\n",
              "      <td>Cumings, Mrs. John Bradley (Florence Briggs Th...</td>\n",
              "      <td>38.0</td>\n",
              "      <td>1</td>\n",
              "      <td>0</td>\n",
              "      <td>PC 17599</td>\n",
              "      <td>71.2833</td>\n",
              "      <td>C85</td>\n",
              "      <td>1</td>\n",
              "      <td>1</td>\n",
              "      <td>0</td>\n",
              "      <td>0</td>\n",
              "      <td>0</td>\n",
              "      <td>1</td>\n",
              "      <td>0</td>\n",
              "      <td>1</td>\n",
              "      <td>0</td>\n",
              "      <td>0</td>\n",
              "      <td>0</td>\n",
              "      <td>0</td>\n",
              "      <td>1</td>\n",
              "      <td>0</td>\n",
              "      <td>0</td>\n",
              "      <td>0</td>\n",
              "    </tr>\n",
              "    <tr>\n",
              "      <th>3</th>\n",
              "      <td>4</td>\n",
              "      <td>1</td>\n",
              "      <td>1</td>\n",
              "      <td>Futrelle, Mrs. Jacques Heath (Lily May Peel)</td>\n",
              "      <td>35.0</td>\n",
              "      <td>1</td>\n",
              "      <td>0</td>\n",
              "      <td>113803</td>\n",
              "      <td>53.1000</td>\n",
              "      <td>C123</td>\n",
              "      <td>1</td>\n",
              "      <td>1</td>\n",
              "      <td>0</td>\n",
              "      <td>0</td>\n",
              "      <td>0</td>\n",
              "      <td>1</td>\n",
              "      <td>0</td>\n",
              "      <td>0</td>\n",
              "      <td>0</td>\n",
              "      <td>1</td>\n",
              "      <td>0</td>\n",
              "      <td>0</td>\n",
              "      <td>1</td>\n",
              "      <td>0</td>\n",
              "      <td>0</td>\n",
              "      <td>0</td>\n",
              "    </tr>\n",
              "    <tr>\n",
              "      <th>6</th>\n",
              "      <td>7</td>\n",
              "      <td>0</td>\n",
              "      <td>1</td>\n",
              "      <td>McCarthy, Mr. Timothy J</td>\n",
              "      <td>54.0</td>\n",
              "      <td>0</td>\n",
              "      <td>0</td>\n",
              "      <td>17463</td>\n",
              "      <td>51.8625</td>\n",
              "      <td>E46</td>\n",
              "      <td>0</td>\n",
              "      <td>0</td>\n",
              "      <td>1</td>\n",
              "      <td>0</td>\n",
              "      <td>1</td>\n",
              "      <td>0</td>\n",
              "      <td>0</td>\n",
              "      <td>0</td>\n",
              "      <td>0</td>\n",
              "      <td>1</td>\n",
              "      <td>0</td>\n",
              "      <td>0</td>\n",
              "      <td>0</td>\n",
              "      <td>0</td>\n",
              "      <td>1</td>\n",
              "      <td>0</td>\n",
              "    </tr>\n",
              "    <tr>\n",
              "      <th>11</th>\n",
              "      <td>12</td>\n",
              "      <td>1</td>\n",
              "      <td>1</td>\n",
              "      <td>Bonnell, Miss. Elizabeth</td>\n",
              "      <td>58.0</td>\n",
              "      <td>0</td>\n",
              "      <td>0</td>\n",
              "      <td>113783</td>\n",
              "      <td>26.5500</td>\n",
              "      <td>C103</td>\n",
              "      <td>0</td>\n",
              "      <td>1</td>\n",
              "      <td>0</td>\n",
              "      <td>1</td>\n",
              "      <td>0</td>\n",
              "      <td>0</td>\n",
              "      <td>0</td>\n",
              "      <td>0</td>\n",
              "      <td>0</td>\n",
              "      <td>1</td>\n",
              "      <td>0</td>\n",
              "      <td>0</td>\n",
              "      <td>1</td>\n",
              "      <td>0</td>\n",
              "      <td>0</td>\n",
              "      <td>0</td>\n",
              "    </tr>\n",
              "    <tr>\n",
              "      <th>23</th>\n",
              "      <td>24</td>\n",
              "      <td>1</td>\n",
              "      <td>1</td>\n",
              "      <td>Sloper, Mr. William Thompson</td>\n",
              "      <td>28.0</td>\n",
              "      <td>0</td>\n",
              "      <td>0</td>\n",
              "      <td>113788</td>\n",
              "      <td>35.5000</td>\n",
              "      <td>A6</td>\n",
              "      <td>0</td>\n",
              "      <td>0</td>\n",
              "      <td>1</td>\n",
              "      <td>0</td>\n",
              "      <td>1</td>\n",
              "      <td>0</td>\n",
              "      <td>0</td>\n",
              "      <td>0</td>\n",
              "      <td>0</td>\n",
              "      <td>1</td>\n",
              "      <td>1</td>\n",
              "      <td>0</td>\n",
              "      <td>0</td>\n",
              "      <td>0</td>\n",
              "      <td>0</td>\n",
              "      <td>0</td>\n",
              "    </tr>\n",
              "    <tr>\n",
              "      <th>...</th>\n",
              "      <td>...</td>\n",
              "      <td>...</td>\n",
              "      <td>...</td>\n",
              "      <td>...</td>\n",
              "      <td>...</td>\n",
              "      <td>...</td>\n",
              "      <td>...</td>\n",
              "      <td>...</td>\n",
              "      <td>...</td>\n",
              "      <td>...</td>\n",
              "      <td>...</td>\n",
              "      <td>...</td>\n",
              "      <td>...</td>\n",
              "      <td>...</td>\n",
              "      <td>...</td>\n",
              "      <td>...</td>\n",
              "      <td>...</td>\n",
              "      <td>...</td>\n",
              "      <td>...</td>\n",
              "      <td>...</td>\n",
              "      <td>...</td>\n",
              "      <td>...</td>\n",
              "      <td>...</td>\n",
              "      <td>...</td>\n",
              "      <td>...</td>\n",
              "      <td>...</td>\n",
              "    </tr>\n",
              "    <tr>\n",
              "      <th>1294</th>\n",
              "      <td>1295</td>\n",
              "      <td>0</td>\n",
              "      <td>1</td>\n",
              "      <td>Carrau, Mr. Jose Pedro</td>\n",
              "      <td>17.0</td>\n",
              "      <td>0</td>\n",
              "      <td>0</td>\n",
              "      <td>113059</td>\n",
              "      <td>47.1000</td>\n",
              "      <td>NaN</td>\n",
              "      <td>0</td>\n",
              "      <td>0</td>\n",
              "      <td>1</td>\n",
              "      <td>0</td>\n",
              "      <td>1</td>\n",
              "      <td>0</td>\n",
              "      <td>0</td>\n",
              "      <td>0</td>\n",
              "      <td>0</td>\n",
              "      <td>1</td>\n",
              "      <td>0</td>\n",
              "      <td>0</td>\n",
              "      <td>1</td>\n",
              "      <td>0</td>\n",
              "      <td>0</td>\n",
              "      <td>0</td>\n",
              "    </tr>\n",
              "    <tr>\n",
              "      <th>1295</th>\n",
              "      <td>1296</td>\n",
              "      <td>0</td>\n",
              "      <td>1</td>\n",
              "      <td>Frauenthal, Mr. Isaac Gerald</td>\n",
              "      <td>43.0</td>\n",
              "      <td>1</td>\n",
              "      <td>0</td>\n",
              "      <td>17765</td>\n",
              "      <td>27.7208</td>\n",
              "      <td>D40</td>\n",
              "      <td>1</td>\n",
              "      <td>0</td>\n",
              "      <td>1</td>\n",
              "      <td>0</td>\n",
              "      <td>1</td>\n",
              "      <td>0</td>\n",
              "      <td>0</td>\n",
              "      <td>1</td>\n",
              "      <td>0</td>\n",
              "      <td>0</td>\n",
              "      <td>0</td>\n",
              "      <td>0</td>\n",
              "      <td>0</td>\n",
              "      <td>1</td>\n",
              "      <td>0</td>\n",
              "      <td>0</td>\n",
              "    </tr>\n",
              "    <tr>\n",
              "      <th>1298</th>\n",
              "      <td>1299</td>\n",
              "      <td>0</td>\n",
              "      <td>1</td>\n",
              "      <td>Widener, Mr. George Dunton</td>\n",
              "      <td>50.0</td>\n",
              "      <td>1</td>\n",
              "      <td>1</td>\n",
              "      <td>113503</td>\n",
              "      <td>211.5000</td>\n",
              "      <td>C80</td>\n",
              "      <td>2</td>\n",
              "      <td>0</td>\n",
              "      <td>1</td>\n",
              "      <td>0</td>\n",
              "      <td>1</td>\n",
              "      <td>0</td>\n",
              "      <td>0</td>\n",
              "      <td>1</td>\n",
              "      <td>0</td>\n",
              "      <td>0</td>\n",
              "      <td>0</td>\n",
              "      <td>0</td>\n",
              "      <td>1</td>\n",
              "      <td>0</td>\n",
              "      <td>0</td>\n",
              "      <td>0</td>\n",
              "    </tr>\n",
              "    <tr>\n",
              "      <th>1302</th>\n",
              "      <td>1303</td>\n",
              "      <td>1</td>\n",
              "      <td>1</td>\n",
              "      <td>Minahan, Mrs. William Edward (Lillian E Thorpe)</td>\n",
              "      <td>37.0</td>\n",
              "      <td>1</td>\n",
              "      <td>0</td>\n",
              "      <td>19928</td>\n",
              "      <td>90.0000</td>\n",
              "      <td>C78</td>\n",
              "      <td>1</td>\n",
              "      <td>1</td>\n",
              "      <td>0</td>\n",
              "      <td>0</td>\n",
              "      <td>0</td>\n",
              "      <td>1</td>\n",
              "      <td>0</td>\n",
              "      <td>0</td>\n",
              "      <td>1</td>\n",
              "      <td>0</td>\n",
              "      <td>0</td>\n",
              "      <td>0</td>\n",
              "      <td>1</td>\n",
              "      <td>0</td>\n",
              "      <td>0</td>\n",
              "      <td>0</td>\n",
              "    </tr>\n",
              "    <tr>\n",
              "      <th>1305</th>\n",
              "      <td>1306</td>\n",
              "      <td>1</td>\n",
              "      <td>1</td>\n",
              "      <td>Oliva y Ocana, Dona. Fermina</td>\n",
              "      <td>39.0</td>\n",
              "      <td>0</td>\n",
              "      <td>0</td>\n",
              "      <td>PC 17758</td>\n",
              "      <td>108.9000</td>\n",
              "      <td>C105</td>\n",
              "      <td>0</td>\n",
              "      <td>1</td>\n",
              "      <td>0</td>\n",
              "      <td>1</td>\n",
              "      <td>0</td>\n",
              "      <td>0</td>\n",
              "      <td>0</td>\n",
              "      <td>1</td>\n",
              "      <td>0</td>\n",
              "      <td>0</td>\n",
              "      <td>0</td>\n",
              "      <td>0</td>\n",
              "      <td>1</td>\n",
              "      <td>0</td>\n",
              "      <td>0</td>\n",
              "      <td>0</td>\n",
              "    </tr>\n",
              "  </tbody>\n",
              "</table>\n",
              "<p>323 rows × 26 columns</p>\n",
              "</div>"
            ],
            "text/plain": [
              "      PassengerId  Survived  Pclass  ... Deck_D  Deck_E  Deck_T\n",
              "1               2         1       1  ...      0       0       0\n",
              "3               4         1       1  ...      0       0       0\n",
              "6               7         0       1  ...      0       1       0\n",
              "11             12         1       1  ...      0       0       0\n",
              "23             24         1       1  ...      0       0       0\n",
              "...           ...       ...     ...  ...    ...     ...     ...\n",
              "1294         1295         0       1  ...      0       0       0\n",
              "1295         1296         0       1  ...      1       0       0\n",
              "1298         1299         0       1  ...      0       0       0\n",
              "1302         1303         1       1  ...      0       0       0\n",
              "1305         1306         1       1  ...      0       0       0\n",
              "\n",
              "[323 rows x 26 columns]"
            ]
          },
          "metadata": {
            "tags": []
          },
          "execution_count": 735
        }
      ]
    },
    {
      "cell_type": "markdown",
      "metadata": {
        "id": "_pkd6_w22dl_",
        "colab_type": "text"
      },
      "source": [
        "## **Usando el método tradicional para analizar la correlación bivariante**"
      ]
    },
    {
      "cell_type": "markdown",
      "metadata": {
        "id": "yD4ONe-ek6Aq",
        "colab_type": "text"
      },
      "source": [
        "**Planteamiento de la hipótesis nula:** \n",
        "\n",
        "El fin del análisis bi-variante es poder resolver la duda de: ¿Existe alguna relación entre una variable $X$ y la supervivencia? \n",
        "\n",
        "**$H_{o}:$** No hay dependencia entre las 2 variables categóricas.\n",
        "\n",
        "**$H_{a}:$** Hay dependencia entre las 2 variables categóricas."
      ]
    },
    {
      "cell_type": "markdown",
      "metadata": {
        "id": "RdVfjx2cgpX8",
        "colab_type": "text"
      },
      "source": [
        "### **Sexo-Superviviencia**"
      ]
    },
    {
      "cell_type": "code",
      "metadata": {
        "id": "uYI083wdX1Aw",
        "colab_type": "code",
        "colab": {}
      },
      "source": [
        "chi_sq = df.Sex.replace({'male': 0, 'female': 1}, inplace=True)"
      ],
      "execution_count": 0,
      "outputs": []
    },
    {
      "cell_type": "code",
      "metadata": {
        "id": "j2RrK2DKPX-n",
        "colab_type": "code",
        "colab": {}
      },
      "source": [
        "chi_sq = df[['Sex', 'Survived']]"
      ],
      "execution_count": 0,
      "outputs": []
    },
    {
      "cell_type": "markdown",
      "metadata": {
        "id": "eEHZVvAfZuB8",
        "colab_type": "text"
      },
      "source": [
        "**Paso 1:** Obtener la tabla de contigencia con la función `.crosstab` de `Pandas`."
      ]
    },
    {
      "cell_type": "code",
      "metadata": {
        "id": "ywDe_W-bZ42y",
        "colab_type": "code",
        "colab": {}
      },
      "source": [
        "# Frecuencias observaciones\n",
        "obs = pd.crosstab(chi_sq.Sex , chi_sq.Survived)\n",
        "\n",
        "#Chi2, p-valor, grados de libertad, frecuencia esperada\n",
        "chi_2, p, dof, ex = chi2_contingency(obs)\n",
        "\n",
        "print('Valor de ji-cuadrado: {}'.format(round(chi_2, 2)))\n",
        "print('p-valor: {}'.format(p))\n",
        "print('Grados de libertad: {}'.format(dof))\n",
        "print('Frecuencia esperada de las observaciones: \\n{}'.format(ex.round(2)))\n",
        "\n",
        "alpha = 0.01 # p-value\n",
        "cv = chi2.ppf(q= 1-alpha, df= dof)\n",
        "print('Valor crítico o probabilidad menor de la cola:', cv)\n",
        "\n",
        "print('Test de independencia entre variables')\n",
        "if chi_2 >= cv:\n",
        "  print('- Se rechaza Ho, existe relación entre las 2 variables categóricas.')\n",
        "else:\n",
        "  print('- Se retiene Ho, no existe relación entre las 2 variables categóricas')\n",
        "\n",
        "print('\\nTest de significación')\n",
        "if p <= alpha:\n",
        "  print('- Se rechaza Ho, existe relación entre las 2 variables categóricas')\n",
        "else:\n",
        "  print('- Se retiene Ho, no existe relación entre las 2 variables categóricas')"
      ],
      "execution_count": 0,
      "outputs": []
    },
    {
      "cell_type": "code",
      "metadata": {
        "id": "02afY0dFamZd",
        "colab_type": "code",
        "colab": {}
      },
      "source": [
        "def cramers_v(x, y):\n",
        "\n",
        "  obs = pd.crosstab(x,y)\n",
        "  chi, p, dof, ex = chi2_contingency(obs)\n",
        "  n = obs.values.sum()\n",
        "  r, k = obs.shape\n",
        "  phi2 = chi / n\n",
        "  phi2corr = max(0, phi2 - ((k-1) * (r-1)) / (n-1))\n",
        "  rcorr = r - ((r-1)**2 / (n-1))\n",
        "  kcorr = k - ((k-1)**2 / (n-1))\n",
        "  \n",
        "  return np.sqrt(phi2corr / min((kcorr-1), (rcorr-1)))"
      ],
      "execution_count": 0,
      "outputs": []
    },
    {
      "cell_type": "code",
      "metadata": {
        "id": "UjH6uX1izFdF",
        "colab_type": "code",
        "colab": {}
      },
      "source": [
        "cramers_v(df.Sex, df.Survived)"
      ],
      "execution_count": 0,
      "outputs": []
    },
    {
      "cell_type": "code",
      "metadata": {
        "id": "QU-BrG0KqE5w",
        "colab_type": "code",
        "colab": {}
      },
      "source": [
        "tau, p = stats.kendalltau(df.Sex, df.Survived)\n",
        "\n",
        "print('Valor de Kendall Tau-b: {}'.format(round(tau, 2)))\n",
        "print('p-valor: {}'.format(p))"
      ],
      "execution_count": 0,
      "outputs": []
    },
    {
      "cell_type": "code",
      "metadata": {
        "id": "Olb4SItnXQzo",
        "colab_type": "code",
        "colab": {}
      },
      "source": [
        "# Agrupamos en menos categorias\n",
        "df['Title'] = df['Title'].replace(['Sir','Don','Dona','Jonkheer','Lady','Countess'], 'Noble')\n",
        "df['Title'] = df['Title'].replace(['Dr', 'Rev','Col','Major','Capt'], 'Others')\n",
        "df['Title'].value_counts()"
      ],
      "execution_count": 0,
      "outputs": []
    }
  ]
}