{
  "nbformat": 4,
  "nbformat_minor": 0,
  "metadata": {
    "colab": {
      "name": "SaturdaysAI_titanic_challenge.ipynb",
      "provenance": [],
      "collapsed_sections": [],
      "mount_file_id": "1U8pj8FEmu16gEdWgWzbEgFbLVTe9Pqhw",
      "authorship_tag": "ABX9TyM4WrVyRfikZzvOEJ6dyk9A",
      "include_colab_link": true
    },
    "kernelspec": {
      "name": "python3",
      "display_name": "Python 3"
    }
  },
  "cells": [
    {
      "cell_type": "markdown",
      "metadata": {
        "id": "view-in-github",
        "colab_type": "text"
      },
      "source": [
        "<a href=\"https://colab.research.google.com/github/juancn95/saturdaysAI_titanic_challenge/blob/pdt_1/SaturdaysAI_titanic_challenge.ipynb\" target=\"_parent\"><img src=\"https://colab.research.google.com/assets/colab-badge.svg\" alt=\"Open In Colab\"/></a>"
      ]
    },
    {
      "cell_type": "markdown",
      "metadata": {
        "id": "EMOKCuWyATeo",
        "colab_type": "text"
      },
      "source": [
        "# **El desafío del Titanic**\n",
        "---"
      ]
    },
    {
      "cell_type": "markdown",
      "metadata": {
        "id": "fZ-x1mkRKXsm",
        "colab_type": "text"
      },
      "source": [
        "## **Visión general**\n",
        "El hundimiento del Titanic es uno de los naufragios más infames de la historia. El 15 de abril de 1992, durante su viaje de inauguración, el considerado \"no hundible\" RMS Titanic, se hundió luego de colisionar con un iceberg. Desafortunadamente, no hubieron suficientes salvavidas para cada uno de los pasajeros a bordo, resultando en la muerte de más de 1502 personas, entre pasajeros y tripulación, para un total de 2224. \n",
        "\n",
        "Aunque habían elementos de buena suerte involucrados en la supervivencia, parece que ciertos grupos de personas tuvieron mayor probabilidad de sobrevivir que otras. \n",
        "\n",
        "En esta competencia, usando los datos de los pasajeros, tales como nombre, género, clase socio-económica, entre otros; se deberá construir un modelo predictivo que responda a la siguiente pregunta: ¿Cuáles fueron los grupos de personas con mayor probabilidad de sobrevivir? \n",
        "\n",
        "## **Objetivo**\n",
        "- Predecir si cada uno de los pasajeros sobrevivió (1) o  no (0), tras el hundimiento del barco Titanic\n",
        "\n",
        "## **Métrica**\n",
        "\n",
        "La puntuación del modelo será el **porcentaje de pasajeros correctamente predecidos**, conocido también como **precisión**.\n",
        "\n",
        "## **Formato del archivo de entrega**\n",
        "El formato será un archivo de extensión `.csv` con 418 entradas con su correspondiente fila de encabezado, y solo deberá contener las columnas `PassengerID` y `Survived`. Si el archivo tiene una columna o fila extra, se remitirá un error. \n",
        "\n",
        "`PassengerID`: Ordenado en cualquier orden, sea ascendente o descendente. \n",
        "\n",
        "`Survived`: Contiene la **predicción binaria**: 1 para sobrevivió, 0 para fallecido.\n",
        "\n"
      ]
    },
    {
      "cell_type": "markdown",
      "metadata": {
        "id": "lPTkvFhGXiSD",
        "colab_type": "text"
      },
      "source": [
        "# **Inicio**"
      ]
    },
    {
      "cell_type": "markdown",
      "metadata": {
        "id": "bvpaLsNrAtzP",
        "colab_type": "text"
      },
      "source": [
        "## **Depencias**\n",
        "**Manipulación de datos**: `pandas` `numpy` `scikit-learn`\n",
        "\n",
        "**Visualización de datos**: `matplotlib` `seaborn` \n",
        "\n",
        "**Estadísticos**: `phik`<font size=\"2\"><sup>1</sup></font> "
      ]
    },
    {
      "cell_type": "markdown",
      "metadata": {
        "id": "vGKnALxyMUrc",
        "colab_type": "text"
      },
      "source": [
        "<font size=\"2\"><b>[Phik](https://arxiv.org/abs/1811.11440) </b>\n",
        "<sup>1</sup> es un coeficiente de correlación basado en varios refinamientos a la prueba de hipótesis de Pearson de independencia de dos variables: categóricas, ordinales y de intervalo.</font>"
      ]
    },
    {
      "cell_type": "code",
      "metadata": {
        "id": "P7AW8fhE_bd4",
        "colab_type": "code",
        "outputId": "d438cb4b-db22-41f9-f0c2-302db241af41",
        "colab": {
          "base_uri": "https://localhost:8080/",
          "height": 1000
        }
      },
      "source": [
        "!pip install phik\n",
        "! pip3 install -U cmocean"
      ],
      "execution_count": 3,
      "outputs": [
        {
          "output_type": "stream",
          "text": [
            "Collecting phik\n",
            "\u001b[?25l  Downloading https://files.pythonhosted.org/packages/5f/f3/b764d2ae5dfc8c623125346cbc26db3523c50351b2e1817d603c84df0518/phik-0.9.10-py3-none-any.whl (607kB)\n",
            "\r\u001b[K     |▌                               | 10kB 16.7MB/s eta 0:00:01\r\u001b[K     |█                               | 20kB 1.7MB/s eta 0:00:01\r\u001b[K     |█▋                              | 30kB 2.2MB/s eta 0:00:01\r\u001b[K     |██▏                             | 40kB 1.7MB/s eta 0:00:01\r\u001b[K     |██▊                             | 51kB 1.8MB/s eta 0:00:01\r\u001b[K     |███▎                            | 61kB 2.2MB/s eta 0:00:01\r\u001b[K     |███▊                            | 71kB 2.4MB/s eta 0:00:01\r\u001b[K     |████▎                           | 81kB 2.5MB/s eta 0:00:01\r\u001b[K     |████▉                           | 92kB 2.8MB/s eta 0:00:01\r\u001b[K     |█████▍                          | 102kB 2.7MB/s eta 0:00:01\r\u001b[K     |██████                          | 112kB 2.7MB/s eta 0:00:01\r\u001b[K     |██████▌                         | 122kB 2.7MB/s eta 0:00:01\r\u001b[K     |███████                         | 133kB 2.7MB/s eta 0:00:01\r\u001b[K     |███████▌                        | 143kB 2.7MB/s eta 0:00:01\r\u001b[K     |████████                        | 153kB 2.7MB/s eta 0:00:01\r\u001b[K     |████████▋                       | 163kB 2.7MB/s eta 0:00:01\r\u001b[K     |█████████▏                      | 174kB 2.7MB/s eta 0:00:01\r\u001b[K     |█████████▊                      | 184kB 2.7MB/s eta 0:00:01\r\u001b[K     |██████████▎                     | 194kB 2.7MB/s eta 0:00:01\r\u001b[K     |██████████▉                     | 204kB 2.7MB/s eta 0:00:01\r\u001b[K     |███████████▎                    | 215kB 2.7MB/s eta 0:00:01\r\u001b[K     |███████████▉                    | 225kB 2.7MB/s eta 0:00:01\r\u001b[K     |████████████▍                   | 235kB 2.7MB/s eta 0:00:01\r\u001b[K     |█████████████                   | 245kB 2.7MB/s eta 0:00:01\r\u001b[K     |█████████████▌                  | 256kB 2.7MB/s eta 0:00:01\r\u001b[K     |██████████████                  | 266kB 2.7MB/s eta 0:00:01\r\u001b[K     |██████████████▋                 | 276kB 2.7MB/s eta 0:00:01\r\u001b[K     |███████████████                 | 286kB 2.7MB/s eta 0:00:01\r\u001b[K     |███████████████▋                | 296kB 2.7MB/s eta 0:00:01\r\u001b[K     |████████████████▏               | 307kB 2.7MB/s eta 0:00:01\r\u001b[K     |████████████████▊               | 317kB 2.7MB/s eta 0:00:01\r\u001b[K     |█████████████████▎              | 327kB 2.7MB/s eta 0:00:01\r\u001b[K     |█████████████████▉              | 337kB 2.7MB/s eta 0:00:01\r\u001b[K     |██████████████████▍             | 348kB 2.7MB/s eta 0:00:01\r\u001b[K     |██████████████████▉             | 358kB 2.7MB/s eta 0:00:01\r\u001b[K     |███████████████████▍            | 368kB 2.7MB/s eta 0:00:01\r\u001b[K     |████████████████████            | 378kB 2.7MB/s eta 0:00:01\r\u001b[K     |████████████████████▌           | 389kB 2.7MB/s eta 0:00:01\r\u001b[K     |█████████████████████           | 399kB 2.7MB/s eta 0:00:01\r\u001b[K     |█████████████████████▋          | 409kB 2.7MB/s eta 0:00:01\r\u001b[K     |██████████████████████▏         | 419kB 2.7MB/s eta 0:00:01\r\u001b[K     |██████████████████████▋         | 430kB 2.7MB/s eta 0:00:01\r\u001b[K     |███████████████████████▏        | 440kB 2.7MB/s eta 0:00:01\r\u001b[K     |███████████████████████▊        | 450kB 2.7MB/s eta 0:00:01\r\u001b[K     |████████████████████████▎       | 460kB 2.7MB/s eta 0:00:01\r\u001b[K     |████████████████████████▉       | 471kB 2.7MB/s eta 0:00:01\r\u001b[K     |█████████████████████████▍      | 481kB 2.7MB/s eta 0:00:01\r\u001b[K     |██████████████████████████      | 491kB 2.7MB/s eta 0:00:01\r\u001b[K     |██████████████████████████▍     | 501kB 2.7MB/s eta 0:00:01\r\u001b[K     |███████████████████████████     | 512kB 2.7MB/s eta 0:00:01\r\u001b[K     |███████████████████████████▌    | 522kB 2.7MB/s eta 0:00:01\r\u001b[K     |████████████████████████████    | 532kB 2.7MB/s eta 0:00:01\r\u001b[K     |████████████████████████████▋   | 542kB 2.7MB/s eta 0:00:01\r\u001b[K     |█████████████████████████████▏  | 552kB 2.7MB/s eta 0:00:01\r\u001b[K     |█████████████████████████████▊  | 563kB 2.7MB/s eta 0:00:01\r\u001b[K     |██████████████████████████████▏ | 573kB 2.7MB/s eta 0:00:01\r\u001b[K     |██████████████████████████████▊ | 583kB 2.7MB/s eta 0:00:01\r\u001b[K     |███████████████████████████████▎| 593kB 2.7MB/s eta 0:00:01\r\u001b[K     |███████████████████████████████▉| 604kB 2.7MB/s eta 0:00:01\r\u001b[K     |████████████████████████████████| 614kB 2.7MB/s \n",
            "\u001b[?25hCollecting pytest-pylint>=0.13.0\n",
            "  Downloading https://files.pythonhosted.org/packages/31/ef/e848f832a596a8a40b32d8aa169788b4df167c2d6a5960c01e83a30ebaa7/pytest_pylint-0.15.1-py3-none-any.whl\n",
            "Requirement already satisfied: numpy>=1.15.4 in /usr/local/lib/python3.6/dist-packages (from phik) (1.18.2)\n",
            "Requirement already satisfied: matplotlib>=2.2.3 in /usr/local/lib/python3.6/dist-packages (from phik) (3.2.1)\n",
            "Requirement already satisfied: nbconvert>=5.3.1 in /usr/local/lib/python3.6/dist-packages (from phik) (5.6.1)\n",
            "Requirement already satisfied: numba>=0.38.1 in /usr/local/lib/python3.6/dist-packages (from phik) (0.48.0)\n",
            "Requirement already satisfied: pandas>=0.23.4 in /usr/local/lib/python3.6/dist-packages (from phik) (1.0.3)\n",
            "Collecting pytest>=4.0.2\n",
            "\u001b[?25l  Downloading https://files.pythonhosted.org/packages/c7/e2/c19c667f42f72716a7d03e8dd4d6f63f47d39feadd44cc1ee7ca3089862c/pytest-5.4.1-py3-none-any.whl (246kB)\n",
            "\u001b[K     |████████████████████████████████| 256kB 13.4MB/s \n",
            "\u001b[?25hRequirement already satisfied: jupyter-client>=5.2.3 in /usr/local/lib/python3.6/dist-packages (from phik) (5.3.4)\n",
            "Requirement already satisfied: joblib>=0.14.1 in /usr/local/lib/python3.6/dist-packages (from phik) (0.14.1)\n",
            "Requirement already satisfied: scipy>=1.1.0 in /usr/local/lib/python3.6/dist-packages (from phik) (1.4.1)\n",
            "Collecting pylint>=2.0.0\n",
            "\u001b[?25l  Downloading https://files.pythonhosted.org/packages/e9/59/43fc36c5ee316bb9aeb7cf5329cdbdca89e5749c34d5602753827c0aa2dc/pylint-2.4.4-py3-none-any.whl (302kB)\n",
            "\u001b[K     |████████████████████████████████| 307kB 13.2MB/s \n",
            "\u001b[?25hRequirement already satisfied: cycler>=0.10 in /usr/local/lib/python3.6/dist-packages (from matplotlib>=2.2.3->phik) (0.10.0)\n",
            "Requirement already satisfied: kiwisolver>=1.0.1 in /usr/local/lib/python3.6/dist-packages (from matplotlib>=2.2.3->phik) (1.2.0)\n",
            "Requirement already satisfied: python-dateutil>=2.1 in /usr/local/lib/python3.6/dist-packages (from matplotlib>=2.2.3->phik) (2.8.1)\n",
            "Requirement already satisfied: pyparsing!=2.0.4,!=2.1.2,!=2.1.6,>=2.0.1 in /usr/local/lib/python3.6/dist-packages (from matplotlib>=2.2.3->phik) (2.4.7)\n",
            "Requirement already satisfied: pygments in /usr/local/lib/python3.6/dist-packages (from nbconvert>=5.3.1->phik) (2.1.3)\n",
            "Requirement already satisfied: nbformat>=4.4 in /usr/local/lib/python3.6/dist-packages (from nbconvert>=5.3.1->phik) (5.0.5)\n",
            "Requirement already satisfied: mistune<2,>=0.8.1 in /usr/local/lib/python3.6/dist-packages (from nbconvert>=5.3.1->phik) (0.8.4)\n",
            "Requirement already satisfied: jupyter-core in /usr/local/lib/python3.6/dist-packages (from nbconvert>=5.3.1->phik) (4.6.3)\n",
            "Requirement already satisfied: pandocfilters>=1.4.1 in /usr/local/lib/python3.6/dist-packages (from nbconvert>=5.3.1->phik) (1.4.2)\n",
            "Requirement already satisfied: jinja2>=2.4 in /usr/local/lib/python3.6/dist-packages (from nbconvert>=5.3.1->phik) (2.11.1)\n",
            "Requirement already satisfied: entrypoints>=0.2.2 in /usr/local/lib/python3.6/dist-packages (from nbconvert>=5.3.1->phik) (0.3)\n",
            "Requirement already satisfied: testpath in /usr/local/lib/python3.6/dist-packages (from nbconvert>=5.3.1->phik) (0.4.4)\n",
            "Requirement already satisfied: defusedxml in /usr/local/lib/python3.6/dist-packages (from nbconvert>=5.3.1->phik) (0.6.0)\n",
            "Requirement already satisfied: bleach in /usr/local/lib/python3.6/dist-packages (from nbconvert>=5.3.1->phik) (3.1.4)\n",
            "Requirement already satisfied: traitlets>=4.2 in /usr/local/lib/python3.6/dist-packages (from nbconvert>=5.3.1->phik) (4.3.3)\n",
            "Requirement already satisfied: llvmlite<0.32.0,>=0.31.0dev0 in /usr/local/lib/python3.6/dist-packages (from numba>=0.38.1->phik) (0.31.0)\n",
            "Requirement already satisfied: setuptools in /usr/local/lib/python3.6/dist-packages (from numba>=0.38.1->phik) (46.1.3)\n",
            "Requirement already satisfied: pytz>=2017.2 in /usr/local/lib/python3.6/dist-packages (from pandas>=0.23.4->phik) (2018.9)\n",
            "Requirement already satisfied: importlib-metadata>=0.12; python_version < \"3.8\" in /usr/local/lib/python3.6/dist-packages (from pytest>=4.0.2->phik) (1.6.0)\n",
            "Requirement already satisfied: attrs>=17.4.0 in /usr/local/lib/python3.6/dist-packages (from pytest>=4.0.2->phik) (19.3.0)\n",
            "Collecting pluggy<1.0,>=0.12\n",
            "  Downloading https://files.pythonhosted.org/packages/a0/28/85c7aa31b80d150b772fbe4a229487bc6644da9ccb7e427dd8cc60cb8a62/pluggy-0.13.1-py2.py3-none-any.whl\n",
            "Requirement already satisfied: py>=1.5.0 in /usr/local/lib/python3.6/dist-packages (from pytest>=4.0.2->phik) (1.8.1)\n",
            "Requirement already satisfied: wcwidth in /usr/local/lib/python3.6/dist-packages (from pytest>=4.0.2->phik) (0.1.9)\n",
            "Requirement already satisfied: more-itertools>=4.0.0 in /usr/local/lib/python3.6/dist-packages (from pytest>=4.0.2->phik) (8.2.0)\n",
            "Requirement already satisfied: packaging in /usr/local/lib/python3.6/dist-packages (from pytest>=4.0.2->phik) (20.3)\n",
            "Requirement already satisfied: tornado>=4.1 in /usr/local/lib/python3.6/dist-packages (from jupyter-client>=5.2.3->phik) (4.5.3)\n",
            "Requirement already satisfied: pyzmq>=13 in /usr/local/lib/python3.6/dist-packages (from jupyter-client>=5.2.3->phik) (19.0.0)\n",
            "Collecting isort<5,>=4.2.5\n",
            "\u001b[?25l  Downloading https://files.pythonhosted.org/packages/e5/b0/c121fd1fa3419ea9bfd55c7f9c4fedfec5143208d8c7ad3ce3db6c623c21/isort-4.3.21-py2.py3-none-any.whl (42kB)\n",
            "\u001b[K     |████████████████████████████████| 51kB 6.0MB/s \n",
            "\u001b[?25hCollecting astroid<2.4,>=2.3.0\n",
            "\u001b[?25l  Downloading https://files.pythonhosted.org/packages/ad/ae/86734823047962e7b8c8529186a1ac4a7ca19aaf1aa0c7713c022ef593fd/astroid-2.3.3-py3-none-any.whl (205kB)\n",
            "\u001b[K     |████████████████████████████████| 215kB 12.3MB/s \n",
            "\u001b[?25hCollecting mccabe<0.7,>=0.6\n",
            "  Downloading https://files.pythonhosted.org/packages/87/89/479dc97e18549e21354893e4ee4ef36db1d237534982482c3681ee6e7b57/mccabe-0.6.1-py2.py3-none-any.whl\n",
            "Requirement already satisfied: six in /usr/local/lib/python3.6/dist-packages (from cycler>=0.10->matplotlib>=2.2.3->phik) (1.12.0)\n",
            "Requirement already satisfied: ipython-genutils in /usr/local/lib/python3.6/dist-packages (from nbformat>=4.4->nbconvert>=5.3.1->phik) (0.2.0)\n",
            "Requirement already satisfied: jsonschema!=2.5.0,>=2.4 in /usr/local/lib/python3.6/dist-packages (from nbformat>=4.4->nbconvert>=5.3.1->phik) (2.6.0)\n",
            "Requirement already satisfied: MarkupSafe>=0.23 in /usr/local/lib/python3.6/dist-packages (from jinja2>=2.4->nbconvert>=5.3.1->phik) (1.1.1)\n",
            "Requirement already satisfied: webencodings in /usr/local/lib/python3.6/dist-packages (from bleach->nbconvert>=5.3.1->phik) (0.5.1)\n",
            "Requirement already satisfied: decorator in /usr/local/lib/python3.6/dist-packages (from traitlets>=4.2->nbconvert>=5.3.1->phik) (4.4.2)\n",
            "Requirement already satisfied: zipp>=0.5 in /usr/local/lib/python3.6/dist-packages (from importlib-metadata>=0.12; python_version < \"3.8\"->pytest>=4.0.2->phik) (3.1.0)\n",
            "Collecting lazy-object-proxy==1.4.*\n",
            "\u001b[?25l  Downloading https://files.pythonhosted.org/packages/0b/dd/b1e3407e9e6913cf178e506cd0dee818e58694d9a5cd1984e3f6a8b9a10f/lazy_object_proxy-1.4.3-cp36-cp36m-manylinux1_x86_64.whl (55kB)\n",
            "\u001b[K     |████████████████████████████████| 61kB 7.8MB/s \n",
            "\u001b[?25hCollecting wrapt==1.11.*\n",
            "  Downloading https://files.pythonhosted.org/packages/23/84/323c2415280bc4fc880ac5050dddfb3c8062c2552b34c2e512eb4aa68f79/wrapt-1.11.2.tar.gz\n",
            "Collecting typed-ast<1.5,>=1.4.0; implementation_name == \"cpython\" and python_version < \"3.8\"\n",
            "\u001b[?25l  Downloading https://files.pythonhosted.org/packages/90/ed/5459080d95eb87a02fe860d447197be63b6e2b5e9ff73c2b0a85622994f4/typed_ast-1.4.1-cp36-cp36m-manylinux1_x86_64.whl (737kB)\n",
            "\u001b[K     |████████████████████████████████| 747kB 17.3MB/s \n",
            "\u001b[?25hBuilding wheels for collected packages: wrapt\n",
            "  Building wheel for wrapt (setup.py) ... \u001b[?25l\u001b[?25hdone\n",
            "  Created wheel for wrapt: filename=wrapt-1.11.2-cp36-cp36m-linux_x86_64.whl size=67530 sha256=b2152cd6bd786020e44c9cd81afcafc8b767c74204eb26cb11465ea3b9fdf6f8\n",
            "  Stored in directory: /root/.cache/pip/wheels/d7/de/2e/efa132238792efb6459a96e85916ef8597fcb3d2ae51590dfd\n",
            "Successfully built wrapt\n",
            "\u001b[31mERROR: datascience 0.10.6 has requirement folium==0.2.1, but you'll have folium 0.8.3 which is incompatible.\u001b[0m\n",
            "Installing collected packages: isort, lazy-object-proxy, wrapt, typed-ast, astroid, mccabe, pylint, pluggy, pytest, pytest-pylint, phik\n",
            "  Found existing installation: wrapt 1.12.1\n",
            "    Uninstalling wrapt-1.12.1:\n",
            "      Successfully uninstalled wrapt-1.12.1\n",
            "  Found existing installation: pluggy 0.7.1\n",
            "    Uninstalling pluggy-0.7.1:\n",
            "      Successfully uninstalled pluggy-0.7.1\n",
            "  Found existing installation: pytest 3.6.4\n",
            "    Uninstalling pytest-3.6.4:\n",
            "      Successfully uninstalled pytest-3.6.4\n",
            "Successfully installed astroid-2.3.3 isort-4.3.21 lazy-object-proxy-1.4.3 mccabe-0.6.1 phik-0.9.10 pluggy-0.13.1 pylint-2.4.4 pytest-5.4.1 pytest-pylint-0.15.1 typed-ast-1.4.1 wrapt-1.11.2\n",
            "Collecting cmocean\n",
            "\u001b[?25l  Downloading https://files.pythonhosted.org/packages/48/02/d0f19b00b252fd972e3daec05be73aa811091528f21b90442a15d6a96d89/cmocean-2.0-py3-none-any.whl (223kB)\n",
            "\u001b[K     |████████████████████████████████| 225kB 2.6MB/s \n",
            "\u001b[?25hInstalling collected packages: cmocean\n",
            "Successfully installed cmocean-2.0\n"
          ],
          "name": "stdout"
        }
      ]
    },
    {
      "cell_type": "code",
      "metadata": {
        "id": "jK7iMeNf_W6H",
        "colab_type": "code",
        "colab": {}
      },
      "source": [
        "import pandas as pd\n",
        "import numpy as np\n",
        "import matplotlib.pyplot as plt\n",
        "import phik\n",
        "from phik import resources, report\n",
        "\n",
        "from scipy import stats\n",
        "from scipy.stats import chi2, chi2_contingency\n",
        "\n",
        "from math import sqrt"
      ],
      "execution_count": 0,
      "outputs": []
    },
    {
      "cell_type": "markdown",
      "metadata": {
        "id": "HSzMcmk-Mo4E",
        "colab_type": "text"
      },
      "source": [
        "## **Carga de datos desde AWS**\n"
      ]
    },
    {
      "cell_type": "code",
      "metadata": {
        "id": "1MDhhgVWLLos",
        "colab_type": "code",
        "colab": {}
      },
      "source": [
        "df = pd.read_csv('https://saturday-ai.s3-sa-east-1.amazonaws.com/titanic/train.csv')\n",
        "df_test = pd.read_csv('https://saturday-ai.s3-sa-east-1.amazonaws.com/titanic/test.csv')\n",
        "df_sub = pd.read_csv('https://saturday-ai.s3-sa-east-1.amazonaws.com/titanic/gender_submission.csv')"
      ],
      "execution_count": 0,
      "outputs": []
    },
    {
      "cell_type": "code",
      "metadata": {
        "id": "l9z7Xp71DI3p",
        "colab_type": "code",
        "colab": {}
      },
      "source": [
        "df2 = pd.merge(df_test, df_sub)"
      ],
      "execution_count": 0,
      "outputs": []
    },
    {
      "cell_type": "markdown",
      "metadata": {
        "id": "_VQbNX5zkZyu",
        "colab_type": "text"
      },
      "source": [
        "# **EDA**"
      ]
    },
    {
      "cell_type": "markdown",
      "metadata": {
        "id": "LGXc_90DNoWj",
        "colab_type": "text"
      },
      "source": [
        "# **Paquete de trabajo No. 1**\n",
        "\n",
        "**Entregable**\n",
        "* Objeto `DataFrame` con los pares de variables asignados **mejorados**\n",
        "---\n",
        "<p>\n",
        "<font size=\"2.2\">\n",
        "<b>Nota:</b> Este entrable debe tener como fin, incrementar la relevancia, como sea posible, de todos los pares de variables con respecto a la variable predictiva.<font>\n",
        "</p>\n",
        "<p>\n",
        "<font size=\"2.2\">\n",
        "<b>Claves:</b>La métrica usada para cuantificar la correlación o relación entre dos pares de variables dependerá su tipo, sea continuo-continuo, categórico-categórico o categórico-continuo.<font>\n",
        "</p>\n",
        "\n"
      ]
    },
    {
      "cell_type": "markdown",
      "metadata": {
        "id": "sSAfvwQTYtlk",
        "colab_type": "text"
      },
      "source": [
        "## **nameSex**"
      ]
    },
    {
      "cell_type": "code",
      "metadata": {
        "id": "qIhxongujNVq",
        "colab_type": "code",
        "colab": {}
      },
      "source": [
        "# Escriba el código del par de variables 'nameSex' aquí"
      ],
      "execution_count": 0,
      "outputs": []
    },
    {
      "cell_type": "markdown",
      "metadata": {
        "id": "spAPRm75jcQZ",
        "colab_type": "text"
      },
      "source": [
        "## **sexAge**"
      ]
    },
    {
      "cell_type": "code",
      "metadata": {
        "id": "3kk7NUyOjfCi",
        "colab_type": "code",
        "colab": {}
      },
      "source": [
        "# Escriba el código del par de variables 'sexAge' aquí"
      ],
      "execution_count": 0,
      "outputs": []
    },
    {
      "cell_type": "markdown",
      "metadata": {
        "id": "3s8ymuT7i1gt",
        "colab_type": "text"
      },
      "source": [
        "## **pclassFareEmbarked**"
      ]
    },
    {
      "cell_type": "code",
      "metadata": {
        "id": "VYaGF0AMjVhu",
        "colab_type": "code",
        "colab": {}
      },
      "source": [
        "# Escriba el código del par de variables 'pclassFareEmbarked' aquí"
      ],
      "execution_count": 0,
      "outputs": []
    },
    {
      "cell_type": "markdown",
      "metadata": {
        "id": "SSWzsXaAjC2E",
        "colab_type": "text"
      },
      "source": [
        "## **pclassTicketCabin**"
      ]
    },
    {
      "cell_type": "code",
      "metadata": {
        "id": "ZHyzi72ZjWbN",
        "colab_type": "code",
        "colab": {}
      },
      "source": [
        "# Escriba el código del par de variables 'pclassTicketCabin' aquí"
      ],
      "execution_count": 0,
      "outputs": []
    },
    {
      "cell_type": "markdown",
      "metadata": {
        "id": "ofa9dzIhi-o1",
        "colab_type": "text"
      },
      "source": [
        "\n",
        "## **sibspParch**"
      ]
    },
    {
      "cell_type": "code",
      "metadata": {
        "id": "1gdWvBQlVRHA",
        "colab_type": "code",
        "colab": {}
      },
      "source": [
        "# 0 = No sobrevive, 1 = Sobrevive\n",
        "x0 = df.loc[df.Survived == 0, 'SibSp']\n",
        "x1 = df.loc[df.Survived == 1, 'SibSp']\n",
        "\n",
        "y0 = df.loc[df.Survived == 0, 'Parch']\n",
        "y1 = df.loc[df.Survived == 1, 'Parch']"
      ],
      "execution_count": 0,
      "outputs": []
    },
    {
      "cell_type": "markdown",
      "metadata": {
        "id": "Hn2k6q_KV47a",
        "colab_type": "text"
      },
      "source": [
        "¿Hay ausencia de valores o nulos en los pares de variables para ambas categorías?"
      ]
    },
    {
      "cell_type": "code",
      "metadata": {
        "id": "mQhp8dkcVoYl",
        "colab_type": "code",
        "colab": {
          "base_uri": "https://localhost:8080/",
          "height": 84
        },
        "outputId": "715a2f7b-f7ed-472d-e317-964504767738"
      },
      "source": [
        "null_sum = [x0.isnull().sum(), x1.isnull().sum(), y0.isnull().sum(), y1.isnull().sum()]\n",
        "count = [x0.count(), x1.count(), y0.count(), y1.count()]\n",
        "\n",
        "for i, j in zip(null_sum, count):\n",
        "  print('Hay {} valores nulos para {} observaciones del subconjunto'.format(i, j))"
      ],
      "execution_count": 356,
      "outputs": [
        {
          "output_type": "stream",
          "text": [
            "Hay 0 valores nulos para 549 observaciones del subconjunto\n",
            "Hay 0 valores nulos para 342 observaciones del subconjunto\n",
            "Hay 0 valores nulos para 549 observaciones del subconjunto\n",
            "Hay 0 valores nulos para 342 observaciones del subconjunto\n"
          ],
          "name": "stdout"
        }
      ]
    },
    {
      "cell_type": "markdown",
      "metadata": {
        "id": "TWwW3uTYX8om",
        "colab_type": "text"
      },
      "source": [
        "**Key:** Se observa igual proporcion entre el par de variables para ambas categorías. Esto me permitirá realizar un test sobre un conjunto de igual tamaño, para variables de razón y discreta "
      ]
    },
    {
      "cell_type": "code",
      "metadata": {
        "id": "hok4g9QAqdOX",
        "colab_type": "code",
        "outputId": "090c00e4-06ec-4579-dd81-0980e1c2d34f",
        "colab": {
          "base_uri": "https://localhost:8080/",
          "height": 616
        }
      },
      "source": [
        "# Creamos un objeto de subplots y establecemos la estructura\n",
        "\n",
        "plt.subplots(2,2, figsize=(20,10))\n",
        "\n",
        "###############\n",
        "plt.subplot(221)       \n",
        "\n",
        "(100 * x0.value_counts() / len(x0)).plot(kind = 'bar', color = '#ADAB2A')\n",
        "         \n",
        "ax1 = plt.gca()\n",
        "ax1.spines['top'].set_visible(False)\n",
        "ax1.spines['right'].set_visible(False)\n",
        "ax1.spines['left'].set_visible(False)\n",
        "\n",
        "ax1.set_title('No supervivientes', **title)\n",
        "ax1.set_ylabel('Frecuencia relativa, %', **labels)\n",
        "ax1.set_xlabel('No. hermanos / cónyuges abordo', **labels)\n",
        "ax1.set_ylim(0, 100)\n",
        "\n",
        "###############\n",
        "plt.subplot(222)\n",
        "\n",
        "(100 * x1.value_counts() / len(x1)).plot(kind = 'bar', color ='#E0DE36')\n",
        "                \n",
        "ax2 = plt.gca()\n",
        "ax2.spines['top'].set_visible(False)\n",
        "ax2.spines['right'].set_visible(False)\n",
        "ax2.spines['left'].set_visible(False)\n",
        "ax2.set_title('Supervivientes', **title)\n",
        "ax2.set_ylabel('Frecuencia relativa, %', **labels)\n",
        "ax2.set_xlabel('No. hermanos / cónyuges abordo', **labels)\n",
        "ax2.set_ylim(0, 100)\n",
        "\n",
        "###############\n",
        "plt.subplot(223) \n",
        "\n",
        "(100 * y0.value_counts() / len(y0)).plot(kind = 'bar', color = '#ADAB2A') \n",
        "         \n",
        "ax3 = plt.gca()\n",
        "ax3.spines['top'].set_visible(False)\n",
        "ax3.spines['right'].set_visible(False)\n",
        "ax3.spines['left'].set_visible(False)\n",
        "ax3.set_ylabel('Frecuencia relativa, %', **labels)\n",
        "ax3.set_xlabel('No. de padres / niños abordo', **labels)\n",
        "ax3.set_ylim(0, 100)\n",
        "\n",
        "###############\n",
        "plt.subplot(224)\n",
        "\n",
        "(100 * y1.value_counts() / len(y1)).plot(kind = 'bar', color ='#E0DE36')\n",
        "                \n",
        "ax4 = plt.gca()\n",
        "ax4.spines['top'].set_visible(False)\n",
        "ax4.spines['right'].set_visible(False)\n",
        "ax4.spines['left'].set_visible(False)\n",
        "ax4.set_ylabel('Frecuencia relativa, %', **labels)\n",
        "ax4.set_xlabel('No. de padres / niños abordo', **labels)\n",
        "ax4.set_ylim(0, 100)\n",
        "\n",
        "plt.show()"
      ],
      "execution_count": 357,
      "outputs": [
        {
          "output_type": "display_data",
          "data": {
            "image/png": "[encoded data removed]",
            "text/plain": [
              "<Figure size 1440x720 with 4 Axes>"
            ]
          },
          "metadata": {
            "tags": [],
            "needs_background": "light"
          }
        }
      ]
    },
    {
      "cell_type": "markdown",
      "metadata": {
        "id": "0hotszIHUd4r",
        "colab_type": "text"
      },
      "source": [
        "**Key:** Se observa una proporción muy alta de valores 0 sobre el par de variables, y para ambas categorías. ¿Que tipo de distribución tienen estas variables? "
      ]
    },
    {
      "cell_type": "markdown",
      "metadata": {
        "id": "KVB9XHjoS7VO",
        "colab_type": "text"
      },
      "source": [
        "# **Identificación de variables: ¿Qué tipo de variables son?** \n",
        "\n",
        "Para poder visualizar una pequeña porción del conjunto de datos $N$, usaremos los métodos `.head` y `.tail` para imprimir las primeras y últimas 10 observaciones."
      ]
    },
    {
      "cell_type": "markdown",
      "metadata": {
        "colab_type": "text",
        "id": "R4tB0Sq4TW7A"
      },
      "source": [
        "La siguienta Tabla, brinda una breve descripción de los datos en función de la información proporcionada por Kaggle, y será un punto de partida para nuestro **Análisis Exploratorio de Datos**.  \n",
        "\n",
        "Variable | Definición | Valor \n",
        "--- | --- | --- \n",
        "`PassengerId` | ID \n",
        "`Survived` | Supervivencia | 0: No, 1 : Sí \n",
        "`Pclass` | Clase de boleto | 1: 1st, 2: 2nd, 3: 3rd\n",
        "`Name` | Nombre del pasajero \n",
        "`Sex` | Género | Male, Female \n",
        "`Age` | Edad | |\n",
        "`SibSp` | No. hermanos / persona abordo \n",
        "`Parch` | No. de padres / niños abordo |\n",
        "`Ticket` | Número del ticket|| Cadena |\n",
        "`Fare` | Tarifa del pasajero continuos |\n",
        "`Cabin` | Número de cabrina string |\n",
        "`Embarked` | Puerto de embarque | C: Cherbourg, Q: Queenstown, S: Southampton "
      ]
    },
    {
      "cell_type": "code",
      "metadata": {
        "id": "82RPJy8gSt0a",
        "colab_type": "code",
        "colab": {
          "base_uri": "https://localhost:8080/",
          "height": 195
        },
        "outputId": "e7496b0b-d696-4291-e48c-e94849a23d6b"
      },
      "source": [
        "df.head()"
      ],
      "execution_count": 7,
      "outputs": [
        {
          "output_type": "execute_result",
          "data": {
            "text/html": [
              "<div>\n",
              "<style scoped>\n",
              "    .dataframe tbody tr th:only-of-type {\n",
              "        vertical-align: middle;\n",
              "    }\n",
              "\n",
              "    .dataframe tbody tr th {\n",
              "        vertical-align: top;\n",
              "    }\n",
              "\n",
              "    .dataframe thead th {\n",
              "        text-align: right;\n",
              "    }\n",
              "</style>\n",
              "<table border=\"1\" class=\"dataframe\">\n",
              "  <thead>\n",
              "    <tr style=\"text-align: right;\">\n",
              "      <th></th>\n",
              "      <th>PassengerId</th>\n",
              "      <th>Survived</th>\n",
              "      <th>Pclass</th>\n",
              "      <th>Name</th>\n",
              "      <th>Sex</th>\n",
              "      <th>Age</th>\n",
              "      <th>SibSp</th>\n",
              "      <th>Parch</th>\n",
              "      <th>Ticket</th>\n",
              "      <th>Fare</th>\n",
              "      <th>Cabin</th>\n",
              "      <th>Embarked</th>\n",
              "    </tr>\n",
              "  </thead>\n",
              "  <tbody>\n",
              "    <tr>\n",
              "      <th>0</th>\n",
              "      <td>1</td>\n",
              "      <td>0</td>\n",
              "      <td>3</td>\n",
              "      <td>Braund, Mr. Owen Harris</td>\n",
              "      <td>male</td>\n",
              "      <td>22.0</td>\n",
              "      <td>1</td>\n",
              "      <td>0</td>\n",
              "      <td>A/5 21171</td>\n",
              "      <td>7.2500</td>\n",
              "      <td>NaN</td>\n",
              "      <td>S</td>\n",
              "    </tr>\n",
              "    <tr>\n",
              "      <th>1</th>\n",
              "      <td>2</td>\n",
              "      <td>1</td>\n",
              "      <td>1</td>\n",
              "      <td>Cumings, Mrs. John Bradley (Florence Briggs Th...</td>\n",
              "      <td>female</td>\n",
              "      <td>38.0</td>\n",
              "      <td>1</td>\n",
              "      <td>0</td>\n",
              "      <td>PC 17599</td>\n",
              "      <td>71.2833</td>\n",
              "      <td>C85</td>\n",
              "      <td>C</td>\n",
              "    </tr>\n",
              "    <tr>\n",
              "      <th>2</th>\n",
              "      <td>3</td>\n",
              "      <td>1</td>\n",
              "      <td>3</td>\n",
              "      <td>Heikkinen, Miss. Laina</td>\n",
              "      <td>female</td>\n",
              "      <td>26.0</td>\n",
              "      <td>0</td>\n",
              "      <td>0</td>\n",
              "      <td>STON/O2. 3101282</td>\n",
              "      <td>7.9250</td>\n",
              "      <td>NaN</td>\n",
              "      <td>S</td>\n",
              "    </tr>\n",
              "    <tr>\n",
              "      <th>3</th>\n",
              "      <td>4</td>\n",
              "      <td>1</td>\n",
              "      <td>1</td>\n",
              "      <td>Futrelle, Mrs. Jacques Heath (Lily May Peel)</td>\n",
              "      <td>female</td>\n",
              "      <td>35.0</td>\n",
              "      <td>1</td>\n",
              "      <td>0</td>\n",
              "      <td>113803</td>\n",
              "      <td>53.1000</td>\n",
              "      <td>C123</td>\n",
              "      <td>S</td>\n",
              "    </tr>\n",
              "    <tr>\n",
              "      <th>4</th>\n",
              "      <td>5</td>\n",
              "      <td>0</td>\n",
              "      <td>3</td>\n",
              "      <td>Allen, Mr. William Henry</td>\n",
              "      <td>male</td>\n",
              "      <td>35.0</td>\n",
              "      <td>0</td>\n",
              "      <td>0</td>\n",
              "      <td>373450</td>\n",
              "      <td>8.0500</td>\n",
              "      <td>NaN</td>\n",
              "      <td>S</td>\n",
              "    </tr>\n",
              "  </tbody>\n",
              "</table>\n",
              "</div>"
            ],
            "text/plain": [
              "   PassengerId  Survived  Pclass  ...     Fare Cabin  Embarked\n",
              "0            1         0       3  ...   7.2500   NaN         S\n",
              "1            2         1       1  ...  71.2833   C85         C\n",
              "2            3         1       3  ...   7.9250   NaN         S\n",
              "3            4         1       1  ...  53.1000  C123         S\n",
              "4            5         0       3  ...   8.0500   NaN         S\n",
              "\n",
              "[5 rows x 12 columns]"
            ]
          },
          "metadata": {
            "tags": []
          },
          "execution_count": 7
        }
      ]
    },
    {
      "cell_type": "code",
      "metadata": {
        "id": "OH4J8ENMYMjx",
        "colab_type": "code",
        "colab": {
          "base_uri": "https://localhost:8080/",
          "height": 195
        },
        "outputId": "0ba1b06d-fe1e-4250-e73f-6df981af6f2a"
      },
      "source": [
        "df.tail()"
      ],
      "execution_count": 8,
      "outputs": [
        {
          "output_type": "execute_result",
          "data": {
            "text/html": [
              "<div>\n",
              "<style scoped>\n",
              "    .dataframe tbody tr th:only-of-type {\n",
              "        vertical-align: middle;\n",
              "    }\n",
              "\n",
              "    .dataframe tbody tr th {\n",
              "        vertical-align: top;\n",
              "    }\n",
              "\n",
              "    .dataframe thead th {\n",
              "        text-align: right;\n",
              "    }\n",
              "</style>\n",
              "<table border=\"1\" class=\"dataframe\">\n",
              "  <thead>\n",
              "    <tr style=\"text-align: right;\">\n",
              "      <th></th>\n",
              "      <th>PassengerId</th>\n",
              "      <th>Survived</th>\n",
              "      <th>Pclass</th>\n",
              "      <th>Name</th>\n",
              "      <th>Sex</th>\n",
              "      <th>Age</th>\n",
              "      <th>SibSp</th>\n",
              "      <th>Parch</th>\n",
              "      <th>Ticket</th>\n",
              "      <th>Fare</th>\n",
              "      <th>Cabin</th>\n",
              "      <th>Embarked</th>\n",
              "    </tr>\n",
              "  </thead>\n",
              "  <tbody>\n",
              "    <tr>\n",
              "      <th>886</th>\n",
              "      <td>887</td>\n",
              "      <td>0</td>\n",
              "      <td>2</td>\n",
              "      <td>Montvila, Rev. Juozas</td>\n",
              "      <td>male</td>\n",
              "      <td>27.0</td>\n",
              "      <td>0</td>\n",
              "      <td>0</td>\n",
              "      <td>211536</td>\n",
              "      <td>13.00</td>\n",
              "      <td>NaN</td>\n",
              "      <td>S</td>\n",
              "    </tr>\n",
              "    <tr>\n",
              "      <th>887</th>\n",
              "      <td>888</td>\n",
              "      <td>1</td>\n",
              "      <td>1</td>\n",
              "      <td>Graham, Miss. Margaret Edith</td>\n",
              "      <td>female</td>\n",
              "      <td>19.0</td>\n",
              "      <td>0</td>\n",
              "      <td>0</td>\n",
              "      <td>112053</td>\n",
              "      <td>30.00</td>\n",
              "      <td>B42</td>\n",
              "      <td>S</td>\n",
              "    </tr>\n",
              "    <tr>\n",
              "      <th>888</th>\n",
              "      <td>889</td>\n",
              "      <td>0</td>\n",
              "      <td>3</td>\n",
              "      <td>Johnston, Miss. Catherine Helen \"Carrie\"</td>\n",
              "      <td>female</td>\n",
              "      <td>NaN</td>\n",
              "      <td>1</td>\n",
              "      <td>2</td>\n",
              "      <td>W./C. 6607</td>\n",
              "      <td>23.45</td>\n",
              "      <td>NaN</td>\n",
              "      <td>S</td>\n",
              "    </tr>\n",
              "    <tr>\n",
              "      <th>889</th>\n",
              "      <td>890</td>\n",
              "      <td>1</td>\n",
              "      <td>1</td>\n",
              "      <td>Behr, Mr. Karl Howell</td>\n",
              "      <td>male</td>\n",
              "      <td>26.0</td>\n",
              "      <td>0</td>\n",
              "      <td>0</td>\n",
              "      <td>111369</td>\n",
              "      <td>30.00</td>\n",
              "      <td>C148</td>\n",
              "      <td>C</td>\n",
              "    </tr>\n",
              "    <tr>\n",
              "      <th>890</th>\n",
              "      <td>891</td>\n",
              "      <td>0</td>\n",
              "      <td>3</td>\n",
              "      <td>Dooley, Mr. Patrick</td>\n",
              "      <td>male</td>\n",
              "      <td>32.0</td>\n",
              "      <td>0</td>\n",
              "      <td>0</td>\n",
              "      <td>370376</td>\n",
              "      <td>7.75</td>\n",
              "      <td>NaN</td>\n",
              "      <td>Q</td>\n",
              "    </tr>\n",
              "  </tbody>\n",
              "</table>\n",
              "</div>"
            ],
            "text/plain": [
              "     PassengerId  Survived  Pclass  ...   Fare Cabin  Embarked\n",
              "886          887         0       2  ...  13.00   NaN         S\n",
              "887          888         1       1  ...  30.00   B42         S\n",
              "888          889         0       3  ...  23.45   NaN         S\n",
              "889          890         1       1  ...  30.00  C148         C\n",
              "890          891         0       3  ...   7.75   NaN         Q\n",
              "\n",
              "[5 rows x 12 columns]"
            ]
          },
          "metadata": {
            "tags": []
          },
          "execution_count": 8
        }
      ]
    },
    {
      "cell_type": "code",
      "metadata": {
        "id": "uBcjWLbr6LGB",
        "colab_type": "code",
        "colab": {
          "base_uri": "https://localhost:8080/",
          "height": 195
        },
        "outputId": "12c948db-2029-40ff-a97c-a6a1762ba151"
      },
      "source": [
        "df_test.head()"
      ],
      "execution_count": 9,
      "outputs": [
        {
          "output_type": "execute_result",
          "data": {
            "text/html": [
              "<div>\n",
              "<style scoped>\n",
              "    .dataframe tbody tr th:only-of-type {\n",
              "        vertical-align: middle;\n",
              "    }\n",
              "\n",
              "    .dataframe tbody tr th {\n",
              "        vertical-align: top;\n",
              "    }\n",
              "\n",
              "    .dataframe thead th {\n",
              "        text-align: right;\n",
              "    }\n",
              "</style>\n",
              "<table border=\"1\" class=\"dataframe\">\n",
              "  <thead>\n",
              "    <tr style=\"text-align: right;\">\n",
              "      <th></th>\n",
              "      <th>PassengerId</th>\n",
              "      <th>Pclass</th>\n",
              "      <th>Name</th>\n",
              "      <th>Sex</th>\n",
              "      <th>Age</th>\n",
              "      <th>SibSp</th>\n",
              "      <th>Parch</th>\n",
              "      <th>Ticket</th>\n",
              "      <th>Fare</th>\n",
              "      <th>Cabin</th>\n",
              "      <th>Embarked</th>\n",
              "    </tr>\n",
              "  </thead>\n",
              "  <tbody>\n",
              "    <tr>\n",
              "      <th>0</th>\n",
              "      <td>892</td>\n",
              "      <td>3</td>\n",
              "      <td>Kelly, Mr. James</td>\n",
              "      <td>male</td>\n",
              "      <td>34.5</td>\n",
              "      <td>0</td>\n",
              "      <td>0</td>\n",
              "      <td>330911</td>\n",
              "      <td>7.8292</td>\n",
              "      <td>NaN</td>\n",
              "      <td>Q</td>\n",
              "    </tr>\n",
              "    <tr>\n",
              "      <th>1</th>\n",
              "      <td>893</td>\n",
              "      <td>3</td>\n",
              "      <td>Wilkes, Mrs. James (Ellen Needs)</td>\n",
              "      <td>female</td>\n",
              "      <td>47.0</td>\n",
              "      <td>1</td>\n",
              "      <td>0</td>\n",
              "      <td>363272</td>\n",
              "      <td>7.0000</td>\n",
              "      <td>NaN</td>\n",
              "      <td>S</td>\n",
              "    </tr>\n",
              "    <tr>\n",
              "      <th>2</th>\n",
              "      <td>894</td>\n",
              "      <td>2</td>\n",
              "      <td>Myles, Mr. Thomas Francis</td>\n",
              "      <td>male</td>\n",
              "      <td>62.0</td>\n",
              "      <td>0</td>\n",
              "      <td>0</td>\n",
              "      <td>240276</td>\n",
              "      <td>9.6875</td>\n",
              "      <td>NaN</td>\n",
              "      <td>Q</td>\n",
              "    </tr>\n",
              "    <tr>\n",
              "      <th>3</th>\n",
              "      <td>895</td>\n",
              "      <td>3</td>\n",
              "      <td>Wirz, Mr. Albert</td>\n",
              "      <td>male</td>\n",
              "      <td>27.0</td>\n",
              "      <td>0</td>\n",
              "      <td>0</td>\n",
              "      <td>315154</td>\n",
              "      <td>8.6625</td>\n",
              "      <td>NaN</td>\n",
              "      <td>S</td>\n",
              "    </tr>\n",
              "    <tr>\n",
              "      <th>4</th>\n",
              "      <td>896</td>\n",
              "      <td>3</td>\n",
              "      <td>Hirvonen, Mrs. Alexander (Helga E Lindqvist)</td>\n",
              "      <td>female</td>\n",
              "      <td>22.0</td>\n",
              "      <td>1</td>\n",
              "      <td>1</td>\n",
              "      <td>3101298</td>\n",
              "      <td>12.2875</td>\n",
              "      <td>NaN</td>\n",
              "      <td>S</td>\n",
              "    </tr>\n",
              "  </tbody>\n",
              "</table>\n",
              "</div>"
            ],
            "text/plain": [
              "   PassengerId  Pclass  ... Cabin Embarked\n",
              "0          892       3  ...   NaN        Q\n",
              "1          893       3  ...   NaN        S\n",
              "2          894       2  ...   NaN        Q\n",
              "3          895       3  ...   NaN        S\n",
              "4          896       3  ...   NaN        S\n",
              "\n",
              "[5 rows x 11 columns]"
            ]
          },
          "metadata": {
            "tags": []
          },
          "execution_count": 9
        }
      ]
    },
    {
      "cell_type": "code",
      "metadata": {
        "id": "8E_3klMt67lo",
        "colab_type": "code",
        "colab": {
          "base_uri": "https://localhost:8080/",
          "height": 195
        },
        "outputId": "876fac48-5caf-4300-e890-5d469e9ac1fb"
      },
      "source": [
        "df_sub.head()"
      ],
      "execution_count": 10,
      "outputs": [
        {
          "output_type": "execute_result",
          "data": {
            "text/html": [
              "<div>\n",
              "<style scoped>\n",
              "    .dataframe tbody tr th:only-of-type {\n",
              "        vertical-align: middle;\n",
              "    }\n",
              "\n",
              "    .dataframe tbody tr th {\n",
              "        vertical-align: top;\n",
              "    }\n",
              "\n",
              "    .dataframe thead th {\n",
              "        text-align: right;\n",
              "    }\n",
              "</style>\n",
              "<table border=\"1\" class=\"dataframe\">\n",
              "  <thead>\n",
              "    <tr style=\"text-align: right;\">\n",
              "      <th></th>\n",
              "      <th>PassengerId</th>\n",
              "      <th>Survived</th>\n",
              "    </tr>\n",
              "  </thead>\n",
              "  <tbody>\n",
              "    <tr>\n",
              "      <th>0</th>\n",
              "      <td>892</td>\n",
              "      <td>0</td>\n",
              "    </tr>\n",
              "    <tr>\n",
              "      <th>1</th>\n",
              "      <td>893</td>\n",
              "      <td>1</td>\n",
              "    </tr>\n",
              "    <tr>\n",
              "      <th>2</th>\n",
              "      <td>894</td>\n",
              "      <td>0</td>\n",
              "    </tr>\n",
              "    <tr>\n",
              "      <th>3</th>\n",
              "      <td>895</td>\n",
              "      <td>0</td>\n",
              "    </tr>\n",
              "    <tr>\n",
              "      <th>4</th>\n",
              "      <td>896</td>\n",
              "      <td>1</td>\n",
              "    </tr>\n",
              "  </tbody>\n",
              "</table>\n",
              "</div>"
            ],
            "text/plain": [
              "   PassengerId  Survived\n",
              "0          892         0\n",
              "1          893         1\n",
              "2          894         0\n",
              "3          895         0\n",
              "4          896         1"
            ]
          },
          "metadata": {
            "tags": []
          },
          "execution_count": 10
        }
      ]
    },
    {
      "cell_type": "code",
      "metadata": {
        "id": "nJA4Nm6K6-1P",
        "colab_type": "code",
        "colab": {
          "base_uri": "https://localhost:8080/",
          "height": 195
        },
        "outputId": "54344f37-9e19-4aee-a721-f10053f41965"
      },
      "source": [
        "df_test.tail()"
      ],
      "execution_count": 11,
      "outputs": [
        {
          "output_type": "execute_result",
          "data": {
            "text/html": [
              "<div>\n",
              "<style scoped>\n",
              "    .dataframe tbody tr th:only-of-type {\n",
              "        vertical-align: middle;\n",
              "    }\n",
              "\n",
              "    .dataframe tbody tr th {\n",
              "        vertical-align: top;\n",
              "    }\n",
              "\n",
              "    .dataframe thead th {\n",
              "        text-align: right;\n",
              "    }\n",
              "</style>\n",
              "<table border=\"1\" class=\"dataframe\">\n",
              "  <thead>\n",
              "    <tr style=\"text-align: right;\">\n",
              "      <th></th>\n",
              "      <th>PassengerId</th>\n",
              "      <th>Pclass</th>\n",
              "      <th>Name</th>\n",
              "      <th>Sex</th>\n",
              "      <th>Age</th>\n",
              "      <th>SibSp</th>\n",
              "      <th>Parch</th>\n",
              "      <th>Ticket</th>\n",
              "      <th>Fare</th>\n",
              "      <th>Cabin</th>\n",
              "      <th>Embarked</th>\n",
              "    </tr>\n",
              "  </thead>\n",
              "  <tbody>\n",
              "    <tr>\n",
              "      <th>413</th>\n",
              "      <td>1305</td>\n",
              "      <td>3</td>\n",
              "      <td>Spector, Mr. Woolf</td>\n",
              "      <td>male</td>\n",
              "      <td>NaN</td>\n",
              "      <td>0</td>\n",
              "      <td>0</td>\n",
              "      <td>A.5. 3236</td>\n",
              "      <td>8.0500</td>\n",
              "      <td>NaN</td>\n",
              "      <td>S</td>\n",
              "    </tr>\n",
              "    <tr>\n",
              "      <th>414</th>\n",
              "      <td>1306</td>\n",
              "      <td>1</td>\n",
              "      <td>Oliva y Ocana, Dona. Fermina</td>\n",
              "      <td>female</td>\n",
              "      <td>39.0</td>\n",
              "      <td>0</td>\n",
              "      <td>0</td>\n",
              "      <td>PC 17758</td>\n",
              "      <td>108.9000</td>\n",
              "      <td>C105</td>\n",
              "      <td>C</td>\n",
              "    </tr>\n",
              "    <tr>\n",
              "      <th>415</th>\n",
              "      <td>1307</td>\n",
              "      <td>3</td>\n",
              "      <td>Saether, Mr. Simon Sivertsen</td>\n",
              "      <td>male</td>\n",
              "      <td>38.5</td>\n",
              "      <td>0</td>\n",
              "      <td>0</td>\n",
              "      <td>SOTON/O.Q. 3101262</td>\n",
              "      <td>7.2500</td>\n",
              "      <td>NaN</td>\n",
              "      <td>S</td>\n",
              "    </tr>\n",
              "    <tr>\n",
              "      <th>416</th>\n",
              "      <td>1308</td>\n",
              "      <td>3</td>\n",
              "      <td>Ware, Mr. Frederick</td>\n",
              "      <td>male</td>\n",
              "      <td>NaN</td>\n",
              "      <td>0</td>\n",
              "      <td>0</td>\n",
              "      <td>359309</td>\n",
              "      <td>8.0500</td>\n",
              "      <td>NaN</td>\n",
              "      <td>S</td>\n",
              "    </tr>\n",
              "    <tr>\n",
              "      <th>417</th>\n",
              "      <td>1309</td>\n",
              "      <td>3</td>\n",
              "      <td>Peter, Master. Michael J</td>\n",
              "      <td>male</td>\n",
              "      <td>NaN</td>\n",
              "      <td>1</td>\n",
              "      <td>1</td>\n",
              "      <td>2668</td>\n",
              "      <td>22.3583</td>\n",
              "      <td>NaN</td>\n",
              "      <td>C</td>\n",
              "    </tr>\n",
              "  </tbody>\n",
              "</table>\n",
              "</div>"
            ],
            "text/plain": [
              "     PassengerId  Pclass                          Name  ...      Fare  Cabin  Embarked\n",
              "413         1305       3            Spector, Mr. Woolf  ...    8.0500    NaN         S\n",
              "414         1306       1  Oliva y Ocana, Dona. Fermina  ...  108.9000   C105         C\n",
              "415         1307       3  Saether, Mr. Simon Sivertsen  ...    7.2500    NaN         S\n",
              "416         1308       3           Ware, Mr. Frederick  ...    8.0500    NaN         S\n",
              "417         1309       3      Peter, Master. Michael J  ...   22.3583    NaN         C\n",
              "\n",
              "[5 rows x 11 columns]"
            ]
          },
          "metadata": {
            "tags": []
          },
          "execution_count": 11
        }
      ]
    },
    {
      "cell_type": "code",
      "metadata": {
        "id": "StD0xs-O7B_A",
        "colab_type": "code",
        "colab": {
          "base_uri": "https://localhost:8080/",
          "height": 195
        },
        "outputId": "26cb7fff-d9e8-4470-fade-2d5e08e59e7a"
      },
      "source": [
        "df_sub.tail()"
      ],
      "execution_count": 12,
      "outputs": [
        {
          "output_type": "execute_result",
          "data": {
            "text/html": [
              "<div>\n",
              "<style scoped>\n",
              "    .dataframe tbody tr th:only-of-type {\n",
              "        vertical-align: middle;\n",
              "    }\n",
              "\n",
              "    .dataframe tbody tr th {\n",
              "        vertical-align: top;\n",
              "    }\n",
              "\n",
              "    .dataframe thead th {\n",
              "        text-align: right;\n",
              "    }\n",
              "</style>\n",
              "<table border=\"1\" class=\"dataframe\">\n",
              "  <thead>\n",
              "    <tr style=\"text-align: right;\">\n",
              "      <th></th>\n",
              "      <th>PassengerId</th>\n",
              "      <th>Survived</th>\n",
              "    </tr>\n",
              "  </thead>\n",
              "  <tbody>\n",
              "    <tr>\n",
              "      <th>413</th>\n",
              "      <td>1305</td>\n",
              "      <td>0</td>\n",
              "    </tr>\n",
              "    <tr>\n",
              "      <th>414</th>\n",
              "      <td>1306</td>\n",
              "      <td>1</td>\n",
              "    </tr>\n",
              "    <tr>\n",
              "      <th>415</th>\n",
              "      <td>1307</td>\n",
              "      <td>0</td>\n",
              "    </tr>\n",
              "    <tr>\n",
              "      <th>416</th>\n",
              "      <td>1308</td>\n",
              "      <td>0</td>\n",
              "    </tr>\n",
              "    <tr>\n",
              "      <th>417</th>\n",
              "      <td>1309</td>\n",
              "      <td>0</td>\n",
              "    </tr>\n",
              "  </tbody>\n",
              "</table>\n",
              "</div>"
            ],
            "text/plain": [
              "     PassengerId  Survived\n",
              "413         1305         0\n",
              "414         1306         1\n",
              "415         1307         0\n",
              "416         1308         0\n",
              "417         1309         0"
            ]
          },
          "metadata": {
            "tags": []
          },
          "execution_count": 12
        }
      ]
    },
    {
      "cell_type": "code",
      "metadata": {
        "id": "toAxh_2wcEfC",
        "colab_type": "code",
        "outputId": "5328da0f-ca9c-4833-a26e-22eccc6e91e9",
        "colab": {
          "base_uri": "https://localhost:8080/",
          "height": 67
        }
      },
      "source": [
        "print('Hay {} observaciones y {} características en el conjunto de entrenamiento'.format(df.shape[0], df.shape[1]))\n",
        "print('Hay {} observaciones y {} características en el conjunto de test'.format(df2.shape[0], df2.shape[1]))\n",
        "print('Hay {} observaciones y {} características en el conjunto total'.format(df.shape[0] + df2.shape[0], df.shape[1]))"
      ],
      "execution_count": 13,
      "outputs": [
        {
          "output_type": "stream",
          "text": [
            "Hay 891 observaciones y 12 características en el conjunto de entrenamiento\n",
            "Hay 418 observaciones y 12 características en el conjunto de test\n",
            "Hay 1309 observaciones y 12 características en el conjunto total\n"
          ],
          "name": "stdout"
        }
      ]
    },
    {
      "cell_type": "markdown",
      "metadata": {
        "id": "Z8mPiNA1Vig3",
        "colab_type": "text"
      },
      "source": [
        "Variable | Tipo de variable | Tipo de dato | Categoría\n",
        "--- |  --- | --- |--- | \n",
        "`PassengerId`| | ? | ?  \n",
        "`Survived` | Predictiva | Cualitativo | Nominal (Dicotómico)\n",
        "`Pclass` | Explicativa | Cualitativo | Ordinal \n",
        "`Name` | ? | ? | Nominal \n",
        "`Sex` | Explicativa | Cualitativo | Nominal (Dicotómica) \n",
        "`Age` | Explicativa | Cuantitativo | Continuo \n",
        "`SibSp` | ? | Cuantitativo | Discreto \n",
        "`Parch` | ? | Cuantitativa | Discreto \n",
        "`Ticket` | ? | Cualitativo | Categórica \n",
        "`Fare` | ? | Cuantitiva | Continuo \n",
        "`Cabin` | ? | Cualitativo | Nominal\n",
        "`Embarked` | ? | Cualitativo | Nominal \n",
        "\n",
        "El **?** representa falta de certeza para determinar el tipo o categoría de la variable. "
      ]
    },
    {
      "cell_type": "markdown",
      "metadata": {
        "id": "p-JcJl4KqK7m",
        "colab_type": "text"
      },
      "source": [
        "# **Análisis univariante**"
      ]
    },
    {
      "cell_type": "code",
      "metadata": {
        "id": "1NBSylyOqPsq",
        "colab_type": "code",
        "colab": {
          "base_uri": "https://localhost:8080/",
          "height": 373
        },
        "outputId": "e6520bd1-5ff8-46fd-ae61-36a1532334fb"
      },
      "source": [
        "gender = df.Sex.value_counts() / len(df) * 100\n",
        "\n",
        "plt.figure(figsize=(6, 6))\n",
        "gender.plot(kind='pie')\n",
        "\n",
        "ax = plt.gca()\n",
        "ax.set_title('Proporción de género en N')\n",
        "plt.show()"
      ],
      "execution_count": 14,
      "outputs": [
        {
          "output_type": "display_data",
          "data": {
            "image/png": "[encoded data removed]",
            "text/plain": [
              "<Figure size 432x432 with 1 Axes>"
            ]
          },
          "metadata": {
            "tags": []
          }
        }
      ]
    },
    {
      "cell_type": "markdown",
      "metadata": {
        "id": "2ps669QCT05l",
        "colab_type": "text"
      },
      "source": [
        "# **Análisis bi-variante**\n",
        "\n",
        "* Pearson's R para casos de variables continuos-continuas\n",
        "* Correlation Ratio para casos de variables continuo-categórico\n",
        "* Cramer's V or Theil's U para casos de variables categórico-categórico"
      ]
    },
    {
      "cell_type": "markdown",
      "metadata": {
        "id": "yD4ONe-ek6Aq",
        "colab_type": "text"
      },
      "source": [
        "**Planteamiento de la hipótesis nula:** \n",
        "\n",
        "El fin del análisis bi-variante es poder resolver la duda de: ¿Existe alguna relación entre una variable $X$ y la supervivencia? \n",
        "\n",
        "**$H_{o}:$** No hay dependencia entre las 2 variables categóricas.\n",
        "\n",
        "**$H_{a}:$** Hay dependencia entre las 2 variables categóricas."
      ]
    },
    {
      "cell_type": "code",
      "metadata": {
        "id": "sIPT9fI3G6mt",
        "colab_type": "code",
        "colab": {
          "base_uri": "https://localhost:8080/",
          "height": 195
        },
        "outputId": "3b20ddda-0a13-4f7b-c089-54e6c8934bcd"
      },
      "source": [
        "df.head()"
      ],
      "execution_count": 283,
      "outputs": [
        {
          "output_type": "execute_result",
          "data": {
            "text/html": [
              "<div>\n",
              "<style scoped>\n",
              "    .dataframe tbody tr th:only-of-type {\n",
              "        vertical-align: middle;\n",
              "    }\n",
              "\n",
              "    .dataframe tbody tr th {\n",
              "        vertical-align: top;\n",
              "    }\n",
              "\n",
              "    .dataframe thead th {\n",
              "        text-align: right;\n",
              "    }\n",
              "</style>\n",
              "<table border=\"1\" class=\"dataframe\">\n",
              "  <thead>\n",
              "    <tr style=\"text-align: right;\">\n",
              "      <th></th>\n",
              "      <th>PassengerId</th>\n",
              "      <th>Survived</th>\n",
              "      <th>Pclass</th>\n",
              "      <th>Name</th>\n",
              "      <th>Sex</th>\n",
              "      <th>Age</th>\n",
              "      <th>SibSp</th>\n",
              "      <th>Parch</th>\n",
              "      <th>Ticket</th>\n",
              "      <th>Fare</th>\n",
              "      <th>Embarked</th>\n",
              "    </tr>\n",
              "  </thead>\n",
              "  <tbody>\n",
              "    <tr>\n",
              "      <th>0</th>\n",
              "      <td>1</td>\n",
              "      <td>0</td>\n",
              "      <td>3</td>\n",
              "      <td>Braund, Mr. Owen Harris</td>\n",
              "      <td>0</td>\n",
              "      <td>22.0</td>\n",
              "      <td>1</td>\n",
              "      <td>0</td>\n",
              "      <td>A/5 21171</td>\n",
              "      <td>7.2500</td>\n",
              "      <td>S</td>\n",
              "    </tr>\n",
              "    <tr>\n",
              "      <th>1</th>\n",
              "      <td>2</td>\n",
              "      <td>1</td>\n",
              "      <td>1</td>\n",
              "      <td>Cumings, Mrs. John Bradley (Florence Briggs Th...</td>\n",
              "      <td>1</td>\n",
              "      <td>38.0</td>\n",
              "      <td>1</td>\n",
              "      <td>0</td>\n",
              "      <td>PC 17599</td>\n",
              "      <td>71.2833</td>\n",
              "      <td>C</td>\n",
              "    </tr>\n",
              "    <tr>\n",
              "      <th>2</th>\n",
              "      <td>3</td>\n",
              "      <td>1</td>\n",
              "      <td>3</td>\n",
              "      <td>Heikkinen, Miss. Laina</td>\n",
              "      <td>1</td>\n",
              "      <td>26.0</td>\n",
              "      <td>0</td>\n",
              "      <td>0</td>\n",
              "      <td>STON/O2. 3101282</td>\n",
              "      <td>7.9250</td>\n",
              "      <td>S</td>\n",
              "    </tr>\n",
              "    <tr>\n",
              "      <th>3</th>\n",
              "      <td>4</td>\n",
              "      <td>1</td>\n",
              "      <td>1</td>\n",
              "      <td>Futrelle, Mrs. Jacques Heath (Lily May Peel)</td>\n",
              "      <td>1</td>\n",
              "      <td>35.0</td>\n",
              "      <td>1</td>\n",
              "      <td>0</td>\n",
              "      <td>113803</td>\n",
              "      <td>53.1000</td>\n",
              "      <td>S</td>\n",
              "    </tr>\n",
              "    <tr>\n",
              "      <th>4</th>\n",
              "      <td>5</td>\n",
              "      <td>0</td>\n",
              "      <td>3</td>\n",
              "      <td>Allen, Mr. William Henry</td>\n",
              "      <td>0</td>\n",
              "      <td>35.0</td>\n",
              "      <td>0</td>\n",
              "      <td>0</td>\n",
              "      <td>373450</td>\n",
              "      <td>8.0500</td>\n",
              "      <td>S</td>\n",
              "    </tr>\n",
              "  </tbody>\n",
              "</table>\n",
              "</div>"
            ],
            "text/plain": [
              "   PassengerId  Survived  Pclass  ...            Ticket     Fare  Embarked\n",
              "0            1         0       3  ...         A/5 21171   7.2500         S\n",
              "1            2         1       1  ...          PC 17599  71.2833         C\n",
              "2            3         1       3  ...  STON/O2. 3101282   7.9250         S\n",
              "3            4         1       1  ...            113803  53.1000         S\n",
              "4            5         0       3  ...            373450   8.0500         S\n",
              "\n",
              "[5 rows x 11 columns]"
            ]
          },
          "metadata": {
            "tags": []
          },
          "execution_count": 283
        }
      ]
    },
    {
      "cell_type": "code",
      "metadata": {
        "id": "lZUpbiTG5iAh",
        "colab_type": "code",
        "colab": {}
      },
      "source": [
        "title = {'fontsize': 11, 'weight': 'bold'}\n",
        "labels = {'fontsize': 10, 'weight': 'normal'}\n",
        "ticks = {'fontsize': 8, 'weight': 'normal'}"
      ],
      "execution_count": 0,
      "outputs": []
    },
    {
      "cell_type": "markdown",
      "metadata": {
        "id": "zhL2ocNOHmhN",
        "colab_type": "text"
      },
      "source": [
        "**Key:** Solo las variables `Age` y `Cabin` contienen valores nulos."
      ]
    },
    {
      "cell_type": "code",
      "metadata": {
        "id": "j2RrK2DKPX-n",
        "colab_type": "code",
        "colab": {
          "base_uri": "https://localhost:8080/",
          "height": 195
        },
        "outputId": "d8e7c11d-a274-43f9-d027-d5a95a792df8"
      },
      "source": [
        "sex_encode = {'Sex': {\"male\": 0, \"female\": 1}}\n",
        "df.replace(sex_encode, inplace=True)\n",
        "df.head()\n",
        "chi_sq = df[['Sex', 'Survived']]\n",
        "chi_sq.head()"
      ],
      "execution_count": 16,
      "outputs": [
        {
          "output_type": "execute_result",
          "data": {
            "text/html": [
              "<div>\n",
              "<style scoped>\n",
              "    .dataframe tbody tr th:only-of-type {\n",
              "        vertical-align: middle;\n",
              "    }\n",
              "\n",
              "    .dataframe tbody tr th {\n",
              "        vertical-align: top;\n",
              "    }\n",
              "\n",
              "    .dataframe thead th {\n",
              "        text-align: right;\n",
              "    }\n",
              "</style>\n",
              "<table border=\"1\" class=\"dataframe\">\n",
              "  <thead>\n",
              "    <tr style=\"text-align: right;\">\n",
              "      <th></th>\n",
              "      <th>Sex</th>\n",
              "      <th>Survived</th>\n",
              "    </tr>\n",
              "  </thead>\n",
              "  <tbody>\n",
              "    <tr>\n",
              "      <th>0</th>\n",
              "      <td>0</td>\n",
              "      <td>0</td>\n",
              "    </tr>\n",
              "    <tr>\n",
              "      <th>1</th>\n",
              "      <td>1</td>\n",
              "      <td>1</td>\n",
              "    </tr>\n",
              "    <tr>\n",
              "      <th>2</th>\n",
              "      <td>1</td>\n",
              "      <td>1</td>\n",
              "    </tr>\n",
              "    <tr>\n",
              "      <th>3</th>\n",
              "      <td>1</td>\n",
              "      <td>1</td>\n",
              "    </tr>\n",
              "    <tr>\n",
              "      <th>4</th>\n",
              "      <td>0</td>\n",
              "      <td>0</td>\n",
              "    </tr>\n",
              "  </tbody>\n",
              "</table>\n",
              "</div>"
            ],
            "text/plain": [
              "   Sex  Survived\n",
              "0    0         0\n",
              "1    1         1\n",
              "2    1         1\n",
              "3    1         1\n",
              "4    0         0"
            ]
          },
          "metadata": {
            "tags": []
          },
          "execution_count": 16
        }
      ]
    },
    {
      "cell_type": "markdown",
      "metadata": {
        "id": "eEHZVvAfZuB8",
        "colab_type": "text"
      },
      "source": [
        "**Paso 1:** Obtener la tabla de contigencia con la función `.crosstab` de `Pandas`."
      ]
    },
    {
      "cell_type": "code",
      "metadata": {
        "id": "ywDe_W-bZ42y",
        "colab_type": "code",
        "colab": {
          "base_uri": "https://localhost:8080/",
          "height": 136
        },
        "outputId": "1f6b426c-4dda-40a9-e7d0-a9235d55acee"
      },
      "source": [
        "# Frecuencias observaciones\n",
        "obs = pd.crosstab(chi_sq.Sex , chi_sq.Survived)\n",
        "obs"
      ],
      "execution_count": 17,
      "outputs": [
        {
          "output_type": "execute_result",
          "data": {
            "text/html": [
              "<div>\n",
              "<style scoped>\n",
              "    .dataframe tbody tr th:only-of-type {\n",
              "        vertical-align: middle;\n",
              "    }\n",
              "\n",
              "    .dataframe tbody tr th {\n",
              "        vertical-align: top;\n",
              "    }\n",
              "\n",
              "    .dataframe thead th {\n",
              "        text-align: right;\n",
              "    }\n",
              "</style>\n",
              "<table border=\"1\" class=\"dataframe\">\n",
              "  <thead>\n",
              "    <tr style=\"text-align: right;\">\n",
              "      <th>Survived</th>\n",
              "      <th>0</th>\n",
              "      <th>1</th>\n",
              "    </tr>\n",
              "    <tr>\n",
              "      <th>Sex</th>\n",
              "      <th></th>\n",
              "      <th></th>\n",
              "    </tr>\n",
              "  </thead>\n",
              "  <tbody>\n",
              "    <tr>\n",
              "      <th>0</th>\n",
              "      <td>468</td>\n",
              "      <td>109</td>\n",
              "    </tr>\n",
              "    <tr>\n",
              "      <th>1</th>\n",
              "      <td>81</td>\n",
              "      <td>233</td>\n",
              "    </tr>\n",
              "  </tbody>\n",
              "</table>\n",
              "</div>"
            ],
            "text/plain": [
              "Survived    0    1\n",
              "Sex               \n",
              "0         468  109\n",
              "1          81  233"
            ]
          },
          "metadata": {
            "tags": []
          },
          "execution_count": 17
        }
      ]
    },
    {
      "cell_type": "code",
      "metadata": {
        "id": "eYAklokb0edt",
        "colab_type": "code",
        "colab": {
          "base_uri": "https://localhost:8080/",
          "height": 293
        },
        "outputId": "c51bd6d0-beaf-4adf-bcc6-c44ade65314c"
      },
      "source": [
        "obs.plot(kind='bar')"
      ],
      "execution_count": 18,
      "outputs": [
        {
          "output_type": "execute_result",
          "data": {
            "text/plain": [
              "<matplotlib.axes._subplots.AxesSubplot at 0x7ff110ab5d30>"
            ]
          },
          "metadata": {
            "tags": []
          },
          "execution_count": 18
        },
        {
          "output_type": "display_data",
          "data": {
            "image/png": "[encoded data removed]",
            "text/plain": [
              "<Figure size 432x288 with 1 Axes>"
            ]
          },
          "metadata": {
            "tags": [],
            "needs_background": "light"
          }
        }
      ]
    },
    {
      "cell_type": "markdown",
      "metadata": {
        "id": "eNXQngN8gmrM",
        "colab_type": "text"
      },
      "source": [
        "**Paso 2:** Procedemos a calcular el test de ji-cuadrado usando la tabla de contigencia anterior."
      ]
    },
    {
      "cell_type": "code",
      "metadata": {
        "id": "L_cr5TKWa_zy",
        "colab_type": "code",
        "colab": {
          "base_uri": "https://localhost:8080/",
          "height": 118
        },
        "outputId": "c4adc4f3-989b-491a-d68b-e2793902b903"
      },
      "source": [
        "#Chi2, p-valor, grados de libertad, frecuencia esperada\n",
        "chi_2, p, dof, ex = chi2_contingency(obs)\n",
        "\n",
        "print('Valor de ji-cuadrado: {}'.format(round(chi_2, 2)))\n",
        "print('p-valor: {}'.format(p))\n",
        "print('Grados de libertad: {}'.format(dof))\n",
        "print('Frecuencia esperada de las observaciones: \\n{}'.format(ex.round(2)))"
      ],
      "execution_count": 19,
      "outputs": [
        {
          "output_type": "stream",
          "text": [
            "Valor de ji-cuadrado: 260.72\n",
            "p-valor: 1.1973570627755645e-58\n",
            "Grados de libertad: 1\n",
            "Frecuencia esperada de las observaciones: \n",
            "[[355.53 221.47]\n",
            " [193.47 120.53]]\n"
          ],
          "name": "stdout"
        }
      ]
    },
    {
      "cell_type": "markdown",
      "metadata": {
        "id": "NnltfA_4aLWA",
        "colab_type": "text"
      },
      "source": [
        "**Key:** Debido que, en la tabla de contigencia, ninguna frecuencia esperada es menor a 5, se puede realizar la prueba sin corrección de Yates"
      ]
    },
    {
      "cell_type": "markdown",
      "metadata": {
        "id": "Thk9oeyOhiDE",
        "colab_type": "text"
      },
      "source": [
        "**Paso 3:** Calculamos el valor de menor probabilidad de la cola Q."
      ]
    },
    {
      "cell_type": "code",
      "metadata": {
        "id": "xvu9QktxbquT",
        "colab_type": "code",
        "colab": {
          "base_uri": "https://localhost:8080/",
          "height": 34
        },
        "outputId": "fc081d81-00bd-4914-85e3-41123b11680f"
      },
      "source": [
        "alpha = 0.01 # p-value\n",
        "cv = chi2.ppf(q= 1-alpha, df= dof)\n",
        "print('Valor crítico o probabilidad menor de la cola:', cv)"
      ],
      "execution_count": 20,
      "outputs": [
        {
          "output_type": "stream",
          "text": [
            "Valor crítico o probabilidad menor de la cola: 6.6348966010212145\n"
          ],
          "name": "stdout"
        }
      ]
    },
    {
      "cell_type": "markdown",
      "metadata": {
        "id": "jGnj5uU2jBQz",
        "colab_type": "text"
      },
      "source": [
        "**Paso 4:** Se realiza la comparación entre los estadísticos para rechazar o tener la hipótesis nula planteada."
      ]
    },
    {
      "cell_type": "code",
      "metadata": {
        "id": "0KKZAZzMduM0",
        "colab_type": "code",
        "colab": {
          "base_uri": "https://localhost:8080/",
          "height": 101
        },
        "outputId": "fc251063-f69e-4f03-e679-fe610bddd789"
      },
      "source": [
        "print('Test de independencia entre variables')\n",
        "if chi_2 >= cv:\n",
        "  print('- Se rechaza Ho, existe relación entre las 2 variables categóricas.')\n",
        "else:\n",
        "  print('- Se retiene Ho, no existe relación entre las 2 variables categóricas')\n",
        "\n",
        "print('\\nTest de significación')\n",
        "if p <= alpha:\n",
        "  print('- Se rechaza Ho, existe relación entre las 2 variables categóricas')\n",
        "else:\n",
        "  print('- Se retiene Ho, no existe relación entre las 2 variables categóricas')"
      ],
      "execution_count": 21,
      "outputs": [
        {
          "output_type": "stream",
          "text": [
            "Test de independencia entre variables\n",
            "- Se rechaza Ho, existe relación entre las 2 variables categóricas.\n",
            "\n",
            "Test de significación\n",
            "- Se rechaza Ho, existe relación entre las 2 variables categóricas\n"
          ],
          "name": "stdout"
        }
      ]
    },
    {
      "cell_type": "code",
      "metadata": {
        "id": "02afY0dFamZd",
        "colab_type": "code",
        "colab": {}
      },
      "source": [
        "def chi_square(x, y, alpha=0.05):\n",
        "\n",
        "  obs = pd.crosstab(x, y)\n",
        "  chi, p, dof, ex = chi2_contingency(obs)\n",
        "  cv = chi2.ppf(q= 1-alpha, df= dof)\n",
        "\n",
        "  return (chi, p, cv)\n",
        "\n",
        "def cramers_v(x, y):\n",
        "\n",
        "  obs = pd.crosstab(x,y)\n",
        "  chi, p, dof, ex = chi2_contingency(obs)\n",
        "  n = obs.values.sum()\n",
        "  r, k = obs.shape\n",
        "  phi2 = chi / n\n",
        "  phi2corr = max(0, phi2 - ((k-1) * (r-1)) / (n-1))\n",
        "  rcorr = r - ((r-1)**2 / (n-1))\n",
        "  kcorr = k - ((k-1)**2 / (n-1))\n",
        "  \n",
        "  return np.sqrt(phi2corr / min((kcorr-1), (rcorr-1)))\n",
        "\n",
        "def theils_u(x, y):\n",
        "  \n",
        "  s_xy = conditional_entropy(x, y)\n",
        "  x_counter = Counter(x)\n",
        "  total_occurrences = sum(x_counter.values())\n",
        "  p_x = list(map(lambda n: n / total_occurrences, x_counter.values()))\n",
        "  s_x = ss.entropy(p_x)\n",
        "  if s_x == 0:\n",
        "    return 1\n",
        "  else:\n",
        "    return (s_x - s_xy) / s_x"
      ],
      "execution_count": 0,
      "outputs": []
    },
    {
      "cell_type": "code",
      "metadata": {
        "id": "UjH6uX1izFdF",
        "colab_type": "code",
        "colab": {
          "base_uri": "https://localhost:8080/",
          "height": 34
        },
        "outputId": "4c131651-82e3-47e8-caa4-81a6ecdcff6d"
      },
      "source": [
        "cramers_v(df.Sex, df.Survived)"
      ],
      "execution_count": 23,
      "outputs": [
        {
          "output_type": "execute_result",
          "data": {
            "text/plain": [
              "0.5401999468101071"
            ]
          },
          "metadata": {
            "tags": []
          },
          "execution_count": 23
        }
      ]
    },
    {
      "cell_type": "code",
      "metadata": {
        "id": "QU-BrG0KqE5w",
        "colab_type": "code",
        "colab": {
          "base_uri": "https://localhost:8080/",
          "height": 50
        },
        "outputId": "f926cde8-3988-4238-ed78-4e0477531c57"
      },
      "source": [
        "tau, p = stats.kendalltau(df.Sex, df.Survived)\n",
        "\n",
        "print('Valor de Kendall Tau-b: {}'.format(round(tau, 2)))\n",
        "print('p-valor: {}'.format(p))"
      ],
      "execution_count": 24,
      "outputs": [
        {
          "output_type": "stream",
          "text": [
            "Valor de Kendall Tau-b: 0.54\n",
            "p-valor: 4.304562532205025e-59\n"
          ],
          "name": "stdout"
        }
      ]
    },
    {
      "cell_type": "markdown",
      "metadata": {
        "id": "k-cGVceHk_6N",
        "colab_type": "text"
      },
      "source": [
        "# **Tratamiento de valores nulos**"
      ]
    },
    {
      "cell_type": "markdown",
      "metadata": {
        "id": "1J_IUapMOMtf",
        "colab_type": "text"
      },
      "source": [
        "Se observa que el conjunto de datos $N$ tiene $n: 891$ observaciones y $p: 12$ características, sin embargo ¿Cuántas de estas observaciones están perdidas por los valores nulos? "
      ]
    },
    {
      "cell_type": "code",
      "metadata": {
        "id": "zmRnWE-k1B-o",
        "colab_type": "code",
        "colab": {
          "base_uri": "https://localhost:8080/",
          "height": 1000
        },
        "outputId": "b3ea6e80-1ea8-4f0f-b0c1-c93dab09e5ed"
      },
      "source": [
        "print('Proporción Absoluta:\\n')\n",
        "print(df.isnull().sum())\n",
        "print('\\nProporción Relativa:\\n')\n",
        "print(df.isnull().sum() * 100 / len(df))\n",
        "\n",
        "print('Proporción Absoluta Test:\\n')\n",
        "print(df2.isnull().sum())\n",
        "print('\\nProporción Relativa Test:\\n')\n",
        "print(df2.isnull().sum() * 100 / len(df2))"
      ],
      "execution_count": 25,
      "outputs": [
        {
          "output_type": "stream",
          "text": [
            "Proporción Absoluta:\n",
            "\n",
            "PassengerId      0\n",
            "Survived         0\n",
            "Pclass           0\n",
            "Name             0\n",
            "Sex              0\n",
            "Age            177\n",
            "SibSp            0\n",
            "Parch            0\n",
            "Ticket           0\n",
            "Fare             0\n",
            "Cabin          687\n",
            "Embarked         2\n",
            "dtype: int64\n",
            "\n",
            "Proporción Relativa:\n",
            "\n",
            "PassengerId     0.000000\n",
            "Survived        0.000000\n",
            "Pclass          0.000000\n",
            "Name            0.000000\n",
            "Sex             0.000000\n",
            "Age            19.865320\n",
            "SibSp           0.000000\n",
            "Parch           0.000000\n",
            "Ticket          0.000000\n",
            "Fare            0.000000\n",
            "Cabin          77.104377\n",
            "Embarked        0.224467\n",
            "dtype: float64\n",
            "Proporción Absoluta Test:\n",
            "\n",
            "PassengerId      0\n",
            "Pclass           0\n",
            "Name             0\n",
            "Sex              0\n",
            "Age             86\n",
            "SibSp            0\n",
            "Parch            0\n",
            "Ticket           0\n",
            "Fare             1\n",
            "Cabin          327\n",
            "Embarked         0\n",
            "Survived         0\n",
            "dtype: int64\n",
            "\n",
            "Proporción Relativa Test:\n",
            "\n",
            "PassengerId     0.000000\n",
            "Pclass          0.000000\n",
            "Name            0.000000\n",
            "Sex             0.000000\n",
            "Age            20.574163\n",
            "SibSp           0.000000\n",
            "Parch           0.000000\n",
            "Ticket          0.000000\n",
            "Fare            0.239234\n",
            "Cabin          78.229665\n",
            "Embarked        0.000000\n",
            "Survived        0.000000\n",
            "dtype: float64\n"
          ],
          "name": "stdout"
        }
      ]
    },
    {
      "cell_type": "markdown",
      "metadata": {
        "id": "Rjj8piumgC7E",
        "colab_type": "text"
      },
      "source": [
        "**Visualización**\n",
        "\n",
        "A continuación, se observará gráficamente como se comporta la proporción en función del género. "
      ]
    },
    {
      "cell_type": "code",
      "metadata": {
        "id": "jWRKDfthZN1y",
        "colab_type": "code",
        "colab": {
          "base_uri": "https://localhost:8080/",
          "height": 154
        },
        "outputId": "2159fda8-e05c-497f-82c4-65a9192c9492"
      },
      "source": [
        "nan = df.isna()\n",
        "nan.Sex = df.Sex\n",
        "\n",
        "graph = nan.groupby(['Sex']).sum()[['Age', 'Cabin']]\n",
        "\n",
        "graph = 100 * graph / len(df)\n",
        "\n",
        "graph.plot.barh(figsize=(10,2), stacked=True, color = ['#ADAB2A', '#E0DE36'])\n",
        "\n",
        "\n",
        "ax = plt.gca()\n",
        "\n",
        "spines_off = ['top', 'bottom', 'right']\n",
        "for i in spines_off:\n",
        "  ax.spines[i].set_visible(False)\n",
        "\n",
        "ax.set_title('% valores nulos en población de hombres', loc='left', **title)\n",
        "ax.set_xlim(0, 100)\n",
        "ax.tick_params(axis='x', which='both', bottom=False, labelbottom=False)\n",
        "\n",
        "plt.show()"
      ],
      "execution_count": 26,
      "outputs": [
        {
          "output_type": "display_data",
          "data": {
            "image/png": "[encoded data removed]",
            "text/plain": [
              "<Figure size 720x144 with 1 Axes>"
            ]
          },
          "metadata": {
            "tags": [],
            "needs_background": "light"
          }
        }
      ]
    },
    {
      "cell_type": "code",
      "metadata": {
        "id": "8cNYlGs_fp7W",
        "colab_type": "code",
        "colab": {
          "base_uri": "https://localhost:8080/",
          "height": 371
        },
        "outputId": "15e2de8f-c963-47c1-95f7-fce8fc6cd3aa"
      },
      "source": [
        "plt.subplots(3,1, figsize=(12,6))\n",
        "\n",
        "###############\n",
        "plt.subplot(311)\n",
        "\n",
        "graph = 100 * df[['Age', 'Cabin']].isnull().sum() / len(df)\n",
        "\n",
        "graph.plot.barh(color = ['#ADAB2A', '#E0DE36'])\n",
        "\n",
        "ax = plt.gca()\n",
        "\n",
        "spines_off = ['top', 'bottom', 'right']\n",
        "for i in spines_off:\n",
        "  ax.spines[i].set_visible(False)\n",
        "   \n",
        "ax.set_title('% Total de valores nulos', **title)\n",
        "ax.set_xlim(0, 100)\n",
        "ax.tick_params(axis='x', which='both', bottom=False, labelbottom=False)\n",
        "\n",
        "for i, j in enumerate(graph):\n",
        "  ax.text(j + 1, i, '{}%'.format(int(j)), color= '#8C8C8C', **labels)\n",
        "\n",
        "###############\n",
        "plt.subplot(312)\n",
        "\n",
        "graph = 100 * df.loc[df.Sex == 0, ['Age', 'Cabin']].isnull().sum() / len(df)\n",
        "\n",
        "graph.plot.barh(color = ['#ADAB2A', '#E0DE36'])\n",
        "\n",
        "ax = plt.gca()\n",
        "\n",
        "for i in spines_off:\n",
        "  ax.spines[i].set_visible(False)\n",
        "\n",
        "ax.set_title('% valores nulos en población de hombres', loc='left', **title)\n",
        "ax.set_xlim(0, 100)\n",
        "ax.tick_params(axis='x', which='both', bottom=False, labelbottom=False)\n",
        "\n",
        "for i, j in enumerate(graph):\n",
        "  ax.text(j + 1, i, '{}%'.format(int(j)), color= '#8C8C8C', **labels)\n",
        "\n",
        "###############\n",
        "plt.subplot(313)\n",
        "\n",
        "graph = 100 * df.loc[df.Sex == 1, ['Age', 'Cabin']].isnull().sum() / len(df)\n",
        "\n",
        "graph.plot.barh(color = ['#ADAB2A', '#E0DE36'])\n",
        "     \n",
        "ax = plt.gca()\n",
        "\n",
        "for i in spines_off:\n",
        "  ax.spines[i].set_visible(False)\n",
        "\n",
        "ax.set_title('% valores nulos en población de mujeres', loc='left', **title)\n",
        "ax.set_xlim(0, 100)\n",
        "ax.tick_params(axis='x', which='both', bottom=False, labelbottom=False)\n",
        "\n",
        "for i, j in enumerate(graph):\n",
        "  ax.text(j + 1, i, '{}%'.format(int(j)), color= '#8C8C8C', **labels)\n",
        "\n",
        "plt.show()"
      ],
      "execution_count": 34,
      "outputs": [
        {
          "output_type": "display_data",
          "data": {
            "image/png": "[encoded data removed]",
            "text/plain": [
              "<Figure size 864x432 with 3 Axes>"
            ]
          },
          "metadata": {
            "tags": [],
            "needs_background": "light"
          }
        }
      ]
    },
    {
      "cell_type": "code",
      "metadata": {
        "id": "vVB9YJt_TcNf",
        "colab_type": "code",
        "colab": {
          "base_uri": "https://localhost:8080/",
          "height": 422
        },
        "outputId": "a3955303-1110-4fbd-8c0e-11d6f56494d5"
      },
      "source": [
        "graph = df.groupby(['Sex', 'Pclass', 'Survived']).count().unstack().PassengerId\n",
        "graph = 100 * graph / len(df) \n",
        "graph.plot.bar(stacked=True, figsize=(6, 6), color = ['#ADAB2A', '#E0DE36'])"
      ],
      "execution_count": 33,
      "outputs": [
        {
          "output_type": "execute_result",
          "data": {
            "text/plain": [
              "<matplotlib.axes._subplots.AxesSubplot at 0x7ff1106b21d0>"
            ]
          },
          "metadata": {
            "tags": []
          },
          "execution_count": 33
        },
        {
          "output_type": "display_data",
          "data": {
            "image/png": "[encoded data removed]",
            "text/plain": [
              "<Figure size 432x432 with 1 Axes>"
            ]
          },
          "metadata": {
            "tags": [],
            "needs_background": "light"
          }
        }
      ]
    },
    {
      "cell_type": "markdown",
      "metadata": {
        "id": "gvUWezV3F1bS",
        "colab_type": "text"
      },
      "source": [
        "Se observa que la proporción de nulos en $N_{tr}$ y $N_{ts}$, así como sus subconjuntos $H$ y $M$, respectivamente, cumplen la siguiente inecuación: \n",
        "\n",
        "$Cabin > Age > Embarked$\n",
        "\n",
        "Considerando que la proporción de `Cabin` es grande, ¿Vale la pena realizar un tratamiento sobre la misma? Si la respuesta fuera 'Sí' ¿Qué estrategia se podría utilizar?"
      ]
    },
    {
      "cell_type": "markdown",
      "metadata": {
        "id": "Ok68sZuB9N69",
        "colab_type": "text"
      },
      "source": [
        "## **Una retrospectiva sobre Cabin**"
      ]
    },
    {
      "cell_type": "markdown",
      "metadata": {
        "id": "RyY8g67X-XLT",
        "colab_type": "text"
      },
      "source": [
        "**¿Como se distribuían las cabinas en el Titanic?**\n",
        "\n",
        "![Plano Transversal del Titanic](https://upload.wikimedia.org/wikipedia/commons/8/84/Titanic_cutaway_diagram.png)"
      ]
    },
    {
      "cell_type": "markdown",
      "metadata": {
        "id": "VbFDRYmg3mN8",
        "colab_type": "text"
      },
      "source": [
        "**Embarked**"
      ]
    },
    {
      "cell_type": "markdown",
      "metadata": {
        "id": "dCTPB1QK3ZXB",
        "colab_type": "text"
      },
      "source": [
        "\n",
        "\n",
        "> \"*Mrs Stone boarded the Titanic in Southampton on 10 April 1912 and was ravelling in first class with her maid Amelie Icard. She occupied cabin B-28.*\"\n",
        "\n"
      ]
    },
    {
      "cell_type": "code",
      "metadata": {
        "id": "6IPQOW6n3XP2",
        "colab_type": "code",
        "colab": {}
      },
      "source": [
        ""
      ],
      "execution_count": 0,
      "outputs": []
    },
    {
      "cell_type": "markdown",
      "metadata": {
        "id": "e-m5zdIfFnsN",
        "colab_type": "text"
      },
      "source": [
        "# **Random Forest**"
      ]
    },
    {
      "cell_type": "code",
      "metadata": {
        "id": "b36TthEkFp68",
        "colab_type": "code",
        "colab": {}
      },
      "source": [
        ""
      ],
      "execution_count": 0,
      "outputs": []
    }
  ]
}