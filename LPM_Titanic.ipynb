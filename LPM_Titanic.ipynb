{
  "nbformat": 4,
  "nbformat_minor": 0,
  "metadata": {
    "colab": {
      "name": "Taller01_titanic.ipynb",
      "provenance": [],
      "collapsed_sections": [],
      "include_colab_link": true
    },
    "kernelspec": {
      "name": "python3",
      "display_name": "Python 3"
    },
    "accelerator": "GPU"
  },
  "cells": [
    {
      "cell_type": "markdown",
      "metadata": {
        "id": "view-in-github",
        "colab_type": "text"
      },
      "source": [
        "<a href=\"https://colab.research.google.com/github/juancn95/saturdaysAI_titanic_challenge/blob/pdt_1/LPM_Titanic.ipynb\" target=\"_parent\"><img src=\"https://colab.research.google.com/assets/colab-badge.svg\" alt=\"Open In Colab\"/></a>"
      ]
    },
    {
      "cell_type": "markdown",
      "metadata": {
        "id": "zJq5v-8RClMq",
        "colab_type": "text"
      },
      "source": [
        "# 1. Preambulo \n",
        "\n",
        "El hundimiento del RMS Titanic es uno de los naufragios más infames de la historia. El 15 de abril de 1912, durante su viaje inaugural, el Titanic se hundió después de chocar con un iceberg, matando a 1502 de los 2224 pasajeros y tripulación. Esta sensacional tragedia conmocionó a la comunidad internacional y condujo a mejores regulaciones de seguridad para los barcos.\n",
        "\n",
        "Una de las razones por las que el naufragio provocó tal pérdida de vidas fue que no había suficientes botes salvavidas para los pasajeros y la tripulación. Aunque hubo algún elemento de suerte en la supervivencia del hundimiento, algunos grupos de personas tenían más probabilidades de sobrevivir que otros, como las mujeres, los niños y la clase alta.\n",
        "\n",
        "En este desafío, les pedimos que completen el análisis de qué tipo de personas tenían probabilidades de sobrevivir. En particular, le pedimos que aplique las herramientas del aprendizaje por máquina para predecir qué pasajeros sobrevivieron a la tragedia.\n",
        "\n",
        "### 1.1 Objetivo\n",
        "* Con los datos del historial Predecir si un de pasajeros sobrevivió (1) o no (0), tras el hundimiento del Titanic\n",
        "\n",
        "### 1.2 Métrica\n",
        "La puntuación del modelo será el porcentaje de pasajeros correctamente predecidos, conocido también como precisión.\n",
        "\n",
        "### 1.3 Formato del archivo de entrega\n",
        "El formato será un archivo de extensión .csv con 418 entradas con su correspondiente fila de encabezado, y solo deberá contener las columnas PassengerID y Survived. Si el archivo tiene una columna o fila extra, se remitirá un error.\n",
        "\n",
        "**PassengerID**: Ordenado en cualquier orden, sea ascendente o descendente.\n",
        "**Survived**: Contiene la predicción binaria: 1 para sobrevivió, 0 para fallecido."
      ]
    },
    {
      "cell_type": "markdown",
      "metadata": {
        "id": "FuAY72jKPzmP",
        "colab_type": "text"
      },
      "source": [
        "# 2. Librerías y ruta de los datos"
      ]
    },
    {
      "cell_type": "code",
      "metadata": {
        "id": "wuB6-dC0vHLn",
        "colab_type": "code",
        "colab": {
          "base_uri": "https://localhost:8080/",
          "height": 171
        },
        "outputId": "c3cf0bb6-fdfb-44c3-b5a0-44225c89bfab"
      },
      "source": [
        "! pip3 install -U cmocean\n",
        "! pip3 install -U matplotlib"
      ],
      "execution_count": 298,
      "outputs": [
        {
          "output_type": "stream",
          "text": [
            "Requirement already up-to-date: cmocean in /usr/local/lib/python3.6/dist-packages (2.0)\n",
            "Requirement already up-to-date: matplotlib in /usr/local/lib/python3.6/dist-packages (3.2.1)\n",
            "Requirement already satisfied, skipping upgrade: cycler>=0.10 in /usr/local/lib/python3.6/dist-packages (from matplotlib) (0.10.0)\n",
            "Requirement already satisfied, skipping upgrade: pyparsing!=2.0.4,!=2.1.2,!=2.1.6,>=2.0.1 in /usr/local/lib/python3.6/dist-packages (from matplotlib) (2.4.7)\n",
            "Requirement already satisfied, skipping upgrade: numpy>=1.11 in /usr/local/lib/python3.6/dist-packages (from matplotlib) (1.18.2)\n",
            "Requirement already satisfied, skipping upgrade: python-dateutil>=2.1 in /usr/local/lib/python3.6/dist-packages (from matplotlib) (2.8.1)\n",
            "Requirement already satisfied, skipping upgrade: kiwisolver>=1.0.1 in /usr/local/lib/python3.6/dist-packages (from matplotlib) (1.2.0)\n",
            "Requirement already satisfied, skipping upgrade: six in /usr/local/lib/python3.6/dist-packages (from cycler>=0.10->matplotlib) (1.12.0)\n"
          ],
          "name": "stdout"
        }
      ]
    },
    {
      "cell_type": "code",
      "metadata": {
        "id": "OOzeyLAzNZOn",
        "colab_type": "code",
        "colab": {}
      },
      "source": [
        "#Análisis\n",
        "import pandas as pd\n",
        "import numpy as np\n",
        "\n",
        "#Visualización\n",
        "%matplotlib inline\n",
        "import matplotlib as mpl\n",
        "import matplotlib.pyplot as plt\n",
        "import seaborn as sb\n",
        "import cmocean.cm as cmo\n",
        "\n",
        "#Preparación\n",
        "from sklearn.pipeline import Pipeline\n",
        "#from sklearn.preprocessing import StandardScaler\n",
        "from sklearn.preprocessing import FunctionTransformer\n",
        "from sklearn.preprocessing import OneHotEncoder\n",
        "from sklearn.impute import SimpleImputer\n",
        "from sklearn.compose import ColumnTransformer\n",
        "\n",
        "#Optimización\n",
        "from sklearn.model_selection import cross_val_predict, cross_val_score, cross_validate\n",
        "from sklearn.model_selection import StratifiedKFold, StratifiedShuffleSplit\n",
        "from sklearn.model_selection import RandomizedSearchCV, GridSearchCV, learning_curve\n",
        "from sklearn.feature_selection import SelectFromModel\n",
        "from scipy.stats import randint\n",
        "import itertools\n",
        "from sklearn.metrics import confusion_matrix, roc_curve\n",
        "from sklearn.metrics import precision_score, recall_score, f1_score\n",
        "\n",
        "#Redes neuronales\n",
        "import tensorflow as tf\n",
        "from tensorflow import keras\n",
        "from tensorflow.keras.wrappers.scikit_learn import KerasClassifier\n",
        "from tensorflow.keras.models import Sequential\n",
        "from tensorflow.keras.layers import Input, Dense, Dropout, AlphaDropout\n",
        "from tensorflow.keras.optimizers import SGD, RMSprop, Adamax, Adagrad, Adam, Nadam, SGD\n",
        "\n",
        "import warnings \n",
        "warnings.filterwarnings(\"ignore\") \n",
        "\n",
        "path_train = 'https://saturday-ai.s3-sa-east-1.amazonaws.com/titanic/train.csv';\n",
        "path_test = 'https://saturday-ai.s3-sa-east-1.amazonaws.com/titanic/test.csv';\n",
        "path_submission = 'https://saturday-ai.s3-sa-east-1.amazonaws.com/titanic/gender_submission.csv';"
      ],
      "execution_count": 0,
      "outputs": []
    },
    {
      "cell_type": "code",
      "metadata": {
        "id": "QwwFrImxTM9G",
        "colab_type": "code",
        "outputId": "e2e95f64-4e96-4130-99b5-fe9bcc37ba47",
        "colab": {
          "base_uri": "https://localhost:8080/",
          "height": 842
        }
      },
      "source": [
        "#Carga de datos a dataframes\n",
        "df_train = pd.read_csv(path_train, sep=',', na_values=\"?\");\n",
        "df_test = pd.read_csv(path_test, sep=',', na_values=\"?\");\n",
        "\n",
        "'''Como vamos a trabajar con dos conjuntos de datos, es necesario agruparlos para aplicar las reglas en común'''\n",
        "df_data = pd.concat([df_train, df_test], axis=0, ignore_index=True)\n",
        "df_data"
      ],
      "execution_count": 190,
      "outputs": [
        {
          "output_type": "execute_result",
          "data": {
            "text/html": [
              "<div>\n",
              "<style scoped>\n",
              "    .dataframe tbody tr th:only-of-type {\n",
              "        vertical-align: middle;\n",
              "    }\n",
              "\n",
              "    .dataframe tbody tr th {\n",
              "        vertical-align: top;\n",
              "    }\n",
              "\n",
              "    .dataframe thead th {\n",
              "        text-align: right;\n",
              "    }\n",
              "</style>\n",
              "<table border=\"1\" class=\"dataframe\">\n",
              "  <thead>\n",
              "    <tr style=\"text-align: right;\">\n",
              "      <th></th>\n",
              "      <th>PassengerId</th>\n",
              "      <th>Survived</th>\n",
              "      <th>Pclass</th>\n",
              "      <th>Name</th>\n",
              "      <th>Sex</th>\n",
              "      <th>Age</th>\n",
              "      <th>SibSp</th>\n",
              "      <th>Parch</th>\n",
              "      <th>Ticket</th>\n",
              "      <th>Fare</th>\n",
              "      <th>Cabin</th>\n",
              "      <th>Embarked</th>\n",
              "    </tr>\n",
              "  </thead>\n",
              "  <tbody>\n",
              "    <tr>\n",
              "      <th>0</th>\n",
              "      <td>1</td>\n",
              "      <td>0.0</td>\n",
              "      <td>3</td>\n",
              "      <td>Braund, Mr. Owen Harris</td>\n",
              "      <td>male</td>\n",
              "      <td>22.0</td>\n",
              "      <td>1</td>\n",
              "      <td>0</td>\n",
              "      <td>A/5 21171</td>\n",
              "      <td>7.2500</td>\n",
              "      <td>NaN</td>\n",
              "      <td>S</td>\n",
              "    </tr>\n",
              "    <tr>\n",
              "      <th>1</th>\n",
              "      <td>2</td>\n",
              "      <td>1.0</td>\n",
              "      <td>1</td>\n",
              "      <td>Cumings, Mrs. John Bradley (Florence Briggs Th...</td>\n",
              "      <td>female</td>\n",
              "      <td>38.0</td>\n",
              "      <td>1</td>\n",
              "      <td>0</td>\n",
              "      <td>PC 17599</td>\n",
              "      <td>71.2833</td>\n",
              "      <td>C85</td>\n",
              "      <td>C</td>\n",
              "    </tr>\n",
              "    <tr>\n",
              "      <th>2</th>\n",
              "      <td>3</td>\n",
              "      <td>1.0</td>\n",
              "      <td>3</td>\n",
              "      <td>Heikkinen, Miss. Laina</td>\n",
              "      <td>female</td>\n",
              "      <td>26.0</td>\n",
              "      <td>0</td>\n",
              "      <td>0</td>\n",
              "      <td>STON/O2. 3101282</td>\n",
              "      <td>7.9250</td>\n",
              "      <td>NaN</td>\n",
              "      <td>S</td>\n",
              "    </tr>\n",
              "    <tr>\n",
              "      <th>3</th>\n",
              "      <td>4</td>\n",
              "      <td>1.0</td>\n",
              "      <td>1</td>\n",
              "      <td>Futrelle, Mrs. Jacques Heath (Lily May Peel)</td>\n",
              "      <td>female</td>\n",
              "      <td>35.0</td>\n",
              "      <td>1</td>\n",
              "      <td>0</td>\n",
              "      <td>113803</td>\n",
              "      <td>53.1000</td>\n",
              "      <td>C123</td>\n",
              "      <td>S</td>\n",
              "    </tr>\n",
              "    <tr>\n",
              "      <th>4</th>\n",
              "      <td>5</td>\n",
              "      <td>0.0</td>\n",
              "      <td>3</td>\n",
              "      <td>Allen, Mr. William Henry</td>\n",
              "      <td>male</td>\n",
              "      <td>35.0</td>\n",
              "      <td>0</td>\n",
              "      <td>0</td>\n",
              "      <td>373450</td>\n",
              "      <td>8.0500</td>\n",
              "      <td>NaN</td>\n",
              "      <td>S</td>\n",
              "    </tr>\n",
              "    <tr>\n",
              "      <th>...</th>\n",
              "      <td>...</td>\n",
              "      <td>...</td>\n",
              "      <td>...</td>\n",
              "      <td>...</td>\n",
              "      <td>...</td>\n",
              "      <td>...</td>\n",
              "      <td>...</td>\n",
              "      <td>...</td>\n",
              "      <td>...</td>\n",
              "      <td>...</td>\n",
              "      <td>...</td>\n",
              "      <td>...</td>\n",
              "    </tr>\n",
              "    <tr>\n",
              "      <th>1304</th>\n",
              "      <td>1305</td>\n",
              "      <td>NaN</td>\n",
              "      <td>3</td>\n",
              "      <td>Spector, Mr. Woolf</td>\n",
              "      <td>male</td>\n",
              "      <td>NaN</td>\n",
              "      <td>0</td>\n",
              "      <td>0</td>\n",
              "      <td>A.5. 3236</td>\n",
              "      <td>8.0500</td>\n",
              "      <td>NaN</td>\n",
              "      <td>S</td>\n",
              "    </tr>\n",
              "    <tr>\n",
              "      <th>1305</th>\n",
              "      <td>1306</td>\n",
              "      <td>NaN</td>\n",
              "      <td>1</td>\n",
              "      <td>Oliva y Ocana, Dona. Fermina</td>\n",
              "      <td>female</td>\n",
              "      <td>39.0</td>\n",
              "      <td>0</td>\n",
              "      <td>0</td>\n",
              "      <td>PC 17758</td>\n",
              "      <td>108.9000</td>\n",
              "      <td>C105</td>\n",
              "      <td>C</td>\n",
              "    </tr>\n",
              "    <tr>\n",
              "      <th>1306</th>\n",
              "      <td>1307</td>\n",
              "      <td>NaN</td>\n",
              "      <td>3</td>\n",
              "      <td>Saether, Mr. Simon Sivertsen</td>\n",
              "      <td>male</td>\n",
              "      <td>38.5</td>\n",
              "      <td>0</td>\n",
              "      <td>0</td>\n",
              "      <td>SOTON/O.Q. 3101262</td>\n",
              "      <td>7.2500</td>\n",
              "      <td>NaN</td>\n",
              "      <td>S</td>\n",
              "    </tr>\n",
              "    <tr>\n",
              "      <th>1307</th>\n",
              "      <td>1308</td>\n",
              "      <td>NaN</td>\n",
              "      <td>3</td>\n",
              "      <td>Ware, Mr. Frederick</td>\n",
              "      <td>male</td>\n",
              "      <td>NaN</td>\n",
              "      <td>0</td>\n",
              "      <td>0</td>\n",
              "      <td>359309</td>\n",
              "      <td>8.0500</td>\n",
              "      <td>NaN</td>\n",
              "      <td>S</td>\n",
              "    </tr>\n",
              "    <tr>\n",
              "      <th>1308</th>\n",
              "      <td>1309</td>\n",
              "      <td>NaN</td>\n",
              "      <td>3</td>\n",
              "      <td>Peter, Master. Michael J</td>\n",
              "      <td>male</td>\n",
              "      <td>NaN</td>\n",
              "      <td>1</td>\n",
              "      <td>1</td>\n",
              "      <td>2668</td>\n",
              "      <td>22.3583</td>\n",
              "      <td>NaN</td>\n",
              "      <td>C</td>\n",
              "    </tr>\n",
              "  </tbody>\n",
              "</table>\n",
              "<p>1309 rows × 12 columns</p>\n",
              "</div>"
            ],
            "text/plain": [
              "      PassengerId  Survived  Pclass  ...      Fare Cabin  Embarked\n",
              "0               1       0.0       3  ...    7.2500   NaN         S\n",
              "1               2       1.0       1  ...   71.2833   C85         C\n",
              "2               3       1.0       3  ...    7.9250   NaN         S\n",
              "3               4       1.0       1  ...   53.1000  C123         S\n",
              "4               5       0.0       3  ...    8.0500   NaN         S\n",
              "...           ...       ...     ...  ...       ...   ...       ...\n",
              "1304         1305       NaN       3  ...    8.0500   NaN         S\n",
              "1305         1306       NaN       1  ...  108.9000  C105         C\n",
              "1306         1307       NaN       3  ...    7.2500   NaN         S\n",
              "1307         1308       NaN       3  ...    8.0500   NaN         S\n",
              "1308         1309       NaN       3  ...   22.3583   NaN         C\n",
              "\n",
              "[1309 rows x 12 columns]"
            ]
          },
          "metadata": {
            "tags": []
          },
          "execution_count": 190
        }
      ]
    },
    {
      "cell_type": "markdown",
      "metadata": {
        "id": "pP9ihBK1IGVr",
        "colab_type": "text"
      },
      "source": [
        "# 3. Revisar los datos "
      ]
    },
    {
      "cell_type": "code",
      "metadata": {
        "id": "n2oQjmIyiJ5Q",
        "colab_type": "code",
        "outputId": "cfe1b4e5-2f6e-4493-fb31-758445c094b9",
        "colab": {
          "base_uri": "https://localhost:8080/",
          "height": 370
        }
      },
      "source": [
        "print('Hay {} observaciones y {} variables'.format(df_data.shape[0], df_data.shape[1]), '\\n')\n",
        "df_data.info()"
      ],
      "execution_count": 191,
      "outputs": [
        {
          "output_type": "stream",
          "text": [
            "Hay 1309 observaciones y 12 variables \n",
            "\n",
            "<class 'pandas.core.frame.DataFrame'>\n",
            "RangeIndex: 1309 entries, 0 to 1308\n",
            "Data columns (total 12 columns):\n",
            " #   Column       Non-Null Count  Dtype  \n",
            "---  ------       --------------  -----  \n",
            " 0   PassengerId  1309 non-null   int64  \n",
            " 1   Survived     891 non-null    float64\n",
            " 2   Pclass       1309 non-null   int64  \n",
            " 3   Name         1309 non-null   object \n",
            " 4   Sex          1309 non-null   object \n",
            " 5   Age          1046 non-null   float64\n",
            " 6   SibSp        1309 non-null   int64  \n",
            " 7   Parch        1309 non-null   int64  \n",
            " 8   Ticket       1309 non-null   object \n",
            " 9   Fare         1308 non-null   float64\n",
            " 10  Cabin        295 non-null    object \n",
            " 11  Embarked     1307 non-null   object \n",
            "dtypes: float64(3), int64(4), object(5)\n",
            "memory usage: 122.8+ KB\n"
          ],
          "name": "stdout"
        }
      ]
    },
    {
      "cell_type": "code",
      "metadata": {
        "id": "TgdV3offL_u8",
        "colab_type": "code",
        "outputId": "c609e592-ad67-4610-a7f0-8a31edc500e4",
        "colab": {
          "base_uri": "https://localhost:8080/",
          "height": 235
        }
      },
      "source": [
        "#Revisemos si existen datos perdido\n",
        "df_data.isna().sum()"
      ],
      "execution_count": 192,
      "outputs": [
        {
          "output_type": "execute_result",
          "data": {
            "text/plain": [
              "PassengerId       0\n",
              "Survived        418\n",
              "Pclass            0\n",
              "Name              0\n",
              "Sex               0\n",
              "Age             263\n",
              "SibSp             0\n",
              "Parch             0\n",
              "Ticket            0\n",
              "Fare              1\n",
              "Cabin          1014\n",
              "Embarked          2\n",
              "dtype: int64"
            ]
          },
          "metadata": {
            "tags": []
          },
          "execution_count": 192
        }
      ]
    },
    {
      "cell_type": "markdown",
      "metadata": {
        "id": "J5Pt7cczNC-J",
        "colab_type": "text"
      },
      "source": [
        "Sin tomar en cuenta la variable **Survived** se tiene que hay datos perdidos, en las variables **Age, Fare, Cabin y Embarked**.\n",
        "\n",
        "Ahora evaluemos los datos numéricos, para determiar si hay Datos Atípicos"
      ]
    },
    {
      "cell_type": "code",
      "metadata": {
        "id": "G6ap_tO3Nwgt",
        "colab_type": "code",
        "outputId": "ca2eb947-4483-4292-f29a-779cb2a8998a",
        "colab": {
          "base_uri": "https://localhost:8080/",
          "height": 284
        }
      },
      "source": [
        "df_data.describe()"
      ],
      "execution_count": 193,
      "outputs": [
        {
          "output_type": "execute_result",
          "data": {
            "text/html": [
              "<div>\n",
              "<style scoped>\n",
              "    .dataframe tbody tr th:only-of-type {\n",
              "        vertical-align: middle;\n",
              "    }\n",
              "\n",
              "    .dataframe tbody tr th {\n",
              "        vertical-align: top;\n",
              "    }\n",
              "\n",
              "    .dataframe thead th {\n",
              "        text-align: right;\n",
              "    }\n",
              "</style>\n",
              "<table border=\"1\" class=\"dataframe\">\n",
              "  <thead>\n",
              "    <tr style=\"text-align: right;\">\n",
              "      <th></th>\n",
              "      <th>PassengerId</th>\n",
              "      <th>Survived</th>\n",
              "      <th>Pclass</th>\n",
              "      <th>Age</th>\n",
              "      <th>SibSp</th>\n",
              "      <th>Parch</th>\n",
              "      <th>Fare</th>\n",
              "    </tr>\n",
              "  </thead>\n",
              "  <tbody>\n",
              "    <tr>\n",
              "      <th>count</th>\n",
              "      <td>1309.000000</td>\n",
              "      <td>891.000000</td>\n",
              "      <td>1309.000000</td>\n",
              "      <td>1046.000000</td>\n",
              "      <td>1309.000000</td>\n",
              "      <td>1309.000000</td>\n",
              "      <td>1308.000000</td>\n",
              "    </tr>\n",
              "    <tr>\n",
              "      <th>mean</th>\n",
              "      <td>655.000000</td>\n",
              "      <td>0.383838</td>\n",
              "      <td>2.294882</td>\n",
              "      <td>29.881138</td>\n",
              "      <td>0.498854</td>\n",
              "      <td>0.385027</td>\n",
              "      <td>33.295479</td>\n",
              "    </tr>\n",
              "    <tr>\n",
              "      <th>std</th>\n",
              "      <td>378.020061</td>\n",
              "      <td>0.486592</td>\n",
              "      <td>0.837836</td>\n",
              "      <td>14.413493</td>\n",
              "      <td>1.041658</td>\n",
              "      <td>0.865560</td>\n",
              "      <td>51.758668</td>\n",
              "    </tr>\n",
              "    <tr>\n",
              "      <th>min</th>\n",
              "      <td>1.000000</td>\n",
              "      <td>0.000000</td>\n",
              "      <td>1.000000</td>\n",
              "      <td>0.170000</td>\n",
              "      <td>0.000000</td>\n",
              "      <td>0.000000</td>\n",
              "      <td>0.000000</td>\n",
              "    </tr>\n",
              "    <tr>\n",
              "      <th>25%</th>\n",
              "      <td>328.000000</td>\n",
              "      <td>0.000000</td>\n",
              "      <td>2.000000</td>\n",
              "      <td>21.000000</td>\n",
              "      <td>0.000000</td>\n",
              "      <td>0.000000</td>\n",
              "      <td>7.895800</td>\n",
              "    </tr>\n",
              "    <tr>\n",
              "      <th>50%</th>\n",
              "      <td>655.000000</td>\n",
              "      <td>0.000000</td>\n",
              "      <td>3.000000</td>\n",
              "      <td>28.000000</td>\n",
              "      <td>0.000000</td>\n",
              "      <td>0.000000</td>\n",
              "      <td>14.454200</td>\n",
              "    </tr>\n",
              "    <tr>\n",
              "      <th>75%</th>\n",
              "      <td>982.000000</td>\n",
              "      <td>1.000000</td>\n",
              "      <td>3.000000</td>\n",
              "      <td>39.000000</td>\n",
              "      <td>1.000000</td>\n",
              "      <td>0.000000</td>\n",
              "      <td>31.275000</td>\n",
              "    </tr>\n",
              "    <tr>\n",
              "      <th>max</th>\n",
              "      <td>1309.000000</td>\n",
              "      <td>1.000000</td>\n",
              "      <td>3.000000</td>\n",
              "      <td>80.000000</td>\n",
              "      <td>8.000000</td>\n",
              "      <td>9.000000</td>\n",
              "      <td>512.329200</td>\n",
              "    </tr>\n",
              "  </tbody>\n",
              "</table>\n",
              "</div>"
            ],
            "text/plain": [
              "       PassengerId    Survived  ...        Parch         Fare\n",
              "count  1309.000000  891.000000  ...  1309.000000  1308.000000\n",
              "mean    655.000000    0.383838  ...     0.385027    33.295479\n",
              "std     378.020061    0.486592  ...     0.865560    51.758668\n",
              "min       1.000000    0.000000  ...     0.000000     0.000000\n",
              "25%     328.000000    0.000000  ...     0.000000     7.895800\n",
              "50%     655.000000    0.000000  ...     0.000000    14.454200\n",
              "75%     982.000000    1.000000  ...     0.000000    31.275000\n",
              "max    1309.000000    1.000000  ...     9.000000   512.329200\n",
              "\n",
              "[8 rows x 7 columns]"
            ]
          },
          "metadata": {
            "tags": []
          },
          "execution_count": 193
        }
      ]
    },
    {
      "cell_type": "markdown",
      "metadata": {
        "id": "vXBPWLbWPANW",
        "colab_type": "text"
      },
      "source": [
        "El valor máximo y mínicmo en **Fare** se debería evaluar. Hubo pasajes gratis y otros muy caros?\n",
        "\n",
        "#### Ahora evaluemos la correlación que existe entre las Features con la variable objetivo"
      ]
    },
    {
      "cell_type": "code",
      "metadata": {
        "id": "T2AKzfHIQEvB",
        "colab_type": "code",
        "outputId": "42e82d6c-dcd0-42f4-a4ca-0b336c80d78d",
        "colab": {
          "base_uri": "https://localhost:8080/",
          "height": 254
        }
      },
      "source": [
        "df_train.corr()"
      ],
      "execution_count": 194,
      "outputs": [
        {
          "output_type": "execute_result",
          "data": {
            "text/html": [
              "<div>\n",
              "<style scoped>\n",
              "    .dataframe tbody tr th:only-of-type {\n",
              "        vertical-align: middle;\n",
              "    }\n",
              "\n",
              "    .dataframe tbody tr th {\n",
              "        vertical-align: top;\n",
              "    }\n",
              "\n",
              "    .dataframe thead th {\n",
              "        text-align: right;\n",
              "    }\n",
              "</style>\n",
              "<table border=\"1\" class=\"dataframe\">\n",
              "  <thead>\n",
              "    <tr style=\"text-align: right;\">\n",
              "      <th></th>\n",
              "      <th>PassengerId</th>\n",
              "      <th>Survived</th>\n",
              "      <th>Pclass</th>\n",
              "      <th>Age</th>\n",
              "      <th>SibSp</th>\n",
              "      <th>Parch</th>\n",
              "      <th>Fare</th>\n",
              "    </tr>\n",
              "  </thead>\n",
              "  <tbody>\n",
              "    <tr>\n",
              "      <th>PassengerId</th>\n",
              "      <td>1.000000</td>\n",
              "      <td>-0.005007</td>\n",
              "      <td>-0.035144</td>\n",
              "      <td>0.036847</td>\n",
              "      <td>-0.057527</td>\n",
              "      <td>-0.001652</td>\n",
              "      <td>0.012658</td>\n",
              "    </tr>\n",
              "    <tr>\n",
              "      <th>Survived</th>\n",
              "      <td>-0.005007</td>\n",
              "      <td>1.000000</td>\n",
              "      <td>-0.338481</td>\n",
              "      <td>-0.077221</td>\n",
              "      <td>-0.035322</td>\n",
              "      <td>0.081629</td>\n",
              "      <td>0.257307</td>\n",
              "    </tr>\n",
              "    <tr>\n",
              "      <th>Pclass</th>\n",
              "      <td>-0.035144</td>\n",
              "      <td>-0.338481</td>\n",
              "      <td>1.000000</td>\n",
              "      <td>-0.369226</td>\n",
              "      <td>0.083081</td>\n",
              "      <td>0.018443</td>\n",
              "      <td>-0.549500</td>\n",
              "    </tr>\n",
              "    <tr>\n",
              "      <th>Age</th>\n",
              "      <td>0.036847</td>\n",
              "      <td>-0.077221</td>\n",
              "      <td>-0.369226</td>\n",
              "      <td>1.000000</td>\n",
              "      <td>-0.308247</td>\n",
              "      <td>-0.189119</td>\n",
              "      <td>0.096067</td>\n",
              "    </tr>\n",
              "    <tr>\n",
              "      <th>SibSp</th>\n",
              "      <td>-0.057527</td>\n",
              "      <td>-0.035322</td>\n",
              "      <td>0.083081</td>\n",
              "      <td>-0.308247</td>\n",
              "      <td>1.000000</td>\n",
              "      <td>0.414838</td>\n",
              "      <td>0.159651</td>\n",
              "    </tr>\n",
              "    <tr>\n",
              "      <th>Parch</th>\n",
              "      <td>-0.001652</td>\n",
              "      <td>0.081629</td>\n",
              "      <td>0.018443</td>\n",
              "      <td>-0.189119</td>\n",
              "      <td>0.414838</td>\n",
              "      <td>1.000000</td>\n",
              "      <td>0.216225</td>\n",
              "    </tr>\n",
              "    <tr>\n",
              "      <th>Fare</th>\n",
              "      <td>0.012658</td>\n",
              "      <td>0.257307</td>\n",
              "      <td>-0.549500</td>\n",
              "      <td>0.096067</td>\n",
              "      <td>0.159651</td>\n",
              "      <td>0.216225</td>\n",
              "      <td>1.000000</td>\n",
              "    </tr>\n",
              "  </tbody>\n",
              "</table>\n",
              "</div>"
            ],
            "text/plain": [
              "             PassengerId  Survived    Pclass  ...     SibSp     Parch      Fare\n",
              "PassengerId     1.000000 -0.005007 -0.035144  ... -0.057527 -0.001652  0.012658\n",
              "Survived       -0.005007  1.000000 -0.338481  ... -0.035322  0.081629  0.257307\n",
              "Pclass         -0.035144 -0.338481  1.000000  ...  0.083081  0.018443 -0.549500\n",
              "Age             0.036847 -0.077221 -0.369226  ... -0.308247 -0.189119  0.096067\n",
              "SibSp          -0.057527 -0.035322  0.083081  ...  1.000000  0.414838  0.159651\n",
              "Parch          -0.001652  0.081629  0.018443  ...  0.414838  1.000000  0.216225\n",
              "Fare            0.012658  0.257307 -0.549500  ...  0.159651  0.216225  1.000000\n",
              "\n",
              "[7 rows x 7 columns]"
            ]
          },
          "metadata": {
            "tags": []
          },
          "execution_count": 194
        }
      ]
    },
    {
      "cell_type": "code",
      "metadata": {
        "id": "fPr4gQ_lQrQE",
        "colab_type": "code",
        "outputId": "89147610-f9f1-4aab-9a31-70f4906c0beb",
        "colab": {
          "base_uri": "https://localhost:8080/",
          "height": 286
        }
      },
      "source": [
        "#Vemos lo mismo pero de manera gráfica. Quitamos PassengerId, porque no da valor a la evaluación\n",
        "sb.heatmap(df_train[[\"Survived\",\"Pclass\",\"SibSp\",\"Parch\",\"Age\",\"Fare\"]].corr(), cmap = \"Reds\", annot=True)"
      ],
      "execution_count": 195,
      "outputs": [
        {
          "output_type": "execute_result",
          "data": {
            "text/plain": [
              "<matplotlib.axes._subplots.AxesSubplot at 0x7f1fcaf7f9b0>"
            ]
          },
          "metadata": {
            "tags": []
          },
          "execution_count": 195
        },
        {
          "output_type": "display_data",
          "data": {
            "image/png": "[encoded data removed]",
            "text/plain": [
              "<Figure size 432x288 with 2 Axes>"
            ]
          },
          "metadata": {
            "tags": [],
            "needs_background": "light"
          }
        }
      ]
    },
    {
      "cell_type": "markdown",
      "metadata": {
        "id": "hodCj-KlSeim",
        "colab_type": "text"
      },
      "source": [
        "Podemos notar que la variable mas correlacionada es **Fare**, esto podría explicarse porque los ricos estaban en las cabinas altas.\n",
        "\n",
        "También hay que evaluar la Edad y Sexo, pues de esto también dependía quienes eran los primeros en subir a los botes salvavidas\n",
        "\n",
        "# 4. Evaluación de variables\n",
        "\n",
        "### Evaluación de Pclass, 1: 1st, 2: 2nd, 3: 3rd"
      ]
    },
    {
      "cell_type": "code",
      "metadata": {
        "id": "lQ-cTlVdUJW8",
        "colab_type": "code",
        "outputId": "9033bd1a-c890-4cba-efb7-7b1b9ce2d979",
        "colab": {
          "base_uri": "https://localhost:8080/",
          "height": 386
        }
      },
      "source": [
        "sb.catplot(data=df_train, x=\"Pclass\", kind=\"count\")"
      ],
      "execution_count": 196,
      "outputs": [
        {
          "output_type": "execute_result",
          "data": {
            "text/plain": [
              "<seaborn.axisgrid.FacetGrid at 0x7f1fcb9530b8>"
            ]
          },
          "metadata": {
            "tags": []
          },
          "execution_count": 196
        },
        {
          "output_type": "display_data",
          "data": {
            "image/png": "[encoded data removed]",
            "text/plain": [
              "<Figure size 360x360 with 1 Axes>"
            ]
          },
          "metadata": {
            "tags": [],
            "needs_background": "light"
          }
        }
      ]
    },
    {
      "cell_type": "code",
      "metadata": {
        "id": "LkuhYfZMWBq5",
        "colab_type": "code",
        "outputId": "11f9bba6-f30c-42b7-a040-883810802914",
        "colab": {
          "base_uri": "https://localhost:8080/",
          "height": 386
        }
      },
      "source": [
        "sb.catplot(data=df_train, x=\"Pclass\", y=\"Survived\", kind=\"bar\").set_ylabels(\"Probabilidad de sobrevivir\")"
      ],
      "execution_count": 197,
      "outputs": [
        {
          "output_type": "execute_result",
          "data": {
            "text/plain": [
              "<seaborn.axisgrid.FacetGrid at 0x7f1fcdea6d30>"
            ]
          },
          "metadata": {
            "tags": []
          },
          "execution_count": 197
        },
        {
          "output_type": "display_data",
          "data": {
            "image/png": "[encoded data removed]",
            "text/plain": [
              "<Figure size 360x360 with 1 Axes>"
            ]
          },
          "metadata": {
            "tags": [],
            "needs_background": "light"
          }
        }
      ]
    },
    {
      "cell_type": "markdown",
      "metadata": {
        "id": "wmESvpFCWUgU",
        "colab_type": "text"
      },
      "source": [
        "Notamos que esta variable es importante en el modelo, pues la probabilidad de sobrevivencia de la clase Alta, es mayor\n",
        "\n",
        "### Evaluación de Sex"
      ]
    },
    {
      "cell_type": "code",
      "metadata": {
        "id": "CZ04089rXDD2",
        "colab_type": "code",
        "outputId": "2683f854-2c89-4a30-b38f-8089b0758564",
        "colab": {
          "base_uri": "https://localhost:8080/",
          "height": 386
        }
      },
      "source": [
        "sb.catplot(data=df_train, x=\"Sex\", kind=\"count\")"
      ],
      "execution_count": 198,
      "outputs": [
        {
          "output_type": "execute_result",
          "data": {
            "text/plain": [
              "<seaborn.axisgrid.FacetGrid at 0x7f1fd1f2c198>"
            ]
          },
          "metadata": {
            "tags": []
          },
          "execution_count": 198
        },
        {
          "output_type": "display_data",
          "data": {
            "image/png": "[encoded data removed]",
            "text/plain": [
              "<Figure size 360x360 with 1 Axes>"
            ]
          },
          "metadata": {
            "tags": [],
            "needs_background": "light"
          }
        }
      ]
    },
    {
      "cell_type": "code",
      "metadata": {
        "id": "iMBR8f3hXHHl",
        "colab_type": "code",
        "outputId": "907a0978-0894-4cea-b26f-b0f64ede6f15",
        "colab": {
          "base_uri": "https://localhost:8080/",
          "height": 386
        }
      },
      "source": [
        "sb.catplot(data=df_train, x=\"Sex\", y=\"Survived\", kind=\"bar\").set_ylabels(\"Probabilidad de sobrevivir\")"
      ],
      "execution_count": 199,
      "outputs": [
        {
          "output_type": "execute_result",
          "data": {
            "text/plain": [
              "<seaborn.axisgrid.FacetGrid at 0x7f1fd1eef828>"
            ]
          },
          "metadata": {
            "tags": []
          },
          "execution_count": 199
        },
        {
          "output_type": "display_data",
          "data": {
            "image/png": "[encoded data removed]",
            "text/plain": [
              "<Figure size 360x360 with 1 Axes>"
            ]
          },
          "metadata": {
            "tags": [],
            "needs_background": "light"
          }
        }
      ]
    },
    {
      "cell_type": "markdown",
      "metadata": {
        "id": "I84pyQ3RXOX0",
        "colab_type": "text"
      },
      "source": [
        "Claramente la probabilidad de sobrevivir, dado que es mujer es mayor que ser hombre. \n",
        "\n",
        "Evaluemos también como se relaciona la variable Sex, y Pclass. Allí vemos que las mujeres siendo de Tercera Clase, sobreviven menos de la mitad"
      ]
    },
    {
      "cell_type": "code",
      "metadata": {
        "id": "qEEjnqAsXHGC",
        "colab_type": "code",
        "outputId": "6b47ecb4-6f27-4fec-d6b8-e5d56d80a201",
        "colab": {
          "base_uri": "https://localhost:8080/",
          "height": 386
        }
      },
      "source": [
        "sb.catplot(data=df_train, x=\"Sex\", y=\"Survived\", hue=\"Pclass\", kind=\"bar\").set_ylabels(\"Probabilidad de sobrevivir\")"
      ],
      "execution_count": 200,
      "outputs": [
        {
          "output_type": "execute_result",
          "data": {
            "text/plain": [
              "<seaborn.axisgrid.FacetGrid at 0x7f1fd1f1bdd8>"
            ]
          },
          "metadata": {
            "tags": []
          },
          "execution_count": 200
        },
        {
          "output_type": "display_data",
          "data": {
            "image/png": "[encoded data removed]",
            "text/plain": [
              "<Figure size 402.375x360 with 1 Axes>"
            ]
          },
          "metadata": {
            "tags": [],
            "needs_background": "light"
          }
        }
      ]
    },
    {
      "cell_type": "markdown",
      "metadata": {
        "id": "noPb2dMCY-Bs",
        "colab_type": "text"
      },
      "source": [
        "### Evaluación de Age\n",
        "Se hace la evaluación tomando grupos de edades"
      ]
    },
    {
      "cell_type": "code",
      "metadata": {
        "id": "uBTzYawBXHAD",
        "colab_type": "code",
        "outputId": "0de56e4c-9fcb-4b4b-ff2b-814e7125dc30",
        "colab": {
          "base_uri": "https://localhost:8080/",
          "height": 242
        }
      },
      "source": [
        "# Revisemos como se comportan los datos No vivos / Vivos\n",
        "sb.FacetGrid(data=df_train, col='Survived').map(sb.distplot, \"Age\", kde=False)"
      ],
      "execution_count": 201,
      "outputs": [
        {
          "output_type": "execute_result",
          "data": {
            "text/plain": [
              "<seaborn.axisgrid.FacetGrid at 0x7f1fd1e04cc0>"
            ]
          },
          "metadata": {
            "tags": []
          },
          "execution_count": 201
        },
        {
          "output_type": "display_data",
          "data": {
            "image/png": "[encoded data removed]",
            "text/plain": [
              "<Figure size 432x216 with 2 Axes>"
            ]
          },
          "metadata": {
            "tags": [],
            "needs_background": "light"
          }
        }
      ]
    },
    {
      "cell_type": "markdown",
      "metadata": {
        "id": "WN5AKBCHefuB",
        "colab_type": "text"
      },
      "source": [
        "Se puede notar claramente que los niños, incluso adolescentes tienen mas probabilidad de sobrevivir. A lo cual se va a crear una nueva variable categórica indicando los \"Jóvenes y Adultos\""
      ]
    },
    {
      "cell_type": "code",
      "metadata": {
        "id": "j1iLICknXG-g",
        "colab_type": "code",
        "outputId": "f5efe565-1539-4215-a301-7fe1a2074be4",
        "colab": {
          "base_uri": "https://localhost:8080/",
          "height": 386
        }
      },
      "source": [
        "df_train[\"JovAdul\"]= pd.cut(df_train[\"Age\"], bins=[0,5,max(df_train[\"Age\"]+1)], labels=['joven','adulto'])\n",
        "#Revisamos de igual manera la probabilidad de sobrevivir con esta nueva variable\n",
        "sb.catplot(data=df_train, x=\"JovAdul\", y=\"Survived\", kind=\"bar\").set_ylabels(\"Probabilidad de sobrevivir\")"
      ],
      "execution_count": 248,
      "outputs": [
        {
          "output_type": "execute_result",
          "data": {
            "text/plain": [
              "<seaborn.axisgrid.FacetGrid at 0x7f1fcb786b38>"
            ]
          },
          "metadata": {
            "tags": []
          },
          "execution_count": 248
        },
        {
          "output_type": "display_data",
          "data": {
            "image/png": "[encoded data removed]",
            "text/plain": [
              "<Figure size 360x360 with 1 Axes>"
            ]
          },
          "metadata": {
            "tags": [],
            "needs_background": "light"
          }
        }
      ]
    },
    {
      "cell_type": "code",
      "metadata": {
        "id": "yKOW_Lu8XG3f",
        "colab_type": "code",
        "outputId": "f2fc7bdb-6450-425f-b71c-91226a8b7ef8",
        "colab": {
          "base_uri": "https://localhost:8080/",
          "height": 386
        }
      },
      "source": [
        "# Evaluemos también como se comporta con la clase social\n",
        "sb.catplot(data=df_train, x=\"JovAdul\", y=\"Survived\", hue=\"Pclass\", kind=\"bar\").set_ylabels(\"Probabilidad de sobrevivir\")"
      ],
      "execution_count": 249,
      "outputs": [
        {
          "output_type": "execute_result",
          "data": {
            "text/plain": [
              "<seaborn.axisgrid.FacetGrid at 0x7f1fd18d4198>"
            ]
          },
          "metadata": {
            "tags": []
          },
          "execution_count": 249
        },
        {
          "output_type": "display_data",
          "data": {
            "image/png": "[encoded data removed]",
            "text/plain": [
              "<Figure size 402.375x360 with 1 Axes>"
            ]
          },
          "metadata": {
            "tags": [],
            "needs_background": "light"
          }
        }
      ]
    },
    {
      "cell_type": "markdown",
      "metadata": {
        "id": "YSgkjebxg88T",
        "colab_type": "text"
      },
      "source": [
        "Un dato curioso. Los jóvenes de segunda clase, sobrevivieron igual que los de primera clase, o puede que no habían muchos jóvenes de primera clase\n",
        "\n",
        "### Evaluación de SibSp (Siblings/Spouse)"
      ]
    },
    {
      "cell_type": "code",
      "metadata": {
        "id": "6b3n0h68h9Na",
        "colab_type": "code",
        "outputId": "9a5d61dd-d3f8-4027-869c-fbc0feb88ea2",
        "colab": {
          "base_uri": "https://localhost:8080/",
          "height": 386
        }
      },
      "source": [
        "sb.catplot(data=df_train, x=\"SibSp\", kind=\"count\")"
      ],
      "execution_count": 250,
      "outputs": [
        {
          "output_type": "execute_result",
          "data": {
            "text/plain": [
              "<seaborn.axisgrid.FacetGrid at 0x7f1fd04d8fd0>"
            ]
          },
          "metadata": {
            "tags": []
          },
          "execution_count": 250
        },
        {
          "output_type": "display_data",
          "data": {
            "image/png": "[encoded data removed]",
            "text/plain": [
              "<Figure size 360x360 with 1 Axes>"
            ]
          },
          "metadata": {
            "tags": [],
            "needs_background": "light"
          }
        }
      ]
    },
    {
      "cell_type": "code",
      "metadata": {
        "id": "eKJbpK09XGwb",
        "colab_type": "code",
        "outputId": "5e94dc54-3c1d-46c5-d811-c99b4be8fa8b",
        "colab": {
          "base_uri": "https://localhost:8080/",
          "height": 386
        }
      },
      "source": [
        "sb.catplot(data=df_train, x=\"SibSp\", y=\"Survived\", kind=\"bar\").set_ylabels(\"Probabilidad de sobrevivir\")"
      ],
      "execution_count": 251,
      "outputs": [
        {
          "output_type": "execute_result",
          "data": {
            "text/plain": [
              "<seaborn.axisgrid.FacetGrid at 0x7f1fd04d8e80>"
            ]
          },
          "metadata": {
            "tags": []
          },
          "execution_count": 251
        },
        {
          "output_type": "display_data",
          "data": {
            "image/png": "[encoded data removed]",
            "text/plain": [
              "<Figure size 360x360 with 1 Axes>"
            ]
          },
          "metadata": {
            "tags": [],
            "needs_background": "light"
          }
        }
      ]
    },
    {
      "cell_type": "code",
      "metadata": {
        "id": "U6CekzMwXGi0",
        "colab_type": "code",
        "outputId": "06a693fd-a1dd-40a0-b2af-340919f77142",
        "colab": {
          "base_uri": "https://localhost:8080/",
          "height": 386
        }
      },
      "source": [
        "# Number of passengers with no or several Siblings/Spouses\n",
        "sb.catplot(data=df_train, x=\"SibSp\", y=\"Survived\", hue='JovAdul',kind=\"bar\").set_ylabels(\"Probabilidad de sobrevivir\")"
      ],
      "execution_count": 252,
      "outputs": [
        {
          "output_type": "execute_result",
          "data": {
            "text/plain": [
              "<seaborn.axisgrid.FacetGrid at 0x7f1fd047ddd8>"
            ]
          },
          "metadata": {
            "tags": []
          },
          "execution_count": 252
        },
        {
          "output_type": "display_data",
          "data": {
            "image/png": "[encoded data removed]",
            "text/plain": [
              "<Figure size 427.625x360 with 1 Axes>"
            ]
          },
          "metadata": {
            "tags": [],
            "needs_background": "light"
          }
        }
      ]
    },
    {
      "cell_type": "markdown",
      "metadata": {
        "id": "lzer9z58idqK",
        "colab_type": "text"
      },
      "source": [
        "Podemos comprobar primero que la probabilidad de sobrevivencia de las personas que tenían hijos es mayor, directamente relacionado si este era jóven\n",
        "\n",
        "### Evaluación de Parch (Parents/children)\n",
        "La mayor parte no tiene ni padres ni hijos"
      ]
    },
    {
      "cell_type": "code",
      "metadata": {
        "id": "xtK9J6J1iM3D",
        "colab_type": "code",
        "outputId": "3f3b39b4-f505-4799-e229-40d5ece5ad14",
        "colab": {
          "base_uri": "https://localhost:8080/",
          "height": 386
        }
      },
      "source": [
        "sb.catplot(data=df_train, x=\"Parch\", kind=\"count\", aspect=1.8*1)"
      ],
      "execution_count": 329,
      "outputs": [
        {
          "output_type": "execute_result",
          "data": {
            "text/plain": [
              "<seaborn.axisgrid.FacetGrid at 0x7f1fc9b4a208>"
            ]
          },
          "metadata": {
            "tags": []
          },
          "execution_count": 329
        },
        {
          "output_type": "display_data",
          "data": {
            "image/png": "[encoded data removed]",
            "text/plain": [
              "<Figure size 648x360 with 1 Axes>"
            ]
          },
          "metadata": {
            "tags": [],
            "needs_background": "light"
          }
        }
      ]
    },
    {
      "cell_type": "code",
      "metadata": {
        "id": "Gq1R67skiMol",
        "colab_type": "code",
        "outputId": "66de34e1-289d-49dc-fb98-37b997a93405",
        "colab": {
          "base_uri": "https://localhost:8080/",
          "height": 277
        }
      },
      "source": [
        "sb.catplot(data=df_train, x=\"Parch\", y=\"Survived\", kind=\"bar\", aspect=1.5*2).set_ylabels(\"Probabilidad de sobrevivir\")"
      ],
      "execution_count": 314,
      "outputs": [
        {
          "output_type": "execute_result",
          "data": {
            "text/plain": [
              "<seaborn.axisgrid.FacetGrid at 0x7f1fc9ea93c8>"
            ]
          },
          "metadata": {
            "tags": []
          },
          "execution_count": 314
        },
        {
          "output_type": "display_data",
          "data": {
            "image/png": "[encoded data removed]",
            "text/plain": [
              "<Figure size 1080x360 with 1 Axes>"
            ]
          },
          "metadata": {
            "tags": [],
            "needs_background": "light"
          }
        }
      ]
    },
    {
      "cell_type": "code",
      "metadata": {
        "id": "La9Jp-dZ6fjL",
        "colab_type": "code",
        "outputId": "2efd9689-de21-41a1-ce15-da30fc0a9bd4",
        "colab": {
          "base_uri": "https://localhost:8080/",
          "height": 258
        }
      },
      "source": [
        "#Gráfica para determinar hijos sin, o con varios padres \n",
        "sb.catplot(data=df_train, x=\"Parch\", hue='JovAdul', kind=\"count\", aspect=3)"
      ],
      "execution_count": 330,
      "outputs": [
        {
          "output_type": "execute_result",
          "data": {
            "text/plain": [
              "<seaborn.axisgrid.FacetGrid at 0x7f1fd068ab38>"
            ]
          },
          "metadata": {
            "tags": []
          },
          "execution_count": 330
        },
        {
          "output_type": "display_data",
          "data": {
            "image/png": "[encoded data removed]",
            "text/plain": [
              "<Figure size 1147.62x360 with 1 Axes>"
            ]
          },
          "metadata": {
            "tags": [],
            "needs_background": "light"
          }
        }
      ]
    },
    {
      "cell_type": "markdown",
      "metadata": {
        "id": "drau90sP7P0c",
        "colab_type": "text"
      },
      "source": [
        "**Resumen**: La probabilidad de que un pasajero sobreviva es mayor si pertenece a una familia más pequeña en lugar de viajar solo (adulto) o de pertenecer a una familia grande (más de 3 SibSp o Parch). Debemos considerar todo esto\n",
        "\n",
        "### Evaluación de Fare\n",
        "La matriz de correlación que hemos analizado anteriormente mostró que Fare tiene una fuerte correlación con la posibilidad de sobrevivir. Exploremos la distribución de las tarifas y cómo se correlaciona con la supervivencia."
      ]
    },
    {
      "cell_type": "code",
      "metadata": {
        "id": "mWlGD7Jb6fhG",
        "colab_type": "code",
        "outputId": "3b4a81d0-b1aa-4fdc-a811-f96a21ef5d01",
        "colab": {
          "base_uri": "https://localhost:8080/",
          "height": 279
        }
      },
      "source": [
        "## Para entender mejor la parte de tarifas aplicadas\n",
        "kde = False\n",
        "upper = 150 \n",
        "lower = 0    \n",
        "Pclass = 0   # 0, para todas las clases\n",
        "\n",
        "bins=int((upper-lower)/5) \n",
        "if Pclass == 1 or Pclass == 2 or Pclass == 3:\n",
        "    upPclass = Pclass+1\n",
        "    lowPclass = Pclass\n",
        "else: \n",
        "    upPclass = 4\n",
        "    lowPclass = 1\n",
        "    \n",
        "plt = sb.distplot(df_train[\"Fare\"][(df_train[\"Survived\"] == 0) & (df_train[\"Fare\"]< upper) & (df_train[\"Fare\"]> lower) & (df_train[\"Pclass\"]<upPclass) & (df_train[\"Pclass\"]>=lowPclass)], bins=bins, color=\"Red\", kde=kde)\n",
        "plt = sb.distplot(df_train[\"Fare\"][(df_train[\"Survived\"] == 1) & (df_train[\"Fare\"]< upper) & (df_train[\"Fare\"]> lower) & (df_train[\"Pclass\"]<upPclass) & (df_train[\"Pclass\"]>=lowPclass)], bins=bins, color=\"Green\", kde=kde)\n",
        "plt.set_xlabel(\"Fare\")\n",
        "plt = plt.legend([\"No sobrevive\",\"Sobrevive\"])"
      ],
      "execution_count": 331,
      "outputs": [
        {
          "output_type": "display_data",
          "data": {
            "image/png": "[encoded data removed]",
            "text/plain": [
              "<Figure size 432x288 with 1 Axes>"
            ]
          },
          "metadata": {
            "tags": [],
            "needs_background": "light"
          }
        }
      ]
    },
    {
      "cell_type": "markdown",
      "metadata": {
        "id": "lSFHgtIZ9s53",
        "colab_type": "text"
      },
      "source": [
        "Encontramos algo atípico. Algunos pasajes de tercera clase son mas caros que de primera clase."
      ]
    },
    {
      "cell_type": "code",
      "metadata": {
        "id": "YOlP2LWF6ffR",
        "colab_type": "code",
        "outputId": "5f8e9ecc-8e95-479c-c3e3-8708591dcfb5",
        "colab": {
          "base_uri": "https://localhost:8080/",
          "height": 373
        }
      },
      "source": [
        "df_data[['Fare','Name','Ticket','SibSp','Parch']].iloc[df_data.index[(df_data['Pclass']==3) & (df_data['Fare']>60)]]"
      ],
      "execution_count": 332,
      "outputs": [
        {
          "output_type": "execute_result",
          "data": {
            "text/html": [
              "<div>\n",
              "<style scoped>\n",
              "    .dataframe tbody tr th:only-of-type {\n",
              "        vertical-align: middle;\n",
              "    }\n",
              "\n",
              "    .dataframe tbody tr th {\n",
              "        vertical-align: top;\n",
              "    }\n",
              "\n",
              "    .dataframe thead th {\n",
              "        text-align: right;\n",
              "    }\n",
              "</style>\n",
              "<table border=\"1\" class=\"dataframe\">\n",
              "  <thead>\n",
              "    <tr style=\"text-align: right;\">\n",
              "      <th></th>\n",
              "      <th>Fare</th>\n",
              "      <th>Name</th>\n",
              "      <th>Ticket</th>\n",
              "      <th>SibSp</th>\n",
              "      <th>Parch</th>\n",
              "    </tr>\n",
              "  </thead>\n",
              "  <tbody>\n",
              "    <tr>\n",
              "      <th>159</th>\n",
              "      <td>69.55</td>\n",
              "      <td>Sage, Master. Thomas Henry</td>\n",
              "      <td>CA. 2343</td>\n",
              "      <td>8</td>\n",
              "      <td>2</td>\n",
              "    </tr>\n",
              "    <tr>\n",
              "      <th>180</th>\n",
              "      <td>69.55</td>\n",
              "      <td>Sage, Miss. Constance Gladys</td>\n",
              "      <td>CA. 2343</td>\n",
              "      <td>8</td>\n",
              "      <td>2</td>\n",
              "    </tr>\n",
              "    <tr>\n",
              "      <th>201</th>\n",
              "      <td>69.55</td>\n",
              "      <td>Sage, Mr. Frederick</td>\n",
              "      <td>CA. 2343</td>\n",
              "      <td>8</td>\n",
              "      <td>2</td>\n",
              "    </tr>\n",
              "    <tr>\n",
              "      <th>324</th>\n",
              "      <td>69.55</td>\n",
              "      <td>Sage, Mr. George John Jr</td>\n",
              "      <td>CA. 2343</td>\n",
              "      <td>8</td>\n",
              "      <td>2</td>\n",
              "    </tr>\n",
              "    <tr>\n",
              "      <th>792</th>\n",
              "      <td>69.55</td>\n",
              "      <td>Sage, Miss. Stella Anna</td>\n",
              "      <td>CA. 2343</td>\n",
              "      <td>8</td>\n",
              "      <td>2</td>\n",
              "    </tr>\n",
              "    <tr>\n",
              "      <th>846</th>\n",
              "      <td>69.55</td>\n",
              "      <td>Sage, Mr. Douglas Bullen</td>\n",
              "      <td>CA. 2343</td>\n",
              "      <td>8</td>\n",
              "      <td>2</td>\n",
              "    </tr>\n",
              "    <tr>\n",
              "      <th>863</th>\n",
              "      <td>69.55</td>\n",
              "      <td>Sage, Miss. Dorothy Edith \"Dolly\"</td>\n",
              "      <td>CA. 2343</td>\n",
              "      <td>8</td>\n",
              "      <td>2</td>\n",
              "    </tr>\n",
              "    <tr>\n",
              "      <th>1079</th>\n",
              "      <td>69.55</td>\n",
              "      <td>Sage, Miss. Ada</td>\n",
              "      <td>CA. 2343</td>\n",
              "      <td>8</td>\n",
              "      <td>2</td>\n",
              "    </tr>\n",
              "    <tr>\n",
              "      <th>1233</th>\n",
              "      <td>69.55</td>\n",
              "      <td>Sage, Mr. John George</td>\n",
              "      <td>CA. 2343</td>\n",
              "      <td>1</td>\n",
              "      <td>9</td>\n",
              "    </tr>\n",
              "    <tr>\n",
              "      <th>1251</th>\n",
              "      <td>69.55</td>\n",
              "      <td>Sage, Master. William Henry</td>\n",
              "      <td>CA. 2343</td>\n",
              "      <td>8</td>\n",
              "      <td>2</td>\n",
              "    </tr>\n",
              "    <tr>\n",
              "      <th>1256</th>\n",
              "      <td>69.55</td>\n",
              "      <td>Sage, Mrs. John (Annie Bullen)</td>\n",
              "      <td>CA. 2343</td>\n",
              "      <td>1</td>\n",
              "      <td>9</td>\n",
              "    </tr>\n",
              "  </tbody>\n",
              "</table>\n",
              "</div>"
            ],
            "text/plain": [
              "       Fare                               Name    Ticket  SibSp  Parch\n",
              "159   69.55         Sage, Master. Thomas Henry  CA. 2343      8      2\n",
              "180   69.55       Sage, Miss. Constance Gladys  CA. 2343      8      2\n",
              "201   69.55                Sage, Mr. Frederick  CA. 2343      8      2\n",
              "324   69.55           Sage, Mr. George John Jr  CA. 2343      8      2\n",
              "792   69.55            Sage, Miss. Stella Anna  CA. 2343      8      2\n",
              "846   69.55           Sage, Mr. Douglas Bullen  CA. 2343      8      2\n",
              "863   69.55  Sage, Miss. Dorothy Edith \"Dolly\"  CA. 2343      8      2\n",
              "1079  69.55                    Sage, Miss. Ada  CA. 2343      8      2\n",
              "1233  69.55              Sage, Mr. John George  CA. 2343      1      9\n",
              "1251  69.55        Sage, Master. William Henry  CA. 2343      8      2\n",
              "1256  69.55     Sage, Mrs. John (Annie Bullen)  CA. 2343      1      9"
            ]
          },
          "metadata": {
            "tags": []
          },
          "execution_count": 332
        }
      ]
    },
    {
      "cell_type": "markdown",
      "metadata": {
        "id": "grCwDzVf-NkC",
        "colab_type": "text"
      },
      "source": [
        "Se nota que los precios altos, se debe a que los pasajes están por toda una familia. Esto es un problema. Entonces trabajemos en crear una nueva variable que indique los costos por separado"
      ]
    },
    {
      "cell_type": "code",
      "metadata": {
        "id": "OEb6h6686fdb",
        "colab_type": "code",
        "outputId": "6bc7d0d2-4da1-40ed-b099-a38724ec87d8",
        "colab": {
          "base_uri": "https://localhost:8080/",
          "height": 118
        }
      },
      "source": [
        "# Desviar los valores altos por el número de personas\n",
        "df_train['FarePers'] = df_train['Fare'].copy()\n",
        "\n",
        "m = 0\n",
        "for grp, grp_df in df_train[['Ticket', 'Name', 'Pclass', 'Fare', 'PassengerId']].groupby(['Ticket']):\n",
        "    if (len(grp_df) != 1):\n",
        "        if m==0:\n",
        "            print(grp_df)\n",
        "            m=1\n",
        "        for ind, row in grp_df.iterrows():\n",
        "            passID = row['PassengerId']\n",
        "            df_train.loc[df_train['PassengerId'] == passID, 'FarePers'] = df_train['Fare'][df_train['PassengerId'] == passID]/len(grp_df)\n",
        "            "
      ],
      "execution_count": 259,
      "outputs": [
        {
          "output_type": "stream",
          "text": [
            "     Ticket  ... PassengerId\n",
            "257  110152  ...         258\n",
            "504  110152  ...         505\n",
            "759  110152  ...         760\n",
            "\n",
            "[3 rows x 5 columns]\n"
          ],
          "name": "stdout"
        }
      ]
    },
    {
      "cell_type": "code",
      "metadata": {
        "id": "Bog9HKmu6fPg",
        "colab_type": "code",
        "outputId": "46eeb697-375f-4694-ca50-42639e8bc2c4",
        "colab": {
          "base_uri": "https://localhost:8080/",
          "height": 280
        }
      },
      "source": [
        "## Volvemos a aplicar, pero con la nueva variable\n",
        "kde = False\n",
        "upper = 100\n",
        "lower = 0    \n",
        "Pclass = 0   # 0, para todas las clases\n",
        "\n",
        "bins=int((upper-lower)/5) \n",
        "if Pclass == 1 or Pclass == 2 or Pclass == 3:\n",
        "    upPclass = Pclass+1\n",
        "    lowPclass = Pclass\n",
        "else: \n",
        "    upPclass = 4\n",
        "    lowPclass = 1\n",
        "    \n",
        "plt = sb.distplot(df_train[\"FarePers\"][(df_train[\"Survived\"] == 0) & (df_train[\"Fare\"]< upper) & (df_train[\"FarePers\"]> lower) & (df_train[\"Pclass\"]<upPclass) & (df_train[\"Pclass\"]>=lowPclass)], bins=bins, color=\"Red\", kde=kde)\n",
        "plt = sb.distplot(df_train[\"FarePers\"][(df_train[\"Survived\"] == 1) & (df_train[\"Fare\"]< upper) & (df_train[\"FarePers\"]> lower) & (df_train[\"Pclass\"]<upPclass) & (df_train[\"Pclass\"]>=lowPclass)], bins=bins, color=\"Green\", kde=kde)\n",
        "plt.set_xlabel(\"FarePers\")\n",
        "plt = plt.legend([\"No sobrevive\",\"Sobrevive\"])"
      ],
      "execution_count": 260,
      "outputs": [
        {
          "output_type": "display_data",
          "data": {
            "image/png": "[encoded data removed]",
            "text/plain": [
              "<Figure size 432x288 with 1 Axes>"
            ]
          },
          "metadata": {
            "tags": [],
            "needs_background": "light"
          }
        }
      ]
    },
    {
      "cell_type": "markdown",
      "metadata": {
        "id": "Wjo3-0v_-mtW",
        "colab_type": "text"
      },
      "source": [
        ""
      ]
    },
    {
      "cell_type": "markdown",
      "metadata": {
        "id": "xcI4IcLRGX88",
        "colab_type": "text"
      },
      "source": [
        "Haciendo esto, normalizamos la información. Con lo cual se nota que las personas que compraron un pasaje caro, tienen mas probabilidad de sobrevivir.\n",
        "\n",
        "Vamoa a crear una nueva variable para categorizar según el valor del boleto"
      ]
    },
    {
      "cell_type": "code",
      "metadata": {
        "id": "kORtyWvwGjxF",
        "colab_type": "code",
        "outputId": "0612e5b6-0dd0-4ad1-d72c-b6ad8046bc7a",
        "colab": {
          "base_uri": "https://localhost:8080/",
          "height": 84
        }
      },
      "source": [
        "df_train['FareCat'] = pd.cut(df_train['FarePers'], bins=[0,15,65,max(df_train[\"FarePers\"]+1)], labels=['bajo','medio','alto'])\n",
        "df_train['FareCat'].value_counts()"
      ],
      "execution_count": 261,
      "outputs": [
        {
          "output_type": "execute_result",
          "data": {
            "text/plain": [
              "bajo     618\n",
              "medio    227\n",
              "alto      31\n",
              "Name: FareCat, dtype: int64"
            ]
          },
          "metadata": {
            "tags": []
          },
          "execution_count": 261
        }
      ]
    },
    {
      "cell_type": "code",
      "metadata": {
        "id": "QXhBSl6vGju1",
        "colab_type": "code",
        "outputId": "a4429ca4-9090-4333-f9bd-12d6d671ce40",
        "colab": {
          "base_uri": "https://localhost:8080/",
          "height": 386
        }
      },
      "source": [
        "sb.catplot(data=df_train, x=\"FareCat\", y=\"Survived\", kind=\"bar\").set_ylabels(\"Probabilidad de sobrevivir\")"
      ],
      "execution_count": 262,
      "outputs": [
        {
          "output_type": "execute_result",
          "data": {
            "text/plain": [
              "<seaborn.axisgrid.FacetGrid at 0x7f1fd033ceb8>"
            ]
          },
          "metadata": {
            "tags": []
          },
          "execution_count": 262
        },
        {
          "output_type": "display_data",
          "data": {
            "image/png": "[encoded data removed]",
            "text/plain": [
              "<Figure size 360x360 with 1 Axes>"
            ]
          },
          "metadata": {
            "tags": [],
            "needs_background": "light"
          }
        }
      ]
    },
    {
      "cell_type": "markdown",
      "metadata": {
        "id": "NPeWPLtQICcw",
        "colab_type": "text"
      },
      "source": [
        "Con esto conseguimos normalizar y entender mejor esta varaiable\n",
        "\n",
        "### Evaluación de Embarked"
      ]
    },
    {
      "cell_type": "code",
      "metadata": {
        "id": "ungEezhfGjka",
        "colab_type": "code",
        "outputId": "4938482b-a91b-4e1f-c9cf-d00a121f19e7",
        "colab": {
          "base_uri": "https://localhost:8080/",
          "height": 386
        }
      },
      "source": [
        "sb.catplot(data=df_train, x=\"Embarked\", kind=\"count\")"
      ],
      "execution_count": 263,
      "outputs": [
        {
          "output_type": "execute_result",
          "data": {
            "text/plain": [
              "<seaborn.axisgrid.FacetGrid at 0x7f1fd05cc320>"
            ]
          },
          "metadata": {
            "tags": []
          },
          "execution_count": 263
        },
        {
          "output_type": "display_data",
          "data": {
            "image/png": "[encoded data removed]",
            "text/plain": [
              "<Figure size 360x360 with 1 Axes>"
            ]
          },
          "metadata": {
            "tags": [],
            "needs_background": "light"
          }
        }
      ]
    },
    {
      "cell_type": "code",
      "metadata": {
        "id": "iuFOoPe6Gjig",
        "colab_type": "code",
        "outputId": "933c09dc-ac05-4eda-bf03-3e7e9d42e14a",
        "colab": {
          "base_uri": "https://localhost:8080/",
          "height": 386
        }
      },
      "source": [
        "sb.catplot(data=df_train, x=\"Embarked\", y=\"Survived\", kind=\"bar\").set_ylabels(\"Probabilidad de sobrevivir\")"
      ],
      "execution_count": 264,
      "outputs": [
        {
          "output_type": "execute_result",
          "data": {
            "text/plain": [
              "<seaborn.axisgrid.FacetGrid at 0x7f1fcb4a9550>"
            ]
          },
          "metadata": {
            "tags": []
          },
          "execution_count": 264
        },
        {
          "output_type": "display_data",
          "data": {
            "image/png": "[encoded data removed]",
            "text/plain": [
              "<Figure size 360x360 with 1 Axes>"
            ]
          },
          "metadata": {
            "tags": [],
            "needs_background": "light"
          }
        }
      ]
    },
    {
      "cell_type": "code",
      "metadata": {
        "id": "o9gMOPH7GjgR",
        "colab_type": "code",
        "outputId": "0a843fd7-ec81-40de-8a2b-f3796175c0bc",
        "colab": {
          "base_uri": "https://localhost:8080/",
          "height": 386
        }
      },
      "source": [
        "#Se evalua también el total de ingresos, por clase social\n",
        "sb.catplot(x=\"Embarked\", hue='Pclass',kind=\"count\", data=df_train)"
      ],
      "execution_count": 265,
      "outputs": [
        {
          "output_type": "execute_result",
          "data": {
            "text/plain": [
              "<seaborn.axisgrid.FacetGrid at 0x7f1fd0208c88>"
            ]
          },
          "metadata": {
            "tags": []
          },
          "execution_count": 265
        },
        {
          "output_type": "display_data",
          "data": {
            "image/png": "[encoded data removed]",
            "text/plain": [
              "<Figure size 402.375x360 with 1 Axes>"
            ]
          },
          "metadata": {
            "tags": [],
            "needs_background": "light"
          }
        }
      ]
    },
    {
      "cell_type": "code",
      "metadata": {
        "id": "AmGq-2voJmTS",
        "colab_type": "code",
        "outputId": "a2a73c1f-85a9-4be8-9515-25948ad9e603",
        "colab": {
          "base_uri": "https://localhost:8080/",
          "height": 386
        }
      },
      "source": [
        "sb.catplot(x=\"Embarked\", y='Survived', hue='Pclass', kind=\"bar\", data=df_train)"
      ],
      "execution_count": 266,
      "outputs": [
        {
          "output_type": "execute_result",
          "data": {
            "text/plain": [
              "<seaborn.axisgrid.FacetGrid at 0x7f1fd01fbda0>"
            ]
          },
          "metadata": {
            "tags": []
          },
          "execution_count": 266
        },
        {
          "output_type": "display_data",
          "data": {
            "image/png": "[encoded data removed]",
            "text/plain": [
              "<Figure size 402.375x360 with 1 Axes>"
            ]
          },
          "metadata": {
            "tags": [],
            "needs_background": "light"
          }
        }
      ]
    },
    {
      "cell_type": "markdown",
      "metadata": {
        "id": "VlHhFGEMJZOg",
        "colab_type": "text"
      },
      "source": [
        "La mayoría de los pasajeros embarcaron en Southampton - una mitad en tercera clase, la otra mitad en primera y segunda clase. La mayoría de los pasajeros que embarcaron en Cherburgo viajaron en 1ª clase, lo que explica la mayor probabilidad de supervivencia de este grupo de pasajeros. Es notable que en Queenstwon embarcaron principalmente pasajeros de 3ª clase, sin embargo, su probabilidad de supervivencia es mayor que la de los pasajeros que embarcaron en Southamton"
      ]
    },
    {
      "cell_type": "markdown",
      "metadata": {
        "id": "Jp4iZHvCKTz5",
        "colab_type": "text"
      },
      "source": [
        "**NOTA:** La variable Cabin no será evaluada, dato que con los datos de ticket se puede evaluarlas, Además que hay muchos datos perdidos\n",
        "\n",
        "# 5. Nuevas características y valores perdidos"
      ]
    },
    {
      "cell_type": "code",
      "metadata": {
        "id": "gT5QLr1DGjWB",
        "colab_type": "code",
        "outputId": "7dc4fdb9-1f04-430f-ff91-8bb08fd136a9",
        "colab": {
          "base_uri": "https://localhost:8080/",
          "height": 286
        }
      },
      "source": [
        "# Vamos a agregar una nueva característica, el título de cada persona\n",
        "for name in df_data['Name']:\n",
        "    df_data['Title'] = df_data['Name'].str.extract('([A-Za-z]+)\\.', expand=True)\n",
        "\n",
        "df_data['Title'] = df_data['Title'].replace({'Ms':'Miss','Mlle':'Miss','Mme':'Mrs'})\n",
        "\n",
        "df_data['Title'].value_counts()"
      ],
      "execution_count": 267,
      "outputs": [
        {
          "output_type": "execute_result",
          "data": {
            "text/plain": [
              "Mr          757\n",
              "Miss        264\n",
              "Mrs         198\n",
              "Master       61\n",
              "Rev           8\n",
              "Dr            8\n",
              "Col           4\n",
              "Major         2\n",
              "Capt          1\n",
              "Dona          1\n",
              "Don           1\n",
              "Countess      1\n",
              "Jonkheer      1\n",
              "Lady          1\n",
              "Sir           1\n",
              "Name: Title, dtype: int64"
            ]
          },
          "metadata": {
            "tags": []
          },
          "execution_count": 267
        }
      ]
    },
    {
      "cell_type": "code",
      "metadata": {
        "id": "vHFb0DfvGjLD",
        "colab_type": "code",
        "outputId": "d70a51e7-2ab5-4b3b-b0e0-04a8fa2e5b89",
        "colab": {
          "base_uri": "https://localhost:8080/",
          "height": 134
        }
      },
      "source": [
        "# Agrupamos en menos categorias\n",
        "df_data['Title'] = df_data['Title'].replace(['Sir','Don','Dona','Jonkheer','Lady','Countess'], 'Noble')\n",
        "\n",
        "df_data['Title'] = df_data['Title'].replace(['Dr', 'Rev','Col','Major','Capt'], 'Others')\n",
        "\n",
        "df_data['Title'].value_counts()"
      ],
      "execution_count": 268,
      "outputs": [
        {
          "output_type": "execute_result",
          "data": {
            "text/plain": [
              "Mr        757\n",
              "Miss      264\n",
              "Mrs       198\n",
              "Master     61\n",
              "Others     23\n",
              "Noble       6\n",
              "Name: Title, dtype: int64"
            ]
          },
          "metadata": {
            "tags": []
          },
          "execution_count": 268
        }
      ]
    },
    {
      "cell_type": "markdown",
      "metadata": {
        "id": "tM5s-Q5DPWli",
        "colab_type": "text"
      },
      "source": [
        "### TRabajo con la variable edad\n",
        "La estrategia a tomar será en categorizarla, de igual manera como se hizo en el análisis"
      ]
    },
    {
      "cell_type": "code",
      "metadata": {
        "id": "bRr7sHH5Gi5m",
        "colab_type": "code",
        "outputId": "7ce28095-7a6f-479d-9a5b-3c8b8ea65d3f",
        "colab": {
          "base_uri": "https://localhost:8080/",
          "height": 151
        }
      },
      "source": [
        "df_data.groupby('Title')['Age'].median()"
      ],
      "execution_count": 269,
      "outputs": [
        {
          "output_type": "execute_result",
          "data": {
            "text/plain": [
              "Title\n",
              "Master     4.0\n",
              "Miss      23.0\n",
              "Mr        29.0\n",
              "Mrs       35.0\n",
              "Noble     39.5\n",
              "Others    49.5\n",
              "Name: Age, dtype: float64"
            ]
          },
          "metadata": {
            "tags": []
          },
          "execution_count": 269
        }
      ]
    },
    {
      "cell_type": "code",
      "metadata": {
        "id": "k9y1byzw6fNT",
        "colab_type": "code",
        "outputId": "4117e0ac-3f31-494e-8a90-97c395de6104",
        "colab": {
          "base_uri": "https://localhost:8080/",
          "height": 50
        }
      },
      "source": [
        "# Evaluamos las diferencias que se tienen de las mujeres jóvenes y adultas\n",
        "# Evaluamos esto, dado que la probabilidad de sobrevivencia en las mujeres es mayor\n",
        "print('Promedio de edad joven Miss(age<16): '+ str(df_data['Age'][(df_data['Title']== 'Miss') & (df_data['Age']<16)].median()) + ' años')\n",
        "print('Promedio de edad adulta Miss (age>=16): '+ str(df_data['Age'][(df_data['Title']== 'Miss') & (df_data['Age']>=16)].median()) + ' años')"
      ],
      "execution_count": 270,
      "outputs": [
        {
          "output_type": "stream",
          "text": [
            "Promedio de edad joven Miss(age<16): 5.0 años\n",
            "Promedio de edad adulta Miss (age>=16): 24.0 años\n"
          ],
          "name": "stdout"
        }
      ]
    },
    {
      "cell_type": "code",
      "metadata": {
        "id": "0WxGIxVsREGU",
        "colab_type": "code",
        "colab": {}
      },
      "source": [
        "#Agregamos una nueva categoría con esta observación, jovenMiss\n",
        "title_list=df_data.groupby('Title')['Age'].median().index.to_list()\n",
        "\n",
        "for title in title_list:\n",
        "    if title=='Miss':\n",
        "        df_data.loc[(df_data['Age'].isnull()) & (df_data['Title'] == title) & (df_data['Parch'] == 0), 'Age'] = df_data['Age'][(df_data['Title']== title) & (df_data['Age']>=16)].median()\n",
        "        \n",
        "        df_data.loc[(df_data['Age'].isnull()) & (df_data['Title'] == title) & (df_data['Parch'] > 0), 'Age'] = df_data['Age'][(df_data['Title']== title) & (df_data['Age']<16)].median()\n",
        "        \n",
        "        df_data.loc[(df_data['Age']<15) & (df_data['Title'] == title), 'Title'] = 'jovenMiss'                                                 \n",
        "    else: \n",
        "        df_data.loc[(df_data['Age'].isnull()) & (df_data['Title'] == title), 'Age'] = df_data['Age'][(df_data['Title']== title)].median()\n"
      ],
      "execution_count": 0,
      "outputs": []
    },
    {
      "cell_type": "code",
      "metadata": {
        "id": "88YulYc56fER",
        "colab_type": "code",
        "outputId": "c7a0615b-b129-4775-b950-b1840d658ae5",
        "colab": {
          "base_uri": "https://localhost:8080/",
          "height": 302
        }
      },
      "source": [
        "print(df_data['Title'].value_counts())\n",
        "df_data.groupby('Title')['Age'].median()"
      ],
      "execution_count": 272,
      "outputs": [
        {
          "output_type": "stream",
          "text": [
            "Mr           757\n",
            "Miss         204\n",
            "Mrs          198\n",
            "Master        61\n",
            "jovenMiss     60\n",
            "Others        23\n",
            "Noble          6\n",
            "Name: Title, dtype: int64\n"
          ],
          "name": "stdout"
        },
        {
          "output_type": "execute_result",
          "data": {
            "text/plain": [
              "Title\n",
              "Master        4.0\n",
              "Miss         24.0\n",
              "Mr           29.0\n",
              "Mrs          35.0\n",
              "Noble        39.5\n",
              "Others       49.5\n",
              "jovenMiss     5.0\n",
              "Name: Age, dtype: float64"
            ]
          },
          "metadata": {
            "tags": []
          },
          "execution_count": 272
        }
      ]
    },
    {
      "cell_type": "code",
      "metadata": {
        "id": "LIsAkJIKSOKU",
        "colab_type": "code",
        "outputId": "08de1384-5a2d-4a24-c32a-798aaf8ea721",
        "colab": {
          "base_uri": "https://localhost:8080/",
          "height": 118
        }
      },
      "source": [
        "## Dividimos la característica Age en 5 categorías, donde la categoría 1 se refiere a los niños (edad<16)\n",
        "df_data[\"AgeCat\"] = pd.cut(df_data[\"Age\"], bins=[0,14.9,30,45,60,max(df_data[\"Age\"]+1)], labels=['1','2','3','4','5'])\n",
        "\n",
        "df_data['AgeCat'].value_counts()"
      ],
      "execution_count": 273,
      "outputs": [
        {
          "output_type": "execute_result",
          "data": {
            "text/plain": [
              "2    717\n",
              "3    309\n",
              "1    127\n",
              "4    123\n",
              "5     33\n",
              "Name: AgeCat, dtype: int64"
            ]
          },
          "metadata": {
            "tags": []
          },
          "execution_count": 273
        }
      ]
    },
    {
      "cell_type": "code",
      "metadata": {
        "id": "fXTrE_1_SN9U",
        "colab_type": "code",
        "outputId": "84c2f550-2b8c-4714-fa93-9ec24a24f44a",
        "colab": {
          "base_uri": "https://localhost:8080/",
          "height": 386
        }
      },
      "source": [
        "sb.catplot(data=df_data[:len(df_train)], x='AgeCat', y='Survived', kind='bar')"
      ],
      "execution_count": 274,
      "outputs": [
        {
          "output_type": "execute_result",
          "data": {
            "text/plain": [
              "<seaborn.axisgrid.FacetGrid at 0x7f1fcb297198>"
            ]
          },
          "metadata": {
            "tags": []
          },
          "execution_count": 274
        },
        {
          "output_type": "display_data",
          "data": {
            "image/png": "[encoded data removed]",
            "text/plain": [
              "<Figure size 360x360 with 1 Axes>"
            ]
          },
          "metadata": {
            "tags": [],
            "needs_background": "light"
          }
        }
      ]
    },
    {
      "cell_type": "markdown",
      "metadata": {
        "id": "H2Cd2_11TQmX",
        "colab_type": "text"
      },
      "source": [
        "### Trabajo con la Variable SibSp y Parch\n",
        "La idea aqui, es categorizar estas variables usando un identificador del tamaño de la familia. En el análisis anteriro vimos que las familias pequeñas tenían mas probabilidad de sobrevivir"
      ]
    },
    {
      "cell_type": "code",
      "metadata": {
        "id": "Jfd95j9cSN69",
        "colab_type": "code",
        "outputId": "703938fd-0cc2-49c2-a214-92a9a89fe886",
        "colab": {
          "base_uri": "https://localhost:8080/",
          "height": 453
        }
      },
      "source": [
        "df_data.loc[df_data['SibSp'] + df_data['Parch'] + 1 == 1, 'TamanoFamilia'] = 'Single'\n",
        "df_data.loc[df_data['SibSp'] + df_data['Parch'] + 1 > 1 , 'TamanoFamilia'] = 'Small'\n",
        "df_data.loc[df_data['SibSp'] + df_data['Parch'] + 1 > 4 , 'TamanoFamilia'] = 'Big'\n",
        "\n",
        "print( df_data.TamanoFamilia.value_counts() )\n",
        "sb.catplot(data=df_data[:len(df_train)], x='TamanoFamilia', y='Survived', kind='bar')"
      ],
      "execution_count": 275,
      "outputs": [
        {
          "output_type": "stream",
          "text": [
            "Single    790\n",
            "Small     437\n",
            "Big        82\n",
            "Name: TamanoFamilia, dtype: int64\n"
          ],
          "name": "stdout"
        },
        {
          "output_type": "execute_result",
          "data": {
            "text/plain": [
              "<seaborn.axisgrid.FacetGrid at 0x7f1fd05f90b8>"
            ]
          },
          "metadata": {
            "tags": []
          },
          "execution_count": 275
        },
        {
          "output_type": "display_data",
          "data": {
            "image/png": "[encoded data removed]",
            "text/plain": [
              "<Figure size 360x360 with 1 Axes>"
            ]
          },
          "metadata": {
            "tags": [],
            "needs_background": "light"
          }
        }
      ]
    },
    {
      "cell_type": "markdown",
      "metadata": {
        "id": "Lai-kWfpVNmu",
        "colab_type": "text"
      },
      "source": [
        "### Agregar variable FarePers and FareCat\n",
        "Siguiendo la estrategia de categorizar todo, haremos lo mismo con **Fare**, según la evaluación anterior realizada"
      ]
    },
    {
      "cell_type": "code",
      "metadata": {
        "id": "ew7-_oISSN4Z",
        "colab_type": "code",
        "outputId": "facf4ed1-1e0a-46f7-e1ca-a94a10ef767b",
        "colab": {
          "base_uri": "https://localhost:8080/",
          "height": 420
        }
      },
      "source": [
        "df_data['FarePers'] = df_data['Fare'].copy()\n",
        "\n",
        "for grp, grp_df in df_data[['Ticket','Name', 'Pclass', 'Fare', 'PassengerId']].groupby(['Ticket']):\n",
        "\n",
        "    if (len(grp_df) != 1):\n",
        "        for ind, row in grp_df.iterrows():\n",
        "            passID = row['PassengerId']\n",
        "            df_data.loc[df_data['PassengerId'] == passID, 'FarePers'] = df_data['Fare'][df_data['PassengerId'] == passID]/len(grp_df)\n",
        "          \n",
        "#ADemás completamos los valores que estaban perdidos, tomando como premisa la clase 3\n",
        "fare_temp = df_data[df_data[\"Pclass\"] == 3]\n",
        "df_data['FarePers'].fillna(fare_temp['FarePers'].median(), inplace = True)\n",
        "df_data.info()"
      ],
      "execution_count": 276,
      "outputs": [
        {
          "output_type": "stream",
          "text": [
            "<class 'pandas.core.frame.DataFrame'>\n",
            "RangeIndex: 1309 entries, 0 to 1308\n",
            "Data columns (total 17 columns):\n",
            " #   Column         Non-Null Count  Dtype   \n",
            "---  ------         --------------  -----   \n",
            " 0   PassengerId    1309 non-null   int64   \n",
            " 1   Survived       891 non-null    float64 \n",
            " 2   Pclass         1309 non-null   int64   \n",
            " 3   Name           1309 non-null   object  \n",
            " 4   Sex            1309 non-null   object  \n",
            " 5   Age            1309 non-null   float64 \n",
            " 6   SibSp          1309 non-null   int64   \n",
            " 7   Parch          1309 non-null   int64   \n",
            " 8   Ticket         1309 non-null   object  \n",
            " 9   Fare           1308 non-null   float64 \n",
            " 10  Cabin          295 non-null    object  \n",
            " 11  Embarked       1309 non-null   object  \n",
            " 12  Title          1309 non-null   object  \n",
            " 13  AgeCat         1309 non-null   category\n",
            " 14  TamanoFamilia  1309 non-null   object  \n",
            " 15  FarePers       1309 non-null   float64 \n",
            " 16  FareCat        1309 non-null   category\n",
            "dtypes: category(2), float64(4), int64(4), object(7)\n",
            "memory usage: 156.6+ KB\n"
          ],
          "name": "stdout"
        }
      ]
    },
    {
      "cell_type": "code",
      "metadata": {
        "id": "5ZakwMntSNqD",
        "colab_type": "code",
        "outputId": "ca6c790e-6328-491e-a0fe-f389ba551537",
        "colab": {
          "base_uri": "https://localhost:8080/",
          "height": 151
        }
      },
      "source": [
        "# Vamos a subdividir en 7 categorías\n",
        "df_data['FareCat'] = pd.qcut(df_data['FarePers'], 7, labels=['1','2','3','4','5','6','7'])\n",
        "df_data['FareCat'].value_counts()"
      ],
      "execution_count": 277,
      "outputs": [
        {
          "output_type": "execute_result",
          "data": {
            "text/plain": [
              "2    236\n",
              "5    212\n",
              "1    188\n",
              "7    186\n",
              "4    167\n",
              "6    162\n",
              "3    158\n",
              "Name: FareCat, dtype: int64"
            ]
          },
          "metadata": {
            "tags": []
          },
          "execution_count": 277
        }
      ]
    },
    {
      "cell_type": "markdown",
      "metadata": {
        "id": "VO48GVJPWusW",
        "colab_type": "text"
      },
      "source": [
        "### Trabajar con los valores perdidos de Embarked\n",
        "Se decide hacer que todos los faltantes embarcaron en \"C\""
      ]
    },
    {
      "cell_type": "code",
      "metadata": {
        "id": "cGjCAsIBSNVJ",
        "colab_type": "code",
        "outputId": "1a4be4e3-d432-404e-c365-3fc303d4e8d0",
        "colab": {
          "base_uri": "https://localhost:8080/",
          "height": 420
        }
      },
      "source": [
        "df_data['Embarked'].fillna('C', inplace = True)\n",
        "df_data.info()"
      ],
      "execution_count": 278,
      "outputs": [
        {
          "output_type": "stream",
          "text": [
            "<class 'pandas.core.frame.DataFrame'>\n",
            "RangeIndex: 1309 entries, 0 to 1308\n",
            "Data columns (total 17 columns):\n",
            " #   Column         Non-Null Count  Dtype   \n",
            "---  ------         --------------  -----   \n",
            " 0   PassengerId    1309 non-null   int64   \n",
            " 1   Survived       891 non-null    float64 \n",
            " 2   Pclass         1309 non-null   int64   \n",
            " 3   Name           1309 non-null   object  \n",
            " 4   Sex            1309 non-null   object  \n",
            " 5   Age            1309 non-null   float64 \n",
            " 6   SibSp          1309 non-null   int64   \n",
            " 7   Parch          1309 non-null   int64   \n",
            " 8   Ticket         1309 non-null   object  \n",
            " 9   Fare           1308 non-null   float64 \n",
            " 10  Cabin          295 non-null    object  \n",
            " 11  Embarked       1309 non-null   object  \n",
            " 12  Title          1309 non-null   object  \n",
            " 13  AgeCat         1309 non-null   category\n",
            " 14  TamanoFamilia  1309 non-null   object  \n",
            " 15  FarePers       1309 non-null   float64 \n",
            " 16  FareCat        1309 non-null   category\n",
            "dtypes: category(2), float64(4), int64(4), object(7)\n",
            "memory usage: 156.6+ KB\n"
          ],
          "name": "stdout"
        }
      ]
    },
    {
      "cell_type": "markdown",
      "metadata": {
        "id": "_IfzEO-KXsnS",
        "colab_type": "text"
      },
      "source": [
        "# 6. Preparación de los datos"
      ]
    },
    {
      "cell_type": "code",
      "metadata": {
        "id": "MJq_dVacXHDL",
        "colab_type": "code",
        "colab": {}
      },
      "source": [
        "#Borramos las variables que no se van a usar\n",
        "df_data_fin = df_data.drop(['Survived','PassengerId','Name','Age','Parch','SibSp','Ticket','Fare','Cabin','FarePers'],axis=1)"
      ],
      "execution_count": 0,
      "outputs": []
    },
    {
      "cell_type": "code",
      "metadata": {
        "id": "Or9HLNxyXG0a",
        "colab_type": "code",
        "outputId": "a2d1ea33-2dcc-4279-80eb-581a6df334b8",
        "colab": {
          "base_uri": "https://localhost:8080/",
          "height": 402
        }
      },
      "source": [
        "df_data_fin"
      ],
      "execution_count": 280,
      "outputs": [
        {
          "output_type": "execute_result",
          "data": {
            "text/html": [
              "<div>\n",
              "<style scoped>\n",
              "    .dataframe tbody tr th:only-of-type {\n",
              "        vertical-align: middle;\n",
              "    }\n",
              "\n",
              "    .dataframe tbody tr th {\n",
              "        vertical-align: top;\n",
              "    }\n",
              "\n",
              "    .dataframe thead th {\n",
              "        text-align: right;\n",
              "    }\n",
              "</style>\n",
              "<table border=\"1\" class=\"dataframe\">\n",
              "  <thead>\n",
              "    <tr style=\"text-align: right;\">\n",
              "      <th></th>\n",
              "      <th>Pclass</th>\n",
              "      <th>Sex</th>\n",
              "      <th>Embarked</th>\n",
              "      <th>Title</th>\n",
              "      <th>AgeCat</th>\n",
              "      <th>TamanoFamilia</th>\n",
              "      <th>FareCat</th>\n",
              "    </tr>\n",
              "  </thead>\n",
              "  <tbody>\n",
              "    <tr>\n",
              "      <th>0</th>\n",
              "      <td>3</td>\n",
              "      <td>male</td>\n",
              "      <td>S</td>\n",
              "      <td>Mr</td>\n",
              "      <td>2</td>\n",
              "      <td>Small</td>\n",
              "      <td>2</td>\n",
              "    </tr>\n",
              "    <tr>\n",
              "      <th>1</th>\n",
              "      <td>1</td>\n",
              "      <td>female</td>\n",
              "      <td>C</td>\n",
              "      <td>Mrs</td>\n",
              "      <td>3</td>\n",
              "      <td>Small</td>\n",
              "      <td>7</td>\n",
              "    </tr>\n",
              "    <tr>\n",
              "      <th>2</th>\n",
              "      <td>3</td>\n",
              "      <td>female</td>\n",
              "      <td>S</td>\n",
              "      <td>Miss</td>\n",
              "      <td>2</td>\n",
              "      <td>Single</td>\n",
              "      <td>3</td>\n",
              "    </tr>\n",
              "    <tr>\n",
              "      <th>3</th>\n",
              "      <td>1</td>\n",
              "      <td>female</td>\n",
              "      <td>S</td>\n",
              "      <td>Mrs</td>\n",
              "      <td>3</td>\n",
              "      <td>Small</td>\n",
              "      <td>6</td>\n",
              "    </tr>\n",
              "    <tr>\n",
              "      <th>4</th>\n",
              "      <td>3</td>\n",
              "      <td>male</td>\n",
              "      <td>S</td>\n",
              "      <td>Mr</td>\n",
              "      <td>3</td>\n",
              "      <td>Single</td>\n",
              "      <td>4</td>\n",
              "    </tr>\n",
              "    <tr>\n",
              "      <th>...</th>\n",
              "      <td>...</td>\n",
              "      <td>...</td>\n",
              "      <td>...</td>\n",
              "      <td>...</td>\n",
              "      <td>...</td>\n",
              "      <td>...</td>\n",
              "      <td>...</td>\n",
              "    </tr>\n",
              "    <tr>\n",
              "      <th>1304</th>\n",
              "      <td>3</td>\n",
              "      <td>male</td>\n",
              "      <td>S</td>\n",
              "      <td>Mr</td>\n",
              "      <td>2</td>\n",
              "      <td>Single</td>\n",
              "      <td>4</td>\n",
              "    </tr>\n",
              "    <tr>\n",
              "      <th>1305</th>\n",
              "      <td>1</td>\n",
              "      <td>female</td>\n",
              "      <td>C</td>\n",
              "      <td>Noble</td>\n",
              "      <td>3</td>\n",
              "      <td>Single</td>\n",
              "      <td>7</td>\n",
              "    </tr>\n",
              "    <tr>\n",
              "      <th>1306</th>\n",
              "      <td>3</td>\n",
              "      <td>male</td>\n",
              "      <td>S</td>\n",
              "      <td>Mr</td>\n",
              "      <td>3</td>\n",
              "      <td>Single</td>\n",
              "      <td>2</td>\n",
              "    </tr>\n",
              "    <tr>\n",
              "      <th>1307</th>\n",
              "      <td>3</td>\n",
              "      <td>male</td>\n",
              "      <td>S</td>\n",
              "      <td>Mr</td>\n",
              "      <td>2</td>\n",
              "      <td>Single</td>\n",
              "      <td>4</td>\n",
              "    </tr>\n",
              "    <tr>\n",
              "      <th>1308</th>\n",
              "      <td>3</td>\n",
              "      <td>male</td>\n",
              "      <td>C</td>\n",
              "      <td>Master</td>\n",
              "      <td>1</td>\n",
              "      <td>Small</td>\n",
              "      <td>2</td>\n",
              "    </tr>\n",
              "  </tbody>\n",
              "</table>\n",
              "<p>1309 rows × 7 columns</p>\n",
              "</div>"
            ],
            "text/plain": [
              "      Pclass     Sex Embarked   Title AgeCat TamanoFamilia FareCat\n",
              "0          3    male        S      Mr      2         Small       2\n",
              "1          1  female        C     Mrs      3         Small       7\n",
              "2          3  female        S    Miss      2        Single       3\n",
              "3          1  female        S     Mrs      3         Small       6\n",
              "4          3    male        S      Mr      3        Single       4\n",
              "...      ...     ...      ...     ...    ...           ...     ...\n",
              "1304       3    male        S      Mr      2        Single       4\n",
              "1305       1  female        C   Noble      3        Single       7\n",
              "1306       3    male        S      Mr      3        Single       2\n",
              "1307       3    male        S      Mr      2        Single       4\n",
              "1308       3    male        C  Master      1         Small       2\n",
              "\n",
              "[1309 rows x 7 columns]"
            ]
          },
          "metadata": {
            "tags": []
          },
          "execution_count": 280
        }
      ]
    },
    {
      "cell_type": "code",
      "metadata": {
        "id": "Cz_vpJZAXGx7",
        "colab_type": "code",
        "outputId": "b242fcbc-b734-4bde-e2ef-913224fbfd2a",
        "colab": {
          "base_uri": "https://localhost:8080/",
          "height": 151
        }
      },
      "source": [
        "# A continuación vamos a normalizar las variables, tanto categóricas como numéricas\n",
        "cat_atributo = list( df_data_fin.columns)\n",
        "\n",
        "# Declaración para usar la normalización en variables categóricas\n",
        "oneHot = OneHotEncoder()\n",
        "df_data_post = oneHot.fit_transform(df_data_fin[cat_atributo])\n",
        "\n",
        "#Revisemos las columnas generadas\n",
        "oneHot.get_feature_names(df_data_fin.columns)\n"
      ],
      "execution_count": 281,
      "outputs": [
        {
          "output_type": "execute_result",
          "data": {
            "text/plain": [
              "array(['Pclass_1', 'Pclass_2', 'Pclass_3', 'Sex_female', 'Sex_male',\n",
              "       'Embarked_C', 'Embarked_Q', 'Embarked_S', 'Title_Master',\n",
              "       'Title_Miss', 'Title_Mr', 'Title_Mrs', 'Title_Noble',\n",
              "       'Title_Others', 'Title_jovenMiss', 'AgeCat_1', 'AgeCat_2',\n",
              "       'AgeCat_3', 'AgeCat_4', 'AgeCat_5', 'TamanoFamilia_Big',\n",
              "       'TamanoFamilia_Single', 'TamanoFamilia_Small', 'FareCat_1',\n",
              "       'FareCat_2', 'FareCat_3', 'FareCat_4', 'FareCat_5', 'FareCat_6',\n",
              "       'FareCat_7'], dtype=object)"
            ]
          },
          "metadata": {
            "tags": []
          },
          "execution_count": 281
        }
      ]
    },
    {
      "cell_type": "markdown",
      "metadata": {
        "id": "hPWQZUNrdeRd",
        "colab_type": "text"
      },
      "source": [
        "### Vamos ahora a dividir para entrenar\n",
        "Ya era hora"
      ]
    },
    {
      "cell_type": "code",
      "metadata": {
        "id": "y7pH5iWDXGvX",
        "colab_type": "code",
        "colab": {}
      },
      "source": [
        "# Datos Para el entrenamiento\n",
        "X_train = df_data_post[:len(df_train['Survived']),:].toarray()\n",
        "y_train = df_train['Survived'].copy().to_numpy()\n",
        "\n",
        "# Datos para las pruebas\n",
        "X_test = df_data_post[len(df_train['Survived']):,:].toarray()"
      ],
      "execution_count": 0,
      "outputs": []
    },
    {
      "cell_type": "markdown",
      "metadata": {
        "id": "kVdbx4ABgSUs",
        "colab_type": "text"
      },
      "source": [
        "### Funciones y modelos para evaluar y entrenar\n",
        "--- Código gracias a @Dante346 https://github.com/dante346"
      ]
    },
    {
      "cell_type": "code",
      "metadata": {
        "id": "2r7jEYtVXGfX",
        "colab_type": "code",
        "colab": {}
      },
      "source": [
        "# define functions\n",
        "def hyperparameter_analysis(searcher, top_values=5):\n",
        "    tested_hyperparameters=pd.DataFrame()\n",
        "    for i in range(len(searcher.cv_results_['params'])):\n",
        "        tested_hyperparameters = tested_hyperparameters.append(searcher.cv_results_['params'][i], ignore_index=True)\n",
        "    tested_hyperparameters['train score in %']=(searcher.cv_results_['mean_train_score']*100).round(3)\n",
        "    tested_hyperparameters['test score in %']=(searcher.cv_results_['mean_test_score']*100).round(3)\n",
        "    tested_hyperparameters['test std in %']=(searcher.cv_results_['std_test_score']*100).round(3)\n",
        "    tested_hyperparameters.index=searcher.cv_results_['rank_test_score']\n",
        "    return(tested_hyperparameters.sort_index().head(top_values))\n",
        "\n",
        "def feature_importance(searcher_best_estimator, list_feature_names, top_values=5):\n",
        "    # calculate normed feature_importances\n",
        "    fi_norm = 1/abs(searcher_best_estimator.feature_importances_).sum()*abs(searcher_best_estimator.feature_importances_)\n",
        "    # create DataFrame \n",
        "    fi_df= pd.DataFrame(data=(fi_norm*100).round(2), index=list_feature_names, columns=['feature importance in %'])\n",
        "    return(fi_df.sort_values(['feature importance in %'], ascending=[False]).head(top_values))\n",
        "\n",
        "def feature_importance_ann(perm, list_feature_names, top_values=5, neg_values=False):    \n",
        "    if neg_values==True:\n",
        "        fi_df= pd.DataFrame(data=(perm.feature_importances_*100).round(2), index=list_feature_names, columns=['score reduction in % points'])\n",
        "        return(fi_df[fi_df['score reduction in % points']<0]).sort_values(['score reduction in % points'], ascending=[True]).head(top_values)\n",
        "    else:    \n",
        "        fi_df= pd.DataFrame(data=(perm.feature_importances_*100).round(2), index=list_feature_names, columns=['score reduction in % points'])\n",
        "        return(fi_df.sort_values(['score reduction in % points'], ascending=[False]).head(top_values))\n",
        "\n",
        "def metric_scores(y_reference, y_prediction):\n",
        "    precision = precision_score(y_reference, y_prediction)\n",
        "    recall = recall_score(y_reference, y_prediction)\n",
        "    F1_score = f1_score(y_reference, y_prediction)\n",
        "    print('precision: '+ str(precision.round(3)))\n",
        "    print('recall: '+ str(recall.round(3)))\n",
        "    print('F1_score: '+ str(F1_score.round(3)))\n",
        "    return(precision, recall, F1_score)\n",
        "\n",
        "def plot_confusion_matrix(cm, classes, title='Confusion matrix', cmap=cmo.matter_r):\n",
        "    plt.imshow(cm, interpolation='nearest', cmap=cmap)\n",
        "    plt.title(title)\n",
        "    tick_marks = np.arange(len(classes))\n",
        "    plt.xticks(tick_marks, classes, rotation=45)\n",
        "    plt.yticks(tick_marks, classes)\n",
        "    fmt = 'd'\n",
        "    thresh = cm.max() / 2.\n",
        "    for i, j in itertools.product(range(cm.shape[0]), range(cm.shape[1])):\n",
        "        plt.text(j, i, format(cm[i, j], fmt),\n",
        "                 horizontalalignment=\"center\",\n",
        "                 color=\"white\" if cm[i, j] > thresh else \"black\")\n",
        "    plt.ylabel('True label')\n",
        "    plt.xlabel('Predicted label')\n",
        "    plt.tight_layout()\n",
        "\n",
        "def pred_to_df(y_predicted):\n",
        "    survived = pd.DataFrame(y_predicted,index=test.index, columns=['Survived'])\n",
        "    survived['PassengerId'] = test.PassengerId \n",
        "    columns_titles = [\"PassengerId\",\"Survived\"]\n",
        "    survived=survived.reindex(columns=columns_titles)\n",
        "    return(survived)\n",
        "\n",
        "def save_to_csv(survived, filename,index=False):\n",
        "    survived.to_csv(filename + '.csv',index=False, header=survived.columns)\n",
        "\n",
        "def plot_roc_curve(fpr, tpr, label=None):\n",
        "    plt.plot(fpr, tpr, linewidth=2, label=label)\n",
        "    plt.plot([0, 1], [0, 1], 'k--')\n",
        "    plt.axis([0, 1, 0, 1])\n",
        "    plt.xlabel('False Positive Rate', fontsize=16)\n",
        "    plt.ylabel('True Positive Rate', fontsize=16)"
      ],
      "execution_count": 0,
      "outputs": []
    },
    {
      "cell_type": "markdown",
      "metadata": {
        "id": "ptEpclx1hY9n",
        "colab_type": "text"
      },
      "source": [
        "### Definición del modelo"
      ]
    },
    {
      "cell_type": "code",
      "metadata": {
        "id": "I4pJrYWzXGIo",
        "colab_type": "code",
        "colab": {}
      },
      "source": [
        "def create_model(input_shape=X_train.shape[1:], number_hidden=2, neurons_per_hidden=10, hidden_drop_rate= 0.2,\n",
        "                hidden_activation = 'relu', hidden_initializer=\"lecun_normal\", output_activation ='sigmoid',\n",
        "                loss='binary_crossentropy', optimizer = Adamax(lr=0.0005),\n",
        "                ):\n",
        "    \n",
        "    #Definicion del modelo \n",
        "    model = Sequential()\n",
        "    model.add(Input(shape=input_shape)),\n",
        "    for layer in range(number_hidden):\n",
        "        model.add(Dense(neurons_per_hidden, activation = hidden_activation ,kernel_initializer=hidden_initializer))\n",
        "        model.add(Dropout(hidden_drop_rate))\n",
        "    model.add(Dense(1, activation = output_activation))\n",
        "\n",
        "    # Compile model\n",
        "    model.compile(loss=loss, \n",
        "                  #optimizer = Nadam(lr=lr), \n",
        "                  optimizer = Nadam(lr=0.0005),\n",
        "                  metrics = ['accuracy'])\n",
        "    return model"
      ],
      "execution_count": 0,
      "outputs": []
    },
    {
      "cell_type": "markdown",
      "metadata": {
        "id": "hNPH4SdeiXQW",
        "colab_type": "text"
      },
      "source": [
        "### Compilar el modelo clasificador"
      ]
    },
    {
      "cell_type": "code",
      "metadata": {
        "id": "HBXvopsg6e03",
        "colab_type": "code",
        "outputId": "013a2a4e-297d-4903-863b-7196dcc9637e",
        "colab": {
          "base_uri": "https://localhost:8080/",
          "height": 1000
        }
      },
      "source": [
        "keras.backend.clear_session()\n",
        "np.random.seed(42)\n",
        "tf.random.set_seed(42)\n",
        "\n",
        "dnn_clf = create_model()\n",
        "\n",
        "# Entrenamiento\n",
        "history = dnn_clf.fit(X_train, y_train, epochs=60, batch_size=30, verbose=1, validation_split=0.2)"
      ],
      "execution_count": 285,
      "outputs": [
        {
          "output_type": "stream",
          "text": [
            "Epoch 1/60\n",
            "24/24 [==============================] - 0s 7ms/step - loss: 0.6817 - accuracy: 0.5772 - val_loss: 0.6666 - val_accuracy: 0.6480\n",
            "Epoch 2/60\n",
            "24/24 [==============================] - 0s 5ms/step - loss: 0.6640 - accuracy: 0.6110 - val_loss: 0.6474 - val_accuracy: 0.6480\n",
            "Epoch 3/60\n",
            "24/24 [==============================] - 0s 4ms/step - loss: 0.6480 - accuracy: 0.6081 - val_loss: 0.6300 - val_accuracy: 0.6536\n",
            "Epoch 4/60\n",
            "24/24 [==============================] - 0s 4ms/step - loss: 0.6375 - accuracy: 0.6166 - val_loss: 0.6145 - val_accuracy: 0.6592\n",
            "Epoch 5/60\n",
            "24/24 [==============================] - 0s 4ms/step - loss: 0.6217 - accuracy: 0.6264 - val_loss: 0.5989 - val_accuracy: 0.6760\n",
            "Epoch 6/60\n",
            "24/24 [==============================] - 0s 4ms/step - loss: 0.6156 - accuracy: 0.6419 - val_loss: 0.5848 - val_accuracy: 0.6816\n",
            "Epoch 7/60\n",
            "24/24 [==============================] - 0s 5ms/step - loss: 0.6032 - accuracy: 0.6475 - val_loss: 0.5709 - val_accuracy: 0.6927\n",
            "Epoch 8/60\n",
            "24/24 [==============================] - 0s 4ms/step - loss: 0.5945 - accuracy: 0.6601 - val_loss: 0.5580 - val_accuracy: 0.7151\n",
            "Epoch 9/60\n",
            "24/24 [==============================] - 0s 4ms/step - loss: 0.5886 - accuracy: 0.6671 - val_loss: 0.5471 - val_accuracy: 0.7318\n",
            "Epoch 10/60\n",
            "24/24 [==============================] - 0s 5ms/step - loss: 0.5784 - accuracy: 0.6924 - val_loss: 0.5355 - val_accuracy: 0.7709\n",
            "Epoch 11/60\n",
            "24/24 [==============================] - 0s 5ms/step - loss: 0.5742 - accuracy: 0.7079 - val_loss: 0.5230 - val_accuracy: 0.7598\n",
            "Epoch 12/60\n",
            "24/24 [==============================] - 0s 4ms/step - loss: 0.5576 - accuracy: 0.7037 - val_loss: 0.5094 - val_accuracy: 0.7654\n",
            "Epoch 13/60\n",
            "24/24 [==============================] - 0s 4ms/step - loss: 0.5495 - accuracy: 0.7219 - val_loss: 0.4970 - val_accuracy: 0.7877\n",
            "Epoch 14/60\n",
            "24/24 [==============================] - 0s 4ms/step - loss: 0.5463 - accuracy: 0.7360 - val_loss: 0.4849 - val_accuracy: 0.7877\n",
            "Epoch 15/60\n",
            "24/24 [==============================] - 0s 4ms/step - loss: 0.5500 - accuracy: 0.7289 - val_loss: 0.4762 - val_accuracy: 0.8045\n",
            "Epoch 16/60\n",
            "24/24 [==============================] - 0s 5ms/step - loss: 0.5243 - accuracy: 0.7598 - val_loss: 0.4652 - val_accuracy: 0.8212\n",
            "Epoch 17/60\n",
            "24/24 [==============================] - 0s 4ms/step - loss: 0.5271 - accuracy: 0.7556 - val_loss: 0.4552 - val_accuracy: 0.8380\n",
            "Epoch 18/60\n",
            "24/24 [==============================] - 0s 4ms/step - loss: 0.5180 - accuracy: 0.7879 - val_loss: 0.4452 - val_accuracy: 0.8380\n",
            "Epoch 19/60\n",
            "24/24 [==============================] - 0s 5ms/step - loss: 0.5041 - accuracy: 0.7865 - val_loss: 0.4362 - val_accuracy: 0.8380\n",
            "Epoch 20/60\n",
            "24/24 [==============================] - 0s 5ms/step - loss: 0.5027 - accuracy: 0.7753 - val_loss: 0.4279 - val_accuracy: 0.8380\n",
            "Epoch 21/60\n",
            "24/24 [==============================] - 0s 4ms/step - loss: 0.4944 - accuracy: 0.7865 - val_loss: 0.4208 - val_accuracy: 0.8436\n",
            "Epoch 22/60\n",
            "24/24 [==============================] - 0s 4ms/step - loss: 0.4955 - accuracy: 0.7795 - val_loss: 0.4158 - val_accuracy: 0.8436\n",
            "Epoch 23/60\n",
            "24/24 [==============================] - 0s 4ms/step - loss: 0.4954 - accuracy: 0.7837 - val_loss: 0.4121 - val_accuracy: 0.8380\n",
            "Epoch 24/60\n",
            "24/24 [==============================] - 0s 4ms/step - loss: 0.4691 - accuracy: 0.7921 - val_loss: 0.4081 - val_accuracy: 0.8380\n",
            "Epoch 25/60\n",
            "24/24 [==============================] - 0s 5ms/step - loss: 0.4776 - accuracy: 0.8048 - val_loss: 0.4035 - val_accuracy: 0.8436\n",
            "Epoch 26/60\n",
            "24/24 [==============================] - 0s 4ms/step - loss: 0.4769 - accuracy: 0.8062 - val_loss: 0.3991 - val_accuracy: 0.8380\n",
            "Epoch 27/60\n",
            "24/24 [==============================] - 0s 5ms/step - loss: 0.4761 - accuracy: 0.7963 - val_loss: 0.3969 - val_accuracy: 0.8324\n",
            "Epoch 28/60\n",
            "24/24 [==============================] - 0s 4ms/step - loss: 0.4721 - accuracy: 0.8104 - val_loss: 0.3950 - val_accuracy: 0.8380\n",
            "Epoch 29/60\n",
            "24/24 [==============================] - 0s 4ms/step - loss: 0.4682 - accuracy: 0.7921 - val_loss: 0.3932 - val_accuracy: 0.8380\n",
            "Epoch 30/60\n",
            "24/24 [==============================] - 0s 4ms/step - loss: 0.4629 - accuracy: 0.8132 - val_loss: 0.3913 - val_accuracy: 0.8324\n",
            "Epoch 31/60\n",
            "24/24 [==============================] - 0s 4ms/step - loss: 0.4710 - accuracy: 0.8062 - val_loss: 0.3895 - val_accuracy: 0.8492\n",
            "Epoch 32/60\n",
            "24/24 [==============================] - 0s 4ms/step - loss: 0.4701 - accuracy: 0.8090 - val_loss: 0.3876 - val_accuracy: 0.8324\n",
            "Epoch 33/60\n",
            "24/24 [==============================] - 0s 4ms/step - loss: 0.4634 - accuracy: 0.8048 - val_loss: 0.3866 - val_accuracy: 0.8492\n",
            "Epoch 34/60\n",
            "24/24 [==============================] - 0s 5ms/step - loss: 0.4897 - accuracy: 0.7978 - val_loss: 0.3870 - val_accuracy: 0.8492\n",
            "Epoch 35/60\n",
            "24/24 [==============================] - 0s 4ms/step - loss: 0.4721 - accuracy: 0.8020 - val_loss: 0.3857 - val_accuracy: 0.8492\n",
            "Epoch 36/60\n",
            "24/24 [==============================] - 0s 4ms/step - loss: 0.4495 - accuracy: 0.8174 - val_loss: 0.3850 - val_accuracy: 0.8547\n",
            "Epoch 37/60\n",
            "24/24 [==============================] - 0s 5ms/step - loss: 0.4553 - accuracy: 0.8216 - val_loss: 0.3826 - val_accuracy: 0.8492\n",
            "Epoch 38/60\n",
            "24/24 [==============================] - 0s 4ms/step - loss: 0.4645 - accuracy: 0.8048 - val_loss: 0.3814 - val_accuracy: 0.8547\n",
            "Epoch 39/60\n",
            "24/24 [==============================] - 0s 4ms/step - loss: 0.4479 - accuracy: 0.8174 - val_loss: 0.3813 - val_accuracy: 0.8492\n",
            "Epoch 40/60\n",
            "24/24 [==============================] - 0s 4ms/step - loss: 0.4496 - accuracy: 0.8160 - val_loss: 0.3807 - val_accuracy: 0.8492\n",
            "Epoch 41/60\n",
            "24/24 [==============================] - 0s 4ms/step - loss: 0.4382 - accuracy: 0.8188 - val_loss: 0.3792 - val_accuracy: 0.8492\n",
            "Epoch 42/60\n",
            "24/24 [==============================] - 0s 4ms/step - loss: 0.4551 - accuracy: 0.8104 - val_loss: 0.3780 - val_accuracy: 0.8492\n",
            "Epoch 43/60\n",
            "24/24 [==============================] - 0s 4ms/step - loss: 0.4542 - accuracy: 0.8146 - val_loss: 0.3776 - val_accuracy: 0.8492\n",
            "Epoch 44/60\n",
            "24/24 [==============================] - 0s 4ms/step - loss: 0.4513 - accuracy: 0.8132 - val_loss: 0.3769 - val_accuracy: 0.8492\n",
            "Epoch 45/60\n",
            "24/24 [==============================] - 0s 4ms/step - loss: 0.4396 - accuracy: 0.8076 - val_loss: 0.3760 - val_accuracy: 0.8492\n",
            "Epoch 46/60\n",
            "24/24 [==============================] - 0s 4ms/step - loss: 0.4357 - accuracy: 0.8301 - val_loss: 0.3755 - val_accuracy: 0.8547\n",
            "Epoch 47/60\n",
            "24/24 [==============================] - 0s 5ms/step - loss: 0.4310 - accuracy: 0.8146 - val_loss: 0.3741 - val_accuracy: 0.8547\n",
            "Epoch 48/60\n",
            "24/24 [==============================] - 0s 4ms/step - loss: 0.4369 - accuracy: 0.8104 - val_loss: 0.3739 - val_accuracy: 0.8547\n",
            "Epoch 49/60\n",
            "24/24 [==============================] - 0s 4ms/step - loss: 0.4421 - accuracy: 0.8244 - val_loss: 0.3737 - val_accuracy: 0.8492\n",
            "Epoch 50/60\n",
            "24/24 [==============================] - 0s 4ms/step - loss: 0.4421 - accuracy: 0.8076 - val_loss: 0.3731 - val_accuracy: 0.8547\n",
            "Epoch 51/60\n",
            "24/24 [==============================] - 0s 4ms/step - loss: 0.4357 - accuracy: 0.8118 - val_loss: 0.3720 - val_accuracy: 0.8547\n",
            "Epoch 52/60\n",
            "24/24 [==============================] - 0s 4ms/step - loss: 0.4306 - accuracy: 0.8230 - val_loss: 0.3713 - val_accuracy: 0.8547\n",
            "Epoch 53/60\n",
            "24/24 [==============================] - 0s 5ms/step - loss: 0.4468 - accuracy: 0.8258 - val_loss: 0.3716 - val_accuracy: 0.8547\n",
            "Epoch 54/60\n",
            "24/24 [==============================] - 0s 4ms/step - loss: 0.4206 - accuracy: 0.8385 - val_loss: 0.3704 - val_accuracy: 0.8547\n",
            "Epoch 55/60\n",
            "24/24 [==============================] - 0s 4ms/step - loss: 0.4165 - accuracy: 0.8315 - val_loss: 0.3699 - val_accuracy: 0.8547\n",
            "Epoch 56/60\n",
            "24/24 [==============================] - 0s 5ms/step - loss: 0.4365 - accuracy: 0.8230 - val_loss: 0.3695 - val_accuracy: 0.8492\n",
            "Epoch 57/60\n",
            "24/24 [==============================] - 0s 4ms/step - loss: 0.4214 - accuracy: 0.8315 - val_loss: 0.3693 - val_accuracy: 0.8492\n",
            "Epoch 58/60\n",
            "24/24 [==============================] - 0s 4ms/step - loss: 0.4168 - accuracy: 0.8244 - val_loss: 0.3685 - val_accuracy: 0.8492\n",
            "Epoch 59/60\n",
            "24/24 [==============================] - 0s 4ms/step - loss: 0.4285 - accuracy: 0.8174 - val_loss: 0.3677 - val_accuracy: 0.8492\n",
            "Epoch 60/60\n",
            "24/24 [==============================] - 0s 4ms/step - loss: 0.4327 - accuracy: 0.8343 - val_loss: 0.3677 - val_accuracy: 0.8492\n"
          ],
          "name": "stdout"
        }
      ]
    },
    {
      "cell_type": "code",
      "metadata": {
        "id": "G4nYeL6liV8w",
        "colab_type": "code",
        "outputId": "a75c7bd7-bb97-4e50-eb59-719fc42d55d7",
        "colab": {
          "base_uri": "https://localhost:8080/",
          "height": 34
        }
      },
      "source": [
        "# score of Ann classifier on training data\n",
        "print('Training score: ' + str((pd.DataFrame(history.history)['accuracy'].max()*100)) + '%')"
      ],
      "execution_count": 286,
      "outputs": [
        {
          "output_type": "stream",
          "text": [
            "Training score: 83.84831547737122%\n"
          ],
          "name": "stdout"
        }
      ]
    },
    {
      "cell_type": "code",
      "metadata": {
        "id": "0naSEmqWk0vO",
        "colab_type": "code",
        "colab": {}
      },
      "source": [
        "y_train_pred = dnn_clf.predict_classes(X_train)"
      ],
      "execution_count": 0,
      "outputs": []
    },
    {
      "cell_type": "code",
      "metadata": {
        "id": "TA6AYjD0k8N-",
        "colab_type": "code",
        "outputId": "9ff75396-0115-4907-fc56-ec6982034c3c",
        "colab": {
          "base_uri": "https://localhost:8080/",
          "height": 297
        }
      },
      "source": [
        "# Matriz de confusión\n",
        "cnf_matrix = confusion_matrix(y_train, y_train_pred)\n",
        "\n",
        "# Plot\n",
        "cm_plot=plot_confusion_matrix(cnf_matrix, ['muere','vive'])"
      ],
      "execution_count": 304,
      "outputs": [
        {
          "output_type": "display_data",
          "data": {
            "image/png": "[encoded data removed]",
            "text/plain": [
              "<Figure size 432x288 with 1 Axes>"
            ]
          },
          "metadata": {
            "tags": [],
            "needs_background": "light"
          }
        }
      ]
    },
    {
      "cell_type": "code",
      "metadata": {
        "id": "4lSMfc2qmNi7",
        "colab_type": "code",
        "outputId": "6bb69c6f-5ccf-4385-d5f2-b3d8bcf952c7",
        "colab": {
          "base_uri": "https://localhost:8080/",
          "height": 84
        }
      },
      "source": [
        "metric_scores(y_train, y_train_pred)"
      ],
      "execution_count": 305,
      "outputs": [
        {
          "output_type": "stream",
          "text": [
            "precision: 0.856\n",
            "recall: 0.728\n",
            "F1_score: 0.787\n"
          ],
          "name": "stdout"
        },
        {
          "output_type": "execute_result",
          "data": {
            "text/plain": [
              "(0.8556701030927835, 0.7280701754385965, 0.7867298578199052)"
            ]
          },
          "metadata": {
            "tags": []
          },
          "execution_count": 305
        }
      ]
    },
    {
      "cell_type": "code",
      "metadata": {
        "id": "j0SEaVUA1QXE",
        "colab_type": "code",
        "colab": {}
      },
      "source": [
        ""
      ],
      "execution_count": 0,
      "outputs": []
    }
  ]
}